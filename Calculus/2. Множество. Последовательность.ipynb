{
 "cells": [
  {
   "cell_type": "markdown",
   "metadata": {},
   "source": [
    "__1.__ Найти предел последовательности:\n",
    "\n",
    "### $$а)\\,\\,\\,\\,\\lim_{n\\to \\infty} \\frac{(23-2n^2)(3n^2+17)^2}{4n^6+n-1}$$\n",
    "\n",
    "Решение:\n",
    "\n",
    "### $$\\lim_{n\\to \\infty} \\frac{(23-2n^2)(3n^2+17)^2}{4n^6+n-1}=\\Bigl(\\frac{\\infty}{\\infty}\\Bigr)=$$   \n",
    "\n",
    "### $$=\\frac{-2\\cdot3^2}{4}=-\\frac{9}{2}$$ "
   ]
  },
  {
   "cell_type": "markdown",
   "metadata": {},
   "source": [
    "### $$б)\\,\\,\\,\\,\\lim_{n\\to \\infty} \\frac{(97-2n)^3}{2n(3n^2+15)+8n}$$\n",
    "\n",
    "Решение:\n",
    "\n",
    "### $$\\lim_{n\\to \\infty} \\frac{(97-2n)^3}{2n(3n^2+15)+8n}=\\Bigl(\\frac{\\infty}{\\infty}\\Bigr)=$$   \n",
    "\n",
    "### $$=\\frac{(-2)^3}{2\\cdot3}=-\\frac{4}{3}$$ "
   ]
  },
  {
   "cell_type": "markdown",
   "metadata": {},
   "source": [
    "### $$в)\\,\\,\\,\\,\\lim_{n\\to \\infty} \\frac{2n^3+13n(n+18)}{(27-n)(2n+19)^2}$$\n",
    "\n",
    "Решение:\n",
    "\n",
    "### $$\\lim_{n\\to \\infty} \\frac{2n^3+13n(n+18)}{(27-n)(2n+19)^2}=\\Bigl(\\frac{\\infty}{\\infty}\\Bigr)=$$   \n",
    "\n",
    "### $$=\\frac{2}{-1\\cdot2^2}=-\\frac{1}{2}$$ "
   ]
  },
  {
   "cell_type": "markdown",
   "metadata": {},
   "source": [
    "### $$г)\\,\\,\\,\\,\\lim_{n\\to \\infty} (\\sqrt{n^2+1}-n)$$\n",
    "\n",
    "Решение:\n",
    "\n",
    "### $$\\lim_{n\\to \\infty} (\\sqrt{n^2+1}-n)=\\Bigl(\\infty-\\infty\\Bigr)=$$   \n",
    "\n",
    "### $$=\\lim_{n\\to \\infty} (\\sqrt{n^2+1}-n)\\cdot\\frac{\\sqrt{n^2+1}+n}{\\sqrt{n^2+1}+n}=$$ \n",
    "\n",
    "### $$=\\lim_{n\\to \\infty} \\frac{n^2+1-n^2}{\\sqrt{n^2+1}+n}=$$ \n",
    "\n",
    "### $$=\\lim_{n\\to \\infty} \\frac{1}{\\sqrt{n^2+1}+n}=0$$ "
   ]
  },
  {
   "cell_type": "markdown",
   "metadata": {},
   "source": [
    "### $$д)\\,\\,\\,\\,\\lim_{n\\to \\infty} \\frac{(-4)^n+5\\cdot7^n}{(-4)^{n-1}+7^{n+2}}$$\n",
    "\n",
    "Решение:\n",
    "\n",
    "### $$\\lim_{n\\to \\infty} \\frac{(-4)^n+5\\cdot7^n}{(-4)^{n-1}+7^{n+2}}=\\Bigl(\\frac{\\infty}{\\infty}\\Bigr)=$$   \n",
    "\n",
    "### $$=\\lim_{n\\to \\infty} \\frac{(-4)^n+5\\cdot7^n}{\\Bigl(-\\frac{1}{4}\\Bigr)\\cdot(-4)^n+49\\cdot7^n}=$$ \n",
    "\n",
    "### $$=\\lim_{n\\to \\infty} \\frac{7^n\\cdot\\Bigl(\\Bigl(-\\frac{4}{7}\\Bigr)^n+5\\Bigr)}{7^n\\cdot\\Bigl(\\Bigl(-\\frac{1}{4}\\Bigr)\\cdot\\Bigl(-\\frac{4}{7}\\Bigr)^n+49\\Bigr)}=\\frac{5}{49}$$ "
   ]
  },
  {
   "cell_type": "markdown",
   "metadata": {},
   "source": [
    "### $$e)^*\\,\\,\\,\\,\\lim_{n\\to \\infty} \\Bigl(\\frac{1}{1\\cdot2}+\\frac{1}{2\\cdot3}+\\frac{1}{3\\cdot4}+...+\\frac{1}{(n-1)\\cdot n}\\Bigr)$$\n",
    "\n",
    "Решение:\n",
    "\n",
    "В данном примере пока мы не сведем бесконечную последовательность к конечной, рассуждать о виде неопределенности нельзя.\n",
    "\n",
    "### $$\\lim_{n\\to \\infty} \\Bigl(\\frac{1}{1\\cdot2}+\\frac{1}{2\\cdot3}+\\frac{1}{3\\cdot4}+...+\\frac{1}{(n-1)\\cdot n}\\Bigr)=$$\n",
    "\n",
    "Каждую дробь можно представить в виде разности двух \n",
    "\n",
    "### $$\\frac{1}{1\\cdot2}=\\frac{1}{1}-\\frac{1}{2}$$ \n",
    "\n",
    "### $$\\frac{1}{2\\cdot3}=\\frac{1}{2}-\\frac{1}{3}$$ \n",
    "\n",
    "### $$\\frac{1}{3\\cdot4}=\\frac{1}{3}-\\frac{1}{4}$$ \n",
    "\n",
    "### $$\\frac{1}{(n-1)\\cdot n}=\\frac{1}{n-1}-\\frac{1}{n}$$ \n",
    "\n",
    "Получаем:\n",
    "\n",
    "### $$\\lim_{n\\to \\infty} \\Bigl(\\frac{1}{1}-\\frac{1}{2}+\\frac{1}{2}-\\frac{1}{3}+...+\\frac{1}{n-1}-\\frac{1}{n}\\Bigr)=$$\n",
    "\n",
    "### $$=\\lim_{n\\to \\infty} \\Bigl(1-\\frac{1}{n}\\Bigr)=1$$"
   ]
  },
  {
   "cell_type": "markdown",
   "metadata": {},
   "source": [
    "__2.__ Представьте $1$ в виде суммы трех рациональных дробей с разными знаменателями и числителем равным $1$."
   ]
  },
  {
   "cell_type": "markdown",
   "metadata": {},
   "source": [
    "### $$1=\\frac{1}{2}+\\frac{1}{6}+\\frac{1}{3}$$"
   ]
  },
  {
   "cell_type": "markdown",
   "metadata": {},
   "source": [
    "__3$^*$.__ Тоже задание, только в виде суммы шести дробей.\n",
    "\n",
    "### Аликвотные дроби\n",
    "### Вариант 1\n",
    "\n",
    "### $$\\frac{1}{n}=\\frac{1}{n+1} + \\frac{1}{n\\cdot (n+1)}$$ "
   ]
  },
  {
   "cell_type": "markdown",
   "metadata": {},
   "source": [
    "Раскладываем каждую дробь по формуле из предыдущего примера:\n",
    "\n",
    "### $$\\frac{1}{2}=\\frac{1}{2\\cdot3}+\\frac{1}{3}$$\n",
    "\n",
    "### $$\\frac{1}{6}=\\frac{1}{6\\cdot7}+\\frac{1}{7}$$\n",
    "\n",
    "### $$\\frac{1}{3}=\\frac{1}{3\\cdot4}+\\frac{1}{4}$$\n",
    "\n",
    "Получаем, что \n",
    "\n",
    "### $$1=\\frac{1}{6}+\\frac{1}{3}+\\frac{1}{42}+\\frac{1}{7}+\\frac{1}{12}+\\frac{1}{4}$$"
   ]
  },
  {
   "cell_type": "markdown",
   "metadata": {},
   "source": [
    "### Вариант 2  \n",
    "\n",
    "### $$1=\\frac{1}{2}+\\frac{1}{2}$$\n",
    "\n",
    "### $$1=\\frac{1}{2}+\\frac{1}{3}+\\frac{1}{6}$$\n",
    "\n",
    "### $$1=\\frac{1}{2}+\\frac{1}{3}+\\frac{1}{7}+\\frac{1}{42}$$\n",
    "\n",
    "### $$1=\\frac{1}{2}+\\frac{1}{4}+\\frac{1}{12}+\\frac{1}{7}+\\frac{1}{42}$$\n",
    "\n",
    "\n",
    "Ответ: \n",
    "### $$1=\\frac{1}{2}+\\frac{1}{4}+\\frac{1}{12}+\\frac{1}{8}+\\frac{1}{56}+\\frac{1}{42}$$"
   ]
  }
 ],
 "metadata": {
  "kernelspec": {
   "display_name": "Python 3",
   "language": "python",
   "name": "python3"
  },
  "language_info": {
   "codemirror_mode": {
    "name": "ipython",
    "version": 3
   },
   "file_extension": ".py",
   "mimetype": "text/x-python",
   "name": "python",
   "nbconvert_exporter": "python",
   "pygments_lexer": "ipython3",
   "version": "3.7.4"
  }
 },
 "nbformat": 4,
 "nbformat_minor": 4
}
