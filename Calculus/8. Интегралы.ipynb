{
 "cells": [
  {
   "cell_type": "markdown",
   "metadata": {},
   "source": [
    "__1.__ Вычислить неопределенный интеграл\n",
    "\n",
    "### $$\\int \\frac{2x+3}{(x-2)(x+5)}\\,dx$$\n",
    "\n",
    "Решение:\n",
    "\n",
    "\n",
    "### $$\\frac{2x+3}{(x-2)(x+5)}=\\frac{A}{x-2}+\\frac{B}{x+5}$$ \n",
    "\n",
    "Приведем дробь в к общему знаменателю, далее сравним числитель с изначальной дробью:\n",
    "\n",
    "### $$\\frac{A}{x-2}+\\frac{B}{x+5}=\\frac{x(A+B)+(5A-2B)}{(x-2)(x+5)}$$\n",
    "\n",
    "\n",
    "При сравнении числителей получаем следующую систему линейных уравнений:\n",
    "\n",
    "### $$\\begin{cases}\n",
    "   A+B=2 \\\\\n",
    "   5A-2B=3\n",
    " \\end{cases}\\,\\,\\,\\,\\,\\Rightarrow\\,\\,\\,\\,\\, \n",
    " \\begin{cases}\n",
    "   A=1 \\\\\n",
    "   B=1\n",
    " \\end{cases}$$ \n",
    "\n",
    "Тогда:\n",
    "\n",
    "### $$\\int\\frac{2x+3}{(x-2)(x+5)}\\,dx=\\int\\frac{1}{x-2}\\,dx+\\int\\frac{1}{x+5}\\,dx=$$\n",
    "\n",
    "### $$=\\ln|x-2|+\\ln|x+5|+C$$"
   ]
  }
 ],
 "metadata": {
  "kernelspec": {
   "display_name": "Python 3",
   "language": "python",
   "name": "python3"
  },
  "language_info": {
   "codemirror_mode": {
    "name": "ipython",
    "version": 3
   },
   "file_extension": ".py",
   "mimetype": "text/x-python",
   "name": "python",
   "nbconvert_exporter": "python",
   "pygments_lexer": "ipython3",
   "version": "3.7.4"
  }
 },
 "nbformat": 4,
 "nbformat_minor": 4
}
