{
 "cells": [
  {
   "cell_type": "markdown",
   "metadata": {},
   "source": [
    "## №1. \n",
    "Реализовать класс «Дата», функция-конструктор которого должна принимать дату в виде строки формата «день-месяц-год». В рамках класса реализовать два метода. Первый, с декоратором @classmethod, должен извлекать число, месяц, год и преобразовывать их тип к типу «Число». Второй, с декоратором @staticmethod, должен проводить валидацию числа, месяца и года (например, месяц — от 1 до 12). Проверить работу полученной структуры на реальных данных."
   ]
  },
  {
   "cell_type": "code",
   "execution_count": 1,
   "metadata": {},
   "outputs": [
    {
     "name": "stdout",
     "output_type": "stream",
     "text": [
      "Текущая дата (17, 3, 2020)\n",
      "(11, 11, 2011)\n",
      "Неправильная дата дня\n"
     ]
    }
   ],
   "source": [
    "class Date:\n",
    "    def __init__(self, day_month_year):\n",
    "        self.day_month_year = str(day_month_year)\n",
    "\n",
    "    @classmethod\n",
    "    def class_method(cls, day_month_year):\n",
    "        my_date = []\n",
    "\n",
    "        for i in day_month_year.split():\n",
    "            if i != '-': my_date.append(i)\n",
    "\n",
    "        return int(my_date[0]), int(my_date[1]), int(my_date[2])\n",
    "\n",
    "    @staticmethod\n",
    "    def valid(day, month, year):\n",
    "\n",
    "        if 1 <= day <= 31:\n",
    "            if 1 <= month <= 12:\n",
    "                if 2019 >= year >= 0:\n",
    "                    return f'Все верно'\n",
    "                else:\n",
    "                    return f'Неправильная дата года'\n",
    "            else:\n",
    "                return f'Неправильная дата месяца'\n",
    "        else:\n",
    "            return f'Неправильная дата дня'\n",
    "\n",
    "    def __str__(self):\n",
    "        return f'Текущая дата {Date.class_method(self.day_month_year)}'\n",
    "\n",
    "\n",
    "today = Date('17 - 3 - 2020')\n",
    "print(today)\n",
    "print(Date.class_method('11 - 11 - 2011'))\n",
    "print(Date.valid(38, 11, 2000))"
   ]
  },
  {
   "cell_type": "markdown",
   "metadata": {},
   "source": [
    "## №2. \n",
    "Создайте собственный класс-исключение, обрабатывающий ситуацию деления на нуль. Проверьте его работу на данных, вводимых пользователем. При вводе пользователем нуля в качестве делителя программа должна корректно обработать эту ситуацию и не завершиться с ошибкой."
   ]
  },
  {
   "cell_type": "code",
   "execution_count": 2,
   "metadata": {},
   "outputs": [
    {
     "name": "stdout",
     "output_type": "stream",
     "text": [
      "Введите число: 5\n",
      "Введите второе число: 0\n",
      "Ошибка - на ноль делить нельзя!\n",
      "Программа завершена\n"
     ]
    }
   ],
   "source": [
    "class ZeroError(Exception):\n",
    "    def __init__(self, txt):\n",
    "        self.txt = txt\n",
    "\n",
    "\n",
    "try:\n",
    "    a = input('Введите число: ')\n",
    "    b = input('Введите второе число: ')\n",
    "\n",
    "    a, b = int(a), int(b)\n",
    "    if b == 0:\n",
    "        raise ZeroError('Ошибка - на ноль делить нельзя!')\n",
    "except ZeroError as err:\n",
    "    print(err)\n",
    "except ValueError:\n",
    "    print('Ошибка - вы ввели не число, а текст!')\n",
    "else:\n",
    "    res = a / b\n",
    "    print('Все в порядке!')\n",
    "finally:\n",
    "    print('Программа завершена')"
   ]
  },
  {
   "cell_type": "markdown",
   "metadata": {},
   "source": [
    "## №3. \n",
    "Создайте собственный класс-исключение, который должен проверять содержимое списка на наличие только чисел. Проверить работу исключения на реальном примере. Необходимо запрашивать у пользователя данные и заполнять список. Класс-исключение должен контролировать типы данных элементов списка.  \n",
    "**Примечание**: длина списка не фиксирована. Элементы запрашиваются бесконечно, пока пользователь сам не остановит работу скрипта, введя, например, команду “stop”. При этом скрипт завершается, сформированный список выводится на экран.  \n",
    "**Подсказка**: для данного задания примем, что пользователь может вводить только числа и строки. При вводе пользователем очередного элемента необходимо реализовать проверку типа элемента и вносить его в список, только если введено число. Класс-исключение должен не позволить пользователю ввести текст (не число) и отобразить соответствующее сообщение. При этом работа скрипта не должна завершаться."
   ]
  },
  {
   "cell_type": "code",
   "execution_count": 3,
   "metadata": {},
   "outputs": [
    {
     "name": "stdout",
     "output_type": "stream",
     "text": [
      "Введите число: 5\n",
      "Введите число: а\n",
      "введено не число\n",
      "Введите число: 6\n",
      "Введите число: \n",
      "[5, 6]\n"
     ]
    }
   ],
   "source": [
    "class OwnError(Exception):\n",
    "    def __init__(self, txt):\n",
    "        self.txt = txt\n",
    "\n",
    "\n",
    "my_list = []\n",
    "\n",
    "while True:\n",
    "    inp_data = input(\"Введите число: \")\n",
    "    if inp_data == \"\":\n",
    "        break\n",
    "    try:\n",
    "        if inp_data.isdigit():\n",
    "            my_list.append(int(inp_data))\n",
    "        else:\n",
    "            raise OwnError(\"введено не число\")\n",
    "    except OwnError as err:\n",
    "        print(err)\n",
    "        continue\n",
    "\n",
    "print(my_list)"
   ]
  },
  {
   "cell_type": "markdown",
   "metadata": {},
   "source": [
    "## №4. \n",
    "Начните работу над проектом «Склад оргтехники». Создайте класс, описывающий склад. А также класс «Оргтехника», который будет базовым для классов-наследников. Эти классы — конкретные типы оргтехники (принтер, сканер, ксерокс). В базовом классе определить параметры, общие для приведенных типов. В классах-наследниках реализовать параметры, уникальные для каждого типа оргтехники."
   ]
  },
  {
   "cell_type": "code",
   "execution_count": 4,
   "metadata": {},
   "outputs": [
    {
     "name": "stdout",
     "output_type": "stream",
     "text": [
      "Площадь склада Amazon равна - 50000 квадртаных метров, количество сотрудников - 100 \n",
      "\n",
      "Печать документа Бланк заработной платы на оборудовании HP запущена \n",
      "\n",
      "Название оборудования - Принтер \n",
      "Цена - 2000 \n",
      "Количество - 10 \n",
      "\n"
     ]
    }
   ],
   "source": [
    "class Warehouse:\n",
    "    def __init__(self, area, employee):\n",
    "        self.area = area\n",
    "        self.employee = employee\n",
    "        print(f'Площадь склада Amazon равна - {area} квадртаных метров, количество сотрудников - {employee} \\n')\n",
    "\n",
    "\n",
    "class Equipment:\n",
    "    def __init__(self, name, price, quantity, doc, *args):\n",
    "        self.name = name\n",
    "        self.price = price\n",
    "        self.quantity = quantity\n",
    "        self.doc = doc\n",
    "\n",
    "    def __str__(self):\n",
    "        return f'Название оборудования - {self.name} \\nЦена - {self.price} \\nКоличество - {self.quantity} \\n'\n",
    "\n",
    "\n",
    "class Printer(Equipment):\n",
    "    def to_print(self):\n",
    "        return f'Печать документа {self.doc} на оборудовании {self.name} запущена \\n'\n",
    "\n",
    "\n",
    "class Scanner(Equipment):\n",
    "    def to_scan(self):\n",
    "        return f'Сканирование документа {self.doc}'\n",
    "\n",
    "\n",
    "class Xerox(Equipment):\n",
    "    def to_copy(self):\n",
    "        return f'Копирую документ {self.doc}'\n",
    "\n",
    "\n",
    "w = Warehouse(50000, 100)\n",
    "ex_1 = Printer('HP', 2000, 5, 'Бланк заработной платы')\n",
    "print(ex_1.to_print())\n",
    "e = Equipment('Принтер', 2000, 10, None)\n",
    "print(e)"
   ]
  },
  {
   "cell_type": "markdown",
   "metadata": {},
   "source": [
    "## №5.\n",
    "Продолжить работу над первым заданием. Разработать методы, отвечающие за приём оргтехники на склад и передачу в определенное подразделение компании. Для хранения данных о наименовании и количестве единиц оргтехники, а также других данных, можно использовать любую подходящую структуру, например словарь."
   ]
  },
  {
   "cell_type": "markdown",
   "metadata": {},
   "source": [
    "## №6.\n",
    "Продолжить работу над вторым заданием. Реализуйте механизм валидации вводимых пользователем данных. Например, для указания количества принтеров, отправленных на склад, нельзя использовать строковый тип данных.\n",
    "Подсказка: постарайтесь по возможности реализовать в проекте «Склад оргтехники» максимум возможностей, изученных на уроках по ООП."
   ]
  },
  {
   "cell_type": "markdown",
   "metadata": {},
   "source": [
    "## №7.\n",
    "Реализовать проект «Операции с комплексными числами». Создайте класс «Комплексное число», реализуйте перегрузку методов сложения и умножения комплексных чисел. Проверьте работу проекта, создав экземпляры класса (комплексные числа) и выполнив сложение и умножение созданных экземпляров. Проверьте корректность полученного результата."
   ]
  },
  {
   "cell_type": "code",
   "execution_count": 5,
   "metadata": {},
   "outputs": [
    {
     "name": "stdout",
     "output_type": "stream",
     "text": [
      "(7 + 5 * i)\n",
      "(13 + 15 * i)\n",
      "(20 + 20 * i)\n",
      "(91 + 75 * i)\n"
     ]
    }
   ],
   "source": [
    "class ComplexNumbers:\n",
    "    def __init__(self, a, b):\n",
    "        self.a = a\n",
    "        self.b = b\n",
    "\n",
    "    def __mul__(self, other):\n",
    "        return ComplexNumbers (self.a * other.a, self.b * other.b)\n",
    "\n",
    "    def __add__(self, other):\n",
    "        return ComplexNumbers(self.a + other.a, self.b + other.b)\n",
    "\n",
    "    def __str__(self):\n",
    "        return f'({self.a} + {self.b} * i)'\n",
    "\n",
    "\n",
    "count_1 = ComplexNumbers(7, 5)\n",
    "count_2 = ComplexNumbers(13, 15)\n",
    "print(count_1)\n",
    "print(count_2)\n",
    "print(count_1 + count_2)\n",
    "print(count_1 * count_2)"
   ]
  },
  {
   "cell_type": "code",
   "execution_count": null,
   "metadata": {},
   "outputs": [],
   "source": []
  }
 ],
 "metadata": {
  "kernelspec": {
   "display_name": "Python 3",
   "language": "python",
   "name": "python3"
  },
  "language_info": {
   "codemirror_mode": {
    "name": "ipython",
    "version": 3
   },
   "file_extension": ".py",
   "mimetype": "text/x-python",
   "name": "python",
   "nbconvert_exporter": "python",
   "pygments_lexer": "ipython3",
   "version": "3.7.9"
  }
 },
 "nbformat": 4,
 "nbformat_minor": 4
}
