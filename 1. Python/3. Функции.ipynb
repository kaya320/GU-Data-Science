{
 "cells": [
  {
   "cell_type": "markdown",
   "metadata": {},
   "source": [
    "## №1. \n",
    "Реализовать функцию, принимающую два числа (позиционные аргументы) и выполняющую их деление. Числа запрашивать у пользователя, предусмотреть обработку ситуации деления на ноль."
   ]
  },
  {
   "cell_type": "code",
   "execution_count": 1,
   "metadata": {},
   "outputs": [
    {
     "name": "stdout",
     "output_type": "stream",
     "text": [
      "Введите число: 7\n",
      "Введите число: 2\n",
      "3.5\n"
     ]
    }
   ],
   "source": [
    "def new_func():\n",
    "    try:\n",
    "        n = int(input('Введите число: '))\n",
    "        m = int(input('Введите число: '))\n",
    "        return round(n / m, 2)\n",
    "    except ZeroDivisionError:\n",
    "        print('На 0 делить нельзя!')\n",
    "\n",
    "        \n",
    "print(new_func())"
   ]
  },
  {
   "cell_type": "code",
   "execution_count": 2,
   "metadata": {},
   "outputs": [
    {
     "name": "stdout",
     "output_type": "stream",
     "text": [
      "Enter first number - 7\n",
      "Enter second - 0\n",
      "Division by zero forbidden\n"
     ]
    }
   ],
   "source": [
    "def div_func(s_1, s_2):\n",
    "    try:\n",
    "        s_1, s_2 = int(s_1), int(s_2)\n",
    "        div_num = s_1 / s_2\n",
    "    except ValueError:\n",
    "        return \"Value Error\"\n",
    "    except ZeroDivisionError:\n",
    "        return \"Division by zero forbidden\"    \n",
    "    return div_num\n",
    "\n",
    "\n",
    "print(div_func(input('Enter first number - '), input('Enter second - ')))"
   ]
  },
  {
   "cell_type": "markdown",
   "metadata": {},
   "source": [
    "## №2.\n",
    "Реализовать функцию, принимающую несколько параметров, описывающих данные пользователя: имя, фамилия, год рождения, город проживания, email, телефон. \n",
    "Функция должна принимать параметры как именованные аргументы. Реализовать вывод данных о пользователе одной строкой."
   ]
  },
  {
   "cell_type": "code",
   "execution_count": 3,
   "metadata": {},
   "outputs": [
    {
     "name": "stdout",
     "output_type": "stream",
     "text": [
      "Пассажира зовут Кристина Иванова, 1990 года рождения, проживает в городе Нью-Йорк, связаться можно по почте newmail.com или по телефону 7339000\n"
     ]
    }
   ],
   "source": [
    "def person(name, surname, year, city, email, tel):\n",
    "    print(f'Пассажира зовут {name} {surname}, {year} года рождения,'\n",
    "          f' проживает в городе {city}, связаться можно по почте {email} или по телефону {tel}')\n",
    "\n",
    "\n",
    "person(name='Кристина', surname='Иванова', city='Нью-Йорк', email='newmail.com', tel=7339000, year=1990)"
   ]
  },
  {
   "cell_type": "code",
   "execution_count": 4,
   "metadata": {},
   "outputs": [
    {
     "name": "stdout",
     "output_type": "stream",
     "text": [
      "Enter your name: Иван\n",
      "Enter your surname: Петров\n",
      "Enter your birthday: 1 сентября 1978\n",
      "Enter your city: Мск\n",
      "Enter your email: abc@mail.ru\n",
      "Enter your phone number: 123456789\n",
      "{'name': 'Иван', 'surname': 'Петров', 'birthday': '1 сентября 1978', 'city': 'Мск', 'email': 'abc@mail.ru', 'phone_number': '123456789'}\n"
     ]
    }
   ],
   "source": [
    "def personal_info(**kwargs):\n",
    "    return kwargs\n",
    "\n",
    "\n",
    "print(personal_info(name=input(\"Enter your name: \"), surname=input(\"Enter your surname: \"),\n",
    "      birthday=input(\"Enter your birthday: \"), city=input(\"Enter your city: \"), email=input(\"Enter your email: \"),\n",
    "      phone_number=input(\"Enter your phone number: \")))"
   ]
  },
  {
   "cell_type": "markdown",
   "metadata": {},
   "source": [
    "## №3.\n",
    "Реализовать функцию my_func(), которая принимает три позиционных аргумента, и возвращает сумму наибольших двух аргументов."
   ]
  },
  {
   "cell_type": "code",
   "execution_count": 5,
   "metadata": {},
   "outputs": [
    {
     "name": "stdout",
     "output_type": "stream",
     "text": [
      "26\n"
     ]
    }
   ],
   "source": [
    "def my_func(var_1, var_2, var_3):\n",
    "    if var_1 >= var_3 and var_2 >= var_3:\n",
    "        return var_1 + var_2\n",
    "    elif var_1 > var_2 and var_1 > var_3:\n",
    "        return var_1 + var_3\n",
    "    else:\n",
    "        return var_2 + var_3\n",
    "\n",
    "\n",
    "print(my_func(20, 1, 6))"
   ]
  },
  {
   "cell_type": "code",
   "execution_count": 6,
   "metadata": {},
   "outputs": [
    {
     "name": "stdout",
     "output_type": "stream",
     "text": [
      "25\n"
     ]
    }
   ],
   "source": [
    "def my_func(num_1, num_2, num_3):\n",
    "    my_list = [num_1, num_2, num_3]\n",
    "    try:\n",
    "        my_list.pop(my_list.index(min(my_list)))\n",
    "        return sum(my_list)\n",
    "    except TypeError:\n",
    "        return \"Enter only a number\"\n",
    "\n",
    "\n",
    "print(my_func(2, 20, 5))"
   ]
  },
  {
   "cell_type": "code",
   "execution_count": 7,
   "metadata": {},
   "outputs": [
    {
     "name": "stdout",
     "output_type": "stream",
     "text": [
      "2010\n"
     ]
    }
   ],
   "source": [
    "def my_f(arg1, arg2, arg3):\n",
    "    return sum(sorted([arg1, arg2, arg3])[1:])\n",
    "\n",
    "\n",
    "print(my_f(2000, 10, 3))"
   ]
  },
  {
   "cell_type": "markdown",
   "metadata": {},
   "source": [
    "## №4.\n",
    "Программа принимает действительное положительное число x и целое отрицательное число y. Необходимо выполнить возведение числа x в степень y. Задание необходимо реализовать в виде функции my_func(x, y). При решении задания необходимо обойтись без встроенной функции возведения числа в степень.  \n",
    "Подсказка: попробуйте решить задачу двумя способами. Первый — возведение в степень с помощью оператора **. Второй — более сложная реализация без оператора **, предусматривающая использование цикла."
   ]
  },
  {
   "cell_type": "code",
   "execution_count": 8,
   "metadata": {},
   "outputs": [
    {
     "name": "stdout",
     "output_type": "stream",
     "text": [
      "1.4\n",
      "-5\n",
      "0.18593443208187072\n"
     ]
    }
   ],
   "source": [
    "def my_func():\n",
    "    x = float(input())\n",
    "    y = int(input())\n",
    "    return x ** y\n",
    "\n",
    "\n",
    "print(my_func())"
   ]
  },
  {
   "cell_type": "code",
   "execution_count": 9,
   "metadata": {},
   "outputs": [
    {
     "name": "stdout",
     "output_type": "stream",
     "text": [
      "0.0494\n"
     ]
    }
   ],
   "source": [
    "def my_pow_func(x, y):\n",
    "    try:\n",
    "        a = x ** y\n",
    "    except TypeError:\n",
    "        return \"Enter a float number and a negative power\"\n",
    "    return round(a, 4)\n",
    "\n",
    "\n",
    "print(my_pow_func(4.5, -2))"
   ]
  },
  {
   "cell_type": "code",
   "execution_count": 10,
   "metadata": {},
   "outputs": [
    {
     "name": "stdout",
     "output_type": "stream",
     "text": [
      "Первое значение - 1.2\n",
      "Второе значение - -3\n",
      "0.5787\n"
     ]
    }
   ],
   "source": [
    "def power(x, y):\n",
    "    try:\n",
    "        x, y = float(x), int(y)\n",
    "        res = x\n",
    "        for _ in range(abs(y)-1):\n",
    "            res *= x\n",
    "        return f\"{1/res:.4f}\"\n",
    "    except ValueError:\n",
    "        return \"Value Error\"\n",
    "\n",
    "\n",
    "print(power(input(\"Первое значение - \"), input(\"Второе значение - \")))"
   ]
  },
  {
   "cell_type": "code",
   "execution_count": 11,
   "metadata": {},
   "outputs": [
    {
     "name": "stdout",
     "output_type": "stream",
     "text": [
      "0.04938271604938271\n"
     ]
    }
   ],
   "source": [
    "print((lambda x, y: x ** y)(4.5, -2))"
   ]
  },
  {
   "cell_type": "markdown",
   "metadata": {},
   "source": [
    "## №5.\n",
    "Программа запрашивает у пользователя строку чисел, разделенных пробелом. При нажатии Enter должна выводиться сумма чисел. Пользователь может продолжить ввод чисел, разделенных пробелом и снова нажать Enter. Сумма вновь введенных чисел будет добавляться к уже подсчитанной сумме. Но если вместо числа вводится специальный символ, выполнение программы завершается. Если специальный символ введен после нескольких чисел, то вначале нужно добавить сумму этих чисел к полученной ранее сумме и после этого завершить программу."
   ]
  },
  {
   "cell_type": "code",
   "execution_count": 12,
   "metadata": {},
   "outputs": [
    {
     "name": "stdout",
     "output_type": "stream",
     "text": [
      "Введите несколько чисел, испольузуя поробел: \n",
      " Для выхода наберите \"#\" \n",
      "1 3 7\n",
      "11\n",
      "Введите несколько чисел, испольузуя поробел: \n",
      " Для выхода наберите \"#\" \n",
      "3 4\n",
      "18\n",
      "Введите несколько чисел, испольузуя поробел: \n",
      " Для выхода наберите \"#\" \n",
      "#\n",
      "18\n"
     ]
    }
   ],
   "source": [
    "num = 0\n",
    "try:\n",
    "    while num != '#':\n",
    "        for i in map(int, input('Введите несколько чисел, испольузуя поробел: \\n Для выхода наберите \"#\" \\n').split()):\n",
    "            num += i\n",
    "        print(num)\n",
    "except ValueError:\n",
    "    print(num)"
   ]
  },
  {
   "cell_type": "code",
   "execution_count": 13,
   "metadata": {},
   "outputs": [
    {
     "name": "stdout",
     "output_type": "stream",
     "text": [
      "Input numbers divided by whitespaces or q to quit: 1 2 4\n",
      "Current sum is 7\n",
      "Input numbers divided by whitespaces or q to quit: 4\n",
      "Current sum is 11\n",
      "Input numbers divided by whitespaces or q to quit: 2 q\n",
      "Current sum is 13\n",
      "You've quited! Final sum is 13\n"
     ]
    }
   ],
   "source": [
    "def summary():\n",
    "    flag = False\n",
    "    result = 0\n",
    "    \n",
    "    while flag == False:\n",
    "        numbers = input('Input numbers divided by whitespaces or q to quit: ').split()\n",
    "        result_new = 0\n",
    "        for i in range(len(numbers)):\n",
    "            if numbers[i] == 'q':\n",
    "                flag = True\n",
    "                break\n",
    "            else:\n",
    "                result_new += int(numbers[i])\n",
    "        result += result_new\n",
    "        print(f\"Current sum is {result}\")\n",
    "    print(f\"You've quited! Final sum is {result}\")\n",
    "\n",
    "    \n",
    "summary()"
   ]
  },
  {
   "cell_type": "markdown",
   "metadata": {},
   "source": [
    "## №6.\n",
    "Реализовать функцию **int_func()**, принимающую слово из маленьких латинских букв и возвращающую его же, но с прописной первой буквой. Например, **print(int_func(‘text’)) -> Text.**\n",
    "Продолжить работу над заданием. В программу должна попадать строка из слов, разделенных пробелом. Каждое слово состоит из латинских букв в нижнем регистре. Сделать вывод исходной строки, но каждое слово должно начинаться с заглавной буквы.  \n",
    "Необходимо использовать написанную ранее функцию int_func()."
   ]
  },
  {
   "cell_type": "code",
   "execution_count": 14,
   "metadata": {},
   "outputs": [
    {
     "name": "stdout",
     "output_type": "stream",
     "text": [
      "привет\n",
      "Привет\n"
     ]
    }
   ],
   "source": [
    "def int_func():\n",
    "    word = input()\n",
    "    return word.title()\n",
    "\n",
    "print(int_func())"
   ]
  },
  {
   "cell_type": "code",
   "execution_count": 15,
   "metadata": {},
   "outputs": [
    {
     "name": "stdout",
     "output_type": "stream",
     "text": [
      "Введите строку: привет как дела\n",
      "Привет Как Дела\n"
     ]
    }
   ],
   "source": [
    "def int_func(word):\n",
    "    words, result = [], []\n",
    "    if len(word) > 0:\n",
    "        for i in word.split():\n",
    "            words.append(i[0].upper() + i[1:])\n",
    "        result = ' '.join(words)\n",
    "    return result\n",
    "\n",
    "print(int_func(input('Введите строку: ')))"
   ]
  },
  {
   "cell_type": "code",
   "execution_count": 16,
   "metadata": {},
   "outputs": [
    {
     "name": "stdout",
     "output_type": "stream",
     "text": [
      "Введите слово: привет как дела\n",
      "Привет Как Дела\n"
     ]
    }
   ],
   "source": [
    "int_func = lambda w: print(w.title())\n",
    "\n",
    "int_func(input('Введите слово: '))"
   ]
  }
 ],
 "metadata": {
  "kernelspec": {
   "display_name": "Python 3",
   "language": "python",
   "name": "python3"
  },
  "language_info": {
   "codemirror_mode": {
    "name": "ipython",
    "version": 3
   },
   "file_extension": ".py",
   "mimetype": "text/x-python",
   "name": "python",
   "nbconvert_exporter": "python",
   "pygments_lexer": "ipython3",
   "version": "3.7.9"
  }
 },
 "nbformat": 4,
 "nbformat_minor": 4
}
