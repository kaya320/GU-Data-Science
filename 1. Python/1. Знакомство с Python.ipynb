{
 "cells": [
  {
   "cell_type": "markdown",
   "metadata": {},
   "source": [
    "## №1.\n",
    "Поработайте с переменными, создайте несколько, выведите на экран, запросите у пользователя несколько чисел и строк и сохраните в переменные, выведите на экран."
   ]
  },
  {
   "cell_type": "code",
   "execution_count": 1,
   "metadata": {},
   "outputs": [],
   "source": [
    "name = 'Christina'\n",
    "number = 27\n",
    "print('Hello', name, 'you are', 27)\n",
    "print(f\"Hello,{name} you are {number}\")"
   ]
  },
  {
   "cell_type": "code",
   "execution_count": 2,
   "metadata": {},
   "outputs": [
    {
     "name": "stdout",
     "output_type": "stream",
     "text": [
      "- Как погода в Москве? Хорошая\n",
      "- Сколько градусов сегодня? 25\n",
      "- Хорошая погода и 25 градусов!\n"
     ]
    }
   ],
   "source": [
    "weather = input('- Как погода в Москве? ')\n",
    "degree = int(input('- Сколько градусов сегодня? '))\n",
    "print(f'- {weather} погода и {degree} градусов!')"
   ]
  },
  {
   "cell_type": "markdown",
   "metadata": {},
   "source": [
    "## №2. \n",
    "Пользователь вводит время в секундах. Переведите время в часы, минуты и секунды и выведите в формате чч:мм:сс. Используйте форматирование строк."
   ]
  },
  {
   "cell_type": "code",
   "execution_count": 3,
   "metadata": {},
   "outputs": [
    {
     "name": "stdout",
     "output_type": "stream",
     "text": [
      "Введите, пожалуйста, время, в секундах: 1345\n",
      "00:22:25\n"
     ]
    }
   ],
   "source": [
    "sec = int(input('Введите, пожалуйста, время, в секундах: '))\n",
    "h = sec // 3600\n",
    "m = (sec // 60) % 60\n",
    "s = sec % 60\n",
    "\n",
    "print(\"{0:=02}:{1:=02}:{2:=02}\".format(h, m, s))"
   ]
  },
  {
   "cell_type": "code",
   "execution_count": 4,
   "metadata": {},
   "outputs": [
    {
     "name": "stdout",
     "output_type": "stream",
     "text": [
      "Enter the time in seconds: 7633\n",
      "02:07:13\n"
     ]
    }
   ],
   "source": [
    "time = int(input(\"Enter the time in seconds: \"))\n",
    "hours = time // 3600\n",
    "minutes = (time // 60) - (hours * 60)\n",
    "seconds = time % 60\n",
    "print(f\"{hours:02}:{minutes:02}:{seconds:02}\")"
   ]
  },
  {
   "cell_type": "code",
   "execution_count": 5,
   "metadata": {},
   "outputs": [
    {
     "name": "stdout",
     "output_type": "stream",
     "text": [
      "Введите время в секундах, для пересчёта в формат чч:мм:сс: - 3232\n",
      "00:53:52\n"
     ]
    }
   ],
   "source": [
    "s = int(input(\"Введите время в секундах, для пересчёта в формат чч:мм:сс: - \"))\n",
    "m = int(s / 60)\n",
    "h = int(m / 60)\n",
    "\n",
    "print(f\"{h:02}:{m % 60:02}:{s % 60:02}\")"
   ]
  },
  {
   "cell_type": "markdown",
   "metadata": {},
   "source": [
    "## №3.\n",
    "Узнайте у пользователя число n. Найдите сумму чисел n + nn + nnn. Например, пользователь ввёл число 3. Считаем 3 + 33 + 333 = 369."
   ]
  },
  {
   "cell_type": "code",
   "execution_count": 6,
   "metadata": {},
   "outputs": [
    {
     "name": "stdout",
     "output_type": "stream",
     "text": [
      "3\n",
      "3 + 33 + 333 = 369\n"
     ]
    }
   ],
   "source": [
    "n = input()\n",
    "\n",
    "print(f\"{n} + {n + n} + {n + n + n} = {int(n) + int(n + n) + int(n + n + n)}\")"
   ]
  },
  {
   "cell_type": "markdown",
   "metadata": {},
   "source": [
    "## №4. \n",
    "Пользователь вводит целое положительное число. Найдите самую большую цифру в числе. Для решения используйте цикл while и арифметические операции.**"
   ]
  },
  {
   "cell_type": "code",
   "execution_count": 7,
   "metadata": {},
   "outputs": [
    {
     "name": "stdout",
     "output_type": "stream",
     "text": [
      "Введите целое положительное число: 1283\n",
      "8\n"
     ]
    }
   ],
   "source": [
    "number = (list(input('Введите целое положительное число: ')))\n",
    "print(max(number))"
   ]
  },
  {
   "cell_type": "code",
   "execution_count": 8,
   "metadata": {},
   "outputs": [
    {
     "name": "stdout",
     "output_type": "stream",
     "text": [
      "Введите целое положительное число: 1283\n",
      "Наибольшая цифра в числе 1283 равна 8\n"
     ]
    }
   ],
   "source": [
    "num_init = int(input(\"Введите целое положительное число: \"))\n",
    "greatest_dig = 0  # Переменная для хранения текущего максимума\n",
    "num = num_init  # Переменная для хранения оставшейся части числа (см цикл)\n",
    "\n",
    "while num > 0:  # Выполняем цикл, пока отсечения цифр числа (см ниже) его не обнулили\n",
    "    digit = num % 10  # Определяем последнюю цифру\n",
    "    if digit > greatest_dig:  # Сравниваем ее с текущим максимумом\n",
    "        greatest_dig = digit  # При необходимости меняем текущий максимум\n",
    "        if greatest_dig == 9:  # Это условие не обязательно, но экономит время исполнения. Цифр больше 9 не бывает.\n",
    "            break\n",
    "    num = num // 10  # Отсекаем от числа последнюю цифру\n",
    "\n",
    "print(f\"Наибольшая цифра в числе {num_init} равна {greatest_dig}\")"
   ]
  },
  {
   "cell_type": "markdown",
   "metadata": {},
   "source": [
    "## №5.\n",
    "Запросите у пользователя значения выручки и издержек фирмы.  \n",
    "Определите, с каким финансовым результатом работает фирма (прибыль — выручка больше издержек, или убыток — издержки больше выручки). Выведите соответствующее сообщение.   \n",
    "Если фирма отработала с прибылью, вычислите рентабельность выручки(соотношение прибыли к выручке). Далее запросите численность сотрудников фирмы и определите прибыль фирмы в расчете на одного сотрудника.**"
   ]
  },
  {
   "cell_type": "code",
   "execution_count": 9,
   "metadata": {},
   "outputs": [
    {
     "name": "stdout",
     "output_type": "stream",
     "text": [
      "Оборот в рублях за месяц: 1000000\n",
      "Расходы в рублях за месяц: 75000\n",
      "Батюшка, мы растем!\n",
      "Наш доходность равна показателю 13.333333333333334\n",
      "Сколько в компании сотрудников: 7\n",
      "142857\n"
     ]
    }
   ],
   "source": [
    "revenue = int(input('Оборот в рублях за месяц: '))\n",
    "expense = int(input('Расходы в рублях за месяц: '))\n",
    "\n",
    "if revenue > expense:\n",
    "    print('Батюшка, мы растем!')\n",
    "\n",
    "    profit = revenue / expense\n",
    "    print('Наш доходность равна показателю {}'.format(profit))\n",
    "\n",
    "else:\n",
    "    print('Надо пересчитать экономику - что-то у нас не сходится')\n",
    "\n",
    "# Revenue Per Employee считается как оборот (не прибыль) деленное на количество сотрудников\n",
    "\n",
    "employee = int(input('Сколько в компании сотрудников: '))\n",
    "\n",
    "profit_by_person = revenue // employee\n",
    "print(profit_by_person)"
   ]
  },
  {
   "cell_type": "code",
   "execution_count": 10,
   "metadata": {},
   "outputs": [
    {
     "name": "stdout",
     "output_type": "stream",
     "text": [
      "Введите значение выручки - 1000000\n",
      "Введите значение издержек  - 130000\n",
      "Поздравляю! Ваша компания работает с прибылью 870000.0!\n",
      "Рентабельность выручки составила 0.870\n",
      "Сколько счастливых целочисленных сотрудников работает в Вашей компании? 20\n",
      "Если Вы раздадите прибыль компании сотрудникам, то каждый получит по 43500.000 .\n"
     ]
    }
   ],
   "source": [
    "revenue = float(input(\"Введите значение выручки - \"))\n",
    "costs = float(input(\"Введите значение издержек  - \"))\n",
    "result = revenue - costs\n",
    "if result > 0:\n",
    "    print(f\"Поздравляю! Ваша компания работает с прибылью {result}!\")\n",
    "    print(f\"Рентабельность выручки составила {result / revenue:.3f}\")\n",
    "    personal_n = int(input(\"Сколько счастливых целочисленных сотрудников работает в Вашей компании? \"))\n",
    "    print(f\"Если Вы раздадите прибыль компании сотрудникам, то каждый получит по {result / personal_n:.3f} .\")\n",
    "elif result < 0:\n",
    "    print(f\"Увы, Ваша компания пока сработала с убытком {-result}!\")\n",
    "else:\n",
    "    print(f\"Ноль - это тоже хороший результат!\")"
   ]
  },
  {
   "cell_type": "markdown",
   "metadata": {},
   "source": [
    "## №6. \n",
    "Спортсмен занимается ежедневными пробежками. В первый день его результат составил a километров. Каждый день спортсмен увеличивал результат на 10 % относительно предыдущего.  \n",
    "Требуется определить номер дня, на который общий результат спортсмена составить не менее b километров. Программа должна принимать значения параметров a и b и выводить одно натуральное число — номер дня.**"
   ]
  },
  {
   "cell_type": "code",
   "execution_count": 11,
   "metadata": {},
   "outputs": [
    {
     "name": "stdout",
     "output_type": "stream",
     "text": [
      "В первый день спортсмен пробежал (км): 12\n",
      "Он должен пробежать (км): 35\n",
      "Спортсмен пробежит 13.20 км на 2 день\n",
      "Спортсмен пробежит 14.52 км на 3 день\n",
      "Спортсмен пробежит 15.97 км на 4 день\n",
      "Спортсмен пробежит 17.57 км на 5 день\n",
      "Спортсмен пробежит 19.33 км на 6 день\n",
      "Спортсмен пробежит 21.26 км на 7 день\n",
      "Спортсмен пробежит 23.38 км на 8 день\n",
      "Спортсмен пробежит 25.72 км на 9 день\n",
      "Спортсмен пробежит 28.30 км на 10 день\n",
      "Спортсмен пробежит 31.12 км на 11 день\n",
      "Спортсмен пробежит 34.24 км на 12 день\n",
      "Спортсмен пробежит 37.66 км на 13 день\n"
     ]
    }
   ],
   "source": [
    "count = int(input('В первый день спортсмен пробежал (км): '))\n",
    "new_count = int(input('Он должен пробежать (км): '))\n",
    "\n",
    "day = 1\n",
    "while count < new_count:\n",
    "    count = (count * 0.1) + count\n",
    "    day += 1\n",
    "    print(f\"Спортсмен пробежит {(count):.2f} км на {day} день\")"
   ]
  },
  {
   "cell_type": "code",
   "execution_count": 12,
   "metadata": {},
   "outputs": [
    {
     "name": "stdout",
     "output_type": "stream",
     "text": [
      "Стартовый результат: 12\n",
      "Финальный результат: 35\n",
      "Спортсмен добьется результат за 13 дней\n"
     ]
    }
   ],
   "source": [
    "while True:\n",
    "    days = 1\n",
    "    start_km = int(input(\"Стартовый результат: \"))\n",
    "    last_km = int(input(\"Финальный результат: \"))\n",
    "    if start_km < 0 or last_km < 0:\n",
    "        print(\"Результаты должены быть больше нуля\")\n",
    "    else:\n",
    "        while start_km < last_km:\n",
    "            start_km += start_km * 0.1\n",
    "            days += 1\n",
    "\n",
    "        print(f\"Спортсмен добьется результат за {days} дней\")\n",
    "        break"
   ]
  },
  {
   "cell_type": "code",
   "execution_count": null,
   "metadata": {},
   "outputs": [],
   "source": []
  }
 ],
 "metadata": {
  "kernelspec": {
   "display_name": "Python 3",
   "language": "python",
   "name": "python3"
  },
  "language_info": {
   "codemirror_mode": {
    "name": "ipython",
    "version": 3
   },
   "file_extension": ".py",
   "mimetype": "text/x-python",
   "name": "python",
   "nbconvert_exporter": "python",
   "pygments_lexer": "ipython3",
   "version": "3.7.9"
  }
 },
 "nbformat": 4,
 "nbformat_minor": 4
}
