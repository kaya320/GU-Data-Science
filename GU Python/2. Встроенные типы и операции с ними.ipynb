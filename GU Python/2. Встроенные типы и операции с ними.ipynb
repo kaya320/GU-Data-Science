{
 "cells": [
  {
   "cell_type": "markdown",
   "metadata": {},
   "source": [
    "## №1. \n",
    "Создать список и заполнить его элементами различных типов данных. Реализовать скрипт проверки типа данных каждого элемента. Использовать функцию type() для проверки типа.  \n",
    "Элементы списка можно не запрашивать у пользователя, а указать явно, в программе."
   ]
  },
  {
   "cell_type": "code",
   "execution_count": 1,
   "metadata": {},
   "outputs": [],
   "source": [
    "for ind, el in enumerate(['имя', True, 123, 56.3, b'text', [1, 2], {'key_1': 'книга'}], 1):\n",
    "    print(ind, (type(el)))"
   ]
  },
  {
   "cell_type": "code",
   "execution_count": 2,
   "metadata": {},
   "outputs": [
    {
     "name": "stdout",
     "output_type": "stream",
     "text": [
      "{0: <class 'int'>, 1: <class 'int'>, 2: <class 'bool'>, 3: <class 'float'>, 4: <class 'str'>, 5: <class 'list'>}\n"
     ]
    }
   ],
   "source": [
    "my_list = [1, -2, False, 3.4, \"Help\", [1, 2, 3]]\n",
    "p = dict()\n",
    "\n",
    "for i in range(len(my_list)):\n",
    "    p[i] = type(my_list[i])\n",
    "\n",
    "print(p)"
   ]
  },
  {
   "cell_type": "code",
   "execution_count": 3,
   "metadata": {},
   "outputs": [
    {
     "name": "stdout",
     "output_type": "stream",
     "text": [
      "0) (-1+0j) - <class 'complex'>\n",
      "1) 1 - <class 'int'>\n",
      "2) 2.2 - <class 'float'>\n",
      "3) True - <class 'bool'>\n",
      "4) None - <class 'NoneType'>\n",
      "5) String - <class 'str'>\n",
      "6) [3, 4] - <class 'list'>\n",
      "7) (5, 6, 6.5) - <class 'tuple'>\n",
      "8) {7: 'seven', 8: 'eight'} - <class 'dict'>\n",
      "9) {9, 10} - <class 'set'>\n",
      "10) frozenset() - <class 'frozenset'>\n",
      "11) range(0, 11) - <class 'range'>\n",
      "12) b'twelve' - <class 'bytes'>\n",
      "13) bytearray(b'thirteen') - <class 'bytearray'>\n",
      "14) <zip object at 0x7fa79712d910> - <class 'zip'>\n",
      "15) <class 'TypeError'> - <class 'type'>\n"
     ]
    }
   ],
   "source": [
    "my_list = [(-1 + 0j), 1, 2.2, True, None, 'String', [3, 4], (5, 6, 6.5), {7: 'seven', 8: 'eight'}, {9, 10}, frozenset(),\n",
    "           range(11), (b'twelve'), bytearray(b'thirteen'), zip(*[(14, 15), (16, 17), ('a', 'b')]), TypeError]\n",
    "\n",
    "for i, item in enumerate(my_list):\n",
    "    print(f\"{i}) {item} - {type(item)}\")"
   ]
  },
  {
   "cell_type": "markdown",
   "metadata": {},
   "source": [
    "## №2.\n",
    "Для списка реализовать обмен значений соседних элементов, т.е. значениями обмениваются элементы с индексами 0 и 1, 2 и 3 и т.д.   \n",
    "При нечетном количестве элементов последний сохранить на своем месте.  \n",
    "Для заполнения списка элементов необходимо использовать функцию input()."
   ]
  },
  {
   "cell_type": "code",
   "execution_count": 4,
   "metadata": {},
   "outputs": [
    {
     "name": "stdout",
     "output_type": "stream",
     "text": [
      "1234\n",
      "['2', '1', '4', '3']\n"
     ]
    }
   ],
   "source": [
    "my_list = list(input())\n",
    "for i in range(1, len(my_list), 2):\n",
    "    my_list[i - 1], my_list[i] = my_list[i], my_list[i - 1]\n",
    "\n",
    "print(my_list)"
   ]
  },
  {
   "cell_type": "code",
   "execution_count": 5,
   "metadata": {},
   "outputs": [
    {
     "name": "stdout",
     "output_type": "stream",
     "text": [
      "Enter the numbers with space - 1 2 3\n",
      "['2', '1', '3']\n"
     ]
    }
   ],
   "source": [
    "user_list = input(\"Enter the numbers with space - \").split()\n",
    "\n",
    "for i in range(1, len(user_list), 2):\n",
    "    user_list.insert(i - 1, user_list.pop(i))\n",
    "\n",
    "print(user_list)"
   ]
  },
  {
   "cell_type": "markdown",
   "metadata": {},
   "source": [
    "## №3.\n",
    "Пользователь вводит месяц в виде целого числа от 1 до 12. Сообщить к какому времени года относится месяц (зима, весна, лето, осень).\n",
    "Напишите решения через list и через dict."
   ]
  },
  {
   "cell_type": "code",
   "execution_count": 6,
   "metadata": {},
   "outputs": [
    {
     "name": "stdout",
     "output_type": "stream",
     "text": [
      "Введите интересующий вас месяц года от 1 до 12:3\n",
      "3-й месяц года - это март\n",
      "3-й месяц года - это март\n"
     ]
    }
   ],
   "source": [
    "month = int(input(\"Введите интересующий вас месяц года от 1 до 12:\"))\n",
    "\n",
    "month_dict = {1: \"январь\", 2: \"февраль\", 3: \"март\", 4: \"апрель\", 5: \"май\", 6: \"июнь\", 7: \"июль\", 8: \"август\",\n",
    "              9: \"сентябрь\", 10: \"октябрь\", 11: \"ноябрь\", 12: \"декабрь\"}\n",
    "\n",
    "month_list = [\"январь\", \"февраль\", \"март\", \"апрель\", \"май\", \"июнь\", \"июль\", \"август\", \"сентябрь\", \"октябрь\",\n",
    "              \"ноябрь\", \"декабрь\"]\n",
    "\n",
    "if month < 0 or month > 12:\n",
    "    print(f\"Вы ввели не корректный месяц - {month}\")\n",
    "        \n",
    "else:\n",
    "    for key in month_dict:\n",
    "        if key == month:\n",
    "            print(f\"{month}-й месяц года - это {month_dict[key]}\")\n",
    "            print(f\"{month}-й месяц года - это {month_list[month - 1]}\")"
   ]
  },
  {
   "cell_type": "code",
   "execution_count": 7,
   "metadata": {},
   "outputs": [
    {
     "name": "stdout",
     "output_type": "stream",
     "text": [
      "Введите месяц в формате mm: 08\n",
      "Это лето! \n"
     ]
    }
   ],
   "source": [
    "# Вариант через list\n",
    "\n",
    "m = input('Введите месяц в формате mm: ')\n",
    "\n",
    "winter = ['12', '01', '02']\n",
    "spring = ['03', '04', '05']\n",
    "summer = ['06', '07', '08']\n",
    "\n",
    "if m in spring:\n",
    "    print('Это весна!')\n",
    "elif m in winter:\n",
    "    print('Это зима!')\n",
    "elif m in summer:\n",
    "    print('Это лето! ')\n",
    "else:\n",
    "    print('Это осень! ')"
   ]
  },
  {
   "cell_type": "code",
   "execution_count": 8,
   "metadata": {},
   "outputs": [
    {
     "name": "stdout",
     "output_type": "stream",
     "text": [
      "Введите номер месяца: 9\n",
      "autumn\n"
     ]
    }
   ],
   "source": [
    "# Вариант через list\n",
    "\n",
    "month = int(input('Введите номер месяца: '))\n",
    "\n",
    "while month < 0 or month > 12:\n",
    "    month = int(input('Неверно, введите номер месяца: '))\n",
    "    \n",
    "seasons = ('winter', 'winter', 'spring', 'spring', 'spring', 'summer', 'summer', 'summer', 'autumn',\n",
    "           'autumn', 'autumn', 'winter')\n",
    "\n",
    "print(seasons[month - 1])"
   ]
  },
  {
   "cell_type": "code",
   "execution_count": 9,
   "metadata": {},
   "outputs": [
    {
     "name": "stdout",
     "output_type": "stream",
     "text": [
      "Введите месяц в формате mm: 10\n",
      "осень\n"
     ]
    }
   ],
   "source": [
    "# Вариант со словарем\n",
    "\n",
    "m = input('Введите месяц в формате mm: ')\n",
    "weather = {\n",
    "    ('12', '01', '02'): 'зима',\n",
    "    ('03', '04', '05'): 'весна',\n",
    "    ('06', '07', '08'): 'лето',\n",
    "    ('09', '10', '11'): 'осень'\n",
    "    \n",
    "}\n",
    "for i in weather:\n",
    "    if m in i:\n",
    "        print(weather.get(i))"
   ]
  },
  {
   "cell_type": "code",
   "execution_count": 10,
   "metadata": {},
   "outputs": [
    {
     "name": "stdout",
     "output_type": "stream",
     "text": [
      "Введите номер месяца: 8\n",
      "summer\n"
     ]
    }
   ],
   "source": [
    "# Вариант со словарем\n",
    "\n",
    "month = int(input('Введите номер месяца: '))\n",
    "while month < 0 or month > 12:\n",
    "    month = int(input('Неверно, введите номер месяца: '))\n",
    "\n",
    "seasons = {1: 'winter', 2: 'winter', 3: 'spring', 4: 'spring', 5: 'spring', 6: 'summer', 7: 'summer',\n",
    "           8: 'summer', 9: 'autumn', 10: 'autumn', 11: 'autumn', 12: 'winter'}\n",
    "print(seasons[month])"
   ]
  },
  {
   "cell_type": "markdown",
   "metadata": {},
   "source": [
    "## №4.\n",
    "Пользователь вводит строку из нескольких слов, разделённых пробелами. Вывести каждое слово с новой строки.\n",
    "Строки необходимо пронумеровать. Если слово длинное, выводить только первые 10 букв в слове."
   ]
  },
  {
   "cell_type": "code",
   "execution_count": 11,
   "metadata": {},
   "outputs": [
    {
     "name": "stdout",
     "output_type": "stream",
     "text": [
      "Введите несколько слов: хороший день\n",
      "хороший день\n",
      "1 хороший\n",
      "2 день\n"
     ]
    }
   ],
   "source": [
    "s = input('Введите несколько слов: ')\n",
    "print(s)\n",
    "\n",
    "for ind, i in enumerate(s.split(), 1):\n",
    "    print(ind, i) if len(i) <= 10 else print(n, (i[:10]))"
   ]
  },
  {
   "cell_type": "code",
   "execution_count": 12,
   "metadata": {},
   "outputs": [
    {
     "name": "stdout",
     "output_type": "stream",
     "text": [
      "Enter the numbers with space - чудеснейшая погода\n",
      "['чудеснейшая', 'погода']\n",
      "0 чудеснейша\n",
      "1 погода\n"
     ]
    }
   ],
   "source": [
    "s = (input(\"Enter the numbers with space - \")).split()\n",
    "print(s)\n",
    "\n",
    "for i in range(len(s)):\n",
    "    if len(s[i]) <= 10:\n",
    "        print(i, s[i])\n",
    "    else:\n",
    "        print(i, (s[i])[:10])"
   ]
  },
  {
   "cell_type": "code",
   "execution_count": 13,
   "metadata": {},
   "outputs": [
    {
     "name": "stdout",
     "output_type": "stream",
     "text": [
      "сегодняшний день будет теплым\n",
      "0 - сегодняшни\n",
      "1 - день\n",
      "2 - будет\n",
      "3 - теплым\n"
     ]
    }
   ],
   "source": [
    "s = input().split()\n",
    "\n",
    "for ind, i in enumerate(s):\n",
    "    print(f'{ind} - {i[:10]}')"
   ]
  },
  {
   "cell_type": "markdown",
   "metadata": {},
   "source": [
    "## №5.\n",
    "Реализовать структуру «Рейтинг», представляющую собой не возрастающий набор натуральных чисел. У пользователя необходимо запрашивать новый элемент рейтинга.\n",
    "Если в рейтинге существуют элементы с одинаковыми значениями, то новый элемент с тем же значением должен разместиться после них.\n",
    "Набор натуральных чисел можно задать непосредственно в коде, например, my_list = [7, 5, 3, 3, 2]."
   ]
  },
  {
   "cell_type": "code",
   "execution_count": 14,
   "metadata": {},
   "outputs": [
    {
     "name": "stdout",
     "output_type": "stream",
     "text": [
      "Введите новый элемент рейтинга в виде натурального числа: 4\n",
      "[9, 8, 7, 7, 7, 6, 5, 4, 3, 3, 3, 2, 1]\n"
     ]
    }
   ],
   "source": [
    "my_list = [9, 8, 7, 7, 7, 6, 5, 3, 3, 3, 2, 1]\n",
    "new_number = int(input(\"Введите новый элемент рейтинга в виде натурального числа: \"))\n",
    "\n",
    "i = 0\n",
    "for n in my_list:\n",
    "    if new_number <= n:\n",
    "        i += 1\n",
    "my_list.insert(i, new_number)\n",
    "print(my_list)"
   ]
  },
  {
   "cell_type": "code",
   "execution_count": null,
   "metadata": {},
   "outputs": [],
   "source": []
  }
 ],
 "metadata": {
  "kernelspec": {
   "display_name": "Python 3",
   "language": "python",
   "name": "python3"
  },
  "language_info": {
   "codemirror_mode": {
    "name": "ipython",
    "version": 3
   },
   "file_extension": ".py",
   "mimetype": "text/x-python",
   "name": "python",
   "nbconvert_exporter": "python",
   "pygments_lexer": "ipython3",
   "version": "3.7.9"
  }
 },
 "nbformat": 4,
 "nbformat_minor": 4
}
