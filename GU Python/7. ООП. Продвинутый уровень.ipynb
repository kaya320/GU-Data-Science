{
 "cells": [
  {
   "cell_type": "markdown",
   "metadata": {},
   "source": [
    "## №1.\n",
    "Реализовать класс Matrix (матрица). Обеспечить перегрузку конструктора класса (метод init()), который должен принимать данные (список списков) для формирования матрицы.  \n",
    "Подсказка: матрица — система некоторых математических величин, расположенных в виде прямоугольной схемы.  \n",
    "Примеры матриц вы найдете в методичке.  \n",
    "Следующий шаг — реализовать перегрузку метода str() для вывода матрицы в привычном виде.  \n",
    "Далее реализовать перегрузку метода add() для реализации операции сложения двух объектов класса Matrix (двух матриц). Результатом сложения должна быть новая матрица.  \n",
    "Подсказка: сложение элементов матриц выполнять поэлементно — первый элемент первой строки первой матрицы складываем с первым элементом первой строки второй матрицы и т.д."
   ]
  },
  {
   "cell_type": "code",
   "execution_count": 1,
   "metadata": {},
   "outputs": [
    {
     "name": "stdout",
     "output_type": "stream",
     "text": [
      "1  2  3\n",
      "4  5  6\n",
      "7  8  9\n",
      "\n",
      "1  2  3\n",
      "4  5  6\n",
      "7  8  9\n",
      "\n",
      "2  4  6\n",
      "8  10  12\n",
      "14  16  18\n",
      "\n"
     ]
    }
   ],
   "source": [
    "class Matrix:\n",
    "\n",
    "    def __init__(self, matrix):\n",
    "        self.matrix = matrix\n",
    "\n",
    "    def __str__(self):\n",
    "        return  '\\n' .join(map(lambda  r: '  '.join(map(str, r)), self.matrix)) + '\\n'\n",
    "\n",
    "    def __add__(self, other):\n",
    "        return Matrix(map(lambda  r_1, r_2: map(lambda x, y: x + y, r_1, r_2), self.matrix, other.matrix))\n",
    "\n",
    "\n",
    "my_m1 = Matrix([[1, 2, 3], [4, 5, 6], [7, 8, 9]])\n",
    "my_m2 = Matrix([[1, 2, 3],[4, 5, 6], [7, 8, 9]])\n",
    "print(my_m1)\n",
    "print(my_m2)\n",
    "s = my_m1 + my_m2\n",
    "print(s)"
   ]
  },
  {
   "cell_type": "code",
   "execution_count": 2,
   "metadata": {},
   "outputs": [
    {
     "name": "stdout",
     "output_type": "stream",
     "text": [
      "Matrix 1\n",
      "[5, 3, 1, 6]\n",
      "[4, 4, 4, 5]\n",
      "[9, 0, 5, 0]\n",
      "--------------------\n",
      "Matrix 2\n",
      "[1, 1, 1, 2]\n",
      "[2, 2, 2, 2]\n",
      "[3, 3, 3, 1]\n",
      "--------------------\n",
      "matrix 1 + matrix 2\n",
      "[6, 4, 2, 8]\n",
      "[6, 6, 6, 7]\n",
      "[12, 3, 8, 1]\n"
     ]
    }
   ],
   "source": [
    "a = [[5, 3, 1, 6], [4, 4, 4, 5], [9, 0, 5, 0]]\n",
    "b = [[1, 1, 1, 2], [2, 2, 2, 2], [3, 3, 3, 1]]\n",
    "\n",
    "\n",
    "class Matrix:\n",
    "    def __init__(self, lists):\n",
    "        self.lists = lists\n",
    "\n",
    "    def __str__(self):\n",
    "        return '\\n'.join(map(str, self.lists))\n",
    "\n",
    "    def __add__(self, other):\n",
    "        c = []\n",
    "        for i in range(len(self.lists)):\n",
    "            c.append([])\n",
    "            for j in range(len(self.lists[0])):\n",
    "                c[i].append(self.lists[i][j] + other.lists[i][j])\n",
    "        return '\\n'.join(map(str, c))\n",
    "\n",
    "\n",
    "matrix_1 = Matrix(a)\n",
    "matrix_2 = Matrix(b)\n",
    "print(f\"Matrix 1\\n{matrix_1}\\n{'-' * 20}\")\n",
    "print(f\"Matrix 2\\n{matrix_2}\\n{'-' * 20}\")\n",
    "print(f\"matrix 1 + matrix 2\\n{matrix_1 + matrix_2}\")"
   ]
  },
  {
   "cell_type": "markdown",
   "metadata": {},
   "source": [
    "## №2.\n",
    "Реализовать проект расчета суммарного расхода ткани на производство одежды. Основная сущность (класс) этого проекта — одежда, которая может иметь определенное название. К типам одежды в этом проекте относятся пальто и костюм. У этих типов одежды существуют параметры: размер (для пальто) и рост (для костюма). Это могут быть обычные числа: V и H, соответственно.  \n",
    "Для определения расхода ткани по каждому типу одежды использовать формулы: для пальто (V/6.5 + 0.5), для костюма (2 * H + 0.3). Проверить работу этих методов на реальных данных.  \n",
    "Реализовать общий подсчет расхода ткани. Проверить на практике полученные на этом уроке знания: реализовать абстрактные классы для основных классов проекта, проверить на практике работу декоратора @property.  "
   ]
  },
  {
   "cell_type": "code",
   "execution_count": 3,
   "metadata": {},
   "outputs": [
    {
     "name": "stdout",
     "output_type": "stream",
     "text": [
      "Consumption of fabric for sewing a coat - 6.5\n",
      "Consumption of fabric for sewing a suit - 340.3\n"
     ]
    }
   ],
   "source": [
    "from abc import ABC, abstractmethod\n",
    "\n",
    "class Clothes(ABC):\n",
    "    def __init__(self, param):\n",
    "        self.param = param\n",
    "\n",
    "    @abstractmethod\n",
    "    def consumption(self):\n",
    "        pass\n",
    "\n",
    "\n",
    "class Coat(Clothes):\n",
    "    @property\n",
    "    def consumption(self):\n",
    "        return  f'Consumption of fabric for sewing a coat - {round(self.param / 6.5) + 0.5}'\n",
    "\n",
    "class Suit(Clothes):\n",
    "    @property\n",
    "    def consumption(self):\n",
    "        return f'Consumption of fabric for sewing a suit - {2 * self.param + 0.3}'\n",
    "\n",
    "coat = Coat(42)\n",
    "suit = Suit(170)\n",
    "print(coat.consumption)\n",
    "print(suit.consumption)"
   ]
  },
  {
   "cell_type": "code",
   "execution_count": null,
   "metadata": {},
   "outputs": [],
   "source": []
  }
 ],
 "metadata": {
  "kernelspec": {
   "display_name": "Python 3",
   "language": "python",
   "name": "python3"
  },
  "language_info": {
   "codemirror_mode": {
    "name": "ipython",
    "version": 3
   },
   "file_extension": ".py",
   "mimetype": "text/x-python",
   "name": "python",
   "nbconvert_exporter": "python",
   "pygments_lexer": "ipython3",
   "version": "3.7.9"
  }
 },
 "nbformat": 4,
 "nbformat_minor": 4
}
