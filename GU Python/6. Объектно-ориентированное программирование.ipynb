{
 "cells": [
  {
   "cell_type": "markdown",
   "metadata": {},
   "source": [
    "## №1.\n",
    "Создать класс TrafficLight (светофор) и определить у него один атрибут color (цвет) и метод running (запуск). Атрибут реализовать как приватный. В рамках метода реализовать переключение светофора в режимы: красный, желтый, зеленый. Продолжительность первого состояния (красный) составляет 7 секунд, второго (желтый) — 2 секунды, третьего (зеленый) — на ваше усмотрение. Переключение между режимами должно осуществляться только в указанном порядке (красный, желтый, зеленый). Проверить работу примера, создав экземпляр и вызвав описанный метод.\n",
    "Задачу можно усложнить, реализовав проверку порядка режимов, и при его нарушении выводить соответствующее сообщение и завершать скрипт."
   ]
  },
  {
   "cell_type": "code",
   "execution_count": 1,
   "metadata": {},
   "outputs": [
    {
     "name": "stdout",
     "output_type": "stream",
     "text": [
      "Trafficlight is red now\n",
      "Trafficlight is yellow now\n",
      "Trafficlight is green now\n",
      "Trafficlight is yellow now\n"
     ]
    }
   ],
   "source": [
    "from time import sleep\n",
    "\n",
    "\n",
    "class TrafficLight:\n",
    "    __color = \"Черный\"\n",
    "    \n",
    "    def running(self):\n",
    "            print(\"Trafficlight is red now\")\n",
    "            sleep(7)\n",
    "            print(\"Trafficlight is yellow now\")\n",
    "            sleep(2)\n",
    "            print(\"Trafficlight is green now\")\n",
    "            sleep(7)\n",
    "            print(\"Trafficlight is yellow now\")\n",
    "            sleep(2)\n",
    "\n",
    "\n",
    "trafficlight = TrafficLight()\n",
    "trafficlight.running()"
   ]
  },
  {
   "cell_type": "markdown",
   "metadata": {},
   "source": [
    "## №2. \n",
    "Реализовать класс Road (дорога), в котором определить атрибуты: length (длина), width (ширина). Значения данных атрибутов должны передаваться при создании экземпляра класса. Атрибуты сделать защищенными. Определить метод расчета массы асфальта, необходимого для покрытия всего дорожного полотна. Использовать формулу: длинаширинамасса асфальта для покрытия одного кв метра дороги асфальтом, толщиной в 1 см*число см толщины полотна. Проверить работу метода.\n",
    "Например: 20м*5000м*25кг*5см = 12500 т"
   ]
  },
  {
   "cell_type": "code",
   "execution_count": 2,
   "metadata": {},
   "outputs": [
    {
     "name": "stdout",
     "output_type": "stream",
     "text": [
      "5000 м * 20 м * 25 кг * 5 см = 12500.0 т\n"
     ]
    }
   ],
   "source": [
    "class Road:\n",
    "    def __init__(self, length, width):\n",
    "        self._length = length\n",
    "        self._width = width\n",
    "\n",
    "    def get_full_profit(self):\n",
    "        return f\"{self._length} м * {self._width} м * 25 кг * 5 см = {(self._length * self._width * 25 * 5) / 1000} т\"\n",
    "\n",
    "\n",
    "road_1 = Road(5000, 20)\n",
    "print(road_1.get_full_profit())"
   ]
  },
  {
   "cell_type": "markdown",
   "metadata": {},
   "source": [
    "## №3.\n",
    "Реализовать базовый класс Worker (работник), в котором определить атрибуты: name, surname, position (должность), income (доход). Последний атрибут должен быть защищенным и ссылаться на словарь, содержащий элементы: оклад и премия, например, {\"wage\": wage, \"bonus\": bonus}. Создать класс Position (должность) на базе класса Worker. В классе Position реализовать методы получения полного имени сотрудника (get_full_name) и дохода с учетом премии (get_total_income). Проверить работу примера на реальных данных (создать экземпляры класса Position, передать данные, проверить значения атрибутов, вызвать методы экземпляров)."
   ]
  },
  {
   "cell_type": "code",
   "execution_count": 3,
   "metadata": {},
   "outputs": [
    {
     "name": "stdout",
     "output_type": "stream",
     "text": [
      "Марья Иванова\n",
      "Разработчик\n",
      "250000\n"
     ]
    }
   ],
   "source": [
    "class Worker:\n",
    "\n",
    "    def __init__(self, name, surname, position, wage, bonus):\n",
    "        self.name = name\n",
    "        self.surname = surname\n",
    "        self.position = position\n",
    "        self._income = {\"wage\": wage, \"bonus\": bonus}\n",
    "\n",
    "\n",
    "class Position(Worker):\n",
    "\n",
    "    def get_full_name(self):\n",
    "        return self.name + ' ' + self.surname\n",
    "\n",
    "    def get_total_income(self):\n",
    "        return self._income.get('wage') + self._income.get('bonus')\n",
    "\n",
    "\n",
    "a = Position('Марья', 'Иванова', 'Разработчик', 200000, 50000)\n",
    "print(a.get_full_name())\n",
    "print(a.position)\n",
    "print(a.get_total_income())"
   ]
  },
  {
   "cell_type": "markdown",
   "metadata": {},
   "source": [
    "## №4. \n",
    "Реализуйте базовый класс Car. У данного класса должны быть следующие атрибуты: speed, color, name, is_police (булево). А также методы: go, stop, turn(direction), которые должны сообщать, что машина поехала, остановилась, повернула (куда). Опишите несколько дочерних классов: TownCar, SportCar, WorkCar, PoliceCar. Добавьте в базовый класс метод show_speed, который должен показывать текущую скорость автомобиля. Для классов TownCar и WorkCar переопределите метод show_speed. При значении скорости свыше 60 (TownCar) и 40 (WorkCar) должно выводиться сообщение о превышении скорости.\n",
    "Создайте экземпляры классов, передайте значения атрибутов. Выполните доступ к атрибутам, выведите результат. Выполните вызов методов и также покажите результат."
   ]
  },
  {
   "cell_type": "code",
   "execution_count": 4,
   "metadata": {},
   "outputs": [
    {
     "name": "stdout",
     "output_type": "stream",
     "text": [
      "Current speed of town car Mazda is 60\n",
      "Speed of Mazda is higher than allow for town car\n",
      "\n",
      "Current speed Aston Martin is 180\n",
      "\n",
      "Current speed Ford is 100\n",
      "\n",
      "Current speed of work car Peugeot is 90\n",
      "Speed of Peugeot is higher than allow for work car\n",
      "\n",
      "Ford is from police department\n",
      "\n",
      "Aston Martin is not from police department\n",
      "\n",
      "Peugeot is started from City,then Mazda is turned right, and Peugeot is stopped immediately\n"
     ]
    }
   ],
   "source": [
    "class Car:\n",
    "\n",
    "    def __init__(self, speed, color, name, is_police=False):\n",
    "        self.speed = speed\n",
    "        self.color = color\n",
    "        self.name = name\n",
    "        self.is_police = is_police\n",
    "\n",
    "    def go(self):\n",
    "        return f'{self.name} is started'\n",
    "\n",
    "    def stop(self):\n",
    "        return f'{self.name} is stopped'\n",
    "\n",
    "    def turn_right(self):\n",
    "        return f'{self.name} is turned right'\n",
    "\n",
    "    def turn_left(self):\n",
    "        return f'{self.name} is turned left'\n",
    "\n",
    "    def show_speed(self):\n",
    "        return f'Current speed {self.name} is {self.speed}'\n",
    "\n",
    "    def police(self):\n",
    "        if self.is_police:\n",
    "            return f'{self.name} is from police department'\n",
    "        else:\n",
    "            return f'{self.name} is not from police department'\n",
    "\n",
    "\n",
    "class TownCar(Car):\n",
    "    def __init__(self, speed, color, name):\n",
    "        super().__init__(speed, color, name)\n",
    "\n",
    "    def show_speed(self):\n",
    "        print(f'Current speed of town car {self.name} is {self.speed}')\n",
    "\n",
    "        if self.speed > 40:\n",
    "            return f'Speed of {self.name} is higher than allow for town car'\n",
    "        else:\n",
    "            return f'Speed of {self.name} is normal for town car'\n",
    "\n",
    "\n",
    "class SportCar(Car):\n",
    "    def __init__(self, speed, color, name):\n",
    "        super().__init__(speed, color, name)\n",
    "\n",
    "\n",
    "class WorkCar(Car):\n",
    "    def __init__(self, speed, color, name):\n",
    "        super().__init__(speed, color, name)\n",
    "\n",
    "    def show_speed(self):\n",
    "        print(f'Current speed of work car {self.name} is {self.speed}')\n",
    "\n",
    "        if self.speed > 60:\n",
    "            return f'Speed of {self.name} is higher than allow for work car'\n",
    "\n",
    "\n",
    "class PoliceCar(Car):\n",
    "    def __init__(self, speed, color, name):\n",
    "        super().__init__(speed, color, name, True)\n",
    "\n",
    "\n",
    "#Cars\n",
    "mazda = TownCar(60, 'White', 'Mazda')\n",
    "peugeot = WorkCar(90, 'Orange', 'Peugeot')\n",
    "aston = SportCar(180, 'Blue', 'Aston Martin')\n",
    "ford = PoliceCar(100, 'White',  'Ford')\n",
    "\n",
    "# Speed\n",
    "print(mazda.show_speed() + '\\n')\n",
    "print(aston.show_speed() + '\\n')\n",
    "print(ford.show_speed() + '\\n')\n",
    "print(peugeot.show_speed() + '\\n')\n",
    "print(ford.police() + '\\n')\n",
    "print(aston.police() + '\\n')\n",
    "\n",
    "\n",
    "print(f'{peugeot.go()} from City,then {mazda.turn_right()}, and {peugeot.stop()} immediately')"
   ]
  },
  {
   "cell_type": "markdown",
   "metadata": {},
   "source": [
    "## №5.\n",
    "Реализовать класс Stationery (канцелярская принадлежность). Определить в нем атрибут title (название) и метод draw (отрисовка). Метод выводит сообщение “Запуск отрисовки.” Создать три дочерних класса Pen (ручка), Pencil (карандаш), Handle (маркер). В каждом из классов реализовать переопределение метода draw. Для каждого из классов методы должен выводить уникальное сообщение. Создать экземпляры классов и проверить, что выведет описанный метод для каждого экземпляра."
   ]
  },
  {
   "cell_type": "code",
   "execution_count": 5,
   "metadata": {},
   "outputs": [
    {
     "name": "stdout",
     "output_type": "stream",
     "text": [
      "Отрисовка ручкой\n",
      "Отрисовка карандашом\n",
      "Отрисовка маркером\n"
     ]
    }
   ],
   "source": [
    "class Stationery:\n",
    "    _attr = 'title'\n",
    "    def draw(self):\n",
    "        print('Запуск отрисовки.')\n",
    "\n",
    "\n",
    "class Pen(Stationery):\n",
    "    def draw(self):\n",
    "        print('Отрисовка ручкой')\n",
    "\n",
    "\n",
    "class Pencil(Stationery):\n",
    "    def draw(self):\n",
    "        print('Отрисовка карандашом')\n",
    "\n",
    "\n",
    "class Handle(Stationery):\n",
    "    def draw(self):\n",
    "        print('Отрисовка маркером')\n",
    "\n",
    "pen = Pen()\n",
    "pencil = Pencil()\n",
    "handle = Handle()\n",
    "pen.draw()\n",
    "pencil.draw()\n",
    "handle.draw()"
   ]
  },
  {
   "cell_type": "code",
   "execution_count": 6,
   "metadata": {},
   "outputs": [
    {
     "name": "stdout",
     "output_type": "stream",
     "text": [
      "Just start drawing! Something that can draw))\n",
      "Start drawing with Parker pen!\n",
      "Start drawing with Faber-Castell pencil!\n",
      "Start drawing with COPIC handle!\n"
     ]
    }
   ],
   "source": [
    "class Stationery:\n",
    "    def __init__(self, title=\"Something that can draw\"):\n",
    "        self.title = title\n",
    "\n",
    "    def draw(self):\n",
    "        print(f\"Just start drawing! {self.title}))\")\n",
    "\n",
    "\n",
    "class Pen(Stationery):\n",
    "    def draw(self):\n",
    "        print(f\"Start drawing with {self.title} pen!\")\n",
    "\n",
    "\n",
    "class Pencil(Stationery):\n",
    "    def draw(self):\n",
    "        print(f\"Start drawing with {self.title} pencil!\")\n",
    "\n",
    "\n",
    "class Handle(Stationery):\n",
    "    def draw(self):\n",
    "        print(f\"Start drawing with {self.title} handle!\")\n",
    "\n",
    "\n",
    "stat = Stationery()\n",
    "stat.draw()\n",
    "pen = Pen(\"Parker\")\n",
    "pen.draw()\n",
    "pencil = Pencil(\"Faber-Castell\")\n",
    "pencil.draw()\n",
    "handle = Handle(\"COPIC\")\n",
    "handle.draw()"
   ]
  }
 ],
 "metadata": {
  "kernelspec": {
   "display_name": "Python 3",
   "language": "python",
   "name": "python3"
  },
  "language_info": {
   "codemirror_mode": {
    "name": "ipython",
    "version": 3
   },
   "file_extension": ".py",
   "mimetype": "text/x-python",
   "name": "python",
   "nbconvert_exporter": "python",
   "pygments_lexer": "ipython3",
   "version": "3.7.9"
  }
 },
 "nbformat": 4,
 "nbformat_minor": 4
}
