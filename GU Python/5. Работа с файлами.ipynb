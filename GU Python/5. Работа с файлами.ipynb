{
 "cells": [
  {
   "cell_type": "markdown",
   "metadata": {},
   "source": [
    "## №1.\n",
    "Создать программно файл в текстовом формате, записать в него построчно данные, вводимые пользователем. Об окончании ввода данных свидетельствует пустая строка."
   ]
  },
  {
   "cell_type": "code",
   "execution_count": 1,
   "metadata": {},
   "outputs": [
    {
     "name": "stdout",
     "output_type": "stream",
     "text": [
      "Введите любую информацию: 123\n",
      "Введите любую информацию: \n"
     ]
    }
   ],
   "source": [
    "while True:\n",
    "    line = input('Введите любую информацию: ').split()\n",
    "    if not line:\n",
    "        break\n",
    "    with open(\"text.txt\", \"w\") as file_obj:\n",
    "        for i in range(len(line)):\n",
    "            print(line[i], file=file_obj)"
   ]
  },
  {
   "cell_type": "markdown",
   "metadata": {},
   "source": [
    "## №2.\n",
    "Создать текстовый файл (не программно), сохранить в нем несколько строк, выполнить подсчет количества строк, количества слов в каждой строке."
   ]
  },
  {
   "cell_type": "code",
   "execution_count": 2,
   "metadata": {},
   "outputs": [
    {
     "name": "stdout",
     "output_type": "stream",
     "text": [
      "В строке 1 - 0 слов\n",
      "В строке 2 - 5 слов\n",
      "В строке 3 - 3 слов\n",
      "В строке 4 - 5 слов\n",
      "В строке 5 - 3 слов\n",
      "В строке 6 - 8 слов\n",
      "В строке 7 - 3 слов\n",
      "В строке 8 - 4 слов\n",
      "В строке 9 - 3 слов\n",
      "В строке 10 - 0 слов\n",
      "В строке 11 - 3 слов\n",
      "Всего строк: 11\n"
     ]
    }
   ],
   "source": [
    "with open(\"new.txt\") as file_obj:\n",
    "    content = file_obj.readlines()\n",
    "    for ind, el in enumerate(content):\n",
    "        words = len(el.split())\n",
    "        print(f'В строке {ind + 1} - {words} слов')\n",
    "    lines = 0\n",
    "    for line in content:\n",
    "        lines += line.count('\\n')\n",
    "\n",
    "    print(f'Всего строк: {lines}')"
   ]
  },
  {
   "cell_type": "markdown",
   "metadata": {},
   "source": [
    "## №3.\n",
    "Создать текстовый файл (не программно), построчно записать фамилии сотрудников и величину их окладов. Определить, кто из сотрудников имеет оклад менее 20 тыс., вывести фамилии этих сотрудников. Выполнить подсчет средней величины дохода сотрудников."
   ]
  },
  {
   "cell_type": "code",
   "execution_count": 3,
   "metadata": {},
   "outputs": [
    {
     "name": "stdout",
     "output_type": "stream",
     "text": [
      "Оклад меньше 20.000 ['Ivanov', 'Danilina'], средний оклад 93039.8\n"
     ]
    }
   ],
   "source": [
    "with open('salary.txt', 'r') as f:\n",
    "    sum_salary = []\n",
    "    min = []\n",
    "    line = f.read().split('\\n')\n",
    "    for i in line:\n",
    "        i = i.split()\n",
    "        if int(i[1]) < 20000:\n",
    "            min.append(i[0])\n",
    "        sum_salary.append(i[1])\n",
    "\n",
    "print(f'Оклад меньше 20.000 {min}, средний оклад {sum(map(int, sum_salary)) / len(sum_salary)}')"
   ]
  },
  {
   "cell_type": "markdown",
   "metadata": {},
   "source": [
    "## №5.\n",
    "Создать (программно) текстовый файл, записать в него программно набор чисел, разделенных пробелами. Программа должна подсчитывать сумму чисел в файле и выводить ее на экран."
   ]
  },
  {
   "cell_type": "code",
   "execution_count": 4,
   "metadata": {},
   "outputs": [
    {
     "name": "stdout",
     "output_type": "stream",
     "text": [
      "Введите цифры через пробел \n",
      "1 2 4\n",
      "7\n"
     ]
    }
   ],
   "source": [
    "with open('text2.txt', 'w') as f:\n",
    "    line = input('Введите цифры через пробел \\n')\n",
    "    f.writelines(line)\n",
    "    numbers = line.split()\n",
    "\n",
    "    print(sum(map(int, numbers)))"
   ]
  },
  {
   "cell_type": "markdown",
   "metadata": {},
   "source": [
    "## №6.\n",
    "Необходимо создать (не программно) текстовый файл, где каждая строка описывает учебный предмет и наличие лекционных, практических и лабораторных занятий по этому предмету и их количество. Важно, чтобы для каждого предмета не обязательно были все типы занятий. Сформировать словарь, содержащий название предмета и общее количество занятий по нему. Вывести словарь на экран.  \n",
    "Примеры строк файла:  \n",
    "Информатика: 100(л) 50(пр) 20(лаб).  \n",
    "Физика: 30(л) — 10(лаб)  \n",
    "Физкультура: — 30(пр) —  \n",
    "\n",
    "Пример словаря:\n",
    "{“Информатика”: 170, “Физика”: 40, “Физкультура”: 30}"
   ]
  },
  {
   "cell_type": "code",
   "execution_count": 6,
   "metadata": {},
   "outputs": [
    {
     "name": "stdout",
     "output_type": "stream",
     "text": [
      "{'Math': 50, 'Physics': 108, 'Literature': 18, 'Informatics': 72}\n"
     ]
    }
   ],
   "source": [
    "new_dict = {}\n",
    "with open('programme.txt') as f:\n",
    "    for line in f:\n",
    "        name, stats = line.split(':')\n",
    "        name_sum = sum(map(int, ''.join([i for i in stats if i == ' ' or (i >= '0' and i <= '9')]).split()))\n",
    "        new_dict[name] = name_sum\n",
    "print(f'{new_dict}')"
   ]
  },
  {
   "cell_type": "code",
   "execution_count": null,
   "metadata": {},
   "outputs": [],
   "source": []
  }
 ],
 "metadata": {
  "kernelspec": {
   "display_name": "Python 3",
   "language": "python",
   "name": "python3"
  },
  "language_info": {
   "codemirror_mode": {
    "name": "ipython",
    "version": 3
   },
   "file_extension": ".py",
   "mimetype": "text/x-python",
   "name": "python",
   "nbconvert_exporter": "python",
   "pygments_lexer": "ipython3",
   "version": "3.7.9"
  }
 },
 "nbformat": 4,
 "nbformat_minor": 4
}
