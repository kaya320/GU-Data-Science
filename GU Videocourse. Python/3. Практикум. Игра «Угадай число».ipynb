{
 "cells": [
  {
   "cell_type": "markdown",
   "metadata": {},
   "source": [
    "## №1. В этой игре человек загадывает число, а компьютер пытается его угадать.  \n",
    "В начале игры человек загадывает число от 1 до 100 в уме или записывает его на листок бумаги. Компьютер начинает его отгадывать предлагая игроку варианты чисел. Если компьютер угадал число, игрок выбирает “победа”. Если компьютер назвал число меньше загаданного, игрок должен выбрать “загаданное число больше”. Если компьютер назвал число больше, игрок должен выбрать “загаданное число меньше”.  \n",
    "\n",
    "Игра продолжается до тех пор пока компьютер не отгадает число."
   ]
  },
  {
   "cell_type": "code",
   "execution_count": 1,
   "metadata": {},
   "outputs": [
    {
     "name": "stdout",
     "output_type": "stream",
     "text": [
      "17\n",
      "Введите число: 8\n",
      "Ваше число меньше загаданного\n",
      "Введите число: 17\n",
      "Победа\n"
     ]
    }
   ],
   "source": [
    "import random\n",
    "\n",
    "number = random.randint(1, 100)\n",
    "print(number)\n",
    "\n",
    "while True:\n",
    "    user_number = int(input('Введите число: '))\n",
    "    if number == user_number:\n",
    "        print('Победа')\n",
    "        break\n",
    "    elif number < user_number:\n",
    "        print('Ваше число больше загаданного')\n",
    "    else:\n",
    "        print('Ваше число меньше загаданного')"
   ]
  },
  {
   "cell_type": "code",
   "execution_count": 2,
   "metadata": {},
   "outputs": [
    {
     "name": "stdout",
     "output_type": "stream",
     "text": [
      "Выберите уровень сложности: 1\n",
      "Попытка № 1\n",
      "Введите число: 50\n",
      "Ваше число больше загаданного\n",
      "Попытка № 2\n",
      "Введите число: 25\n",
      "Ваше число больше загаданного\n",
      "Попытка № 3\n",
      "Введите число: 10\n",
      "Ваше число меньше загаданного\n",
      "Попытка № 4\n",
      "Введите число: 16\n",
      "Ваше число больше загаданного\n",
      "Попытка № 5\n",
      "Введите число: 13\n",
      "Ваше число больше загаданного\n",
      "Попытка № 6\n",
      "Введите число: 12\n",
      "Ваше число больше загаданного\n",
      "Попытка № 7\n",
      "Введите число: 11\n",
      "Победа\n"
     ]
    }
   ],
   "source": [
    "import random\n",
    "\n",
    "number = random.randint(1, 100)\n",
    "#print(number)\n",
    "\n",
    "user_number = None\n",
    "count = 0\n",
    "levels = {1: 10, 2: 5, 3: 3}\n",
    "\n",
    "level = int(input('Выберите уровень сложности: '))\n",
    "max_count = levels[level]\n",
    "\n",
    "while number != user_number:\n",
    "    count += 1\n",
    "    if count > max_count:\n",
    "        print('Вы проиграли')\n",
    "        break\n",
    "    print(f'Попытка № {count}')\n",
    "    user_number = int(input('Введите число: '))\n",
    "\n",
    "    if number < user_number:\n",
    "        print('Ваше число больше загаданного')\n",
    "\n",
    "    elif number > user_number:\n",
    "        print('Ваше число меньше загаданного')\n",
    "else:\n",
    "    print('Победа')"
   ]
  },
  {
   "cell_type": "code",
   "execution_count": 4,
   "metadata": {},
   "outputs": [
    {
     "name": "stdout",
     "output_type": "stream",
     "text": [
      "Выберите уровень сложности: 3\n",
      "Введите количество пользователей: 1\n",
      "Введите имя пользователя 0: Кристина\n",
      "['Кристина']\n",
      "Попытка № 1\n",
      "Ход пользователя Кристина\n",
      "Введите число: 50\n",
      "Ваше число меньше загаданного\n",
      "Попытка № 2\n",
      "Ход пользователя Кристина\n",
      "Введите число: 75\n",
      "Ваше число больше загаданного\n",
      "Попытка № 3\n",
      "Ход пользователя Кристина\n",
      "Введите число: 60\n",
      "Ваше число больше загаданного\n",
      "Все пользователи проиграли\n"
     ]
    }
   ],
   "source": [
    "import random\n",
    "\n",
    "number = random.randint(1, 100)\n",
    "#print(number)\n",
    "\n",
    "user_number = None\n",
    "count = 0\n",
    "levels = {1: 10, 2: 5, 3: 3}\n",
    "\n",
    "level = int(input('Выберите уровень сложности: '))\n",
    "max_count = levels[level]\n",
    "\n",
    "user_count = int(input('Введите количество пользователей: '))\n",
    "users = []\n",
    "for i in range(user_count):\n",
    "    user_name = input(f'Введите имя пользователя {i}: ')\n",
    "    users.append(user_name)\n",
    "\n",
    "    print(users)\n",
    "is_winner = False\n",
    "winner_name = None\n",
    "\n",
    "while not is_winner:\n",
    "    count += 1\n",
    "    if count > max_count:\n",
    "        print('Все пользователи проиграли')\n",
    "        break\n",
    "    print(f'Попытка № {count}')\n",
    "    for user in users:\n",
    "        print(f'Ход пользователя {user}')\n",
    "        user_number = int(input('Введите число: '))\n",
    "        if user_number == number:\n",
    "            is_winner = True\n",
    "            winner_name = user\n",
    "            break\n",
    "        elif number < user_number:\n",
    "            print('Ваше число больше загаданного')\n",
    "        else:\n",
    "            print('Ваше число меньше загаданного')\n",
    "else:\n",
    "    print(f'Победитель {winner_name}')"
   ]
  },
  {
   "cell_type": "code",
   "execution_count": null,
   "metadata": {},
   "outputs": [],
   "source": []
  }
 ],
 "metadata": {
  "kernelspec": {
   "display_name": "Python 3",
   "language": "python",
   "name": "python3"
  },
  "language_info": {
   "codemirror_mode": {
    "name": "ipython",
    "version": 3
   },
   "file_extension": ".py",
   "mimetype": "text/x-python",
   "name": "python",
   "nbconvert_exporter": "python",
   "pygments_lexer": "ipython3",
   "version": "3.7.9"
  }
 },
 "nbformat": 4,
 "nbformat_minor": 4
}
