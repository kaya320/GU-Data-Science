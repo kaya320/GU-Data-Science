{
 "cells": [
  {
   "cell_type": "markdown",
   "metadata": {},
   "source": [
    "## №1. \n",
    "Создайте модуль (модуль - программа на Python, т.е. файл с расширением .py).\n",
    "В нем создайте функцию создающую директории от dir_1 до dir_9 в папке из которой запущен данный код. Затем создайте вторую функцию удаляющую эти папки. Проверьте работу функций в этом же модуле."
   ]
  },
  {
   "cell_type": "code",
   "execution_count": 1,
   "metadata": {},
   "outputs": [
    {
     "name": "stdout",
     "output_type": "stream",
     "text": [
      "Writing folders.py\n"
     ]
    }
   ],
   "source": [
    "%%writefile folders.py\n",
    "\n",
    "import os\n",
    "\n",
    "def create_folders():\n",
    "    for i in range(1, 10):\n",
    "        folder_name = f'dir_{i}'\n",
    "        os.mkdir(folder_name)\n",
    "\n",
    "def delete_folders():\n",
    "    for i in range(1, 10):\n",
    "        folder_name = f'dir_{i}'\n",
    "        os.rmdir(folder_name)\n",
    "        \n",
    "        \n",
    "if __name__ == '__main__':\n",
    "    create_folders()\n",
    "    delete_folders()        "
   ]
  },
  {
   "cell_type": "code",
   "execution_count": 2,
   "metadata": {},
   "outputs": [],
   "source": [
    "import folders\n",
    "\n",
    "folders.create_folders()\n",
    "folders.delete_folders()"
   ]
  },
  {
   "cell_type": "markdown",
   "metadata": {},
   "source": [
    "## №2.\n",
    "Создайте модуль.  В нем создайте функцию, которая принимает список и возвращает из него случайный элемент.\n",
    "Если список пустой функция должна вернуть None. Проверьте работу функций в этом же модуле.  "
   ]
  },
  {
   "cell_type": "code",
   "execution_count": 3,
   "metadata": {},
   "outputs": [
    {
     "name": "stdout",
     "output_type": "stream",
     "text": [
      "Writing randomlist.py\n"
     ]
    }
   ],
   "source": [
    "%%writefile randomlist.py\n",
    "\n",
    "import random\n",
    "\n",
    "def get_random(input_list):\n",
    "    if input_list:\n",
    "        result = random.choice(input_list)\n",
    "        return result\n",
    "\n",
    "\n",
    "if __name__ == '__main__':\n",
    "    print(get_random([1, 2, 3, 4]))\n",
    "    print(get_random([7]))"
   ]
  },
  {
   "cell_type": "code",
   "execution_count": 4,
   "metadata": {},
   "outputs": [
    {
     "name": "stdout",
     "output_type": "stream",
     "text": [
      "2\n"
     ]
    }
   ],
   "source": [
    "import randomlist\n",
    "print(randomlist.get_random([1, 2, 3]))"
   ]
  },
  {
   "cell_type": "markdown",
   "metadata": {},
   "source": [
    "## №3.\n",
    "Создайте модуль main.py.  Из модулей реализованных в заданиях 1 и 2 сделайте импорт в main.py всех функций.  \n",
    "Вызовите каждую функцию в main.py и проверьте что все работает как надо. "
   ]
  },
  {
   "cell_type": "code",
   "execution_count": 5,
   "metadata": {},
   "outputs": [
    {
     "name": "stdout",
     "output_type": "stream",
     "text": [
      "Writing main.py\n"
     ]
    }
   ],
   "source": [
    "%%writefile main.py\n",
    "\n",
    "import randomlist \n",
    "from folders import create_folders, delete_folders \n",
    "\n",
    "create_folders()\n",
    "delete_folders()\n",
    "print(randomlist.get_random([1, 2, 3]))\n",
    "print(randomlist.get_random([1]))"
   ]
  },
  {
   "cell_type": "code",
   "execution_count": 6,
   "metadata": {},
   "outputs": [
    {
     "name": "stdout",
     "output_type": "stream",
     "text": [
      "3\n",
      "1\n"
     ]
    }
   ],
   "source": [
    "import main\n",
    "main.create_folders()\n",
    "main.delete_folders()"
   ]
  },
  {
   "cell_type": "code",
   "execution_count": 7,
   "metadata": {},
   "outputs": [
    {
     "name": "stdout",
     "output_type": "stream",
     "text": [
      "1\n"
     ]
    }
   ],
   "source": [
    "import main\n",
    "print(randomlist.get_random([1]))"
   ]
  }
 ],
 "metadata": {
  "kernelspec": {
   "display_name": "Python 3",
   "language": "python",
   "name": "python3"
  },
  "language_info": {
   "codemirror_mode": {
    "name": "ipython",
    "version": 3
   },
   "file_extension": ".py",
   "mimetype": "text/x-python",
   "name": "python",
   "nbconvert_exporter": "python",
   "pygments_lexer": "ipython3",
   "version": "3.7.9"
  }
 },
 "nbformat": 4,
 "nbformat_minor": 4
}
