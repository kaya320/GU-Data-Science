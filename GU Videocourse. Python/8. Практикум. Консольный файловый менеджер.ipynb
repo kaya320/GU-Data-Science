{
 "cells": [
  {
   "cell_type": "markdown",
   "metadata": {},
   "source": [
    "#### 1.  В консольный файловый менеджер добавить проверку ввода пользователя для всех функции с параметрами. Добавить возможность изменения текущей рабочей директории. Добавить возможность развлечения в процессе работы с менеджером."
   ]
  },
  {
   "cell_type": "code",
   "execution_count": 1,
   "metadata": {},
   "outputs": [
    {
     "name": "stdout",
     "output_type": "stream",
     "text": [
      "['1. Введение в Python.ipynb', 'Consol_Manager', 'praktikum_data_analysis_takeaways_course1_theme5.pdf', '2. Введение в Linux ', '.DS_Store', '3. Базы данных', 'Untitled.ipynb', ' 2. Встроенные типы и операции с ними.ipynb', 'lessons_python_tutor.ipynb', '7. Библиотеки Python3 DS продолжение', ' 2. Встроенные типы и операции с ними .ipynb', '9. Методы сбора и обработки данных ', 'new_lesson_py.ipynb', 'git-cheat-sheet-education.pdf', '5. Модули и библиотеки.ipynb', '5. Введение в выш мат', ' 3. Функции.ipynb', '6. Введение в мат анализ', 'Видео курсы', '.ipynb_checkpoints', '1. Python3', '8. Теор Вер и Мат статистика', '4. Библиотеки Python3 DS', 'text.dat', '3. Функции.ipynb', '3. Практикум. Игра «Угадай число».ipynb']\n",
      "['Consol_Manager', '2. Введение в Linux ', '3. Базы данных', '7. Библиотеки Python3 DS продолжение', '9. Методы сбора и обработки данных ', '5. Введение в выш мат', '6. Введение в мат анализ', 'Видео курсы', '.ipynb_checkpoints', '1. Python3', '8. Теор Вер и Мат статистика', '4. Библиотеки Python3 DS']\n"
     ]
    }
   ],
   "source": [
    "import os\n",
    "import shutil\n",
    "\n",
    "\n",
    "def create_file(name, text=None):\n",
    "    with open(name, 'w', encoding='utf-8') as f:\n",
    "        if text:\n",
    "            f.write(text)\n",
    "\n",
    "            \n",
    "def create_folder(name):\n",
    "    try:\n",
    "        os.mkdir(name)\n",
    "    except FileExistsError:\n",
    "        print('Такая папка уже есть')\n",
    "\n",
    "\n",
    "def get_list(folders_only=False):\n",
    "    result = os.listdir()\n",
    "    if folders_only:\n",
    "        result = [f for f in result if os.path.isdir(f)]\n",
    "    print(result)\n",
    "\n",
    "\n",
    "def delete_file(name):\n",
    "    if os.path.isdir(name):\n",
    "        os.rmdir(name)\n",
    "    else:\n",
    "        os.remove(name)\n",
    "\n",
    "\n",
    "def copy_file(name, new_name):\n",
    "    if os.path.isdir(name):\n",
    "        try:\n",
    "            shutil.copytree(name, new_name)\n",
    "        except FileExistsError:\n",
    "            print('Такая папка уже есть')\n",
    "    else:\n",
    "        shutil.copy(name, new_name)\n",
    "\n",
    "\n",
    "if __name__ == '__main__':\n",
    "    create_file('text.dat', 'some bla bla bla')\n",
    "    create_folder('Consol_Manager')\n",
    "    get_list()\n",
    "    get_list(True)\n",
    "    delete_file('Consol_Manager')\n",
    "    delete_file('text.dat')\n",
    "    #copy_file('Consol_Manager', 'New2')\n",
    "    create_file('text.dat')\n",
    "    copy_file('text.dat', 'text2.dat')"
   ]
  },
  {
   "cell_type": "code",
   "execution_count": null,
   "metadata": {},
   "outputs": [],
   "source": []
  }
 ],
 "metadata": {
  "kernelspec": {
   "display_name": "Python 3",
   "language": "python",
   "name": "python3"
  },
  "language_info": {
   "codemirror_mode": {
    "name": "ipython",
    "version": 3
   },
   "file_extension": ".py",
   "mimetype": "text/x-python",
   "name": "python",
   "nbconvert_exporter": "python",
   "pygments_lexer": "ipython3",
   "version": "3.7.9"
  }
 },
 "nbformat": 4,
 "nbformat_minor": 4
}
