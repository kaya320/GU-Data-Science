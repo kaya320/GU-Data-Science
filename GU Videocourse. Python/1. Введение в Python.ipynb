{
 "cells": [
  {
   "cell_type": "markdown",
   "metadata": {},
   "source": [
    "## №1. \n",
    "Запросите от пользователя число, сохраните в переменную, прибавьте к числу 2 и выведите результат на экран."
   ]
  },
  {
   "cell_type": "code",
   "execution_count": 1,
   "metadata": {},
   "outputs": [
    {
     "name": "stdout",
     "output_type": "stream",
     "text": [
      "Введите свое любимое число: 10\n",
      "А теперь получилось число: 12\n"
     ]
    }
   ],
   "source": [
    "number = int(input('Введите свое любимое число: '))\n",
    "number += 2\n",
    "print('А теперь получилось число:', number)"
   ]
  },
  {
   "cell_type": "markdown",
   "metadata": {},
   "source": [
    "## №2.\n",
    "Используя цикл, запрашивайте у пользователя число, пока оно не станет больше 0, но меньше 10. После того, как пользователь введет корректное число, возведите его в степень 2 и выведите на экран."
   ]
  },
  {
   "cell_type": "code",
   "execution_count": 2,
   "metadata": {},
   "outputs": [
    {
     "name": "stdout",
     "output_type": "stream",
     "text": [
      "Введите число: 10\n",
      "100\n"
     ]
    }
   ],
   "source": [
    "n = int(input('Введите число: '))\n",
    "while n > 10:\n",
    "    print('Нужно меньше')\n",
    "    n = int(input('Введите число: '))\n",
    "\n",
    "print(n ** 2)"
   ]
  },
  {
   "cell_type": "code",
   "execution_count": 3,
   "metadata": {},
   "outputs": [
    {
     "name": "stdout",
     "output_type": "stream",
     "text": [
      "Введите число: 10\n",
      "Число должно быть > 0 и < 10\n",
      "Введите число: 5\n",
      "25\n"
     ]
    }
   ],
   "source": [
    "while True:\n",
    "    number = int(input('Введите число: '))\n",
    "    if number > 0 and number < 10:\n",
    "        print (number ** 2)\n",
    "        break\n",
    "    else:\n",
    "        print ('Число должно быть > 0 и < 10')"
   ]
  },
  {
   "cell_type": "markdown",
   "metadata": {},
   "source": [
    "## №3. \n",
    "Создайте программу “Медицинская анкета”, где вы запросите у пользователя следующие данные: имя, фамилия, возраст и вес."
   ]
  },
  {
   "cell_type": "code",
   "execution_count": 4,
   "metadata": {},
   "outputs": [
    {
     "name": "stdout",
     "output_type": "stream",
     "text": [
      "Введите ваши имя и фамилию Иван Иванов\n",
      "Сколько вам лет 20\n",
      "Введите ваш вес 80\n",
      "Иван Иванов - Ты красавчик!\n",
      "Конец осмотра!\n"
     ]
    }
   ],
   "source": [
    "name = input('Введите ваши имя и фамилию ')\n",
    "age = int(input('Сколько вам лет '))\n",
    "weight = int(input('Введите ваш вес '))\n",
    "\n",
    "if age < 30 and (weight > 50 and weight < 120):\n",
    "    print(name, '- Ты красавчик!')\n",
    "\n",
    "elif (age > 30 and age < 40) and (weight < 50 and weight > 120):\n",
    "    print(name, '- Займись собой!')\n",
    "\n",
    "else:\n",
    "    print(name, '- Все плохо,бегом к врачу!')\n",
    "\n",
    "print('Конец осмотра!')"
   ]
  },
  {
   "cell_type": "code",
   "execution_count": null,
   "metadata": {},
   "outputs": [],
   "source": []
  }
 ],
 "metadata": {
  "kernelspec": {
   "display_name": "Python 3",
   "language": "python",
   "name": "python3"
  },
  "language_info": {
   "codemirror_mode": {
    "name": "ipython",
    "version": 3
   },
   "file_extension": ".py",
   "mimetype": "text/x-python",
   "name": "python",
   "nbconvert_exporter": "python",
   "pygments_lexer": "ipython3",
   "version": "3.7.9"
  }
 },
 "nbformat": 4,
 "nbformat_minor": 4
}
