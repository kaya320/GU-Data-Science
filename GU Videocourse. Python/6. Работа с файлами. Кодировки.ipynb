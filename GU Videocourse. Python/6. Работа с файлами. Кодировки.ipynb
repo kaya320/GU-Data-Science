{
 "cells": [
  {
   "cell_type": "markdown",
   "metadata": {},
   "source": [
    "#### 1. Создать модуль **music_serialize.py.**   В этом модуле определить словарь для вашей любимой музыкальной группы.  \n",
    "С помощью модулей json и pickle сериализовать данный словарь в json и в байты, вывести результаты в терминал.  \n",
    "Записать результаты в файлы group.json, group.pickle соответственно. В файле group.json указать кодировку utf-8.  "
   ]
  },
  {
   "cell_type": "code",
   "execution_count": 1,
   "metadata": {},
   "outputs": [
    {
     "name": "stdout",
     "output_type": "stream",
     "text": [
      "Overwriting music_serialize.py\n"
     ]
    }
   ],
   "source": [
    "%%writefile music_serialize.py\n",
    "\n",
    "import json\n",
    "import pickle\n",
    "\n",
    "\n",
    "my_favourite_group = {'name': 'Ludovico Einaudi',\n",
    "                      'tracks': ['Experience', 'Watereways' 'Golden Butterflies'],\n",
    "                      'albums': [{'name': 'Seven Days Walking', 'year': 2019},\n",
    "                                      {'name': 'In a Time Lapse', 'year': 2013},\n",
    "                                      {'name': 'Nightbook', 'year': 2009}]}\n",
    "\n",
    "\n",
    "j_group = json.dumps(my_favourite_group)\n",
    "print(j_group)\n",
    "\n",
    "with open('fav_group.json', 'w', encoding='utf-8') as f:\n",
    "    json.dump(my_favourite_group, f)\n",
    "    \n",
    "    \n",
    "p_group = pickle.dumps(my_favourite_group)\n",
    "print(p_group)\n",
    "\n",
    "with open('fav_group.pickle', 'wb') as f:\n",
    "    pickle.dump(my_favourite_group, f)"
   ]
  },
  {
   "cell_type": "code",
   "execution_count": 2,
   "metadata": {},
   "outputs": [
    {
     "name": "stdout",
     "output_type": "stream",
     "text": [
      "{\"name\": \"Ludovico Einaudi\", \"tracks\": [\"Experience\", \"WaterewaysGolden Butterflies\"], \"albums\": [{\"name\": \"Seven Days Walking\", \"year\": 2019}, {\"name\": \"In a Time Lapse\", \"year\": 2013}, {\"name\": \"Nightbook\", \"year\": 2009}]}\n",
      "b'\\x80\\x03}q\\x00(X\\x04\\x00\\x00\\x00nameq\\x01X\\x10\\x00\\x00\\x00Ludovico Einaudiq\\x02X\\x06\\x00\\x00\\x00tracksq\\x03]q\\x04(X\\n\\x00\\x00\\x00Experienceq\\x05X\\x1c\\x00\\x00\\x00WaterewaysGolden Butterfliesq\\x06eX\\x06\\x00\\x00\\x00albumsq\\x07]q\\x08(}q\\t(h\\x01X\\x12\\x00\\x00\\x00Seven Days Walkingq\\nX\\x04\\x00\\x00\\x00yearq\\x0bM\\xe3\\x07u}q\\x0c(h\\x01X\\x0f\\x00\\x00\\x00In a Time Lapseq\\rh\\x0bM\\xdd\\x07u}q\\x0e(h\\x01X\\t\\x00\\x00\\x00Nightbookq\\x0fh\\x0bM\\xd9\\x07ueu.'\n"
     ]
    }
   ],
   "source": [
    "import music_serialize"
   ]
  },
  {
   "cell_type": "code",
   "execution_count": 3,
   "metadata": {},
   "outputs": [
    {
     "data": {
      "text/plain": [
       "{'name': 'Ludovico Einaudi',\n",
       " 'tracks': ['Experience', 'WaterewaysGolden Butterflies'],\n",
       " 'albums': [{'name': 'Seven Days Walking', 'year': 2019},\n",
       "  {'name': 'In a Time Lapse', 'year': 2013},\n",
       "  {'name': 'Nightbook', 'year': 2009}]}"
      ]
     },
     "execution_count": 3,
     "metadata": {},
     "output_type": "execute_result"
    }
   ],
   "source": [
    "music_serialize.my_favourite_group"
   ]
  },
  {
   "cell_type": "code",
   "execution_count": 4,
   "metadata": {},
   "outputs": [
    {
     "data": {
      "text/plain": [
       "'{\"name\": \"Ludovico Einaudi\", \"tracks\": [\"Experience\", \"WaterewaysGolden Butterflies\"], \"albums\": [{\"name\": \"Seven Days Walking\", \"year\": 2019}, {\"name\": \"In a Time Lapse\", \"year\": 2013}, {\"name\": \"Nightbook\", \"year\": 2009}]}'"
      ]
     },
     "execution_count": 4,
     "metadata": {},
     "output_type": "execute_result"
    }
   ],
   "source": [
    "music_serialize.j_group"
   ]
  },
  {
   "cell_type": "code",
   "execution_count": 5,
   "metadata": {},
   "outputs": [
    {
     "data": {
      "text/plain": [
       "b'\\x80\\x03}q\\x00(X\\x04\\x00\\x00\\x00nameq\\x01X\\x10\\x00\\x00\\x00Ludovico Einaudiq\\x02X\\x06\\x00\\x00\\x00tracksq\\x03]q\\x04(X\\n\\x00\\x00\\x00Experienceq\\x05X\\x1c\\x00\\x00\\x00WaterewaysGolden Butterfliesq\\x06eX\\x06\\x00\\x00\\x00albumsq\\x07]q\\x08(}q\\t(h\\x01X\\x12\\x00\\x00\\x00Seven Days Walkingq\\nX\\x04\\x00\\x00\\x00yearq\\x0bM\\xe3\\x07u}q\\x0c(h\\x01X\\x0f\\x00\\x00\\x00In a Time Lapseq\\rh\\x0bM\\xdd\\x07u}q\\x0e(h\\x01X\\t\\x00\\x00\\x00Nightbookq\\x0fh\\x0bM\\xd9\\x07ueu.'"
      ]
     },
     "execution_count": 5,
     "metadata": {},
     "output_type": "execute_result"
    }
   ],
   "source": [
    "music_serialize.p_group"
   ]
  },
  {
   "cell_type": "markdown",
   "metadata": {},
   "source": [
    "#### 2. Создать модуль **music_deserialize.py**. В этом модуле открыть файлы group.json и group.pickle, прочитать из них информацию.  \n",
    "И получить объект: словарь из предыдущего задания."
   ]
  },
  {
   "cell_type": "code",
   "execution_count": 6,
   "metadata": {},
   "outputs": [
    {
     "name": "stdout",
     "output_type": "stream",
     "text": [
      "Overwriting music_deserialize.py\n"
     ]
    }
   ],
   "source": [
    "%%writefile music_deserialize.py\n",
    "\n",
    "import json\n",
    "import pickle\n",
    "\n",
    "with open('fav_group.json', 'r', encoding='utf-8') as f:\n",
    "    result = json.load(f)\n",
    "print(result)\n",
    "\n",
    "\n",
    "with open('fav_group.pickle', 'rb') as f:\n",
    "    result1 = pickle.load(f)\n",
    "print(result1)"
   ]
  },
  {
   "cell_type": "code",
   "execution_count": 7,
   "metadata": {},
   "outputs": [
    {
     "name": "stdout",
     "output_type": "stream",
     "text": [
      "{'name': 'Ludovico Einaudi', 'tracks': ['Experience', 'WaterewaysGolden Butterflies'], 'albums': [{'name': 'Seven Days Walking', 'year': 2019}, {'name': 'In a Time Lapse', 'year': 2013}, {'name': 'Nightbook', 'year': 2009}]}\n",
      "{'name': 'Ludovico Einaudi', 'tracks': ['Experience', 'WaterewaysGolden Butterflies'], 'albums': [{'name': 'Seven Days Walking', 'year': 2019}, {'name': 'In a Time Lapse', 'year': 2013}, {'name': 'Nightbook', 'year': 2009}]}\n"
     ]
    }
   ],
   "source": [
    "import music_deserialize"
   ]
  },
  {
   "cell_type": "code",
   "execution_count": 8,
   "metadata": {},
   "outputs": [
    {
     "data": {
      "text/plain": [
       "{'name': 'Ludovico Einaudi',\n",
       " 'tracks': ['Experience', 'WaterewaysGolden Butterflies'],\n",
       " 'albums': [{'name': 'Seven Days Walking', 'year': 2019},\n",
       "  {'name': 'In a Time Lapse', 'year': 2013},\n",
       "  {'name': 'Nightbook', 'year': 2009}]}"
      ]
     },
     "execution_count": 8,
     "metadata": {},
     "output_type": "execute_result"
    }
   ],
   "source": [
    "music_deserialize.result"
   ]
  },
  {
   "cell_type": "code",
   "execution_count": 9,
   "metadata": {},
   "outputs": [
    {
     "data": {
      "text/plain": [
       "{'name': 'Ludovico Einaudi',\n",
       " 'tracks': ['Experience', 'WaterewaysGolden Butterflies'],\n",
       " 'albums': [{'name': 'Seven Days Walking', 'year': 2019},\n",
       "  {'name': 'In a Time Lapse', 'year': 2013},\n",
       "  {'name': 'Nightbook', 'year': 2009}]}"
      ]
     },
     "execution_count": 9,
     "metadata": {},
     "output_type": "execute_result"
    }
   ],
   "source": [
    "music_deserialize.result1"
   ]
  },
  {
   "cell_type": "code",
   "execution_count": null,
   "metadata": {},
   "outputs": [],
   "source": []
  }
 ],
 "metadata": {
  "kernelspec": {
   "display_name": "Python 3",
   "language": "python",
   "name": "python3"
  },
  "language_info": {
   "codemirror_mode": {
    "name": "ipython",
    "version": 3
   },
   "file_extension": ".py",
   "mimetype": "text/x-python",
   "name": "python",
   "nbconvert_exporter": "python",
   "pygments_lexer": "ipython3",
   "version": "3.7.9"
  }
 },
 "nbformat": 4,
 "nbformat_minor": 4
}
