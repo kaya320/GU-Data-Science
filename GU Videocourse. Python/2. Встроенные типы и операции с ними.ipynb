{
 "cells": [
  {
   "cell_type": "markdown",
   "metadata": {},
   "source": [
    "## №1.\n",
    "Даны два произвольные списка. Удалите из первого списка элементы присутствующие во втором списке."
   ]
  },
  {
   "cell_type": "code",
   "execution_count": 1,
   "metadata": {},
   "outputs": [
    {
     "name": "stdout",
     "output_type": "stream",
     "text": [
      "{2, 132, 100, 11, 25}\n"
     ]
    }
   ],
   "source": [
    "my_list_1 = [1, 2, 10, 11, 25, 100, 132]\n",
    "my_list_2 = [1, 3, 10, 14]\n",
    "\n",
    "my_list_1 = set(my_list_1)\n",
    "my_list_2 = set(my_list_2)\n",
    "\n",
    "same_numbers = (my_list_1 & my_list_2) #and\n",
    "\n",
    "print(my_list_1 - same_numbers)"
   ]
  },
  {
   "cell_type": "code",
   "execution_count": 2,
   "metadata": {},
   "outputs": [
    {
     "name": "stdout",
     "output_type": "stream",
     "text": [
      "[2, 132, 100, 11, 25]\n"
     ]
    }
   ],
   "source": [
    "a = [1, 2, 10, 11, 25, 100, 132]\n",
    "b = [1, 3, 10, 14]\n",
    "\n",
    "result = set(a) - set(b)\n",
    "print(list(result))"
   ]
  },
  {
   "cell_type": "code",
   "execution_count": 3,
   "metadata": {},
   "outputs": [
    {
     "name": "stdout",
     "output_type": "stream",
     "text": [
      "[2, 11, 25, 100, 132]\n"
     ]
    }
   ],
   "source": [
    "a = [1, 2, 10, 11, 25, 100, 132]\n",
    "b = [1, 3, 10, 14]\n",
    "\n",
    "for i in a:\n",
    "    if i in b:\n",
    "        a.remove(i)\n",
    "\n",
    "print(a)"
   ]
  },
  {
   "cell_type": "markdown",
   "metadata": {},
   "source": [
    "##  №2.\n",
    "Дана дата в формате dd.mm.yyyy, например: 02.11.2013. Ваша задача — вывести дату в текстовом виде, например: второе ноября 2013 года. Склонением пренебречь (2000 года, 2010 года)"
   ]
  },
  {
   "cell_type": "code",
   "execution_count": 4,
   "metadata": {},
   "outputs": [
    {
     "name": "stdout",
     "output_type": "stream",
     "text": [
      "02 11 2013\n",
      "второе ноября 2013 года.\n"
     ]
    }
   ],
   "source": [
    "date = '02.11.2013'\n",
    "\n",
    "d, m, y = date.split ('.')\n",
    "\n",
    "print(d, m, y)\n",
    "\n",
    "months = {\n",
    "    '01': 'января', '11': 'ноября'\n",
    "}\n",
    "\n",
    "days = {\n",
    "    '01': 'первое',  '02': 'второе',\n",
    "}\n",
    "\n",
    "result = f'{days[d]} {months[m]} {y} года.'\n",
    "print (result)"
   ]
  },
  {
   "cell_type": "code",
   "execution_count": 5,
   "metadata": {},
   "outputs": [
    {
     "name": "stdout",
     "output_type": "stream",
     "text": [
      "Введите дату в формате dd.mm.yyyy : 20.03.93\n",
      "Ваша дата прописью: двадцатое марта 93 года\n"
     ]
    }
   ],
   "source": [
    "date = input('Введите дату в формате dd.mm.yyyy : ')\n",
    "\n",
    "days_dict = {'01': 'первое',  '02': 'второе', '03': 'третье', '04': 'четвертое', '05': 'пятое', '06': 'шестое', '07': 'седьмое',\n",
    "             '08': 'восьмое', '09': 'девятое', '10': 'десятое', '11': 'одиннадцатое', '12': 'двенадцатое', '13': 'тринадцатое',\n",
    "             '14': 'четырнадцатое', '15': 'пятнадцатое', '16': 'шестнадцатое', '17': 'семнадцатое', '18': 'восемнадцатое',\n",
    "             '19': 'девятнадцатое', '20': 'двадцатое', '21': 'двадцать первое', '22': 'двадцать второе', '23': 'двадцать третье',\n",
    "             '24': 'двадцать четвертое','25': 'двадцать пятое', '26': 'двадцать шестое', '27': 'двадцать седьмое',\n",
    "             '28': 'двадцать восьмое', '29': 'двадцать девятое', '30': 'тридцатое', '31': 'тридцать первое'}\n",
    "\n",
    "months_dict = {'01': 'января', '02': 'февраля', '03': 'марта', '04': 'апреля', '05': 'мая', '06': 'июня', '07': 'июля',\n",
    "               '08': 'августа', '09': 'сентября', '10': 'октября', '11': 'ноября','12': 'декабря'}\n",
    "\n",
    "date_list = list(date.split('.'))\n",
    "day = date_list[0]\n",
    "month = date_list[1]\n",
    "year = date_list[2]\n",
    "print('Ваша дата прописью: {} {} {} года'.format(days_dict[day], months_dict[month], year))"
   ]
  },
  {
   "cell_type": "markdown",
   "metadata": {},
   "source": [
    "##  №3.\n",
    "Дан список заполненный произвольными целыми числами. Получите новый список, элементами которого будут только уникальные элементы исходного."
   ]
  },
  {
   "cell_type": "code",
   "execution_count": 6,
   "metadata": {},
   "outputs": [
    {
     "name": "stdout",
     "output_type": "stream",
     "text": [
      "[2, 5, 7]\n"
     ]
    }
   ],
   "source": [
    "numbers = [1, 1, 2, 3, 3, 4, 4, 4, 4, 5, 7]\n",
    "\n",
    "result = []\n",
    "for number in numbers:\n",
    "    if numbers.count(number) == 1:\n",
    "        result.append(number)\n",
    "\n",
    "print(result)"
   ]
  },
  {
   "cell_type": "code",
   "execution_count": null,
   "metadata": {},
   "outputs": [],
   "source": []
  }
 ],
 "metadata": {
  "kernelspec": {
   "display_name": "Python 3",
   "language": "python",
   "name": "python3"
  },
  "language_info": {
   "codemirror_mode": {
    "name": "ipython",
    "version": 3
   },
   "file_extension": ".py",
   "mimetype": "text/x-python",
   "name": "python",
   "nbconvert_exporter": "python",
   "pygments_lexer": "ipython3",
   "version": "3.7.9"
  }
 },
 "nbformat": 4,
 "nbformat_minor": 4
}
