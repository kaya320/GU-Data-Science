{
 "cells": [
  {
   "cell_type": "markdown",
   "metadata": {},
   "source": [
    "### __1.__ Представьте в виде __несократимой__ рациональной дроби:\n",
    "\n",
    "### $$а)\\,\\,\\, 0.(216);$$"
   ]
  },
  {
   "cell_type": "markdown",
   "metadata": {},
   "source": [
    "$a=0.(216)$\n",
    "\n",
    "$1000a=216.(216)$\n",
    "\n",
    "$1000a=216+0.(216)$\n",
    "\n",
    "$1000a=216+a$\n",
    "\n",
    "$999a=216$\n",
    "\n",
    "$a=\\frac{216}{999}=\\frac{24}{111}$\n",
    "\n",
    "$0.(216)=\\frac{24}{111}$\n",
    "\n",
    "$0.(216)=\\frac{8}{37}$"
   ]
  },
  {
   "cell_type": "code",
   "execution_count": 1,
   "metadata": {},
   "outputs": [
    {
     "name": "stdout",
     "output_type": "stream",
     "text": [
      "0.21621621621621623\n"
     ]
    }
   ],
   "source": [
    "print (8/37)"
   ]
  },
  {
   "cell_type": "markdown",
   "metadata": {},
   "source": [
    "### $$б)\\,\\,\\, 1.0(01).$$ "
   ]
  },
  {
   "cell_type": "markdown",
   "metadata": {},
   "source": [
    "$a=0.(01)$\n",
    "\n",
    "$100a=01.(01)$\n",
    "\n",
    "$100a=1+0.(01)$\n",
    "\n",
    "$100a=1+a$\n",
    "\n",
    "$99a=1$\n",
    "\n",
    "$a=\\frac{1}{99}$"
   ]
  },
  {
   "cell_type": "markdown",
   "metadata": {},
   "source": [
    "$b=1.0(01)$\n",
    "\n",
    "$10b=10.(01)$\n",
    "\n",
    "$10b=10+0.(01)$\n",
    "\n",
    "$10b=10+\\frac{1}{99}$\n",
    "\n",
    "$10b=\\frac{991}{99}$\n",
    "\n",
    "$b=\\frac{991}{990}$"
   ]
  },
  {
   "cell_type": "code",
   "execution_count": 2,
   "metadata": {},
   "outputs": [
    {
     "name": "stdout",
     "output_type": "stream",
     "text": [
      "1.001010101010101\n"
     ]
    }
   ],
   "source": [
    "print (991/990)"
   ]
  },
  {
   "cell_type": "markdown",
   "metadata": {},
   "source": [
    "### __2*.__ Пусть $x =\\frac{2}{21}$. Известно, что для некоторого натурального $k$ число $x$ записывается в $k$ - ичной системе счисления как $0.(13)_k = 0, 131313_k$. Найдите $k$."
   ]
  },
  {
   "cell_type": "markdown",
   "metadata": {},
   "source": [
    "Решение:\n",
    "\n",
    "### $$x=0.(13)_k$$\n",
    "\n",
    "Чтобы сместить два разряда, нужно умножить два раза на $k$\n",
    "\n",
    "### $$k^2x=13.(13)_k$$\n",
    "\n",
    "### $$k^2x=13_k+0.(13)_k$$\n",
    "\n",
    "### $$k^2x=13_k+x$$\n",
    "\n",
    "### $$k^2x-x=13_k$$\n",
    "\n",
    "### $$(k^2-1)x=13_k$$\n",
    "\n",
    "### $$x=\\frac{13_k}{k^2-1}$$\n",
    "\n",
    "### $$x=\\frac{1\\cdot k^1+3\\cdot k^0}{k^2-1}$$\n",
    "\n",
    "### $$x=\\frac{k+3}{k^2-1}$$\n",
    "\n",
    "### $$\\frac{2}{21}=\\frac{k+3}{k^2-1}$$\n",
    "\n",
    "### $$2k^2-2=21k+63$$\n",
    "\n",
    "### $$2k^2-21k-65=0$$\n",
    "\n",
    "### $$k_1=-2.5\\,\\,\\,\\,\\,k_2=13$$\n",
    "\n",
    "### Ответ: $k=13$"
   ]
  },
  {
   "cell_type": "markdown",
   "metadata": {},
   "source": [
    "### __3.__ Проверьте любым способ, является ли данные логические формулы тавтологией:\n",
    "\n",
    "### $$a)\\,\\,\\, (A \\vee B) \\rightarrow (B \\vee\\overline A)$$"
   ]
  },
  {
   "cell_type": "markdown",
   "metadata": {},
   "source": [
    " Решим с помощью таблицы истинности:\n",
    " \n",
    " <table>\n",
    "<thead>\n",
    "<tr><th>$A$</th><th>$B$</th><th>$A\\vee B$</th><th>$\\overline A$</th><th>$B\\vee \\overline A$</th><th>$(A \\vee B) \\rightarrow (B \\vee\\overline A)$</th></tr>\n",
    "</thead>\n",
    "<tbody>\n",
    "    <tr><td>$0$</td><td>$0$</td><td>$0$</td><td>$1$</td><td>$1$</td><td>$1$</td></tr>\n",
    "    <tr><td>$0$</td><td>$1$</td><td>$1$</td><td>$1$</td><td>$1$</td><td>$1$</td></tr>\n",
    "    <tr><td>$1$</td><td>$0$</td><td>$1$</td><td>$0$</td><td>$0$</td><td>$0$</td></tr>\n",
    "    <tr><td>$1$</td><td>$1$</td><td>$1$</td><td>$0$</td><td>$1$</td><td>$1$</td></tr>\n",
    "</tbody>\n",
    "</table>\n",
    "\n",
    "Не является "
   ]
  },
  {
   "cell_type": "markdown",
   "metadata": {},
   "source": [
    "### $$б)\\,\\,\\, A \\rightarrow (A \\vee (\\overline B \\wedge A))$$"
   ]
  },
  {
   "cell_type": "markdown",
   "metadata": {},
   "source": [
    "### $$\\ A \\rightarrow (A \\vee (\\overline B \\wedge A))=$$\n",
    "### $$\\ A \\rightarrow (A \\vee \\overline B) \\wedge (A \\vee A)=$$\n",
    "\n",
    "### $$\\ A \\rightarrow (A \\vee \\overline B) \\wedge A=$$\n",
    "### $$\\ A \\rightarrow A \\wedge (A \\vee \\overline B)=$$\n",
    "### $$\\ A \\rightarrow A$$\n",
    "\n",
    "Является"
   ]
  },
  {
   "cell_type": "markdown",
   "metadata": {},
   "source": [
    "<table>\n",
    "<thead>\n",
    "<tr><th>$A$</th><th>$B$</th><th>$\\overline B$</th><th>$(\\overline B \\wedge A)$</th><th>$(A \\vee (\\overline B \\wedge A))$</th><th>$A \\rightarrow (A \\vee (\\overline B \\wedge A))$</th></tr>\n",
    "</thead>\n",
    "<tbody>\n",
    "    <tr><td>$0$</td><td>$0$</td><td>$1$</td><td>$0$</td><td>$0$</td><td>$1$</td></tr>\n",
    "    <tr><td>$0$</td><td>$1$</td><td>$0$</td><td>$0$</td><td>$0$</td><td>$1$</td></tr>\n",
    "    <tr><td>$1$</td><td>$0$</td><td>$1$</td><td>$1$</td><td>$1$</td><td>$1$</td></tr>\n",
    "    <tr><td>$1$</td><td>$1$</td><td>$0$</td><td>$0$</td><td>$1$</td><td>$1$</td></tr>\n",
    "</tbody>\n",
    "</table>"
   ]
  },
  {
   "cell_type": "markdown",
   "metadata": {},
   "source": [
    "### __4.__ Сформулируйте словесно высказывания:\n",
    "### $$a)\\,\\,\\, (\\overline A \\vee B) \\rightarrow \\overline C$$\n",
    "### $$б)\\,\\,\\, C \\rightarrow (A \\vee \\overline B)$$\n",
    "\n",
    "- $A:\\,\\,\\,$ сегодня светит солнце; \n",
    "- $B:\\,\\,\\,$ сегодня сыро; \n",
    "- $C:\\,\\,\\,$ я поеду на дачу. "
   ]
  },
  {
   "cell_type": "markdown",
   "metadata": {},
   "source": [
    "### $$a)\\,\\,\\, (\\overline A \\vee B) \\rightarrow \\overline C$$\n",
    "\n",
    "#### Если сегодня не светит солнце или сегодня сыро, то я не поеду на дачу"
   ]
  },
  {
   "cell_type": "markdown",
   "metadata": {},
   "source": [
    "### $$б)\\,\\,\\, C \\rightarrow (A \\vee \\overline B)$$\n",
    "\n",
    "#### Если я поеду на дачу, то значит сегодня светит солнце или сегодня не сыро"
   ]
  },
  {
   "cell_type": "markdown",
   "metadata": {},
   "source": [
    "### __5.__  Пользуясь правилом построения противоположного высказывания, запишите утверждения, противоположные следующим:\n",
    "\n",
    "a) На любом курсе каждого факультета есть студенты, сдающие все экзамены на «отлично».\n",
    "\n",
    "б) В любом самолете на рейсе Вашингтон-Москва присутствует хотя бы один сотрудник силовых органов, в каждой пуговице одежды которого вмонтирован микрофон."
   ]
  },
  {
   "cell_type": "markdown",
   "metadata": {},
   "source": [
    "#### $\\forall$ курсе $\\forall$ факультета $\\exists$ студенты, __сдающие__ $\\forall$ экзамены на «отлично».\n",
    "\n",
    "#### $\\exists$ курсе $\\exists$ факультета $\\forall$ студенты, __не сдающие__ $\\exists$ экзамены на «отлично»."
   ]
  },
  {
   "cell_type": "markdown",
   "metadata": {},
   "source": [
    "Существует факультет, на котором есть такой курс, что любые студенты не сдают хотя бы один экзамен на «отлично»."
   ]
  },
  {
   "cell_type": "markdown",
   "metadata": {},
   "source": [
    "####  $\\forall$ самолете на рейсе Вашингтон-Москва $\\exists$ сотрудник силовых органов,  $\\forall$ пуговице одежды которого вмонтирован микрофон.\n",
    "\n",
    "#### $\\exists$ самолете на рейсе Вашингтон-Москва  $\\forall$ сотрудник силовых органов, $\\exists$ пуговице одежды которого не вмонтирован микрофон."
   ]
  },
  {
   "cell_type": "markdown",
   "metadata": {},
   "source": [
    "На рейсе Вашингтон-Москва найдутся самолеты, где у каждого сотрудника силовых органов по крайней мере в одной пуговице на одежде не вмонтирован микрофон."
   ]
  },
  {
   "cell_type": "markdown",
   "metadata": {},
   "source": [
    "### __6*.__ Прочитайте высказывания, установите их истинность и постройте отрицания:\n",
    "\n",
    "### $$a)\\,\\,\\, \\forall x\\in\\mathbb{R}\\,\\,\\,\\exists X\\in\\mathbb{R}:\\,\\,\\, X>x;$$"
   ]
  },
  {
   "cell_type": "markdown",
   "metadata": {},
   "source": [
    "#### Для любого вещественного числа x из множества действительных чисел существует такое число X, что оно будет больше этого числа\n",
    "\n",
    "#### Высказывание истинно"
   ]
  },
  {
   "cell_type": "markdown",
   "metadata": {},
   "source": [
    "Отрицание: \n",
    "\n",
    "### $$a)\\,\\,\\, \\exists x\\in\\mathbb{R}\\,\\,\\,\\forall X\\in\\mathbb{R}:\\,\\,\\, X<=x;$$"
   ]
  }
 ],
 "metadata": {
  "kernelspec": {
   "display_name": "Python 3",
   "language": "python",
   "name": "python3"
  },
  "language_info": {
   "codemirror_mode": {
    "name": "ipython",
    "version": 3
   },
   "file_extension": ".py",
   "mimetype": "text/x-python",
   "name": "python",
   "nbconvert_exporter": "python",
   "pygments_lexer": "ipython3",
   "version": "3.7.4"
  }
 },
 "nbformat": 4,
 "nbformat_minor": 4
}
