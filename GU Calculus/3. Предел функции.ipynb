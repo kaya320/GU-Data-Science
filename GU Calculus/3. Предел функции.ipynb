{
 "cells": [
  {
   "cell_type": "markdown",
   "metadata": {},
   "source": [
    "__1.__ Найти предел последовательности:\n",
    "\n",
    "### $$а)\\,\\,\\,\\,\\lim_{x\\to 6} \\frac{x^2-36}{x^2-x-30}$$\n",
    "\n",
    "Решение\n",
    "\n",
    "### $$\\lim_{x\\to 6} \\frac{x^2-36}{x^2-x-30}=\\Bigl(\\frac{0}{0}\\Bigr)=$$\n",
    "\n",
    "### $$=\\lim_{x\\to 6} \\frac{(x-6)(x+6)}{(x-6)(x+5)}=$$\n",
    "\n",
    "### $$=\\lim_{x\\to 6} \\frac{x+6}{x+5}=\\frac{6+6}{6+5}=\\frac{12}{11}$$"
   ]
  },
  {
   "cell_type": "markdown",
   "metadata": {},
   "source": [
    "### $$б)\\,\\,\\,\\,\\lim_{x\\to 7} \\frac{x^2-49}{x^2-13x+42}$$\n",
    "\n",
    "Решение\n",
    "\n",
    "### $$\\lim_{x\\to 7} \\frac{x^2-49}{x^2-13x+42}=\\Bigl(\\frac{0}{0}\\Bigr)=$$\n",
    "\n",
    "### $$=\\lim_{x\\to 7} \\frac{(x-7)(x+7)}{(x-7)(x-6)}=$$\n",
    "\n",
    "### $$=\\lim_{x\\to 7} \\frac{x+7}{x-6}=\\frac{7+7}{7-6}=14$$"
   ]
  },
  {
   "cell_type": "markdown",
   "metadata": {},
   "source": [
    "### $$г)\\,\\,\\,\\,\\lim_{x\\to 0} \\frac{3x\\,\\mbox{tg}\\,4x}{1-\\cos4x}$$\n",
    "\n",
    "Решение\n",
    "\n",
    "### $$\\lim_{x\\to 0} \\frac{3x\\,\\mbox{tg}\\,4x}{1-\\cos4x}=\\Bigl(\\frac{0}{0}\\Bigr)=$$\n",
    "\n",
    "### $$=\\lim_{x\\to 0} \\frac{3x\\cdot4x}{\\frac{16x^2}{2}}=\\frac{3\\cdot4}{8}=\\frac{3}{2}$$"
   ]
  },
  {
   "cell_type": "markdown",
   "metadata": {},
   "source": [
    "### $$д^{**})\\,\\,\\,\\,\\lim_{x\\to 0} \\frac{\\sqrt2x^2\\sin4x}{(1-\\cos2x)^{\\frac{3}{2}}}$$\n",
    "\n",
    "\n",
    "Решение\n",
    "\n",
    "### $$\\lim_{x\\to 0} \\frac{\\sqrt2x^2\\sin4x}{(1-\\cos2x)^{\\frac{3}{2}}}=\\Bigl(\\frac{0}{0}\\Bigr)=$$\n",
    "\n",
    "### $$=\\lim_{x\\to 0} \\frac{\\sqrt2x^2\\cdot4x}{\\Bigl(\\frac{4x^2}{2}\\Bigr)^{\\frac{3}{2}}}=$$\n",
    "\n",
    "### $$=\\lim_{x\\to 0} \\frac{\\sqrt2x^2\\cdot4x}{\\sqrt{8x^6}}=$$\n",
    "\n",
    "### $$=\\lim_{x\\to 0} \\frac{4\\sqrt2x^3}{2\\sqrt{2}|x^3|}=\\pm2$$\n",
    "\n",
    "Если предел в точке существует, то он единственный. Поэтому в этом примере предела в точке не существует."
   ]
  }
 ],
 "metadata": {
  "kernelspec": {
   "display_name": "Python 3",
   "language": "python",
   "name": "python3"
  },
  "language_info": {
   "codemirror_mode": {
    "name": "ipython",
    "version": 3
   },
   "file_extension": ".py",
   "mimetype": "text/x-python",
   "name": "python",
   "nbconvert_exporter": "python",
   "pygments_lexer": "ipython3",
   "version": "3.7.4"
  }
 },
 "nbformat": 4,
 "nbformat_minor": 4
}
