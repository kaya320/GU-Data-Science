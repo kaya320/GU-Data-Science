{
 "cells": [
  {
   "cell_type": "markdown",
   "metadata": {},
   "source": [
    "## Задание\n",
    "Необходимо собрать информацию о вакансиях на вводимую должность (используем input или через аргументы) с сайтов Superjob и HH. Приложение должно анализировать несколько страниц сайта (также вводим через input или аргументы). Получившийся список должен содержать в себе минимум:\n",
    "* Наименование вакансии.\n",
    "* Предлагаемую зарплату (отдельно минимальную, максимальную и валюту).\n",
    "* Ссылку на саму вакансию.\n",
    "* Сайт, откуда собрана вакансия.\n",
    "\n",
    "По желанию можно добавить ещё параметры вакансии (например, работодателя и расположение). Структура должна быть одинаковая для вакансий с обоих сайтов. Общий результат можно вывести с помощью dataFrame через pandas."
   ]
  },
  {
   "cell_type": "code",
   "execution_count": 1,
   "metadata": {},
   "outputs": [],
   "source": [
    "from bs4 import BeautifulSoup as bs\n",
    "import requests\n",
    "import pandas as pd"
   ]
  },
  {
   "cell_type": "code",
   "execution_count": 2,
   "metadata": {},
   "outputs": [],
   "source": [
    "def check_vacancy(job, city):\n",
    "    main_link = 'https://hh.ru'\n",
    "    header = {'User-Agent': 'Mozilla/5.0 (Macintosh; Intel Mac OS X 11_2_3) AppleWebKit/537.36 (KHTML, like Gecko) \\\n",
    "        Chrome/89.0.4389.90 Safari/537.36'}\n",
    "    link = f'{main_link}/search/vacancy/'\n",
    "    params = {'clusters': 'true', 'enable_snippets': 'true', 'text': {job}, 'L_save_area': 'true', 'area': {city},\n",
    "              'showClusters': 'true'}\n",
    "\n",
    "    result = []\n",
    "    while True:\n",
    "        response = requests.get(link, headers=header, params=params)\n",
    "        soup = bs(response.text, 'html.parser')\n",
    "\n",
    "        if response.ok:\n",
    "            vacancy_list = soup.find_all('div', {'class': 'vacancy-serp-item'})\n",
    "            for i in vacancy_list:\n",
    "                data = {}\n",
    "\n",
    "                # title\n",
    "                vacancy_title = i.find('a', {'data-qa': 'vacancy-serp__vacancy-title'})\n",
    "                title = vacancy_title.text\n",
    "                data['title'] = title\n",
    "\n",
    "                # vacancy url_link\n",
    "                data['link'] = vacancy_title['href']\n",
    "\n",
    "                # city\n",
    "                data['city'] = i.find('span', {'data-qa': 'vacancy-serp__vacancy-address'}).text\n",
    "\n",
    "                # company name\n",
    "                company_name = i.find('div', {'class': 'vacancy-serp-item__meta-info'}).find('a').getText() \\\n",
    "                    .replace(u'\\xa0', u'')\n",
    "                data['company_name'] = company_name\n",
    "\n",
    "                # metro\n",
    "                metro_station = i.find('span', {'class': 'vacancy-serp-item__meta-info'}).findChild()\n",
    "                if not metro_station:\n",
    "                    metro_station = None\n",
    "                else:\n",
    "                    metro_station = metro_station.getText()\n",
    "                data['metro_station'] = metro_station\n",
    "\n",
    "                # salary\n",
    "                vacancy_salary = i.find('span', {'data-qa': 'vacancy-serp__vacancy-compensation'})\n",
    "                vacancy_min = None\n",
    "                vacancy_max = None\n",
    "                vacancy_currency = None\n",
    "\n",
    "                if vacancy_salary is not None:\n",
    "                    vacancy_salary = vacancy_salary.getText().replace('\\u202f', '')\n",
    "                    vacancy_currency = vacancy_salary.split()[-1]\n",
    "\n",
    "                    if vacancy_salary.find('–') > -1:\n",
    "                        vacancy_min = int(vacancy_salary.split()[0])\n",
    "                        vacancy_max = int(vacancy_salary.split()[2])\n",
    "                    elif vacancy_salary.find('от'):\n",
    "                        vacancy_min = int(vacancy_salary.split()[1])\n",
    "                    elif vacancy_salary.find('до'):\n",
    "                        vacancy_max = int(vacancy_salary.split()[1])\n",
    "\n",
    "                data['salary_min'] = vacancy_min\n",
    "                data['salary_max'] = vacancy_max\n",
    "                data['salary_currency'] = vacancy_currency\n",
    "\n",
    "                result.append(data)\n",
    "                next_page = soup.find('a', {'data-qa': 'pager-next'})\n",
    "\n",
    "            if next_page is not None:\n",
    "                pass\n",
    "            else:\n",
    "                break\n",
    "            params = next_page['href']\n",
    "\n",
    "    return result"
   ]
  },
  {
   "cell_type": "code",
   "execution_count": 3,
   "metadata": {},
   "outputs": [],
   "source": [
    "def parser_vacancy(job, city):       \n",
    "    v = []\n",
    "    v.extend(check_vacancy(job, city))\n",
    "    \n",
    "    df = pd.DataFrame(v)\n",
    "\n",
    "    return df"
   ]
  },
  {
   "cell_type": "code",
   "execution_count": 4,
   "metadata": {},
   "outputs": [],
   "source": [
    "def vacancy_count(job, city):\n",
    "    v = []\n",
    "    v.extend(check_vacancy(job, city))\n",
    "    \n",
    "    df = pd.DataFrame(v)\n",
    "\n",
    "    return f'Количество вакансий {job} - {df.shape[0]}'"
   ]
  },
  {
   "cell_type": "code",
   "execution_count": 5,
   "metadata": {},
   "outputs": [
    {
     "data": {
      "text/plain": [
       "'Количество вакансий product manager - 2000'"
      ]
     },
     "execution_count": 5,
     "metadata": {},
     "output_type": "execute_result"
    }
   ],
   "source": [
    "vacancy_count('product manager', 1)"
   ]
  },
  {
   "cell_type": "code",
   "execution_count": 6,
   "metadata": {},
   "outputs": [
    {
     "data": {
      "text/plain": [
       "'Количество вакансий product owner - 591'"
      ]
     },
     "execution_count": 6,
     "metadata": {},
     "output_type": "execute_result"
    }
   ],
   "source": [
    "vacancy_count('product owner', 1)"
   ]
  },
  {
   "cell_type": "code",
   "execution_count": 7,
   "metadata": {},
   "outputs": [
    {
     "data": {
      "text/plain": [
       "'Количество вакансий product analyst - 1023'"
      ]
     },
     "execution_count": 7,
     "metadata": {},
     "output_type": "execute_result"
    }
   ],
   "source": [
    "vacancy_count('product analyst', 1)"
   ]
  },
  {
   "cell_type": "code",
   "execution_count": 8,
   "metadata": {},
   "outputs": [
    {
     "data": {
      "text/plain": [
       "'Количество вакансий data analyst - 1625'"
      ]
     },
     "execution_count": 8,
     "metadata": {},
     "output_type": "execute_result"
    }
   ],
   "source": [
    "vacancy_count('data analyst', 1)"
   ]
  },
  {
   "cell_type": "code",
   "execution_count": 9,
   "metadata": {},
   "outputs": [
    {
     "data": {
      "text/plain": [
       "'Количество вакансий data scientist - 348'"
      ]
     },
     "execution_count": 9,
     "metadata": {},
     "output_type": "execute_result"
    }
   ],
   "source": [
    "vacancy_count('data scientist', 1)"
   ]
  },
  {
   "cell_type": "code",
   "execution_count": 10,
   "metadata": {},
   "outputs": [
    {
     "data": {
      "text/html": [
       "<div>\n",
       "<style scoped>\n",
       "    .dataframe tbody tr th:only-of-type {\n",
       "        vertical-align: middle;\n",
       "    }\n",
       "\n",
       "    .dataframe tbody tr th {\n",
       "        vertical-align: top;\n",
       "    }\n",
       "\n",
       "    .dataframe thead th {\n",
       "        text-align: right;\n",
       "    }\n",
       "</style>\n",
       "<table border=\"1\" class=\"dataframe\">\n",
       "  <thead>\n",
       "    <tr style=\"text-align: right;\">\n",
       "      <th></th>\n",
       "      <th>title</th>\n",
       "      <th>link</th>\n",
       "      <th>city</th>\n",
       "      <th>company_name</th>\n",
       "      <th>metro_station</th>\n",
       "      <th>salary_min</th>\n",
       "      <th>salary_max</th>\n",
       "      <th>salary_currency</th>\n",
       "    </tr>\n",
       "  </thead>\n",
       "  <tbody>\n",
       "    <tr>\n",
       "      <th>0</th>\n",
       "      <td>Lead Product Manager</td>\n",
       "      <td>https://hh.ru/vacancy/43394185</td>\n",
       "      <td>Москва</td>\n",
       "      <td>Scalable Solutions</td>\n",
       "      <td>None</td>\n",
       "      <td>300000.0</td>\n",
       "      <td>450000.0</td>\n",
       "      <td>руб.</td>\n",
       "    </tr>\n",
       "    <tr>\n",
       "      <th>1</th>\n",
       "      <td>Senior Product Analyst</td>\n",
       "      <td>https://hh.ru/vacancy/40375714</td>\n",
       "      <td>Москва</td>\n",
       "      <td>FunCorp</td>\n",
       "      <td>None</td>\n",
       "      <td>250000.0</td>\n",
       "      <td>350000.0</td>\n",
       "      <td>руб.</td>\n",
       "    </tr>\n",
       "    <tr>\n",
       "      <th>2</th>\n",
       "      <td>Product Manager</td>\n",
       "      <td>https://hh.ru/vacancy/42277954</td>\n",
       "      <td>Москва</td>\n",
       "      <td>Scalable Solutions</td>\n",
       "      <td>None</td>\n",
       "      <td>200000.0</td>\n",
       "      <td>300000.0</td>\n",
       "      <td>руб.</td>\n",
       "    </tr>\n",
       "    <tr>\n",
       "      <th>3</th>\n",
       "      <td>Product manager</td>\n",
       "      <td>https://hh.ru/vacancy/43704280</td>\n",
       "      <td>Москва</td>\n",
       "      <td>Silverbird</td>\n",
       "      <td>None</td>\n",
       "      <td>200000.0</td>\n",
       "      <td>320000.0</td>\n",
       "      <td>руб.</td>\n",
       "    </tr>\n",
       "    <tr>\n",
       "      <th>4</th>\n",
       "      <td>Product Manager (CryptoProcessing)</td>\n",
       "      <td>https://hh.ru/vacancy/43908772</td>\n",
       "      <td>Москва</td>\n",
       "      <td>Unlimint</td>\n",
       "      <td>None</td>\n",
       "      <td>NaN</td>\n",
       "      <td>250000.0</td>\n",
       "      <td>руб.</td>\n",
       "    </tr>\n",
       "    <tr>\n",
       "      <th>...</th>\n",
       "      <td>...</td>\n",
       "      <td>...</td>\n",
       "      <td>...</td>\n",
       "      <td>...</td>\n",
       "      <td>...</td>\n",
       "      <td>...</td>\n",
       "      <td>...</td>\n",
       "      <td>...</td>\n",
       "    </tr>\n",
       "    <tr>\n",
       "      <th>1018</th>\n",
       "      <td>Developer (JS)</td>\n",
       "      <td>https://hh.ru/vacancy/42783578</td>\n",
       "      <td>Москва</td>\n",
       "      <td>CUSTOMERTIMES</td>\n",
       "      <td>None</td>\n",
       "      <td>NaN</td>\n",
       "      <td>NaN</td>\n",
       "      <td>None</td>\n",
       "    </tr>\n",
       "    <tr>\n",
       "      <th>1019</th>\n",
       "      <td>Technical Lead в Data Science-команду/ML Engineer</td>\n",
       "      <td>https://hh.ru/vacancy/42775724</td>\n",
       "      <td>Москва</td>\n",
       "      <td>«РОСБАНК, Societe Generale Group», с опытом ра...</td>\n",
       "      <td>None</td>\n",
       "      <td>NaN</td>\n",
       "      <td>NaN</td>\n",
       "      <td>None</td>\n",
       "    </tr>\n",
       "    <tr>\n",
       "      <th>1020</th>\n",
       "      <td>Head of User Acquisition / Руководитель группы...</td>\n",
       "      <td>https://hh.ru/vacancy/43180207</td>\n",
       "      <td>Москва</td>\n",
       "      <td>ProductStar</td>\n",
       "      <td>None</td>\n",
       "      <td>150000.0</td>\n",
       "      <td>200000.0</td>\n",
       "      <td>руб.</td>\n",
       "    </tr>\n",
       "    <tr>\n",
       "      <th>1021</th>\n",
       "      <td>Специалист поддержки автоматизированной банков...</td>\n",
       "      <td>https://hh.ru/vacancy/43166785</td>\n",
       "      <td>Москва</td>\n",
       "      <td>Cornerstone Russia</td>\n",
       "      <td>None</td>\n",
       "      <td>NaN</td>\n",
       "      <td>NaN</td>\n",
       "      <td>None</td>\n",
       "    </tr>\n",
       "    <tr>\n",
       "      <th>1022</th>\n",
       "      <td>Site Contracts Specialist</td>\n",
       "      <td>https://hh.ru/vacancy/42807184</td>\n",
       "      <td>Москва</td>\n",
       "      <td>Syneos Health</td>\n",
       "      <td>None</td>\n",
       "      <td>NaN</td>\n",
       "      <td>NaN</td>\n",
       "      <td>None</td>\n",
       "    </tr>\n",
       "  </tbody>\n",
       "</table>\n",
       "<p>1023 rows × 8 columns</p>\n",
       "</div>"
      ],
      "text/plain": [
       "                                                  title  \\\n",
       "0                                  Lead Product Manager   \n",
       "1                                Senior Product Analyst   \n",
       "2                                       Product Manager   \n",
       "3                                       Product manager   \n",
       "4                    Product Manager (CryptoProcessing)   \n",
       "...                                                 ...   \n",
       "1018                                     Developer (JS)   \n",
       "1019  Technical Lead в Data Science-команду/ML Engineer   \n",
       "1020  Head of User Acquisition / Руководитель группы...   \n",
       "1021  Специалист поддержки автоматизированной банков...   \n",
       "1022                          Site Contracts Specialist   \n",
       "\n",
       "                                link    city  \\\n",
       "0     https://hh.ru/vacancy/43394185  Москва   \n",
       "1     https://hh.ru/vacancy/40375714  Москва   \n",
       "2     https://hh.ru/vacancy/42277954  Москва   \n",
       "3     https://hh.ru/vacancy/43704280  Москва   \n",
       "4     https://hh.ru/vacancy/43908772  Москва   \n",
       "...                              ...     ...   \n",
       "1018  https://hh.ru/vacancy/42783578  Москва   \n",
       "1019  https://hh.ru/vacancy/42775724  Москва   \n",
       "1020  https://hh.ru/vacancy/43180207  Москва   \n",
       "1021  https://hh.ru/vacancy/43166785  Москва   \n",
       "1022  https://hh.ru/vacancy/42807184  Москва   \n",
       "\n",
       "                                           company_name metro_station  \\\n",
       "0                                    Scalable Solutions          None   \n",
       "1                                               FunCorp          None   \n",
       "2                                    Scalable Solutions          None   \n",
       "3                                            Silverbird          None   \n",
       "4                                              Unlimint          None   \n",
       "...                                                 ...           ...   \n",
       "1018                                      CUSTOMERTIMES          None   \n",
       "1019  «РОСБАНК, Societe Generale Group», с опытом ра...          None   \n",
       "1020                                        ProductStar          None   \n",
       "1021                                 Cornerstone Russia          None   \n",
       "1022                                      Syneos Health          None   \n",
       "\n",
       "      salary_min  salary_max salary_currency  \n",
       "0       300000.0    450000.0            руб.  \n",
       "1       250000.0    350000.0            руб.  \n",
       "2       200000.0    300000.0            руб.  \n",
       "3       200000.0    320000.0            руб.  \n",
       "4            NaN    250000.0            руб.  \n",
       "...          ...         ...             ...  \n",
       "1018         NaN         NaN            None  \n",
       "1019         NaN         NaN            None  \n",
       "1020    150000.0    200000.0            руб.  \n",
       "1021         NaN         NaN            None  \n",
       "1022         NaN         NaN            None  \n",
       "\n",
       "[1023 rows x 8 columns]"
      ]
     },
     "execution_count": 10,
     "metadata": {},
     "output_type": "execute_result"
    }
   ],
   "source": [
    "df = parser_vacancy('product analyst', 1)\n",
    "df"
   ]
  },
  {
   "cell_type": "code",
   "execution_count": 11,
   "metadata": {},
   "outputs": [],
   "source": [
    "# df.to_excel(\"jobs.xlsx\")"
   ]
  },
  {
   "cell_type": "code",
   "execution_count": null,
   "metadata": {},
   "outputs": [],
   "source": []
  }
 ],
 "metadata": {
  "kernelspec": {
   "display_name": "Python 3",
   "language": "python",
   "name": "python3"
  },
  "language_info": {
   "codemirror_mode": {
    "name": "ipython",
    "version": 3
   },
   "file_extension": ".py",
   "mimetype": "text/x-python",
   "name": "python",
   "nbconvert_exporter": "python",
   "pygments_lexer": "ipython3",
   "version": "3.7.9"
  }
 },
 "nbformat": 4,
 "nbformat_minor": 4
}
