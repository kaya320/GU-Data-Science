{
 "cells": [
  {
   "cell_type": "markdown",
   "metadata": {},
   "source": [
    "## 1.\n",
    "Развернуть у себя на компьютере/виртуальной машине/хостинге MongoDB и реализовать функцию, записывающую собранные вакансии в созданную БД.  "
   ]
  },
  {
   "cell_type": "code",
   "execution_count": 1,
   "metadata": {},
   "outputs": [],
   "source": [
    "from bs4 import BeautifulSoup as bs\n",
    "import requests\n",
    "import re\n",
    "from pymongo import MongoClient\n",
    "from pprint import pprint \n",
    "import pandas as pd"
   ]
  },
  {
   "cell_type": "code",
   "execution_count": 2,
   "metadata": {},
   "outputs": [],
   "source": [
    "client = MongoClient('127.0.0.1', 27017)\n",
    "db = client['parser_vacancies']\n",
    "vacancies = db.parser_vacancies"
   ]
  },
  {
   "cell_type": "code",
   "execution_count": 3,
   "metadata": {},
   "outputs": [
    {
     "data": {
      "text/plain": [
       "Collection(Database(MongoClient(host=['127.0.0.1:27017'], document_class=dict, tz_aware=False, connect=True), 'parser_vacancies'), 'parser_vacancies')"
      ]
     },
     "execution_count": 3,
     "metadata": {},
     "output_type": "execute_result"
    }
   ],
   "source": [
    "vacancies"
   ]
  },
  {
   "cell_type": "code",
   "execution_count": 4,
   "metadata": {},
   "outputs": [
    {
     "name": "stdout",
     "output_type": "stream",
     "text": [
      "product\n"
     ]
    }
   ],
   "source": [
    "job = input()"
   ]
  },
  {
   "cell_type": "code",
   "execution_count": 5,
   "metadata": {},
   "outputs": [],
   "source": [
    "main_link = 'https://hh.ru'\n",
    "header = {'User-Agent': 'Mozilla/5.0 (Macintosh; Intel Mac OS X 11_2_3) AppleWebKit/537.36 (KHTML, like Gecko) \\\n",
    "        Chrome/89.0.4389.90 Safari/537.36'}\n",
    "link = f'{main_link}/search/vacancy/'\n",
    "params = {'L_save_area': 'true', 'clusters': 'true','enable_snippets': 'true', 'text': {job}, 'showClusters': 'true'}"
   ]
  },
  {
   "cell_type": "code",
   "execution_count": 6,
   "metadata": {},
   "outputs": [],
   "source": [
    "def insert_jobs(data):\n",
    "    vacancies.insert_one({\n",
    "        'vacancy_title': data['title'],\n",
    "        'link': data['link'],\n",
    "        'city': data['city'],\n",
    "        'company': data['company_name'],\n",
    "        'metro': data['metro_station'], \n",
    "        'salary_min': data['salary_min'],\n",
    "        'salary_max': data['salary_max'],\n",
    "        'salary_currency': data['salary_currency']})"
   ]
  },
  {
   "cell_type": "code",
   "execution_count": 7,
   "metadata": {},
   "outputs": [],
   "source": [
    "result = []\n",
    "while True:\n",
    "    response = requests.get(link, headers=header, params=params)\n",
    "    soup = bs(response.text, 'html.parser')\n",
    "\n",
    "    if response.ok:    \n",
    "        vacancy_list = soup.find_all('div', {'class': 'vacancy-serp-item'})\n",
    "    \n",
    "        for i in vacancy_list:\n",
    "            data = {}    \n",
    "            \n",
    "            #title\n",
    "            vacancy_title = i.find('a', {'data-qa': 'vacancy-serp__vacancy-title'})\n",
    "            title = vacancy_title.text\n",
    "            data['title'] = title\n",
    "    \n",
    "            #vacancy url_link\n",
    "            data['link'] = vacancy_title['href']\n",
    "    \n",
    "            #city\n",
    "            data['city'] = i.find('span', {'data-qa': 'vacancy-serp__vacancy-address'}).text\n",
    "    \n",
    "            #company name\n",
    "            company_name = i.find('div', {'class': 'vacancy-serp-item__meta-info'}).find('a').getText() \\\n",
    "            .replace(u'\\xa0', u'')    \n",
    "            data['company_name'] = company_name\n",
    "    \n",
    "            #metro\n",
    "            metro_station = i.find('span', {'class': 'vacancy-serp-item__meta-info'}).findChild()\n",
    "            if not metro_station:\n",
    "                metro_station = None\n",
    "            else:\n",
    "                metro_station = metro_station.getText()        \n",
    "            data['metro_station'] = metro_station \n",
    "    \n",
    "            #salary\n",
    "            vacancy_salary = i.find('span', {'data-qa': 'vacancy-serp__vacancy-compensation'})    \n",
    "            vacancy_min = None\n",
    "            vacancy_max = None\n",
    "            vacancy_currency = None\n",
    "        \n",
    "            if vacancy_salary is not None:\n",
    "                vacancy_salary = vacancy_salary.getText().replace('\\u202f','')\n",
    "                vacancy_currency = vacancy_salary.split()[-1]\n",
    "            \n",
    "                if vacancy_salary.find('–') > -1:\n",
    "                    vacancy_min = int(vacancy_salary.split()[0])\n",
    "                    vacancy_max = int(vacancy_salary.split()[2])\n",
    "                elif vacancy_salary.find('от'):\n",
    "                    vacancy_min = int(vacancy_salary.split()[1])\n",
    "                elif vacancy_salary.find('до'):\n",
    "                    vacancy_max = int(vacancy_salary.split()[1])\n",
    "        \n",
    "            data['salary_min'] = vacancy_min\n",
    "            data['salary_max'] = vacancy_max\n",
    "            data['salary_currency'] = vacancy_currency\n",
    "    \n",
    "            result.append(data) \n",
    "            insert_jobs(data)\n",
    "            next_page = soup.find('a', {'data-qa': 'pager-next'})\n",
    "            \n",
    "        if next_page is None:\n",
    "            break\n",
    "        params = next_page['href']"
   ]
  },
  {
   "cell_type": "code",
   "execution_count": 8,
   "metadata": {},
   "outputs": [],
   "source": [
    "# for v in vacancies.find({}):\n",
    "#     pprint(v)"
   ]
  },
  {
   "cell_type": "markdown",
   "metadata": {},
   "source": [
    "## 2.\n",
    "Написать функцию, которая производит поиск и выводит на экран вакансии с заработной платой больше введённой суммы. Поиск должен происходить по 2-ум полям (минимальной и максимальной зарплате).  "
   ]
  },
  {
   "cell_type": "code",
   "execution_count": 9,
   "metadata": {},
   "outputs": [
    {
     "name": "stdout",
     "output_type": "stream",
     "text": [
      "200000\n"
     ]
    }
   ],
   "source": [
    "salary = int(input())"
   ]
  },
  {
   "cell_type": "code",
   "execution_count": 10,
   "metadata": {},
   "outputs": [],
   "source": [
    "def check_salary(salary):     \n",
    "    for i in vacancies.find({'$or': [{'salary_min':{'$gte': salary}}, {'salary_max':{'$gte': salary}}]}).sort('salary_min'):\n",
    "        pprint(i)"
   ]
  },
  {
   "cell_type": "code",
   "execution_count": 11,
   "metadata": {},
   "outputs": [],
   "source": [
    "# check_salary(salary)"
   ]
  },
  {
   "cell_type": "markdown",
   "metadata": {},
   "source": [
    "## 3.\n",
    "Написать функцию, которая будет добавлять в вашу базу данных только новые вакансии с сайта."
   ]
  },
  {
   "cell_type": "code",
   "execution_count": 12,
   "metadata": {},
   "outputs": [],
   "source": [
    "def add_new_jobs():\n",
    "    a = 0\n",
    "    for i in result:\n",
    "        link_new = i['link']\n",
    "        if vacancies.count_documents({'link': link_new}) == 0:\n",
    "            vacancies.insert_one(i)\n",
    "            a += 1\n",
    "            \n",
    "    return a"
   ]
  },
  {
   "cell_type": "code",
   "execution_count": 13,
   "metadata": {},
   "outputs": [
    {
     "data": {
      "text/plain": [
       "0"
      ]
     },
     "execution_count": 13,
     "metadata": {},
     "output_type": "execute_result"
    }
   ],
   "source": [
    "add_new_jobs()"
   ]
  }
 ],
 "metadata": {
  "kernelspec": {
   "display_name": "Python 3",
   "language": "python",
   "name": "python3"
  },
  "language_info": {
   "codemirror_mode": {
    "name": "ipython",
    "version": 3
   },
   "file_extension": ".py",
   "mimetype": "text/x-python",
   "name": "python",
   "nbconvert_exporter": "python",
   "pygments_lexer": "ipython3",
   "version": "3.7.9"
  }
 },
 "nbformat": 4,
 "nbformat_minor": 4
}
