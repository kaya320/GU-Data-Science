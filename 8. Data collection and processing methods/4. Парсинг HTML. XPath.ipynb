{
 "cells": [
  {
   "cell_type": "markdown",
   "metadata": {},
   "source": [
    "## Задание\n",
    "1. Написать приложение, которое собирает основные новости с сайтов news.mail.ru, lenta.ru, yandex-новости. Для парсинга использовать XPath. Структура данных должна содержать:  \n",
    "название источника;  \n",
    "наименование новости;  \n",
    "ссылку на новость;  \n",
    "дата публикации.  \n",
    "2. Сложить собранные данные в БД"
   ]
  },
  {
   "cell_type": "code",
   "execution_count": 1,
   "metadata": {},
   "outputs": [],
   "source": [
    "import requests\n",
    "from lxml import html\n",
    "from pprint import pprint\n",
    "from pymongo import MongoClient"
   ]
  },
  {
   "cell_type": "code",
   "execution_count": 2,
   "metadata": {},
   "outputs": [],
   "source": [
    "client = MongoClient('127.0.0.1', 27017)\n",
    "db = client['News']\n",
    "lenta = db.lenta\n",
    "mail = db.mail"
   ]
  },
  {
   "cell_type": "code",
   "execution_count": 3,
   "metadata": {},
   "outputs": [],
   "source": [
    "header = {'User-Agent': 'Mozilla/5.0 (Macintosh; Intel Mac OS X 11_2_3) AppleWebKit/537.36 (KHTML, like Gecko) \\\n",
    "         Chrome/89.0.4389.90 Safari/537.36'}"
   ]
  },
  {
   "cell_type": "code",
   "execution_count": 4,
   "metadata": {},
   "outputs": [],
   "source": [
    "def add_new_news(db, list):\n",
    "    total = 0\n",
    "    for i in list:\n",
    "        if db.count_documents({'link': i['link']}) == 0:\n",
    "            db.insert_one(i)\n",
    "            total += 1\n",
    "    print(f'Добавлено {total} новостей в {str(db)}')  "
   ]
  },
  {
   "cell_type": "code",
   "execution_count": 5,
   "metadata": {},
   "outputs": [],
   "source": [
    "def lenta_news():\n",
    "    lenta_news_list = []\n",
    "    try:\n",
    "        url = 'https://lenta.ru/'\n",
    "        response = requests.get(url, headers=header)        \n",
    "        dom = html.fromstring(response.text)\n",
    "        \n",
    "        items = dom.xpath(\"//section[contains(@class, 'b-top7-for-main')]/div/div[contains(@class, 'item')]//a[@href and ./time]\")\n",
    "        for item in items:\n",
    "            top_news = {}\n",
    "\n",
    "            name = item.xpath(\"./text()\")\n",
    "            link = item.xpath(\"./@href\")\n",
    "            date = item.xpath(\"./time/@datetime\")\n",
    "\n",
    "            top_news['source'] = 'lenta.ru'\n",
    "            top_news['name'] = name[0].replace('\\xa0', ' ')\n",
    "            top_news['link'] = f\"{url}{link[0]}\"\n",
    "            top_news['date'] = date\n",
    "            lenta_news_list.append(top_news)\n",
    "        return lenta_news_list\n",
    "    except:\n",
    "        print('Error')"
   ]
  },
  {
   "cell_type": "code",
   "execution_count": 6,
   "metadata": {},
   "outputs": [
    {
     "name": "stdout",
     "output_type": "stream",
     "text": [
      "[{'date': [' 22:30, 12 апреля 2021'],\n",
      "  'link': 'https://lenta.ru//news/2021/04/12/middd/',\n",
      "  'name': 'МИД Турции прокомментировал решение России ограничить авиасообщение',\n",
      "  'source': 'lenta.ru'},\n",
      " {'date': [' 23:43, 12 апреля 2021'],\n",
      "  'link': 'https://lenta.ru//news/2021/04/12/smertnost/',\n",
      "  'name': 'ВОЗ заявила о росте смертности от коронавируса в мире',\n",
      "  'source': 'lenta.ru'},\n",
      " {'date': [' 23:39, 12 апреля 2021'],\n",
      "  'link': 'https://lenta.ru//news/2021/04/12/schpartak/',\n",
      "  'name': '«Спартак» захотел лишить «Локомотив» победы из-за сотрудника клуба '\n",
      "          'в судейской',\n",
      "  'source': 'lenta.ru'},\n",
      " {'date': [' 23:35, 12 апреля 2021'],\n",
      "  'link': 'https://lenta.ru//news/2021/04/12/station/',\n",
      "  'name': 'Россия построит собственную орбитальную станцию',\n",
      "  'source': 'lenta.ru'},\n",
      " {'date': [' 23:25, 12 апреля 2021'],\n",
      "  'link': 'https://lenta.ru//news/2021/04/12/poklonskaya/',\n",
      "  'name': 'Поклонская попала под капельницу',\n",
      "  'source': 'lenta.ru'},\n",
      " {'date': [' 23:14, 12 апреля 2021'],\n",
      "  'link': 'https://lenta.ru//news/2021/04/12/gosdep/',\n",
      "  'name': 'Рогозин раскритиковал Госдепартамент за публикацию о Дне '\n",
      "          'космонавтики',\n",
      "  'source': 'lenta.ru'},\n",
      " {'date': [' 23:11, 12 апреля 2021'],\n",
      "  'link': 'https://lenta.ru//news/2021/04/12/gagarinportrait/',\n",
      "  'name': 'Портрет Гагарина спроецировали на самой высокой башне мира в Дубае',\n",
      "  'source': 'lenta.ru'},\n",
      " {'date': [' 23:02, 12 апреля 2021'],\n",
      "  'link': 'https://lenta.ru//news/2021/04/12/toni/',\n",
      "  'name': 'Фергюсон потребовал встречи с Нурмагомедовым',\n",
      "  'source': 'lenta.ru'},\n",
      " {'date': [' 23:00, 12 апреля 2021'],\n",
      "  'link': 'https://lenta.ru//news/2021/04/12/turk/',\n",
      "  'name': 'В Турции заявили о самом сложном периоде с начала пандемии',\n",
      "  'source': 'lenta.ru'},\n",
      " {'date': [' 21:47, 12 апреля 2021'],\n",
      "  'link': 'https://lenta.ru//news/2021/04/12/honestpoliceman/',\n",
      "  'name': 'Умер никогда не бравший взяток российский гаишник',\n",
      "  'source': 'lenta.ru'}]\n"
     ]
    }
   ],
   "source": [
    "pprint(lenta_news())"
   ]
  },
  {
   "cell_type": "code",
   "execution_count": 7,
   "metadata": {},
   "outputs": [],
   "source": [
    "def mail_news():\n",
    "    mailru_news_list = []\n",
    "    try:\n",
    "        url = 'https://news.mail.ru/'\n",
    "        response = requests.get(url, headers=header)\n",
    "        dom = html.fromstring(response.text)\n",
    " \n",
    "        items = dom.xpath(\"//div[contains(@class, 'js-module') and contains(@name, 'clb20268335') and contains(@data-module, 'TrackBlocks')]//div[contains(@class, 'daynews__item')] | //div[contains(@class, 'js-module') and contains(@name, 'clb20268335') and contains(@data-module, 'TrackBlocks')]/ul/li\")\n",
    "        for item in items:\n",
    "            item_url = item.xpath(\"./a/@href\")\n",
    "            irem_response = requests.get(item_url[0])\n",
    "            item_dom = html.fromstring(irem_response.text)\n",
    "            top_news = {}\n",
    "\n",
    "            source = item_dom.xpath(\".//div[contains(@class, 'article js-article')]/*//span[contains(@class, 'link__text')]/text()\")\n",
    "            name = item_dom.xpath(\".//div[contains(@class, 'article js-article')]/*[2]//h1[contains(@class, 'hdr__inner')]/text()\")\n",
    "            date = item_dom.xpath(\".//div[contains(@class, 'article js-article')]/*//span[@datetime]/@datetime\")\n",
    "\n",
    "            top_news['source'] = source[0]\n",
    "            top_news['name'] = name[0]\n",
    "            top_news['link'] = item_url[0]\n",
    "            top_news['date'] = date[0].replace('T', ' ')[:19]\n",
    "            mailru_news_list.append(top_news)\n",
    "        return mailru_news_list\n",
    "    except:\n",
    "        print('Error')"
   ]
  },
  {
   "cell_type": "code",
   "execution_count": 8,
   "metadata": {},
   "outputs": [
    {
     "name": "stdout",
     "output_type": "stream",
     "text": [
      "[{'date': '2021-04-12 19:29:55',\n",
      "  'link': 'https://news.mail.ru/politics/45924032/',\n",
      "  'name': 'Россия ограничивает регулярное и чартерное авиасообщение с Турцией '\n",
      "          'с 15 апреля до 1 июня',\n",
      "  'source': 'ТАСС'},\n",
      " {'date': '2021-04-12 21:35:21',\n",
      "  'link': 'https://news.mail.ru/economics/45924900/',\n",
      "  'name': '«Огромный удар по отрасли»: туроператоры оценили стоимость '\n",
      "          'забронированных туров в Турцию',\n",
      "  'source': 'Forbes'},\n",
      " {'date': '2021-04-12 19:11:22',\n",
      "  'link': 'https://news.mail.ru/incident/45923709/',\n",
      "  'name': 'Огонь с «Невской мануфактуры» перекинулся на соседнее здание',\n",
      "  'source': 'Коммерсантъ'},\n",
      " {'date': '2021-04-12 20:08:04',\n",
      "  'link': 'https://news.mail.ru/politics/45924370/',\n",
      "  'name': 'Зеленский призвал Байдена помочь Украине вступить в НАТО «не только '\n",
      "          'на словах»',\n",
      "  'source': 'Lenta.Ru'},\n",
      " {'date': '2021-04-12 23:17:48',\n",
      "  'link': 'https://news.mail.ru/society/45923743/',\n",
      "  'name': 'Портрет Гагарина появился на самой высокой башне мира в Дубае',\n",
      "  'source': 'ТАСС'},\n",
      " {'date': '2021-04-12 20:08:04',\n",
      "  'link': 'https://news.mail.ru/politics/45924370/',\n",
      "  'name': 'Зеленский призвал Байдена помочь Украине вступить в НАТО «не только '\n",
      "          'на словах»',\n",
      "  'source': 'Lenta.Ru'},\n",
      " {'date': '2021-04-12 23:17:48',\n",
      "  'link': 'https://news.mail.ru/society/45923743/',\n",
      "  'name': 'Портрет Гагарина появился на самой высокой башне мира в Дубае',\n",
      "  'source': 'ТАСС'},\n",
      " {'date': '2021-04-12 15:37:35',\n",
      "  'link': 'https://news.mail.ru/politics/45915576/',\n",
      "  'name': 'Рогозин заявил о потере контрактов из-за «подлых санкций США»',\n",
      "  'source': 'РБК'},\n",
      " {'date': '2021-04-12 18:05:08',\n",
      "  'link': 'https://sportmail.ru/news/olympics/45922643/',\n",
      "  'name': 'Японцы выступают за отмену летней Олимпиады в Токио',\n",
      "  'source': 'Чемпионат.com'},\n",
      " {'date': '2021-04-12 14:41:38',\n",
      "  'link': 'https://news.mail.ru/society/45919844/',\n",
      "  'name': 'Десятки овец образовали на поле в Британии «таинственный символ»',\n",
      "  'source': 'Новости Mail.ru'},\n",
      " {'date': '2021-04-12 19:27:13',\n",
      "  'link': 'https://news.mail.ru/society/44226108/',\n",
      "  'name': 'Фото дня',\n",
      "  'source': 'Новости Mail.ru'},\n",
      " {'date': '2021-04-12 15:59:15',\n",
      "  'link': 'https://news.mail.ru/society/45921119/',\n",
      "  'name': 'Испанские города оказались под водой из-за сильного шторма (видео)',\n",
      "  'source': 'Погода Mail.ru'},\n",
      " {'date': '2021-04-12 16:59:25',\n",
      "  'link': 'https://news.mail.ru/politics/45921551/',\n",
      "  'name': 'Алиев потребовал ответа, откуда Армения получила неэкспортный '\n",
      "          'вариант ракеты к «Искандеру»',\n",
      "  'source': 'Коммерсантъ'}]\n"
     ]
    }
   ],
   "source": [
    "pprint(mail_news())"
   ]
  },
  {
   "cell_type": "code",
   "execution_count": 9,
   "metadata": {},
   "outputs": [
    {
     "name": "stdout",
     "output_type": "stream",
     "text": [
      "Добавлено 10 новостей в Collection(Database(MongoClient(host=['127.0.0.1:27017'], document_class=dict, tz_aware=False, connect=True), 'News'), 'lenta')\n",
      "None\n",
      "Добавлено 11 новостей в Collection(Database(MongoClient(host=['127.0.0.1:27017'], document_class=dict, tz_aware=False, connect=True), 'News'), 'mail')\n",
      "None\n"
     ]
    }
   ],
   "source": [
    "print(add_new_news(lenta, lenta_news()))\n",
    "print(add_new_news(mail, mail_news()))"
   ]
  },
  {
   "cell_type": "code",
   "execution_count": 10,
   "metadata": {},
   "outputs": [],
   "source": [
    "# mail.delete_many({})\n",
    "# lenta.delete_many({})"
   ]
  },
  {
   "cell_type": "code",
   "execution_count": null,
   "metadata": {},
   "outputs": [],
   "source": []
  }
 ],
 "metadata": {
  "kernelspec": {
   "display_name": "Python 3",
   "language": "python",
   "name": "python3"
  },
  "language_info": {
   "codemirror_mode": {
    "name": "ipython",
    "version": 3
   },
   "file_extension": ".py",
   "mimetype": "text/x-python",
   "name": "python",
   "nbconvert_exporter": "python",
   "pygments_lexer": "ipython3",
   "version": "3.7.9"
  }
 },
 "nbformat": 4,
 "nbformat_minor": 4
}
