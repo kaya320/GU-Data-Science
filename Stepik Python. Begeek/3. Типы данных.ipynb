{
 "cells": [
  {
   "cell_type": "markdown",
   "metadata": {},
   "source": [
    "## 1\n",
    "На вход программе подается число n – количество собачьих лет. Напишите программу, которая вычисляет возраст собаки в человеческих годах.\n",
    "\n",
    "На вход программе подаётся натуральное число – количество собачьих лет.Программа должна вывести возраст собаки в человеческих годах.\n",
    "Примечание. В течение первых двух лет собачий год равен 10.5 человеческим годам. После этого каждый год собаки равен 4 человеческим годам."
   ]
  },
  {
   "cell_type": "code",
   "execution_count": 1,
   "metadata": {},
   "outputs": [
    {
     "name": "stdout",
     "output_type": "stream",
     "text": [
      "3\n",
      "25.0\n"
     ]
    }
   ],
   "source": [
    "a = float(input())\n",
    "counter = 0\n",
    "if a == 1:\n",
    "    counter = counter + 10.5\n",
    "elif a == 2:\n",
    "     counter = counter + 21\n",
    "elif a > 2:\n",
    "    counter = 21 + ((a - 2) * 4)\n",
    "print(counter)"
   ]
  },
  {
   "cell_type": "markdown",
   "metadata": {},
   "source": [
    "## 2\n",
    "Дано положительное действительное число. Выведите его первую цифру после десятичной точки.\n",
    "На вход программе подается положительное действительное число. Программа должна вывести цифру в соответствии с условием задачи."
   ]
  },
  {
   "cell_type": "code",
   "execution_count": 2,
   "metadata": {},
   "outputs": [
    {
     "name": "stdout",
     "output_type": "stream",
     "text": [
      "5.2\n",
      "2\n"
     ]
    }
   ],
   "source": [
    "a = float(input())\n",
    "b = a * 10 % 10\n",
    "print(int(b))"
   ]
  },
  {
   "cell_type": "markdown",
   "metadata": {},
   "source": [
    "## 3\n",
    "Дано положительное действительное число. Выведите его дробную часть.\n",
    "На вход программе подается положительное действительное число. Программа должна вывести дробную часть числа в соответствии с условием задачи."
   ]
  },
  {
   "cell_type": "code",
   "execution_count": 3,
   "metadata": {},
   "outputs": [
    {
     "name": "stdout",
     "output_type": "stream",
     "text": [
      "4.2\n",
      "0.20000000000000018\n"
     ]
    }
   ],
   "source": [
    "a = float(input())\n",
    "b = int(a)\n",
    "print(a - b)"
   ]
  },
  {
   "cell_type": "markdown",
   "metadata": {},
   "source": [
    "## 4\n",
    "Напишите программу, которая находит наименьшее и наибольшее из пяти чисел.\n",
    "На вход программе подается пять целых чисел, каждое на отдельной строке. Программа должна вывести наименьшее и наибольшее число с поясняющей надписью."
   ]
  },
  {
   "cell_type": "code",
   "execution_count": 4,
   "metadata": {},
   "outputs": [
    {
     "name": "stdout",
     "output_type": "stream",
     "text": [
      "3\n",
      "4\n",
      "5\n",
      "6\n",
      "7\n",
      "Наименьшее число = 3\n",
      "Наибольшее число = 7\n"
     ]
    }
   ],
   "source": [
    "a, b, c, d, e = int(input()), int(input()), int(input()), int(input()), int(input())\n",
    "print('Наименьшее число =', min(a, b, c, d, e))\n",
    "print('Наибольшее число =', max(a, b, c, d, e))"
   ]
  },
  {
   "cell_type": "markdown",
   "metadata": {},
   "source": [
    "## 5\n",
    "Напишите программу, которая упорядочивает три числа от большего к меньшему.\n",
    "На вход программе подается три целых числа, каждое на отдельной строке. Программа должна вывести три числа, каждое на отдельной строке, упорядоченных от большего к меньшему."
   ]
  },
  {
   "cell_type": "code",
   "execution_count": 5,
   "metadata": {},
   "outputs": [
    {
     "name": "stdout",
     "output_type": "stream",
     "text": [
      "1\n",
      "144\n",
      "1444\n",
      "1444\n",
      "144\n",
      "1\n"
     ]
    }
   ],
   "source": [
    "a, b, c = int(input()), int(input()), int(input())\n",
    "n = [a, b, c]\n",
    "n.sort()\n",
    "n.reverse()\n",
    "for i in n:\n",
    "    print(i)"
   ]
  },
  {
   "cell_type": "code",
   "execution_count": 6,
   "metadata": {},
   "outputs": [
    {
     "name": "stdout",
     "output_type": "stream",
     "text": [
      "1\n",
      "13\n",
      "133\n",
      "133\n",
      "13\n",
      "1\n"
     ]
    }
   ],
   "source": [
    "a, b, c = int(input()), int(input()), int(input())\n",
    "print(max(a, b, c))\n",
    "print(a + b + c - min(a, b, c) - max(a, b, c))\n",
    "print(min(a, b, c))"
   ]
  },
  {
   "cell_type": "markdown",
   "metadata": {},
   "source": [
    "## 6\n",
    "Назовем число интересным, если в нем разность максимальной и минимальной цифры равняется средней по величине цифре. Напишите программу, которая определяет интересное число или нет. Если число интересное, следует вывести – «Число интересное» иначе «Число неинтересное».\n",
    "На вход программе подается целое трехзначное число."
   ]
  },
  {
   "cell_type": "code",
   "execution_count": 8,
   "metadata": {},
   "outputs": [
    {
     "name": "stdout",
     "output_type": "stream",
     "text": [
      "345\n",
      "Число неинтересное\n"
     ]
    }
   ],
   "source": [
    "num = int(input())\n",
    "a = num // 100\n",
    "b = (num % 100) // 10\n",
    "c = num % 10\n",
    "min_count = min(a, b, c)\n",
    "max_count = max(a, b, c)\n",
    "medium = (a + b + c) - (min_count + max_count)\n",
    "if max_count - min_count == medium:\n",
    "    print('Число интересное')\n",
    "else:\n",
    "     print('Число неинтересное')"
   ]
  },
  {
   "cell_type": "markdown",
   "metadata": {},
   "source": [
    "## 7\n",
    "Напишите программу определяющую евклидово расстояние между двумя точками, координаты которых заданы. На вход программе подается четыре вещественных числа, каждое на отдельной строке"
   ]
  },
  {
   "cell_type": "code",
   "execution_count": 9,
   "metadata": {},
   "outputs": [
    {
     "name": "stdout",
     "output_type": "stream",
     "text": [
      "4.3\n",
      "5.6\n",
      "7.6\n",
      "2.3\n",
      "4.666904755831213\n"
     ]
    }
   ],
   "source": [
    "from math import *\n",
    "x1, y1, x2, y2 = float(input()), float(input()), float(input()), float(input())\n",
    "p = sqrt((x1 - x2) ** 2 + (y1 - y2) ** 2)\n",
    "print(p)"
   ]
  },
  {
   "cell_type": "markdown",
   "metadata": {},
   "source": [
    "## 8\n",
    "Напишите программу определяющую площадь круга и длину окружности по заданному радиусу R.\n",
    "\n",
    "На вход программе подается одно вещественное число R. Программа должна вывести два числа – площадь круга и длину окружности радиуса R."
   ]
  },
  {
   "cell_type": "code",
   "execution_count": 10,
   "metadata": {},
   "outputs": [
    {
     "name": "stdout",
     "output_type": "stream",
     "text": [
      "35.6\n",
      "3981.5288654535607\n",
      "223.68139693559328\n"
     ]
    }
   ],
   "source": [
    "import math\n",
    "r = float(input())\n",
    "print(math.pi * r**2)\n",
    "print(2 * math.pi * r)"
   ]
  },
  {
   "cell_type": "markdown",
   "metadata": {},
   "source": [
    "## 9\n",
    "В математике выделяют следующие средние значения:  \n",
    "* среднее арифметическое чисел a b  \n",
    "* среднее геометрическое чисел a и b  \n",
    "* среднее гармоническое чисел a и b  \n",
    "* среднее квадратичное чисел a и b  \n",
    "\n",
    "Формат выходных данных:  \n",
    "Программа должна вывести 4 числа – среднее арифметическое, геометрическое, гармоническое и квадратичное."
   ]
  },
  {
   "cell_type": "code",
   "execution_count": 11,
   "metadata": {},
   "outputs": [
    {
     "name": "stdout",
     "output_type": "stream",
     "text": [
      "4.3\n",
      "5.1\n",
      "4.699999999999999\n",
      "4.682947789587238\n",
      "4.665957446808511\n",
      "4.716990566028302\n"
     ]
    }
   ],
   "source": [
    "a, b = float(input()), float(input()) \n",
    "n1 = (a + b) / 2\n",
    "n2 = sqrt(a * b)\n",
    "n3 = (2 * a * b) / (a + b)\n",
    "n4 = sqrt((pow(a,2) + pow(b,2)) / 2)\n",
    "print(n1, n2, n3, n4, sep='\\n')"
   ]
  },
  {
   "cell_type": "markdown",
   "metadata": {},
   "source": [
    "## 10\n",
    "Даны три вещественных числа a, b, c. Напишите программу, которая находит вещественные корни квадратного уравнения \n",
    "ax^2 + bx + c = 0.\n",
    "\n",
    "Формат входных данных\n",
    "На вход программе подается три вещественных числа a != 0, b, c каждое на отдельной строке.\n",
    "\n",
    "Формат выходных данных\n",
    "Программа должна вывести вещественные корни уравнения если они существуют или текст «Нет корней» в противном случае.\n",
    "\n",
    "Примечание. Если уравнение имеет два корня, то следует вывести их в порядке возрастания."
   ]
  },
  {
   "cell_type": "code",
   "execution_count": 12,
   "metadata": {},
   "outputs": [
    {
     "name": "stdout",
     "output_type": "stream",
     "text": [
      "2.1\n",
      "2.4\n",
      "2.6\n",
      "Нет корней\n"
     ]
    }
   ],
   "source": [
    "import math\n",
    "a, b, c = float(input()), float(input()), float(input())\n",
    "d = pow(b, 2) - 4 * a * c\n",
    "if d > 0:\n",
    "    x1 = ((- b + math.sqrt(d)) / (2 * a))\n",
    "    x2 = ((- b - math.sqrt(d)) / (2 * a))\n",
    "    s = min(x1, x2)\n",
    "    print(min(x1, x2))\n",
    "elif d == 0:\n",
    "    x1 = ((- b + math.sqrt(d)) / (2 * a))\n",
    "    print(x1)\n",
    "else:\n",
    "    print('Нет корней')"
   ]
  },
  {
   "cell_type": "markdown",
   "metadata": {},
   "source": [
    "## 11\n",
    "Напишите программу, которая выводит текст:\n",
    "\n",
    "\"Python is a great language!\", said Fred. \"I don't ever remember having this much fun before.\""
   ]
  },
  {
   "cell_type": "code",
   "execution_count": 13,
   "metadata": {},
   "outputs": [
    {
     "name": "stdout",
     "output_type": "stream",
     "text": [
      "\"Python is a great language!\", said Fred. \"I don't ever remember having this much fun before.\"\n"
     ]
    }
   ],
   "source": [
    "s = '\"Python is a great language!\", said Fred. \"I don\\'t ever remember having this much fun before.\"'\n",
    "print(s)"
   ]
  },
  {
   "cell_type": "code",
   "execution_count": 14,
   "metadata": {},
   "outputs": [
    {
     "name": "stdout",
     "output_type": "stream",
     "text": [
      "\"Python is a great language!\", said Fred. \"I don't ever remember having this much fun before.\"\n"
     ]
    }
   ],
   "source": [
    "a = '\"Python is a great language!\", said Fred. '\n",
    "b = '\"I don'\n",
    "c = \"'t ever remember having this much \"\n",
    "d = 'fun before.\"'\n",
    "print(a + b + c + d)"
   ]
  },
  {
   "cell_type": "markdown",
   "metadata": {},
   "source": [
    "## 12\n",
    "Напишите программу, которая считывает с клавиатуры две строки – имя и фамилию пользователя и выводит фразу:   \n",
    "«Hello [введенное имя] [введенная фамилия]! You just delved into Python».\n",
    "На вход программе подаётся две строки (имя и фамилия), каждая на отдельной строке."
   ]
  },
  {
   "cell_type": "code",
   "execution_count": 15,
   "metadata": {},
   "outputs": [
    {
     "name": "stdout",
     "output_type": "stream",
     "text": [
      "vasya\n",
      "pupkin\n",
      "Hello vasya pupkin! You just delved into Python\n"
     ]
    }
   ],
   "source": [
    "firstname, lastname = input(), input()\n",
    "print('Hello', firstname, lastname + '!', 'You just delved into Python', sep=' ')"
   ]
  },
  {
   "cell_type": "markdown",
   "metadata": {},
   "source": [
    "## 13\n",
    "Напишите программу, которая считывает с клавиатуры название футбольной команды и выводит фразу:\n",
    "«Футбольная команда [введённая строка] имеет длину [длина введённой строки] символов».На вход программе подаётся строка – название футбольной команды."
   ]
  },
  {
   "cell_type": "code",
   "execution_count": 16,
   "metadata": {},
   "outputs": [
    {
     "name": "stdout",
     "output_type": "stream",
     "text": [
      "spartak\n",
      "Футбольная команда spartak имеет длину 7 символов\n"
     ]
    }
   ],
   "source": [
    "name = input()\n",
    "l = len(name)\n",
    "print('Футбольная команда', name, 'имеет длину', l, 'символов') "
   ]
  },
  {
   "cell_type": "markdown",
   "metadata": {},
   "source": [
    "## 14\n",
    "Даны названия трех городов. Напишите программу, которая определяет самое короткое и самое длинное название города.\n",
    "\n",
    "На вход программе подаётся названия трех городов, каждое на отдельной строке. Программа должна вывести самое короткое и длинное название города, каждое на отдельной строке.\n",
    "Примечание. Гарантируется, что длины названий всех трех городов различны."
   ]
  },
  {
   "cell_type": "code",
   "execution_count": 17,
   "metadata": {},
   "outputs": [
    {
     "name": "stdout",
     "output_type": "stream",
     "text": [
      "moscow\n",
      "saint-petersburg\n",
      "london\n",
      "moscow\n",
      "saint-petersburg\n"
     ]
    }
   ],
   "source": [
    "a, b, c = input(), input(), input()\n",
    "m = min(a, b, c, key = len)\n",
    "n = max(a, b, c, key = len)\n",
    "print(m, n, sep='\\n')"
   ]
  },
  {
   "cell_type": "markdown",
   "metadata": {},
   "source": [
    "## 15\n",
    "Вводятся 3 строки в случайном порядке. Напишите программу, которая выясняет можно ли из длин этих строк построить возрастающую арифметическую прогрессию.\n",
    "На вход программе подаются три строки, каждая на отдельной строке. Программа должна вывести строку «YES», если из длин введенных слов можно построить арифметическую прогрессию, «NO» в ином случае."
   ]
  },
  {
   "cell_type": "code",
   "execution_count": 18,
   "metadata": {},
   "outputs": [
    {
     "name": "stdout",
     "output_type": "stream",
     "text": [
      "3\n",
      "4\n",
      "6\n",
      "YES\n"
     ]
    }
   ],
   "source": [
    "a, b, c = len(input()), len(input()), len(input())\n",
    "if (2 * b - c - a) * (2 * c - b - a) * (2 * a - b - c) == 0:\n",
    "    print('YES')\n",
    "else: \n",
    "    print('NO')"
   ]
  },
  {
   "cell_type": "markdown",
   "metadata": {},
   "source": [
    "## 16\n",
    "Напишите программу, которая считывает одну строку, после чего выводит «YES», если в введенной строке есть подстрока «синий» и «NO» в противном случае."
   ]
  },
  {
   "cell_type": "code",
   "execution_count": 19,
   "metadata": {},
   "outputs": [
    {
     "name": "stdout",
     "output_type": "stream",
     "text": [
      "синий цвет\n",
      "YES\n"
     ]
    }
   ],
   "source": [
    "a = input()\n",
    "if 'синий' in a:\n",
    "    print('YES')\n",
    "else:\n",
    "    print('NO')"
   ]
  },
  {
   "cell_type": "markdown",
   "metadata": {},
   "source": [
    "## 17\n",
    "Напишите программу, которая считывает одну строку, после чего выводит «YES», если в введённой строке есть подстрока «суббота» или «воскресенье», и «NO» в противном случае."
   ]
  },
  {
   "cell_type": "code",
   "execution_count": 20,
   "metadata": {},
   "outputs": [
    {
     "name": "stdout",
     "output_type": "stream",
     "text": [
      "сегодня выходной, суббота\n",
      "YES\n"
     ]
    }
   ],
   "source": [
    "a = input()\n",
    "if 'суббота' in a or'воскресенье' in a:\n",
    "    print('YES')\n",
    "else:\n",
    "    print('NO')"
   ]
  },
  {
   "cell_type": "markdown",
   "metadata": {},
   "source": [
    "## 18\n",
    "Будем считать email адрес корректным, если в нем есть символ собачки (@) и точки. Напишите программу проверяющую корректность email адреса.\n",
    "\n",
    "На вход программе подаётся одна строка – email адрес. Программа должна вывести строку «YES», если email адрес является корректным и «NO» в ином случае."
   ]
  },
  {
   "cell_type": "code",
   "execution_count": 21,
   "metadata": {},
   "outputs": [
    {
     "name": "stdout",
     "output_type": "stream",
     "text": [
      "124@mail.ru\n",
      "YES\n"
     ]
    }
   ],
   "source": [
    "a = input()\n",
    "if '@' in a and '.' in a:\n",
    "    print('YES')\n",
    "else:\n",
    "    print('NO')"
   ]
  },
  {
   "cell_type": "code",
   "execution_count": null,
   "metadata": {},
   "outputs": [],
   "source": []
  }
 ],
 "metadata": {
  "kernelspec": {
   "display_name": "Python 3",
   "language": "python",
   "name": "python3"
  },
  "language_info": {
   "codemirror_mode": {
    "name": "ipython",
    "version": 3
   },
   "file_extension": ".py",
   "mimetype": "text/x-python",
   "name": "python",
   "nbconvert_exporter": "python",
   "pygments_lexer": "ipython3",
   "version": "3.7.9"
  }
 },
 "nbformat": 4,
 "nbformat_minor": 4
}
