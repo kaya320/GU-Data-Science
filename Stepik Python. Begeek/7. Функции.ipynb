{
 "cells": [
  {
   "cell_type": "markdown",
   "metadata": {},
   "source": [
    "## 1\n",
    "Напишите функцию draw_box(), которая выводит звездный прямоугольник с размерами 14×10 в соответствии с образцом"
   ]
  },
  {
   "cell_type": "code",
   "execution_count": 1,
   "metadata": {},
   "outputs": [
    {
     "name": "stdout",
     "output_type": "stream",
     "text": [
      "**********\n",
      "*        *\n",
      "*        *\n",
      "*        *\n",
      "*        *\n",
      "*        *\n",
      "*        *\n",
      "*        *\n",
      "*        *\n",
      "*        *\n",
      "*        *\n",
      "*        *\n",
      "*        *\n",
      "**********\n"
     ]
    }
   ],
   "source": [
    "# объявление функции\n",
    "def draw_box():\n",
    "    print(10 * '*')\n",
    "    print(*['*' + ' '* 8 + '*' for i in range(12)], sep='\\n')\n",
    "    print(10 * '*')\n",
    "\n",
    "# основная программа\n",
    "draw_box()  # вызов функции"
   ]
  },
  {
   "cell_type": "markdown",
   "metadata": {},
   "source": [
    "## 2\n",
    "Напишите функцию draw_triangle(), которая выводит звездный прямоугольный треугольник с катетами, равными 10 в соответствии с образцом:"
   ]
  },
  {
   "cell_type": "code",
   "execution_count": 2,
   "metadata": {},
   "outputs": [
    {
     "name": "stdout",
     "output_type": "stream",
     "text": [
      "*\n",
      "**\n",
      "***\n",
      "****\n",
      "*****\n",
      "******\n",
      "*******\n",
      "********\n",
      "*********\n",
      "**********\n"
     ]
    }
   ],
   "source": [
    "# объявление функции\n",
    "def draw_triangle():\n",
    "    print(*[i * '*' for i in range(1, 11)],sep='\\n')\n",
    "    \n",
    "# основная программа\n",
    "draw_triangle()  # вызов функции"
   ]
  },
  {
   "cell_type": "markdown",
   "metadata": {},
   "source": [
    "## 3\n",
    "Напишите функцию draw_triangle(fill, base), которая принимает два параметра:  \n",
    "fill – символ заполнитель;  \n",
    "base – величина основания равнобедренного треугольника;  \n",
    "а затем выводит его.   \n",
    "Примечание. Гарантируется, что основание треугольника – нечетное число."
   ]
  },
  {
   "cell_type": "code",
   "execution_count": 3,
   "metadata": {},
   "outputs": [
    {
     "name": "stdout",
     "output_type": "stream",
     "text": [
      "*\n",
      "9\n",
      "*\n",
      "**\n",
      "***\n",
      "****\n",
      "*****\n",
      "****\n",
      "***\n",
      "**\n",
      "*\n"
     ]
    }
   ],
   "source": [
    "# объявление функции\n",
    "def draw_triangle(fill, base):\n",
    "    print(*[fill * i for i in range(1, base // 2  + 2)], sep='\\n')\n",
    "    print(*[fill * i for i in range(base // 2, 0, -1)], sep='\\n')\n",
    "\n",
    "# считываем данные\n",
    "fill = input()\n",
    "base = int(input())\n",
    "\n",
    "# вызываем функцию\n",
    "draw_triangle(fill, base)"
   ]
  },
  {
   "cell_type": "markdown",
   "metadata": {},
   "source": [
    "## 4\n",
    "Напишите функцию print_fio(name, surname, patronymic), которая принимает три параметра:  \n",
    "name – имя человека;  \n",
    "surname – фамилия человека;  \n",
    "patronymic – отчество человека;  \n",
    "а затем выводит на печать ФИО человека.  \n",
    "\n",
    "Примечание. Предусмотрите тот факт, что все три буквы в ФИО должны иметь верхний регистр."
   ]
  },
  {
   "cell_type": "code",
   "execution_count": 4,
   "metadata": {},
   "outputs": [
    {
     "name": "stdout",
     "output_type": "stream",
     "text": [
      "Александр\n",
      "Пушкин\n",
      "Сергеевич\n",
      "ПАС\n"
     ]
    }
   ],
   "source": [
    "# объявление функции\n",
    "def print_fio(name, surname, patronymic):\n",
    "    print(surname[0], name[0], patronymic[0], sep='')\n",
    "\n",
    "# считываем данные\n",
    "name, surname, patronymic = [input().upper() for _ in range(3)]\n",
    "\n",
    "# вызываем функцию\n",
    "print_fio(name, surname, patronymic)"
   ]
  },
  {
   "cell_type": "markdown",
   "metadata": {},
   "source": [
    "## 5\n",
    "Напишите функцию print_digit_sum(), которая принимает одно целое число num и выводит на печать сумму его цифр."
   ]
  },
  {
   "cell_type": "code",
   "execution_count": 5,
   "metadata": {},
   "outputs": [
    {
     "name": "stdout",
     "output_type": "stream",
     "text": [
      "232\n",
      "7\n"
     ]
    }
   ],
   "source": [
    "# объявление функции\n",
    "def print_digit_sum(num):\n",
    "    su = 0\n",
    "    while num != 0:\n",
    "        su = su + num % 10\n",
    "        num = num // 10\n",
    "    print(su)\n",
    "    \n",
    "# считываем данные\n",
    "n = int(input())\n",
    "\n",
    "# вызываем функцию\n",
    "print_digit_sum(n)"
   ]
  },
  {
   "cell_type": "markdown",
   "metadata": {},
   "source": [
    "## Пример\n",
    "При изучении вещественных чисел мы решали задачу о переводе градусов по шкале Фаренгейта в градусы по шкале Цельсия по формуле  \n",
    "C = 5/9 * (F - 32)"
   ]
  },
  {
   "cell_type": "code",
   "execution_count": 6,
   "metadata": {},
   "outputs": [],
   "source": [
    "def convert_to_celsius(temp):\n",
    "    return (5 / 9) * (temp - 32)"
   ]
  },
  {
   "cell_type": "code",
   "execution_count": 7,
   "metadata": {},
   "outputs": [
    {
     "data": {
      "text/plain": [
       "10.0"
      ]
     },
     "execution_count": 7,
     "metadata": {},
     "output_type": "execute_result"
    }
   ],
   "source": [
    "convert_to_celsius(50)"
   ]
  },
  {
   "cell_type": "markdown",
   "metadata": {},
   "source": [
    "## 6\n",
    "Напишите функцию convert_to_miles(km), которая принимает в качестве аргумента расстояние в километрах и возвращает расстояние в милях. Формула для преобразования: мили = километры * 0.6214."
   ]
  },
  {
   "cell_type": "code",
   "execution_count": 8,
   "metadata": {},
   "outputs": [
    {
     "name": "stdout",
     "output_type": "stream",
     "text": [
      "5\n",
      "3.1069999999999998\n"
     ]
    }
   ],
   "source": [
    "# объявление функции\n",
    "def convert_to_miles(km):\n",
    "    return km * 0.6214\n",
    "\n",
    "# считываем данные\n",
    "num = int(input())\n",
    "\n",
    "# вызываем функцию\n",
    "print(convert_to_miles(num))"
   ]
  },
  {
   "cell_type": "markdown",
   "metadata": {},
   "source": [
    "## 7 \n",
    "Напишите функцию get_days(month), которая принимает в качестве аргумента номер месяца и возвращает количество дней в данном месяце.\n",
    "\n",
    "Примечание 1. Гаранитируется, что передаваемый аргумент находится в диапазоне от 1 до 12.\n",
    "\n",
    "Примечание 2. Считайте, что год является невисокосным."
   ]
  },
  {
   "cell_type": "code",
   "execution_count": 9,
   "metadata": {},
   "outputs": [
    {
     "name": "stdout",
     "output_type": "stream",
     "text": [
      "3\n",
      "31\n"
     ]
    }
   ],
   "source": [
    "# объявление функции\n",
    "def get_days(month):\n",
    "    if month == 2:\n",
    "        result = 28\n",
    "    elif month == 4 or month == 6 or month == 9 or month == 11:\n",
    "        result = 30\n",
    "    else:\n",
    "        result = 31\n",
    "        \n",
    "    return result\n",
    "\n",
    "# считываем данные\n",
    "num = int(input())\n",
    "\n",
    "# вызываем функцию\n",
    "print(get_days(num))"
   ]
  },
  {
   "cell_type": "code",
   "execution_count": 10,
   "metadata": {},
   "outputs": [
    {
     "name": "stdout",
     "output_type": "stream",
     "text": [
      "3\n",
      "31\n"
     ]
    }
   ],
   "source": [
    "# объявление функции\n",
    "def get_days(month):\n",
    "    m = [31, 28, 31, 30, 31, 30, 31, 31, 30, 31, 30, 31]\n",
    "    return m[month - 1]\n",
    "# считываем данные\n",
    "num = int(input())\n",
    "\n",
    "# вызываем функцию\n",
    "print(get_days(num))"
   ]
  },
  {
   "cell_type": "markdown",
   "metadata": {},
   "source": [
    "## 8\n",
    "Напишите функцию get_factors(num), принимающую в качестве аргумента натуральное число и возвращающую список всех делителей данного числа."
   ]
  },
  {
   "cell_type": "code",
   "execution_count": 11,
   "metadata": {},
   "outputs": [
    {
     "name": "stdout",
     "output_type": "stream",
     "text": [
      "12\n",
      "[1, 2, 3, 4, 6, 12]\n"
     ]
    }
   ],
   "source": [
    "# объявление функции\n",
    "def get_factors(num):\n",
    "    a = []\n",
    "    for i in range(1, num + 1):\n",
    "        if num % i == 0:\n",
    "            a.append(i)\n",
    "    return(a)\n",
    "\n",
    "# считываем данные\n",
    "n = int(input())\n",
    "\n",
    "# вызываем функцию\n",
    "print(get_factors(n))"
   ]
  },
  {
   "cell_type": "code",
   "execution_count": 12,
   "metadata": {},
   "outputs": [
    {
     "name": "stdout",
     "output_type": "stream",
     "text": [
      "12\n",
      "[1, 2, 3, 4, 6, 12]\n"
     ]
    }
   ],
   "source": [
    "def get_factors(num):\n",
    "    return [n for n in range(1, num + 1) if num % n == 0]\n",
    "        \n",
    "n = int(input())\n",
    "print(get_factors(n))"
   ]
  },
  {
   "cell_type": "markdown",
   "metadata": {},
   "source": [
    "## 9\n",
    "Напишите функцию number_of_factors(num), принимающую в качестве аргумента число и возвращающую количество делителей данного числа.\n",
    "\n",
    "Примечание 1. Используйте уже реализованную функцию get_factors(num) из предыдущей задачи."
   ]
  },
  {
   "cell_type": "code",
   "execution_count": 13,
   "metadata": {},
   "outputs": [
    {
     "name": "stdout",
     "output_type": "stream",
     "text": [
      "12\n",
      "6\n"
     ]
    }
   ],
   "source": [
    "# объявление функции\n",
    "def number_of_factors(num):\n",
    "    return len([n for n in range(1, num + 1) if num % n == 0])\n",
    "\n",
    "# считываем данные\n",
    "n = int(input())\n",
    "\n",
    "# вызываем функцию\n",
    "print(number_of_factors(n))"
   ]
  },
  {
   "cell_type": "code",
   "execution_count": 14,
   "metadata": {},
   "outputs": [
    {
     "name": "stdout",
     "output_type": "stream",
     "text": [
      "12\n",
      "6\n"
     ]
    }
   ],
   "source": [
    "# объявление функции\n",
    "def get_factors(num):\n",
    "    return [i for i in range(1, num +1) if num % i == 0]\n",
    "\n",
    "def number_of_factors(num):\n",
    "    return len(get_factors(num))\n",
    "\n",
    "# считываем данные\n",
    "n = int(input())\n",
    "\n",
    "# вызываем функцию\n",
    "print(number_of_factors(n))"
   ]
  },
  {
   "cell_type": "markdown",
   "metadata": {},
   "source": [
    "## 10\n",
    "Напишите функцию с именем find_all(target, symbol), которая принимает два аргумента: строку target и символ symbol и возвращает список, содержащий все местоположения этого символа в строке.\n",
    "\n",
    "Примечание 1. Если указанный символ не встречается в строке, то следует вернуть пустой список."
   ]
  },
  {
   "cell_type": "code",
   "execution_count": 18,
   "metadata": {},
   "outputs": [
    {
     "name": "stdout",
     "output_type": "stream",
     "text": [
      "abcdabcaaa\n",
      "a\n",
      "[0, 4, 7, 8, 9]\n"
     ]
    }
   ],
   "source": [
    "# объявление функции\n",
    "def find_all(target, symbol):\n",
    "    return [x for x in range(len(target)) if target[x] == symbol]\n",
    "\n",
    "# считываем данные\n",
    "s = input()\n",
    "char = input()\n",
    "\n",
    "# вызываем функцию\n",
    "print(find_all(s, char))"
   ]
  },
  {
   "cell_type": "markdown",
   "metadata": {},
   "source": [
    "## 11\n",
    "Напишите функцию merge(list1, list2), которая принимает в качестве аргументов два отсортированных по возрастанию списка, состоящих из целых чисел, и объединяет их в один отсортированный список.\n",
    "\n",
    "Примечание 1. Списки list1 и list2 могут иметь разную длину.  \n",
    "Примечание 2. Можно использовать списочный метод sort(), а можно обойтись и без него"
   ]
  },
  {
   "cell_type": "code",
   "execution_count": 22,
   "metadata": {},
   "outputs": [
    {
     "name": "stdout",
     "output_type": "stream",
     "text": [
      "1 2 5\n",
      "3 7 0\n",
      "[0, 1, 2, 3, 5, 7]\n"
     ]
    }
   ],
   "source": [
    "def merge(list1, list2):\n",
    "    return sorted(list1 + list2)\n",
    "\n",
    "# считываем данные\n",
    "numbers1 = [int(c) for c in input().split()]\n",
    "numbers2 = [int(c) for c in input().split()]\n",
    "\n",
    "# вызываем функцию\n",
    "print(merge(numbers1, numbers2))"
   ]
  },
  {
   "cell_type": "markdown",
   "metadata": {},
   "source": [
    "## 12\n",
    "На вход программе подается число n, а затем n строк, содержащих целые числа в порядке возрастания. Из данных строк формируются списки чисел. Напишите программу, которая объединяет указанные списки в один отсортированный список с помощью функции quick_merge(), а затем выводит его."
   ]
  },
  {
   "cell_type": "code",
   "execution_count": 23,
   "metadata": {},
   "outputs": [
    {
     "name": "stdout",
     "output_type": "stream",
     "text": [
      "3\n",
      "1 2 3 4\n",
      "5 6 7\n",
      "10 11 17\n",
      "1 2 3 4 5 6 7 10 11 17\n"
     ]
    }
   ],
   "source": [
    "def quick_merge(list1, list2):\n",
    "    result = []\n",
    "\n",
    "    p1 = 0  # указатель на первый элемент списка list1\n",
    "    p2 = 0  # указатель на первый элемент списка list2\n",
    "\n",
    "    while p1 < len(list1) and p2 < len(list2):  # пока не закончился хотя бы один список\n",
    "        if list1[p1] <= list2[p2]:\n",
    "            result.append(list1[p1])\n",
    "            p1 += 1\n",
    "        else:\n",
    "            result.append(list2[p2])\n",
    "            p2 += 1\n",
    "\n",
    "    if p1 < len(list1):   # прицепление остатка\n",
    "        result += list1[p1:]\n",
    "    if p2 < len(list2):\n",
    "        result += list2[p2:]\n",
    "    \n",
    "    return result\n",
    "\n",
    "n = int(input())\n",
    "list1 = []\n",
    "for i in range(n):\n",
    "    listi = [int(i) for i in input().split()]\n",
    "    list1 = quick_merge(list1, listi)\n",
    "    \n",
    "print(*list1)"
   ]
  },
  {
   "cell_type": "markdown",
   "metadata": {},
   "source": [
    "## 13\n",
    "Напишите функцию is_valid_triangle(side1, side2, side3), которая принимает в качестве аргументов три натуральных числа, и возвращает значение True если существует невырожденный треугольник со сторонами side1, side2, side3 и False в противном случае."
   ]
  },
  {
   "cell_type": "code",
   "execution_count": 24,
   "metadata": {},
   "outputs": [
    {
     "name": "stdout",
     "output_type": "stream",
     "text": [
      "2\n",
      "2\n",
      "2\n",
      "True\n"
     ]
    }
   ],
   "source": [
    "# объявление функции\n",
    "def is_valid_triangle(side1, side2, side3):\n",
    "    if side1 < side2 + side3 and side2 < side1 + side3 and side3 < side2 + side1:\n",
    "        return True\n",
    "    else:\n",
    "        return False\n",
    "\n",
    "# считываем данные\n",
    "a, b, c = int(input()), int(input()), int(input())\n",
    "\n",
    "# вызываем функцию\n",
    "print(is_valid_triangle(a, b, c))"
   ]
  },
  {
   "cell_type": "markdown",
   "metadata": {},
   "source": [
    "## 14\n",
    "Напишите функцию is_prime(num), которая принимает в качестве аргумента натуральное число и возвращает значение True если число является простым и False в противном случае."
   ]
  },
  {
   "cell_type": "code",
   "execution_count": 25,
   "metadata": {},
   "outputs": [
    {
     "name": "stdout",
     "output_type": "stream",
     "text": [
      "5\n",
      "True\n"
     ]
    }
   ],
   "source": [
    "# объявление функции\n",
    "def is_prime(num):   \n",
    "    flag = True\n",
    "    for i in range(2, int(num ** 0.5) + 1):\n",
    "        if num % i == 0:\n",
    "            flag = False\n",
    "            break\n",
    "            \n",
    "    if num > 1 and flag == True:\n",
    "        return True\n",
    "    else:\n",
    "        return False\n",
    "\n",
    "# считываем данные\n",
    "n = int(input())\n",
    "\n",
    "# вызываем функцию\n",
    "print(is_prime(n))"
   ]
  },
  {
   "cell_type": "markdown",
   "metadata": {},
   "source": [
    "## 15\n",
    "Напишите функцию get_next_prime(num), которая принимает в качестве аргумента натуральное число num и возвращает первое простое число большее числа num.\n",
    "\n",
    "Примечание 1. Используйте функцию is_prime() из предыдущей задачи."
   ]
  },
  {
   "cell_type": "code",
   "execution_count": 26,
   "metadata": {},
   "outputs": [
    {
     "name": "stdout",
     "output_type": "stream",
     "text": [
      "5\n",
      "7\n"
     ]
    }
   ],
   "source": [
    "def is_prime(num):\n",
    "    if num == 1:\n",
    "        return False\n",
    "    for i in range(2, num):\n",
    "        if num % i == 0:\n",
    "            return False\n",
    "    return True\n",
    "\n",
    "def get_next_prime(num):\n",
    "    m = num + 1\n",
    "    while is_prime(m) == False:\n",
    "        m += 1\n",
    "    return m   \n",
    "\n",
    "n = int(input())\n",
    "print(get_next_prime(n))"
   ]
  },
  {
   "cell_type": "markdown",
   "metadata": {},
   "source": [
    "## 16\n",
    "Напишите функцию is_password_good(password), которая принимает в качестве аргумента строковое значение пароля password и возвращает значение True если пароль является надежным и False в противном случае.  \n",
    "\n",
    "Пароль является надежным если:  \n",
    "его длина не менее 8 символов;   \n",
    "он содержит как минимум одну заглавную букву (верхний регистр);   \n",
    "он содержит как минимум одну строчную букву (нижний регистр);  \n",
    "он содержит хотя бы одну цифру."
   ]
  },
  {
   "cell_type": "code",
   "execution_count": 27,
   "metadata": {},
   "outputs": [
    {
     "name": "stdout",
     "output_type": "stream",
     "text": [
      "aabbCC11OP\n",
      "True\n"
     ]
    }
   ],
   "source": [
    "# объявление функции\n",
    "def is_password_good(password):\n",
    "    if len(password) < 8:\n",
    "        return False\n",
    "    flag1 = False\n",
    "    flag2 = False\n",
    "    flag3 = False\n",
    "    for c in password:\n",
    "        if c.isupper():\n",
    "            flag1 = True\n",
    "        elif c.islower():\n",
    "            flag2 = True\n",
    "        elif c.isdigit():\n",
    "            flag3 = True\n",
    "    return flag1 and flag2 and flag3 \n",
    "\n",
    "# считываем данные\n",
    "txt = input()\n",
    "\n",
    "# вызываем функцию\n",
    "print(is_password_good(txt))"
   ]
  },
  {
   "cell_type": "markdown",
   "metadata": {},
   "source": [
    "## 17\n",
    "Напишите функцию is_one_away(word1, word2), которая принимает в качестве аргументов два слова word1 и word2 и возвращает значение True если слова имеют одинаковую длину и отличаются ровно в 1 символе и False в противном случае."
   ]
  },
  {
   "cell_type": "code",
   "execution_count": 28,
   "metadata": {},
   "outputs": [
    {
     "name": "stdout",
     "output_type": "stream",
     "text": [
      "bike\n",
      "hike\n",
      "True\n"
     ]
    }
   ],
   "source": [
    "# объявление функции\n",
    "def is_one_away(word1, word2):\n",
    "    if len(word1) != len(word2):\n",
    "        return False\n",
    "    else:\n",
    "        counter = 0  \n",
    "        for c in range(0, len(word1)):\n",
    "            if word1[c] != word2[c]:\n",
    "                counter += 1\n",
    "        if counter == 0 or counter >= 2:\n",
    "            return False\n",
    "    return True\n",
    "            \n",
    "\n",
    "# считываем данные\n",
    "txt1 = input()\n",
    "txt2 = input()\n",
    "\n",
    "# вызываем функцию\n",
    "print(is_one_away(txt1, txt2))"
   ]
  },
  {
   "cell_type": "markdown",
   "metadata": {},
   "source": [
    "## 18\n",
    "Напишите функцию is_palindrome(text), которая принимает в качестве аргумента строку text и возвращает значение True если указанный текст является палиндромом и False в противном случае.\n",
    "\n",
    "Примечание 1. Палиндром – это строка, которая читается одинаково в обоих направлениях\n",
    "\n",
    "Примечание 2. При проверке считайте большие и маленькие буквы одинаковыми, а также игнорируйте пробелы, а также символы , . ! ? -."
   ]
  },
  {
   "cell_type": "code",
   "execution_count": 29,
   "metadata": {},
   "outputs": [
    {
     "name": "stdout",
     "output_type": "stream",
     "text": [
      "А роза упала на лапу Азора.\n",
      "True\n"
     ]
    }
   ],
   "source": [
    "# объявление функции\n",
    "def is_palindrome(text):\n",
    "    symbols = [' ', ',', '.', '!', '?', '-']\n",
    "    for c in symbols:\n",
    "        text = text.replace(c, '')\n",
    "    text = text.lower()\n",
    "    return text == text[::-1]\n",
    "\n",
    "# считываем данные\n",
    "txt = input()\n",
    "\n",
    "# вызываем функцию\n",
    "print(is_palindrome(txt))"
   ]
  },
  {
   "cell_type": "markdown",
   "metadata": {},
   "source": [
    "## 19\n",
    "Действительный пароль банка имеет вид a:b:c, где a, b и c – натуральные числа.  \n",
    "\n",
    "число a – должно быть палиндромом;  \n",
    "число b – должно быть простым;  \n",
    "число c – должно быть четным.  \n",
    "\n",
    "Напишите функцию is_valid_password(password), которая принимает в качестве аргумента строковое значение пароля password и возвращает значение True если пароль является действительным паролем банка и False в противном случае."
   ]
  },
  {
   "cell_type": "code",
   "execution_count": 30,
   "metadata": {},
   "outputs": [
    {
     "name": "stdout",
     "output_type": "stream",
     "text": [
      "1221:101:22\n",
      "True\n"
     ]
    }
   ],
   "source": [
    "# объявление функции\n",
    "def is_valid_password(password): \n",
    "    if len(password) != 3:\n",
    "        return False\n",
    "    a, b, c = password[0], password[1], password[2]    \n",
    "    if a != a[::-1] and int(c) % 2 != 0:\n",
    "        return False\n",
    "        \n",
    "    b = int(b)\n",
    "    if b < 2:\n",
    "        return False\n",
    "    \n",
    "    for i in range(2, int(b ** 0.5) + 1):\n",
    "        if b % i == 0:\n",
    "            return False\n",
    "        else:    \n",
    "            return True \n",
    "\n",
    "# считываем данные\n",
    "psw = input().split(':')\n",
    "\n",
    "# вызываем функцию\n",
    "print(is_valid_password(psw))"
   ]
  },
  {
   "cell_type": "markdown",
   "metadata": {},
   "source": [
    "## 20\n",
    "Напишите функцию is_correct_bracket(text), которая принимает в качестве аргумента непустую строку text, состоящую из символов ( и ) и возвращает значение True если поступившая на вход строка является правильной скобочной последовательностью и False в противном случае.\n",
    "\n",
    "Примечание 1. Правильной скобочной последовательностью называется строка, состоящая только из символов ( и ), где каждой открывающей скобке найдется парная закрывающая скобка."
   ]
  },
  {
   "cell_type": "code",
   "execution_count": 31,
   "metadata": {},
   "outputs": [
    {
     "name": "stdout",
     "output_type": "stream",
     "text": [
      "()(()())\n",
      "True\n"
     ]
    }
   ],
   "source": [
    "# объявление функции\n",
    "def is_correct_bracket(text):\n",
    "    while '()' in text:\n",
    "        text = text.replace('()', '')\n",
    "\n",
    "    return not text\n",
    " \n",
    "# считываем данные\n",
    "txt = input()\n",
    "\n",
    "# вызываем функцию\n",
    "print(is_correct_bracket(txt))"
   ]
  },
  {
   "cell_type": "markdown",
   "metadata": {},
   "source": [
    "## 21\n",
    "Напишите функцию convert_to_python_case(text), которая принимает в качестве аргумента строку в «верблюжьем регистре» и преобразует его в «змеиный регистр»."
   ]
  },
  {
   "cell_type": "code",
   "execution_count": 32,
   "metadata": {},
   "outputs": [
    {
     "name": "stdout",
     "output_type": "stream",
     "text": [
      "ThisIsCamelCased\n",
      "this_is_camel_cased\n"
     ]
    }
   ],
   "source": [
    "# объявление функции\n",
    "def convert_to_python_case(text):\n",
    "    snake_reg = ''\n",
    "    for i in text:\n",
    "        if i.isupper():\n",
    "            snake_reg += '_' + i.lower()\n",
    "        else:\n",
    "            snake_reg += i\n",
    "    return snake_reg.lstrip('_')\n",
    "\n",
    "# считываем данные\n",
    "txt = input()\n",
    "\n",
    "# вызываем функцию\n",
    "print(convert_to_python_case(txt))"
   ]
  },
  {
   "cell_type": "markdown",
   "metadata": {},
   "source": [
    "## 22\n",
    "Напишите функцию get_middle_point(x1, y1, x2, y2), которая принимает в качестве аргументов координаты концов отрезка (x_1; y_1) (x_2; y_2) и возвращает координаты точки являющейся серединой данного отрезка."
   ]
  },
  {
   "cell_type": "code",
   "execution_count": 33,
   "metadata": {},
   "outputs": [
    {
     "name": "stdout",
     "output_type": "stream",
     "text": [
      "1\n",
      "5\n",
      "8\n",
      "3\n",
      "4.5 4.0\n"
     ]
    }
   ],
   "source": [
    "# объявление функции\n",
    "def get_middle_point(x1, y1, x2, y2):\n",
    "    return float(x1 + x2) / 2, float(y1 + y2) / 2\n",
    "\n",
    "# считываем данные\n",
    "x_1, y_1 = int(input()), int(input())\n",
    "x_2, y_2 = int(input()), int(input())\n",
    "\n",
    "# вызываем функцию\n",
    "x, y = get_middle_point(x_1, y_1, x_2, y_2)\n",
    "print(x, y)"
   ]
  },
  {
   "cell_type": "markdown",
   "metadata": {},
   "source": [
    "## 23\n",
    "Напишите функцию get_circle(radius), которая принимает в качестве аргумента радиус окружности и возвращает два значения: длину окружности и площадь круга, ограниченного данной окружностью."
   ]
  },
  {
   "cell_type": "code",
   "execution_count": 34,
   "metadata": {},
   "outputs": [
    {
     "name": "stdout",
     "output_type": "stream",
     "text": [
      "1\n",
      "6.283185307179586 3.141592653589793\n"
     ]
    }
   ],
   "source": [
    "# объявление функции\n",
    "from math import pi\n",
    "\n",
    "def get_circle(radius):\n",
    "    c = 2 * pi * radius\n",
    "    s = pi * radius ** 2\n",
    "    return c, s\n",
    "\n",
    "# считываем данные\n",
    "r = float(input())\n",
    "\n",
    "# вызываем функцию\n",
    "length, square = get_circle(r)\n",
    "print(length, square)"
   ]
  },
  {
   "cell_type": "markdown",
   "metadata": {},
   "source": [
    "## 24\n",
    "Напишите функцию solve(a, b, c), которая принимает в качестве аргументов три целых числа a, b, c – коэффициенты квадратного уравнения ax^2+bx+c = 0\n",
    "и возвращает его корни в порядке возрастания."
   ]
  },
  {
   "cell_type": "code",
   "execution_count": 35,
   "metadata": {},
   "outputs": [
    {
     "name": "stdout",
     "output_type": "stream",
     "text": [
      "1\n",
      "2\n",
      "1\n",
      "-1.0 -1.0\n"
     ]
    }
   ],
   "source": [
    "from math import pow, sqrt\n",
    "\n",
    "# объявление функции\n",
    "def solve(a, b, c):\n",
    "    d = pow(b, 2) - 4 * a * c   \n",
    "    x1 = ((- b + sqrt(d)) / (2 * a))\n",
    "    x2 = ((- b - sqrt(d)) / (2 * a))\n",
    "    \n",
    "    return min(x1, x2), max(x1, x2)\n",
    "    \n",
    "    \n",
    "# считываем данные\n",
    "a, b, c = int(input()), int(input()), int(input())\n",
    "\n",
    "# вызываем функцию\n",
    "x1, x2 = solve(a, b, c)\n",
    "print(x1, x2)"
   ]
  },
  {
   "cell_type": "markdown",
   "metadata": {},
   "source": [
    "## 25\n",
    "Напишите функцию draw_triangle(), которая выводит звездный равнобедренный треугольник с основанием и высотой равными 15 и 8 соответственно:"
   ]
  },
  {
   "cell_type": "code",
   "execution_count": 36,
   "metadata": {},
   "outputs": [
    {
     "name": "stdout",
     "output_type": "stream",
     "text": [
      "       *\n",
      "      ***\n",
      "     *****\n",
      "    *******\n",
      "   *********\n",
      "  ***********\n",
      " *************\n",
      "***************\n"
     ]
    }
   ],
   "source": [
    "# объявление функции\n",
    "def draw_triangle():\n",
    "    m = 15\n",
    "    for i in range(1, m + 1, 2):\n",
    "        print(' ' * ((m - i) // 2) + '*' * i)\n",
    "        \n",
    "# вызов функции\n",
    "draw_triangle()  "
   ]
  },
  {
   "cell_type": "markdown",
   "metadata": {},
   "source": [
    "## 26 \n",
    "Интернет магазин осуществляет экспресс доставку для своих товаров по цене 1000 рублей за первый товар и 120 рублей за каждый последующий товар.  \n",
    "Напишите функцию get_shipping_cost(quantity), которая принимает в качестве аргумента натуральное число quantity – количество товаров в заказе и возвращает стоимость доставки."
   ]
  },
  {
   "cell_type": "code",
   "execution_count": 37,
   "metadata": {},
   "outputs": [
    {
     "name": "stdout",
     "output_type": "stream",
     "text": [
      "2\n",
      "1120\n"
     ]
    }
   ],
   "source": [
    "# объявление функции\n",
    "def get_shipping_cost(quantity):\n",
    "    if quantity > 0:\n",
    "        return 1000 + (quantity - 1) * 120\n",
    "\n",
    "# считываем данные\n",
    "n = int(input())\n",
    "\n",
    "# вызываем функцию\n",
    "print(get_shipping_cost(n))"
   ]
  },
  {
   "cell_type": "markdown",
   "metadata": {},
   "source": [
    "## 27\n",
    "Напишите функцию compute_binom(n, k), которая принимает в качестве аргументов два натуральных числа n и k и возвращает значение биномиального коэффициента.  \n",
    "Факториалом натурального числа n, называется произведение всех натуральных чисел от 1 до n."
   ]
  },
  {
   "cell_type": "code",
   "execution_count": 38,
   "metadata": {},
   "outputs": [
    {
     "name": "stdout",
     "output_type": "stream",
     "text": [
      "3\n",
      "6\n"
     ]
    }
   ],
   "source": [
    "def factorial(n):\n",
    "    total = 1\n",
    "    for i in range(1, n + 1):\n",
    "        total *= i\n",
    "    return total\n",
    "\n",
    "nu = int(input())\n",
    "print(factorial(nu))"
   ]
  },
  {
   "cell_type": "code",
   "execution_count": 39,
   "metadata": {},
   "outputs": [
    {
     "name": "stdout",
     "output_type": "stream",
     "text": [
      "3\n",
      "6\n",
      "0\n"
     ]
    }
   ],
   "source": [
    "def factorial(n):\n",
    "    total = 1\n",
    "    for i in range(1, n + 1):\n",
    "        total *= i\n",
    "    return total\n",
    "\n",
    "def compute_binom(n, k):\n",
    "    return int(factorial(n) / ((factorial(k)) * (factorial(n - k))))\n",
    "    \n",
    "# считываем данные\n",
    "n = int(input())\n",
    "k = int(input())\n",
    "\n",
    "# вызываем функцию\n",
    "print(compute_binom(n, k))"
   ]
  },
  {
   "cell_type": "markdown",
   "metadata": {},
   "source": [
    "## 28\n",
    "Напишите функцию number_to_words(num), которая принимает в качестве аргумента натуральное число num и возвращает его словесное описание на русском языке."
   ]
  },
  {
   "cell_type": "code",
   "execution_count": 40,
   "metadata": {},
   "outputs": [
    {
     "name": "stdout",
     "output_type": "stream",
     "text": [
      "7\n",
      "семь\n"
     ]
    }
   ],
   "source": [
    "# объявление функции\n",
    "def number_to_words(num):\n",
    "    s = ['один', 'два', 'три', 'четыре', 'пять', 'шесть', 'семь', 'восемь', 'девять', 'десять', 'одиннадцать', 'двенадцать', 'тринадцать', 'четырнадцать', 'пятнадцать', 'шестнадцать', 'семнадцать', 'восемнадцать', 'девятнадцать', 'двадцать', 'тридцать', 'сорок', 'пятьдесят', 'шестьдесят', 'семьдесят', 'восемьдесят', 'девяносто','']\n",
    "    if num <= 20:\n",
    "        return s[num - 1]\n",
    "    else:\n",
    "        return s[num // 10 - 1 + 18] + ' ' + s[num % 10 - 1]\n",
    "\n",
    "# считываем данные\n",
    "n = int(input())\n",
    "\n",
    "# вызываем функцию\n",
    "print(number_to_words(n))"
   ]
  },
  {
   "cell_type": "markdown",
   "metadata": {},
   "source": [
    "## 29\n",
    "Напишите функцию get_month(language, number), которая принимает на вход два аргумента language – язык ru или en и number – номер месяца (от 1 до 12) и возвращает название месяца на русском или английском языке."
   ]
  },
  {
   "cell_type": "code",
   "execution_count": 41,
   "metadata": {},
   "outputs": [
    {
     "name": "stdout",
     "output_type": "stream",
     "text": [
      "en\n",
      "3\n",
      "march\n"
     ]
    }
   ],
   "source": [
    "language = input()\n",
    "num = int(input())\n",
    "\n",
    "ru = ['январь', 'февраль', 'март', 'апрель', 'май', 'июнь', 'июль', 'август', 'сентябрь', 'октябрь','ноябрь', 'декабрь']\n",
    "en = ['january', 'february', 'march', 'april', 'may', 'june', 'july', 'august', 'september', 'october', 'november', 'december']\n",
    "   \n",
    "if language == 'ru':\n",
    "    print(ru[num - 1])\n",
    "else:\n",
    "    print(en[num - 1])"
   ]
  },
  {
   "cell_type": "markdown",
   "metadata": {},
   "source": [
    "## 30\n",
    "Магическая дата – это дата, когда день, умноженный на месяц, равен числу образованному последними двумя цифрами года.\n",
    "\n",
    "Напишите функцию, is_magic(date) которая принимает в качестве аргумента строковое представление корректой даты и возвращает значение True если дата является магической и False в противном случае."
   ]
  },
  {
   "cell_type": "code",
   "execution_count": 42,
   "metadata": {},
   "outputs": [
    {
     "name": "stdout",
     "output_type": "stream",
     "text": [
      "10.06.1960\n",
      "True\n"
     ]
    }
   ],
   "source": [
    "# объявление функции\n",
    "def is_magic(date):\n",
    "    day, month, year = date[0], date[1], date[2]\n",
    "    \n",
    "    if (int(day) * int(month)) == int(year[2:]):\n",
    "        return True\n",
    "    else:\n",
    "        return False\n",
    "\n",
    "# считываем данные\n",
    "date = input().split('.')\n",
    "\n",
    "# вызываем функцию\n",
    "print(is_magic(date))"
   ]
  },
  {
   "cell_type": "markdown",
   "metadata": {},
   "source": [
    "## 31\n",
    "Панграмма – это фраза, содержащая в себе все буквы алфавита. Обычно панграммы используют для презентации шрифтов, чтобы можно было в одной фразе рассмотреть все глифы.\n",
    "\n",
    "Напишите функцию, is_pangram(text) которая принимает в качестве аргумента строку текста на английском языке и возвращает значение True если текст является панграммой и False в противном случае.\n",
    "\n",
    "Примечание 1. Гарантируется, что введенная строка содержит только буквы английского алфавита."
   ]
  },
  {
   "cell_type": "code",
   "execution_count": 43,
   "metadata": {},
   "outputs": [
    {
     "name": "stdout",
     "output_type": "stream",
     "text": [
      "Jackdaws love my big sphinx of quartz\n",
      "True\n"
     ]
    }
   ],
   "source": [
    "# объявление функции\n",
    "def is_pangram(text):\n",
    "    letters = \"abcdefghijklmnopqrstuvwxyz\"\n",
    "\n",
    "    for i in range(0, len(letters)):    \n",
    "        if letters[i] not in text.lower():\n",
    "            return False      \n",
    "        else:\n",
    "            return True\n",
    "\n",
    "# считываем данные\n",
    "text = input().strip(' ')\n",
    "\n",
    "# вызываем функцию\n",
    "print(is_pangram(text))"
   ]
  },
  {
   "cell_type": "code",
   "execution_count": null,
   "metadata": {},
   "outputs": [],
   "source": []
  }
 ],
 "metadata": {
  "kernelspec": {
   "display_name": "Python 3",
   "language": "python",
   "name": "python3"
  },
  "language_info": {
   "codemirror_mode": {
    "name": "ipython",
    "version": 3
   },
   "file_extension": ".py",
   "mimetype": "text/x-python",
   "name": "python",
   "nbconvert_exporter": "python",
   "pygments_lexer": "ipython3",
   "version": "3.7.9"
  }
 },
 "nbformat": 4,
 "nbformat_minor": 4
}
