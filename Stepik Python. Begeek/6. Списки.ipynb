{
 "cells": [
  {
   "cell_type": "markdown",
   "metadata": {},
   "source": [
    "## 1 \n",
    "На вход программе подается одно число n. Напишите программу, которая выводит список [1, 2, 3, ..., n]"
   ]
  },
  {
   "cell_type": "code",
   "execution_count": 1,
   "metadata": {},
   "outputs": [
    {
     "name": "stdout",
     "output_type": "stream",
     "text": [
      "5\n",
      "[1, 2, 3, 4, 5]\n"
     ]
    }
   ],
   "source": [
    "n = int(input())\n",
    "nums = list(range(1, n + 1))\n",
    "print(nums)"
   ]
  },
  {
   "cell_type": "code",
   "execution_count": 2,
   "metadata": {},
   "outputs": [
    {
     "name": "stdout",
     "output_type": "stream",
     "text": [
      "5\n",
      "[1, 2, 3, 4, 5]\n"
     ]
    }
   ],
   "source": [
    "print([i + 1 for i in range(int(input()))])"
   ]
  },
  {
   "cell_type": "markdown",
   "metadata": {},
   "source": [
    "## 2\n",
    "На вход программе подается одно число n. Напишите программу, которая выводит список, состоящий из nn букв английского алфавита ['a', 'b', 'c', ...] в нижнем регистре.  \n",
    "На вход программе подается натуральное число n, n ≤ 26."
   ]
  },
  {
   "cell_type": "code",
   "execution_count": 3,
   "metadata": {},
   "outputs": [
    {
     "name": "stdout",
     "output_type": "stream",
     "text": [
      "5\n",
      "['a', 'b', 'c', 'd', 'e']\n"
     ]
    }
   ],
   "source": [
    "n = int(input())\n",
    "s = 'abcdefghijklmnopqrstuvwxyz'\n",
    "print(list(s[:n]))"
   ]
  },
  {
   "cell_type": "markdown",
   "metadata": {},
   "source": [
    "## 3 \n",
    "Дополните приведенный код, используя индексатор, так чтобы он вывел 17-ый элемент списка primes."
   ]
  },
  {
   "cell_type": "code",
   "execution_count": 4,
   "metadata": {},
   "outputs": [
    {
     "name": "stdout",
     "output_type": "stream",
     "text": [
      "59\n"
     ]
    }
   ],
   "source": [
    "primes = [2, 3, 5, 7, 11, 13, 17, 19, 23, 29, 31, 37, 41, 43, 47, 53, 59, 61, 67, 71]\n",
    "\n",
    "print(primes[16])"
   ]
  },
  {
   "cell_type": "markdown",
   "metadata": {},
   "source": [
    "## 4\n",
    "Дополните приведенный код, используя индексатор, так чтобы он вывел последний элемент списка primes"
   ]
  },
  {
   "cell_type": "code",
   "execution_count": 5,
   "metadata": {},
   "outputs": [
    {
     "name": "stdout",
     "output_type": "stream",
     "text": [
      "71\n"
     ]
    }
   ],
   "source": [
    "primes = [2, 3, 5, 7, 11, 13, 17, 19, 23, 29, 31, 37, 41, 43, 47, 53, 59, 61, 67, 71]\n",
    "\n",
    "print(primes[-1])"
   ]
  },
  {
   "cell_type": "markdown",
   "metadata": {},
   "source": [
    "## 5\n",
    "Дополните приведенный код, используя срезы, так чтобы он вывел первые 6 элементов списка primes.\n",
    "\n",
    "Примечание. Результатом вывода должна быть строка [2, 3, 5, 7, 11, 13]."
   ]
  },
  {
   "cell_type": "code",
   "execution_count": 6,
   "metadata": {},
   "outputs": [
    {
     "name": "stdout",
     "output_type": "stream",
     "text": [
      "[2, 3, 5, 7, 11, 13]\n"
     ]
    }
   ],
   "source": [
    "primes = [2, 3, 5, 7, 11, 13, 17, 19, 23, 29, 31, 37, 41, 43, 47, 53, 59, 61, 67, 71]\n",
    "\n",
    "print(primes[:6])"
   ]
  },
  {
   "cell_type": "markdown",
   "metadata": {},
   "source": [
    "## 6\n",
    "Дополните приведенный код, так чтобы он вывел сумму минимального и максимального элементов списка numbers."
   ]
  },
  {
   "cell_type": "code",
   "execution_count": 7,
   "metadata": {},
   "outputs": [
    {
     "name": "stdout",
     "output_type": "stream",
     "text": [
      "13.6618\n"
     ]
    }
   ],
   "source": [
    "numbers = [12.5, 3.1415, 2.718, 9.8, 1.414, 1.1618, 1.324]\n",
    "\n",
    "print((min(numbers) + max(numbers)))"
   ]
  },
  {
   "cell_type": "markdown",
   "metadata": {},
   "source": [
    "## 7 \n",
    "Дополните приведенный код, так чтобы он вывел среднее арифметическое элементов списка evens."
   ]
  },
  {
   "cell_type": "code",
   "execution_count": 8,
   "metadata": {},
   "outputs": [
    {
     "name": "stdout",
     "output_type": "stream",
     "text": [
      "11.0\n"
     ]
    }
   ],
   "source": [
    "evens = [2, 4, 6, 8, 10, 12, 14, 16, 18, 20]\n",
    "average = sum(evens) / len(evens)\n",
    "\n",
    "print(average)"
   ]
  },
  {
   "cell_type": "markdown",
   "metadata": {},
   "source": [
    "## 8\n",
    "Дополните приведенный код, так чтобы элемент списка имеющий значение Green заменился на значений Зеленый, а элемент Violet на Фиолетовый. Далее необходимо вывести полученный список."
   ]
  },
  {
   "cell_type": "code",
   "execution_count": 9,
   "metadata": {},
   "outputs": [
    {
     "name": "stdout",
     "output_type": "stream",
     "text": [
      "['Red', 'Orange', 'Yellow', 'Зеленый', 'Blue', 'Indigo', 'Фиолетовый']\n"
     ]
    }
   ],
   "source": [
    "rainbow = ['Red', 'Orange', 'Yellow', 'Green', 'Blue', 'Indigo', 'Violet']\n",
    "\n",
    "rainbow[-1] = 'Фиолетовый'\n",
    "rainbow[3] = 'Зеленый'  \n",
    "\n",
    "print(rainbow)"
   ]
  },
  {
   "cell_type": "markdown",
   "metadata": {},
   "source": [
    "## 9\n",
    "Дополните приведенный код, так чтобы он вывел элементы списка languages в обратном порядке.\n",
    "\n",
    "Примечание. Для вывода списка воспользуйтесь функцией print()."
   ]
  },
  {
   "cell_type": "code",
   "execution_count": 10,
   "metadata": {},
   "outputs": [
    {
     "name": "stdout",
     "output_type": "stream",
     "text": [
      "['Lahnda', 'Japanese', 'Russian', 'Portuguese', 'Bengali', 'Arabic', 'Hindi', 'English', 'Spanish', 'Chinese']\n"
     ]
    }
   ],
   "source": [
    "languages = ['Chinese', 'Spanish', 'English', 'Hindi', 'Arabic', 'Bengali', 'Portuguese', 'Russian', 'Japanese', 'Lahnda']\n",
    "print(languages[::-1])"
   ]
  },
  {
   "cell_type": "markdown",
   "metadata": {},
   "source": [
    "## 10\n",
    "Дополните приведенный код, используя операторы конкатенации (+) и умножения списка на число (*), так чтобы он вывел список:\n",
    "\n",
    "[1, 2, 3, 1, 2, 3, 6, 6, 6, 6, 6, 6, 6, 6, 6, 7, 8, 9, 10, 11, 12, 13]"
   ]
  },
  {
   "cell_type": "code",
   "execution_count": 11,
   "metadata": {},
   "outputs": [
    {
     "name": "stdout",
     "output_type": "stream",
     "text": [
      "[1, 2, 3, 1, 2, 3, 6, 6, 6, 6, 6, 6, 6, 6, 6, 7, 8, 9, 10, 11, 12, 13]\n"
     ]
    }
   ],
   "source": [
    "numbers1 = [1, 2, 3]\n",
    "numbers2 = [6]\n",
    "numbers3 = [7, 8, 9, 10, 11, 12, 13]\n",
    "\n",
    "print(numbers1 * 2 + numbers2 * 9 + numbers3)"
   ]
  },
  {
   "cell_type": "markdown",
   "metadata": {},
   "source": [
    "## 11\n",
    "Дополните приведенный код, чтобы он:\n",
    "\n",
    "Вывел длину списка;  \n",
    "Вывел последний элемент списка;  \n",
    "Вывел список в обратном порядке (вспоминаем срезы);  \n",
    "Вывел YES если список содержит числа 5 и 17, и NO в противном случае;  \n",
    "Вывел список с удаленным первым и последним элементами.  \n",
    "Примечание. Каждый вывод осуществлять с новой строки.  "
   ]
  },
  {
   "cell_type": "code",
   "execution_count": 12,
   "metadata": {},
   "outputs": [
    {
     "name": "stdout",
     "output_type": "stream",
     "text": [
      "50\n",
      "5\n",
      "[5, 7, 6, 16, 14, 2, 1, 15, 1, 9, 14, 10, 2, 1, 12, 6, 5, 14, 12, 2, 8, 14, 6, 0, 0, 12, 10, 10, 11, 1, 5, 8, 10, 10, 16, 8, 0, 1, 16, 4, 5, 12, 16, 11, 4, 10, 14, 3, 6, 2]\n",
      "NO\n",
      "[6, 3, 14, 10, 4, 11, 16, 12, 5, 4, 16, 1, 0, 8, 16, 10, 10, 8, 5, 1, 11, 10, 10, 12, 0, 0, 6, 14, 8, 2, 12, 14, 5, 6, 12, 1, 2, 10, 14, 9, 1, 15, 1, 2, 14, 16, 6, 7]\n"
     ]
    }
   ],
   "source": [
    "numbers = [2, 6, 3, 14, 10, 4, 11, 16, 12, 5, 4, 16, 1, 0, 8, 16, 10, 10, 8, 5, 1, 11, 10, 10, 12, 0, 0, 6, 14, 8, 2, 12, 14, 5, 6, 12, 1, 2, 10, 14, 9, 1, 15, 1, 2, 14, 16, 6, 7, 5]\n",
    "print(len(numbers))\n",
    "print(numbers[-1])\n",
    "print(numbers[::-1])\n",
    "if 5 and 17 in numbers:\n",
    "    print('YES')\n",
    "else:\n",
    "    print('NO')\n",
    "del numbers[0]\n",
    "del numbers[-1]\n",
    "print(numbers)"
   ]
  },
  {
   "cell_type": "markdown",
   "metadata": {},
   "source": [
    "## 12\n",
    "На вход программе подается натуральное число n, а затем n строк. Напишите программу, которая создает из указанных строк список и выводит его."
   ]
  },
  {
   "cell_type": "code",
   "execution_count": 13,
   "metadata": {},
   "outputs": [
    {
     "name": "stdout",
     "output_type": "stream",
     "text": [
      "5\n",
      "привет\n",
      "\n",
      "6\n",
      "6\n",
      "привет\n",
      "['привет', '', '6', '6', 'привет']\n"
     ]
    }
   ],
   "source": [
    "n = int(input())\n",
    "a = [input() for i in range(n)]\n",
    "print(a)"
   ]
  },
  {
   "cell_type": "markdown",
   "metadata": {},
   "source": [
    "## 13\n",
    "Напишите программу, выводящую следующий список:\n",
    "\n",
    "['a', 'bb', 'ccc', 'dddd', 'eeeee', 'ffffff', ...]  \n",
    "Программа должна вывести указанный список. Примечание. Последний элемент списка состоит из 26 символов z."
   ]
  },
  {
   "cell_type": "code",
   "execution_count": 14,
   "metadata": {},
   "outputs": [
    {
     "name": "stdout",
     "output_type": "stream",
     "text": [
      "['a', 'bb', 'ccc', 'dddd', 'eeeee', 'ffffff', 'ggggggg', 'hhhhhhhh', 'iiiiiiiii', 'jjjjjjjjjj', 'kkkkkkkkkkk', 'llllllllllll', 'mmmmmmmmmmmmm', 'nnnnnnnnnnnnnn', 'ooooooooooooooo', 'pppppppppppppppp', 'qqqqqqqqqqqqqqqqq', 'rrrrrrrrrrrrrrrrrr', 'sssssssssssssssssss', 'tttttttttttttttttttt', 'uuuuuuuuuuuuuuuuuuuuu', 'vvvvvvvvvvvvvvvvvvvvvv', 'wwwwwwwwwwwwwwwwwwwwwww', 'xxxxxxxxxxxxxxxxxxxxxxxx', 'yyyyyyyyyyyyyyyyyyyyyyyyy', 'zzzzzzzzzzzzzzzzzzzzzzzzzz']\n"
     ]
    }
   ],
   "source": [
    "a = []\n",
    "for i in range(26):\n",
    "    b = ''\n",
    "    for k in range(i + 1):\n",
    "        b += chr(97 + i)\n",
    "    a.append(b)    \n",
    "print(a)"
   ]
  },
  {
   "cell_type": "code",
   "execution_count": 15,
   "metadata": {},
   "outputs": [
    {
     "name": "stdout",
     "output_type": "stream",
     "text": [
      "['a', 'bb', 'ccc', 'dddd', 'eeeee', 'ffffff', 'ggggggg', 'hhhhhhhh', 'iiiiiiiii', 'jjjjjjjjjj', 'kkkkkkkkkkk', 'llllllllllll', 'mmmmmmmmmmmmm', 'nnnnnnnnnnnnnn', 'ooooooooooooooo', 'pppppppppppppppp', 'qqqqqqqqqqqqqqqqq', 'rrrrrrrrrrrrrrrrrr', 'sssssssssssssssssss', 'tttttttttttttttttttt', 'uuuuuuuuuuuuuuuuuuuuu', 'vvvvvvvvvvvvvvvvvvvvvv', 'wwwwwwwwwwwwwwwwwwwwwww', 'xxxxxxxxxxxxxxxxxxxxxxxx', 'yyyyyyyyyyyyyyyyyyyyyyyyy', 'zzzzzzzzzzzzzzzzzzzzzzzzzz']\n"
     ]
    }
   ],
   "source": [
    "print([chr(97 + i) * (i + 1) for i in range(26)])"
   ]
  },
  {
   "cell_type": "markdown",
   "metadata": {},
   "source": [
    "## 14\n",
    "На вход программе подается натуральное число n, а затем n целых чисел. Напишите программу, которая создает из указанных чисел список их кубов."
   ]
  },
  {
   "cell_type": "code",
   "execution_count": 17,
   "metadata": {},
   "outputs": [
    {
     "name": "stdout",
     "output_type": "stream",
     "text": [
      "2\n",
      "2\n",
      "3\n",
      "[8, 27]\n"
     ]
    }
   ],
   "source": [
    "print([int(input()) ** 3 for i in range(int(input()))])"
   ]
  },
  {
   "cell_type": "markdown",
   "metadata": {},
   "source": [
    "## 15\n",
    "На вход программе подается натуральное число n. Напишите программу, которая создает список состоящий из делителей введенного числа."
   ]
  },
  {
   "cell_type": "code",
   "execution_count": 18,
   "metadata": {},
   "outputs": [
    {
     "name": "stdout",
     "output_type": "stream",
     "text": [
      "10\n",
      "[1, 2, 5, 10]\n"
     ]
    }
   ],
   "source": [
    "n = int(input())\n",
    "a = []\n",
    "for i in range(1, n + 1):\n",
    "    if n % i == 0:\n",
    "        a.append(i)\n",
    "print(a)"
   ]
  },
  {
   "cell_type": "code",
   "execution_count": 19,
   "metadata": {},
   "outputs": [
    {
     "name": "stdout",
     "output_type": "stream",
     "text": [
      "10\n",
      "[1, 2, 5, 10]\n"
     ]
    }
   ],
   "source": [
    "n = int(input())\n",
    "print([i for i in range(1, n + 1) if n % i == 0])"
   ]
  },
  {
   "cell_type": "markdown",
   "metadata": {},
   "source": [
    "## 16\n",
    "На вход программе подается натуральное число n ≥ 2, а затем n целых чисел. Напишите программу, которая создает из указанных чисел список, состоящий из сумм соседних чисел (0 и 1, 11 и 22, 22 и 33 и т.д.)."
   ]
  },
  {
   "cell_type": "code",
   "execution_count": 20,
   "metadata": {},
   "outputs": [
    {
     "name": "stdout",
     "output_type": "stream",
     "text": [
      "3\n",
      "1\n",
      "2\n",
      "3\n",
      "[3, 5]\n"
     ]
    }
   ],
   "source": [
    "n = int(input())\n",
    "b = []\n",
    "a = [int(input()) for i in range(n)]\n",
    "for i in range(len(a)):\n",
    "    if i + 1 < len(a):\n",
    "        b.append(a[i] + (a[i + 1]))\n",
    "print(b)"
   ]
  },
  {
   "cell_type": "code",
   "execution_count": 21,
   "metadata": {},
   "outputs": [
    {
     "name": "stdout",
     "output_type": "stream",
     "text": [
      "3\n",
      "1\n",
      "2\n",
      "3\n",
      "[3, 5]\n"
     ]
    }
   ],
   "source": [
    "n, a = int(input()), int(input())\n",
    "lst = []\n",
    "for _ in range(n-1):\n",
    "    b = int(input())\n",
    "    lst.append(a + b)\n",
    "    a = b\n",
    "print(lst)"
   ]
  },
  {
   "cell_type": "markdown",
   "metadata": {},
   "source": [
    "## 17\n",
    "На вход программе подается натуральное число n, а затем n целых чисел. Напишите программу, которая создает из указанных чисел список, затем удаляет все элементы стоящие по нечетным индексам, а затем выводит полученный список.\n",
    "\n",
    "Примечание. Используйте оператор del."
   ]
  },
  {
   "cell_type": "code",
   "execution_count": 22,
   "metadata": {},
   "outputs": [
    {
     "name": "stdout",
     "output_type": "stream",
     "text": [
      "1\n",
      "8\n",
      "[8]\n"
     ]
    }
   ],
   "source": [
    "n = int(input())\n",
    "a = [int(input()) for i in range(n)]\n",
    "del a[1::2]\n",
    "print(a)"
   ]
  },
  {
   "cell_type": "code",
   "execution_count": 23,
   "metadata": {},
   "outputs": [
    {
     "name": "stdout",
     "output_type": "stream",
     "text": [
      "2\n",
      "4\n",
      "6\n",
      "[4]\n"
     ]
    }
   ],
   "source": [
    "print([int(input()) for _ in range(int(input()))][::2])"
   ]
  },
  {
   "cell_type": "markdown",
   "metadata": {},
   "source": [
    "## 18 \n",
    "На вход программе подается натуральное число n и n строк, а затем число k. Напишите программу, которая выводит k-ую букву из введенных строк на одной строке без пробелов.\n",
    "\n",
    "На вход программе подается натуральное число n,  далее n строк, каждая на отдельной строке. В конце вводится натуральное число k – номер буквы (нумерация начинается с единицы).  \n",
    "Примечание. Если некоторые строки слишком короткие, и в них нет символа с заданным номером, то такие строки при выводе нужно игнорировать."
   ]
  },
  {
   "cell_type": "code",
   "execution_count": 24,
   "metadata": {},
   "outputs": [
    {
     "name": "stdout",
     "output_type": "stream",
     "text": [
      "5\n",
      "abcdef\n",
      "bcdefg\n",
      "cdefgh\n",
      "defghi\n",
      "efghij\n",
      "2\n",
      "bcdef"
     ]
    }
   ],
   "source": [
    "n = int(input())\n",
    "a = [(input()) for i in range(n)]\n",
    "k = int(input())\n",
    "for i in range(len(a)):\n",
    "    if len(a[i]) >= k:\n",
    "        print(a[i][k - 1], end='')"
   ]
  },
  {
   "cell_type": "markdown",
   "metadata": {},
   "source": [
    "## 19\n",
    "На вход программе подается натуральное число n, а затем n строк. Напишите программу, которая создает список из символов всех строк, а затем выводит его.\n",
    "\n",
    "Примечание. В результирующем списке могут содержаться одинаковые символы."
   ]
  },
  {
   "cell_type": "code",
   "execution_count": 25,
   "metadata": {},
   "outputs": [
    {
     "name": "stdout",
     "output_type": "stream",
     "text": [
      "3\n",
      "abc\n",
      "def\n",
      "ghi\n",
      "['a', 'b', 'c', 'd', 'e', 'f', 'g', 'h', 'i']\n"
     ]
    }
   ],
   "source": [
    "n = int(input())\n",
    "a = [input() for i in range(n)]\n",
    "b = []\n",
    "for i in a:\n",
    "    b.extend(i)\n",
    "print(b)"
   ]
  },
  {
   "cell_type": "code",
   "execution_count": 26,
   "metadata": {},
   "outputs": [
    {
     "name": "stdout",
     "output_type": "stream",
     "text": [
      "2\n",
      "abc\n",
      "def\n",
      "['a', 'b', 'c', 'd', 'e', 'f']\n"
     ]
    }
   ],
   "source": [
    "print(list(''.join([input() for _ in range(int(input()))])))"
   ]
  },
  {
   "cell_type": "markdown",
   "metadata": {},
   "source": [
    "## 20\n",
    "Дополните приведенный код, так чтобы он вывел сумму квадратов элементов списка numbers."
   ]
  },
  {
   "cell_type": "code",
   "execution_count": 27,
   "metadata": {},
   "outputs": [
    {
     "name": "stdout",
     "output_type": "stream",
     "text": [
      "82649673\n"
     ]
    }
   ],
   "source": [
    "numbers = [1, 78, 23, -65, 99, 9089, 34, -32, 0, -67, 1, 11, 111]\n",
    "new = []\n",
    "for i in range(len(numbers)):\n",
    "    new.append(numbers[i] ** 2)\n",
    "print(sum(new))"
   ]
  },
  {
   "cell_type": "markdown",
   "metadata": {},
   "source": [
    "## 21\n",
    "На вход программе подается натуральное число n, а затем n целых чисел. Напишите программу, которая для каждого введенного числа x выводит значение функции f(x) = x^2 + 2x + 1"
   ]
  },
  {
   "cell_type": "code",
   "execution_count": 28,
   "metadata": {},
   "outputs": [
    {
     "name": "stdout",
     "output_type": "stream",
     "text": [
      "3\n",
      "10\n",
      "20\n",
      "30\n",
      "10\n",
      "20\n",
      "30\n",
      "\n",
      "121\n",
      "441\n",
      "961\n"
     ]
    }
   ],
   "source": [
    "n = int(input())\n",
    "a = [int(input()) for i in range(n)]\n",
    "print(*a, sep='\\n')\n",
    "print()\n",
    "new_n = []\n",
    "for i in range(len(a)):\n",
    "    new_n.append((a[i] + 1) ** 2)\n",
    "print(*new_n, sep='\\n')"
   ]
  },
  {
   "cell_type": "markdown",
   "metadata": {},
   "source": [
    "## 22\n",
    "При анализе данных, собранных в рамках научного эксперимента, бывает полезно удалить самое большое и самое маленькое значение.\n",
    "\n",
    "На вход программе подается натуральное число n, а затем n различных натуральных чисел. Напишите программу, которая удаляет наименьшее и наибольшее значение из указанных чисел, а затем выводит оставшиеся числа каждое на отдельной строке, не меняя их порядок."
   ]
  },
  {
   "cell_type": "code",
   "execution_count": 29,
   "metadata": {},
   "outputs": [
    {
     "name": "stdout",
     "output_type": "stream",
     "text": [
      "5\n",
      "1000\n",
      "1\n",
      "4\n",
      "500\n",
      "300\n",
      "4\n",
      "500\n",
      "300\n"
     ]
    }
   ],
   "source": [
    "n = int(input())\n",
    "a = [int(input()) for i in range(n)]\n",
    "a.remove(max(a)), a.remove(min(a))\n",
    "print(*a, sep='\\n')"
   ]
  },
  {
   "cell_type": "code",
   "execution_count": 31,
   "metadata": {},
   "outputs": [
    {
     "name": "stdout",
     "output_type": "stream",
     "text": [
      "5\n",
      "1000\n",
      "1\n",
      "4\n",
      "60000\n",
      "399\n",
      "1000\n",
      "4\n",
      "399\n"
     ]
    }
   ],
   "source": [
    "n, l = int(input()), []\n",
    "for i in range(n):\n",
    "    l.append(int(input()))\n",
    "for a in l:\n",
    "    if a != min(l) and a != max(l):\n",
    "        print(a)"
   ]
  },
  {
   "cell_type": "code",
   "execution_count": 32,
   "metadata": {},
   "outputs": [
    {
     "name": "stdout",
     "output_type": "stream",
     "text": [
      "3\n",
      "10\n",
      "4\n",
      "1\n",
      "4\n"
     ]
    }
   ],
   "source": [
    "s, x = [], int(input())\n",
    "for i in range(x):\n",
    "    s.append(int(input()))  \n",
    "del s[s.index(min(s))]\n",
    "del s[s.index(max(s))]\n",
    "print(*s, sep= '\\n')"
   ]
  },
  {
   "cell_type": "markdown",
   "metadata": {},
   "source": [
    "## 23 \n",
    "На вход программе подается натуральное число n, а затем n строк. Напишите программу, которая выводит только уникальные строки, в том же порядке, в котором они были введены."
   ]
  },
  {
   "cell_type": "code",
   "execution_count": 33,
   "metadata": {},
   "outputs": [
    {
     "name": "stdout",
     "output_type": "stream",
     "text": [
      "5\n",
      "first\n",
      "second\n",
      "first\n",
      "third\n",
      "second\n",
      "first\n",
      "second\n",
      "third\n"
     ]
    }
   ],
   "source": [
    "n = int(input())\n",
    "a = [input() for i in range(n)]\n",
    "s = []\n",
    "for i in a:\n",
    "    if i not in s:\n",
    "        s.append(i)\n",
    "print(*s, sep='\\n')"
   ]
  },
  {
   "cell_type": "code",
   "execution_count": null,
   "metadata": {},
   "outputs": [],
   "source": [
    "n = int(input())\n",
    "f = [input() for i in range(n)] # добавляем вводимые значения в список\n",
    "f1 = [] # список где будут храниться уникальные значения\n",
    "for i in range(len(f)):\n",
    "    if f[i] not in f1: # если в новом списке нет элемента с индексом 'i', переносим его\n",
    "        f1.append(f[i])\n",
    "print(*f1, sep='\\n')"
   ]
  },
  {
   "cell_type": "markdown",
   "metadata": {},
   "source": [
    "## 24\n",
    "На вход программе подается натуральное число n, затем n строк, затем еще одна строка — поисковый запрос. Напишите программу, которая выводит все введенные строки, в которых встречается поисковый запрос.\n",
    "\n",
    "Примечание. Поиск не должен быть чувствителен к регистру символов."
   ]
  },
  {
   "cell_type": "code",
   "execution_count": 34,
   "metadata": {},
   "outputs": [
    {
     "name": "stdout",
     "output_type": "stream",
     "text": [
      "3\n",
      "Язык Python прекрасен\n",
      "C# - отличный язык программирования\n",
      "Stepik - отличная платформа\n",
      "язык\n",
      "Язык Python прекрасен\n",
      "C# - отличный язык программирования\n"
     ]
    }
   ],
   "source": [
    "lines = [input() for i in range(int(input()))]  \n",
    "a = input().lower()\n",
    "\n",
    "for i in lines:\n",
    "    if a in i.lower():\n",
    "        print(i)"
   ]
  },
  {
   "cell_type": "code",
   "execution_count": 35,
   "metadata": {},
   "outputs": [
    {
     "name": "stdout",
     "output_type": "stream",
     "text": [
      "2\n",
      "Язык Python прекрасен\n",
      "Stepik - отличная платформа\n",
      "язык\n",
      "Язык Python прекрасен\n"
     ]
    }
   ],
   "source": [
    "base = [input() for _ in range(int(input()))]\n",
    "search = input().casefold()\n",
    "\n",
    "for text in base:\n",
    "    if search in text.casefold():\n",
    "        print(text)"
   ]
  },
  {
   "cell_type": "markdown",
   "metadata": {},
   "source": [
    "## 25\n",
    "На вход программе подается натуральное число n, затем n строк, затем число k — количество поисковых запросов, затем k строк — поисковые запросы. Напишите программу, которая выводит все введенные строки, в которых встречаются все поисковые запросы.\n",
    "\n",
    "Примечание. Поиск не должен быть чувствителен к регистру символов."
   ]
  },
  {
   "cell_type": "code",
   "execution_count": 36,
   "metadata": {},
   "outputs": [
    {
     "name": "stdout",
     "output_type": "stream",
     "text": [
      "5\n",
      "Язык Python прекрасен\n",
      "C# - отличный язык программирования\n",
      "Stepik - отличная платформа\n",
      "BEEGEEK FOREVER!\n",
      "язык Python появился 20 февраля 1991\n",
      "2\n",
      "язык\n",
      "python\n",
      "Язык Python прекрасен\n",
      "язык Python появился 20 февраля 1991\n"
     ]
    }
   ],
   "source": [
    "n = [input() for _ in range(int(input()))]   \n",
    "k = [input().lower() for _ in range(int(input()))]   \n",
    "\n",
    "for i in n:\n",
    "    for j in k:\n",
    "        if j.lower() not in i.lower():\n",
    "            break\n",
    "    else:\n",
    "        print(i)"
   ]
  },
  {
   "cell_type": "code",
   "execution_count": 37,
   "metadata": {},
   "outputs": [
    {
     "name": "stdout",
     "output_type": "stream",
     "text": [
      "2\n",
      "Язык Python прекрасен\n",
      "Язык Python прекрасен\n",
      "2\n",
      "язык\n",
      "python\n",
      "Язык Python прекрасен\n",
      "Язык Python прекрасен\n"
     ]
    }
   ],
   "source": [
    "lst = [input() for _ in range(int(input()))]\n",
    "searches = [input() for _ in range(int(input()))]\n",
    "\n",
    "for text in lst:\n",
    "    if all(search.lower() in text.lower() for search in searches):\n",
    "        print(text)"
   ]
  },
  {
   "cell_type": "markdown",
   "metadata": {},
   "source": [
    "## 26\n",
    "На вход программе подается натуральное число n, а затем n целых чисел. Напишите программу, которая сначала выводит все отрицательные числа, затем нули, а затем все положительные числа, каждое на отдельной строке. Числа должны быть выведены в том же порядке, в котором они были введены."
   ]
  },
  {
   "cell_type": "code",
   "execution_count": 38,
   "metadata": {},
   "outputs": [
    {
     "name": "stdout",
     "output_type": "stream",
     "text": [
      "3\n",
      "0\n",
      "-2\n",
      "9\n",
      "-2\n",
      "0\n",
      "9\n"
     ]
    }
   ],
   "source": [
    "n = int(input())\n",
    "a = [int(input()) for i in range(n)]\n",
    "otr = []\n",
    "nol = []\n",
    "pol = []\n",
    "for i in a:\n",
    "    if i < 0:\n",
    "        otr.append(i)\n",
    "    elif i == 0:\n",
    "        nol.append(i)\n",
    "    else:\n",
    "        pol.append(i)\n",
    "\n",
    "print(*otr,*nol, *pol, sep='\\n')"
   ]
  },
  {
   "cell_type": "markdown",
   "metadata": {},
   "source": [
    "## Примеры"
   ]
  },
  {
   "cell_type": "code",
   "execution_count": 14,
   "metadata": {},
   "outputs": [
    {
     "name": "stdout",
     "output_type": "stream",
     "text": [
      "1 2 3\n"
     ]
    }
   ],
   "source": [
    "numbers = input().split()\n",
    "for i in range(len(numbers)):\n",
    "    numbers[i] = int(numbers[i])"
   ]
  },
  {
   "cell_type": "code",
   "execution_count": 16,
   "metadata": {},
   "outputs": [
    {
     "name": "stdout",
     "output_type": "stream",
     "text": [
      "Python is the most powerful language\n"
     ]
    }
   ],
   "source": [
    "words = ['Python', 'is', 'the', 'most', 'powerful', 'language']\n",
    "s = ' '.join(words)\n",
    "print(s)"
   ]
  },
  {
   "cell_type": "markdown",
   "metadata": {},
   "source": [
    "## 27\n",
    "С помощью функции list() можно из строки получить список ее символов, а с помощью функции join() можно склеить элементы списка, вставляя между ними разделитель.\n",
    "\n",
    "Что будет выведено в результате выполнения следующего программного кода? "
   ]
  },
  {
   "cell_type": "code",
   "execution_count": 39,
   "metadata": {},
   "outputs": [
    {
     "name": "stdout",
     "output_type": "stream",
     "text": [
      "B**E**E**G**E**E**K\n"
     ]
    }
   ],
   "source": [
    "s = 'BEEGEEK'\n",
    "chars = list(s)\n",
    "s = '**'.join(chars)\n",
    "print(s)"
   ]
  },
  {
   "cell_type": "markdown",
   "metadata": {},
   "source": [
    "## 28 \n",
    "На вход программе подается строка текста. Напишите программу, которая выводит слова введенной строки в столбик."
   ]
  },
  {
   "cell_type": "code",
   "execution_count": 41,
   "metadata": {},
   "outputs": [
    {
     "name": "stdout",
     "output_type": "stream",
     "text": [
      "У лукоморья дуб зеленый златая цепь на дубе том\n",
      "У\n",
      "лукоморья\n",
      "дуб\n",
      "зеленый\n",
      "златая\n",
      "цепь\n",
      "на\n",
      "дубе\n",
      "том\n"
     ]
    }
   ],
   "source": [
    "s = input()\n",
    "words = s.split()\n",
    "print(*words, sep='\\n')"
   ]
  },
  {
   "cell_type": "code",
   "execution_count": 42,
   "metadata": {},
   "outputs": [
    {
     "name": "stdout",
     "output_type": "stream",
     "text": [
      "У лукоморья дуб зеленый златая цепь на дубе том\n",
      "У\n",
      "лукоморья\n",
      "дуб\n",
      "зеленый\n",
      "златая\n",
      "цепь\n",
      "на\n",
      "дубе\n",
      "том\n"
     ]
    }
   ],
   "source": [
    "print(*input().split(), sep=\"\\n\")"
   ]
  },
  {
   "cell_type": "markdown",
   "metadata": {},
   "source": [
    "## 29 \n",
    "На вход программе подается строка текста, содержащая имя, отчество и фамилию человека. Напишите программу, которая выводит инициалы человека."
   ]
  },
  {
   "cell_type": "code",
   "execution_count": 43,
   "metadata": {},
   "outputs": [
    {
     "name": "stdout",
     "output_type": "stream",
     "text": [
      "Владимир Семенович Высоцкий\n",
      "В.С.В."
     ]
    }
   ],
   "source": [
    "s = input().split()\n",
    "for i in range(len(s)):\n",
    "    print(s[i][0] + '.',end='')"
   ]
  },
  {
   "cell_type": "code",
   "execution_count": 44,
   "metadata": {},
   "outputs": [
    {
     "name": "stdout",
     "output_type": "stream",
     "text": [
      "Владимир Семенович Высоцкий\n",
      "В.С.В."
     ]
    }
   ],
   "source": [
    "s = input().split()\n",
    "for i in (s):\n",
    "    print(i[0], end=\".\")"
   ]
  },
  {
   "cell_type": "code",
   "execution_count": 45,
   "metadata": {},
   "outputs": [
    {
     "name": "stdout",
     "output_type": "stream",
     "text": [
      "Владимир Семенович Высоцкий\n",
      "В.С.В."
     ]
    }
   ],
   "source": [
    "print('.'.join([name[0] for name in input().split()]), end='.')"
   ]
  },
  {
   "cell_type": "markdown",
   "metadata": {},
   "source": [
    "## 30 \n",
    "В операционной системе Windows полное имя файла состоит из буквы диска, после которого ставится двоеточие и символ  \"\\\",  затем через такой же символ перечисляются подкаталоги (папки), в которых находится файл, в конце пишется имя файла (C:\\Windows\\System32\\calc.exe).\n",
    "\n",
    "На вход программе подается одна строка с корректным именем файла в операционной системе Windows. Напишите программу, которая разбирает строку на части, разделенные символом \"\\\". Каждую часть вывести в отдельной строке."
   ]
  },
  {
   "cell_type": "code",
   "execution_count": 46,
   "metadata": {},
   "outputs": [
    {
     "name": "stdout",
     "output_type": "stream",
     "text": [
      "C:\\Windows\\System32\\calc.exe\n",
      "C:\n",
      "Windows\n",
      "System32\n",
      "calc.exe\n"
     ]
    }
   ],
   "source": [
    "s = input().split('\\\\')\n",
    "print(*s, sep='\\n')"
   ]
  },
  {
   "cell_type": "code",
   "execution_count": 47,
   "metadata": {},
   "outputs": [
    {
     "name": "stdout",
     "output_type": "stream",
     "text": [
      "C:\\Windows\\System32\\calc.exe\n",
      "C:\n",
      "Windows\n",
      "System32\n",
      "calc.exe\n"
     ]
    }
   ],
   "source": [
    "print(input().replace('\\\\', '\\n'))"
   ]
  },
  {
   "cell_type": "markdown",
   "metadata": {},
   "source": [
    "## 31\n",
    "На вход программе подается строка текста, содержащая целые числа. Напишите программу, которая по заданным числам строит столбчатую диаграмму."
   ]
  },
  {
   "cell_type": "code",
   "execution_count": 48,
   "metadata": {},
   "outputs": [
    {
     "name": "stdout",
     "output_type": "stream",
     "text": [
      "1 2 3 4 5\n",
      "+\n",
      "++\n",
      "+++\n",
      "++++\n",
      "+++++\n"
     ]
    }
   ],
   "source": [
    "s = [int(i) * '+' for i in input().split()]\n",
    "print(*s, sep='\\n')"
   ]
  },
  {
   "cell_type": "code",
   "execution_count": 49,
   "metadata": {},
   "outputs": [
    {
     "name": "stdout",
     "output_type": "stream",
     "text": [
      "1 2 3 4 5\n",
      "+\n",
      "++\n",
      "+++\n",
      "++++\n",
      "+++++\n"
     ]
    }
   ],
   "source": [
    "print(*['+' * int(c) for c in input().split()], sep='\\n')"
   ]
  },
  {
   "cell_type": "markdown",
   "metadata": {},
   "source": [
    "## 32\n",
    "На вход программе подается строка текста, содержащая 4 целых числа разделенных точкой. Напишите программу, которая определяет является ли введенная строка текста корректным ip-адресом.\n",
    "\n",
    "Программа должна вывести «ДА», если введеная строка является корректным ip-адресом, и «НЕТ» — в противном случае.\n",
    "\n",
    "Примечание. ip-адрес является корректным, если все 4 числа находятся в диапазоне от 0 до 255 включительно."
   ]
  },
  {
   "cell_type": "code",
   "execution_count": 50,
   "metadata": {},
   "outputs": [
    {
     "name": "stdout",
     "output_type": "stream",
     "text": [
      "192.168.0.3\n",
      "ДА\n"
     ]
    }
   ],
   "source": [
    "n = [int(i) for i in input().split('.')]\n",
    "counter = 0\n",
    "for i in n:\n",
    "    if 0 <= i <= 255:\n",
    "        counter +=1       \n",
    "if counter == 4: \n",
    "    print('ДА')\n",
    "else:\n",
    "    print('НЕТ')"
   ]
  },
  {
   "cell_type": "code",
   "execution_count": 51,
   "metadata": {},
   "outputs": [
    {
     "name": "stdout",
     "output_type": "stream",
     "text": [
      "192.168.0.300\n",
      "НЕТ\n"
     ]
    }
   ],
   "source": [
    "s = input().split('.')\n",
    "for i in s:\n",
    "    if int(i) < 0 or int(i) > 255:\n",
    "        print('НЕТ')\n",
    "        break\n",
    "else:\n",
    "    print('ДА')"
   ]
  },
  {
   "cell_type": "markdown",
   "metadata": {},
   "source": [
    "## 33\n",
    "На вход программе подается строка текста и строка разделитель. Напишите программу, которая вставляет указанный разделитель между каждым символом введенной строки текста.\n",
    "\n",
    "На вход программе подается строка текста и строка разделитель, каждая на отдельной строке"
   ]
  },
  {
   "cell_type": "code",
   "execution_count": 52,
   "metadata": {},
   "outputs": [
    {
     "name": "stdout",
     "output_type": "stream",
     "text": [
      "1234567\n",
      "*\n",
      "1*2*3*4*5*6*7\n"
     ]
    }
   ],
   "source": [
    "a, b = input(), input()\n",
    "print(*a, sep=b)"
   ]
  },
  {
   "cell_type": "markdown",
   "metadata": {},
   "source": [
    "## 34\n",
    "На вход программе подается строка текста, содержащая натуральные числа. Из данной строки формируется список чисел. Напишите программу, которая подсчитывает, сколько в полученном списке пар элементов, равных друг другу. Считается, что любые два элемента, равные друг другу образуют одну пару, которую необходимо посчитать.\n",
    "\n",
    "На вход программе подается строка текста, содержащая натуральные числа, отделенные символом пробела.\n",
    "\n",
    "Программа должна вывести одно число – количество пар элементов, равных друг другу."
   ]
  },
  {
   "cell_type": "code",
   "execution_count": 53,
   "metadata": {},
   "outputs": [
    {
     "name": "stdout",
     "output_type": "stream",
     "text": [
      "1 7 5 7 5\n",
      "2\n"
     ]
    }
   ],
   "source": [
    "numbers = input().split()\n",
    "counter = 0\n",
    "for i in range(len(numbers)):\n",
    "    for j in range(i + 1, len(numbers)):\n",
    "        if numbers[i] == numbers[j]:\n",
    "            counter += 1\n",
    "print(counter)"
   ]
  },
  {
   "cell_type": "markdown",
   "metadata": {},
   "source": [
    "## 35\n",
    "Пример кода связки while, in, remove()"
   ]
  },
  {
   "cell_type": "code",
   "execution_count": 54,
   "metadata": {},
   "outputs": [
    {
     "name": "stdout",
     "output_type": "stream",
     "text": [
      "[2, 3, 4, 5]\n"
     ]
    }
   ],
   "source": [
    "x = [1, 2, 1, 1, 3, 4, 5, 1] #Входящий список\n",
    "y = 1    #Указываем какое значение надо удалить\n",
    "while y in x:    #Цикл выполняется пока y есть в списке x\n",
    "    x.remove(y)   #Удаляем значение y из списка\n",
    "print(x)    #Выводим изменёный список"
   ]
  },
  {
   "cell_type": "markdown",
   "metadata": {},
   "source": [
    "## 36\n",
    "Что будет выведено в результате выполнения следующего программного кода?"
   ]
  },
  {
   "cell_type": "code",
   "execution_count": 55,
   "metadata": {},
   "outputs": [
    {
     "name": "stdout",
     "output_type": "stream",
     "text": [
      "['Violet', 'Orange', 'Purple', 'Red', 'Blue', 'Green']\n"
     ]
    }
   ],
   "source": [
    "colors = ['Orange']\n",
    "colors.append('Red')\n",
    "colors.append('Blue')\n",
    "colors.append('Green')\n",
    "colors.insert(0, 'Violet')\n",
    "colors.insert(2, 'Purple')\n",
    "\n",
    "print(colors)"
   ]
  },
  {
   "cell_type": "markdown",
   "metadata": {},
   "source": [
    "## 37\n",
    "Что будет выведено в результате выполнения следующего программного кода?"
   ]
  },
  {
   "cell_type": "code",
   "execution_count": 56,
   "metadata": {},
   "outputs": [
    {
     "name": "stdout",
     "output_type": "stream",
     "text": [
      "['Red', 'Blue', 'Black']\n"
     ]
    }
   ],
   "source": [
    "colors = ['Red', 'Blue', 'Green', 'Black', 'White']\n",
    "del colors[-1]\n",
    "colors.remove('Green')\n",
    "\n",
    "print(colors)"
   ]
  },
  {
   "cell_type": "markdown",
   "metadata": {},
   "source": [
    "## 38\n",
    "Дополните приведенный код, чтобы он:\n",
    "\n",
    "Заменил второй элемент списка на 17;  \n",
    "Добавил числа 4, 5 и 6 в конец списка;  \n",
    "Удалил первый элемент списка;  \n",
    "Удвоил список;  \n",
    "Вставил число 25 по индексу 3;  \n",
    "Вывел список, с помощью функции print()."
   ]
  },
  {
   "cell_type": "code",
   "execution_count": 57,
   "metadata": {},
   "outputs": [
    {
     "name": "stdout",
     "output_type": "stream",
     "text": [
      "[17, 10, 11, 25, 4, 5, 6, 17, 10, 11, 4, 5, 6]\n"
     ]
    }
   ],
   "source": [
    "numbers = [8, 9, 10, 11]\n",
    "numbers[1] = 17\n",
    "new = [4, 5, 6]\n",
    "numbers.extend(new)\n",
    "del numbers[0]\n",
    "numbers.extend(numbers)\n",
    "numbers.insert(3, 25)\n",
    "print(numbers)"
   ]
  },
  {
   "cell_type": "markdown",
   "metadata": {},
   "source": [
    "## 39\n",
    "На вход программе подается строка текста, содержащая различные натуральные числа. Из данной строки формируется список чисел. Напишите программу, которая меняет местами минимальный и максимальный элемент этого списка."
   ]
  },
  {
   "cell_type": "code",
   "execution_count": 58,
   "metadata": {},
   "outputs": [
    {
     "name": "stdout",
     "output_type": "stream",
     "text": [
      "1 7 5 7 5\n",
      "7 1 5 7 5\n"
     ]
    }
   ],
   "source": [
    "n = input().split()\n",
    "for i in range(len(n)):\n",
    "    n[i] = int(n[i])\n",
    "a = n.index(min(n))\n",
    "b = n.index(max(n))\n",
    "n[a], n[b] = n[b], n[a]\n",
    "print(*n)"
   ]
  },
  {
   "cell_type": "markdown",
   "metadata": {},
   "source": [
    "## 40\n",
    "На вход программе подается строка, содержащая английский текст. Напишите программу, которая подсчитывает общее количество артиклей: 'a', 'an', 'the'.\n",
    "\n",
    "Формат входных данных\n",
    "На вход программе подается строка, содержащая английский текст. Слова текста разделены символом пробела.\n",
    "\n",
    "Формат выходных данных\n",
    "Программа должна вывести общее количество артиклей 'a', 'an', 'the' вместе с поясняющим текстом.\n",
    "\n",
    "Примечание. Артикли могут начинаться с заглавной буквы 'A', 'An', 'The'."
   ]
  },
  {
   "cell_type": "code",
   "execution_count": 59,
   "metadata": {},
   "outputs": [
    {
     "name": "stdout",
     "output_type": "stream",
     "text": [
      "William Shakespeare was born in the town of Stratford, England, in the year 1564. When he was a young man, Shakespeare moved to the city of London, where he began writing plays. His plays were soon very successful, and were enjoyed both by the common people of London and also by the rich and famous. In addition to his plays, Shakespeare wrote many short poems and a few longer poems. Like his plays, these poems are still famous today.\n",
      "Общее количество артиклей: 7\n"
     ]
    }
   ],
   "source": [
    "s = input().lower().split(' ') \n",
    "cnt1 = s.count('a')\n",
    "cnt2 = s.count('an')\n",
    "cnt3 = s.count('the')\n",
    "a = [cnt1, cnt2, cnt3]\n",
    "print(f'Общее количество артиклей: {(sum(a))}')"
   ]
  },
  {
   "cell_type": "markdown",
   "metadata": {},
   "source": [
    "## 41\n",
    "Немалоизвестный в пустошах Мохаве Курьер забрел в Хидден-Вэли – секретный бункер Братства Стали, и любезно соглашается помочь им в решении их проблем. Одной из такой проблем являлся странный компьютерный вирус, который проявлялся в виде появления комментариев к программам на терминалах Братства Стали. Известно, что программисты Братства никогда не оставляют комментарии к коду, и пишут программы на Python, поэтому удаление всех этих комментариев никак не навредит им. Помогите писцу Ибсену удалить все комментарии из программы.\n",
    "\n",
    "Формат входных данных\n",
    "На первой строке вводится символ решётки и сразу же натуральное число nn — количество строк в программе, не считая первой. Далее следует nn строк кода.\n",
    "\n",
    "Формат выходных данных\n",
    "Нужно вывести те же строки, но удалить комментарии и символы пустого пространства в конце строк. Пустую строку вместо первой строки ввода выводить не надо."
   ]
  },
  {
   "cell_type": "code",
   "execution_count": 62,
   "metadata": {},
   "outputs": [
    {
     "name": "stdout",
     "output_type": "stream",
     "text": [
      "#12\n",
      "print(\"Введите своё имя\")\n",
      "print(\"Введите своё имя\")\n",
      "name = input()\n",
      "name = input()\n",
      "print(\"Введите пароль, если имеется\")    # ахахахах вам не поймать меня\n",
      "print(\"Введите пароль, если имеется\")\n",
      "password = input()\n",
      "password = input()\n",
      "if password == \"hoover\":\n",
      "if password == \"hoover\":\n",
      "    print(\"Здравствуйте, рыцарь\", name)         #долой Макнамару\n",
      "    print(\"Здравствуйте, рыцарь\", name)\n",
      "    print(\"Здравствуйте, рыцарь\", name)         #долой Макнамару\n",
      "    print(\"Здравствуйте, рыцарь\", name)\n",
      "    print(\"Здравствуйте, паладин\", name)\n",
      "    print(\"Здравствуйте, паладин\", name)\n",
      "elif password == \"gelios\":\n",
      "elif password == \"gelios\":\n",
      "    print(\"Здравствуйте, старейшина\", name)          #Элайджа вперёд\n",
      "    print(\"Здравствуйте, старейшина\", name)\n",
      "else:\n",
      "else:\n",
      "    print(\"Здравствуйте, послушник\", name)\n",
      "    print(\"Здравствуйте, послушник\", name)\n"
     ]
    }
   ],
   "source": [
    "n = input()\n",
    "for _ in range(int(n[1:])):\n",
    "    s = input()\n",
    "    if '#' in s:\n",
    "        s = s[:s.find('#')]\n",
    "    print(s.rstrip())"
   ]
  },
  {
   "cell_type": "markdown",
   "metadata": {},
   "source": [
    "## 42\n",
    "Что будет выведено в результате выполнения следующего программного кода? "
   ]
  },
  {
   "cell_type": "code",
   "execution_count": 63,
   "metadata": {},
   "outputs": [
    {
     "name": "stdout",
     "output_type": "stream",
     "text": [
      "[10, 8, 6, 5, 4, 4, 3, 2, 1]\n"
     ]
    }
   ],
   "source": [
    "numbers = [4, 2, 8, 6, 5, 3, 10, 4, 100, 1, -7]\n",
    "numbers.sort()\n",
    "del numbers[0]\n",
    "del numbers[-1]\n",
    "numbers.sort(reverse=True)\n",
    "print(numbers)"
   ]
  },
  {
   "cell_type": "markdown",
   "metadata": {},
   "source": [
    "## 43\n",
    "На вход программе подается строка текста, содержащая целые числа. Из данной строки формируется список чисел. Напишите программу, которая сортирует и выводит данный список сначала по возрастанию, а затем по убыванию. "
   ]
  },
  {
   "cell_type": "code",
   "execution_count": 65,
   "metadata": {},
   "outputs": [
    {
     "name": "stdout",
     "output_type": "stream",
     "text": [
      "4 5 1 2 3 8\n",
      "1 2 3 4 5 8\n",
      "8 5 4 3 2 1\n"
     ]
    }
   ],
   "source": [
    "n = input().split()\n",
    "for i in range(len(n)):\n",
    "    n[i] = int(n[i])\n",
    "n.sort()\n",
    "print(*n)\n",
    "n.sort(reverse=True)\n",
    "print(*n)"
   ]
  },
  {
   "cell_type": "markdown",
   "metadata": {},
   "source": [
    "## 44 \n",
    "Дополните приведенный код, используя списочное выражение, так чтобы получить новый список, содержащий строки исходного списка с удаленным первым символом."
   ]
  },
  {
   "cell_type": "code",
   "execution_count": 66,
   "metadata": {},
   "outputs": [
    {
     "name": "stdout",
     "output_type": "stream",
     "text": [
      "['alse', 'rue', 'one', 'nd', 'ith', 's', 'ssert', 'reak', 'lass', 'ontinue', 'ef', 'el', 'lif', 'lse', 'xcept', 'inally', 'ry', 'or', 'rom', 'lobal', 'f', 'mport', 'n', 's', 'ambda', 'onlocal', 'ot', 'r', 'ass', 'aise', 'eturn', 'hile', 'ield']\n"
     ]
    }
   ],
   "source": [
    "keywords = ['False', 'True', 'None', 'and', 'with', 'as', 'assert', 'break', 'class', 'continue', 'def', 'del', 'elif', 'else', 'except', 'finally', 'try', 'for', 'from', 'global', 'if', 'import', 'in', 'is', 'lambda', 'nonlocal', 'not', 'or', 'pass', 'raise', 'return', 'while', 'yield']\n",
    "new_keywords = [i[1:] for i in keywords]\n",
    "\n",
    "print(new_keywords)"
   ]
  },
  {
   "cell_type": "markdown",
   "metadata": {},
   "source": [
    "## 45 \n",
    "Дополните приведенный код, используя списочное выражение, так чтобы получить новый список, содержащий длины строк исходного списка."
   ]
  },
  {
   "cell_type": "code",
   "execution_count": 67,
   "metadata": {},
   "outputs": [
    {
     "name": "stdout",
     "output_type": "stream",
     "text": [
      "[5, 4, 4, 3, 4, 2, 6, 5, 5, 8, 3, 3, 4, 4, 6, 7, 3, 3, 4, 6, 2, 6, 2, 2, 6, 8, 3, 2, 4, 5, 6, 5, 5]\n"
     ]
    }
   ],
   "source": [
    "keywords = ['False', 'True', 'None', 'and', 'with', 'as', 'assert', 'break', 'class', 'continue', 'def', 'del', 'elif', 'else', 'except', 'finally', 'try', 'for', 'from', 'global', 'if', 'import', 'in', 'is', 'lambda', 'nonlocal', 'not', 'or', 'pass', 'raise', 'return', 'while', 'yield']\n",
    "lengths = [len(i) for i in keywords]\n",
    "\n",
    "print(lengths)"
   ]
  },
  {
   "cell_type": "markdown",
   "metadata": {},
   "source": [
    "## 46\n",
    "Дополните приведенный код списочным выражением, чтобы получить новый список, содержащий только слова длиной не менее пяти символов (включительно)."
   ]
  },
  {
   "cell_type": "code",
   "execution_count": 68,
   "metadata": {},
   "outputs": [
    {
     "name": "stdout",
     "output_type": "stream",
     "text": [
      "['False', 'assert', 'break', 'class', 'continue', 'except', 'finally', 'global', 'import', 'lambda', 'nonlocal', 'raise', 'return', 'while', 'yield']\n"
     ]
    }
   ],
   "source": [
    "keywords = ['False', 'True', 'None', 'and', 'with', 'as', 'assert', 'break', 'class', 'continue', 'def', 'del', 'elif', 'else', 'except', 'finally', 'try', 'for', 'from', 'global', 'if', 'import', 'in', 'is', 'lambda', 'nonlocal', 'not', 'or', 'pass', 'raise', 'return', 'while', 'yield']\n",
    "new_keywords = [i for i in keywords if len(i) >= 5]\n",
    "\n",
    "print(new_keywords)"
   ]
  },
  {
   "cell_type": "markdown",
   "metadata": {},
   "source": [
    "## 47\n",
    "Дополните приведенный код, используя списочное выражение, так чтобы получить список всех чисел палиндромов от 100100 до 10001000."
   ]
  },
  {
   "cell_type": "code",
   "execution_count": 70,
   "metadata": {},
   "outputs": [
    {
     "name": "stdout",
     "output_type": "stream",
     "text": [
      "[101, 111, 121, 131, 141, 151, 161, 171, 181, 191, 202, 212, 222, 232, 242, 252, 262, 272, 282, 292, 303, 313, 323, 333, 343, 353, 363, 373, 383, 393, 404, 414, 424, 434, 444, 454, 464, 474, 484, 494, 505, 515, 525, 535, 545, 555, 565, 575, 585, 595, 606, 616, 626, 636, 646, 656, 666, 676, 686, 696, 707, 717, 727, 737, 747, 757, 767, 777, 787, 797, 808, 818, 828, 838, 848, 858, 868, 878, 888, 898, 909, 919, 929, 939, 949, 959, 969, 979, 989, 999]\n"
     ]
    }
   ],
   "source": [
    "palindromes = [str(i) for i in range(100, 1000) if str(i) == str(i)[::-1]]\n",
    "\n",
    "for i in range(len(palindromes)):\n",
    "    palindromes[i] = int(palindromes[i])\n",
    "print(palindromes)"
   ]
  },
  {
   "cell_type": "markdown",
   "metadata": {},
   "source": [
    "## 48\n",
    "На вход программе подается натуральное число n. Напишите программу, использующую списочное выражение, которая создает список содержащий квадраты чисел от 1 до n, а затем выводит его элементы построчно, то есть каждый на отдельной строке."
   ]
  },
  {
   "cell_type": "code",
   "execution_count": 71,
   "metadata": {},
   "outputs": [
    {
     "name": "stdout",
     "output_type": "stream",
     "text": [
      "5\n",
      "1\n",
      "4\n",
      "9\n",
      "16\n",
      "25\n"
     ]
    }
   ],
   "source": [
    "words = [(i + 1) ** 2 for i in range(int(input()))]\n",
    "print(*words, sep='\\n')"
   ]
  },
  {
   "cell_type": "markdown",
   "metadata": {},
   "source": [
    "## 49 \n",
    "На вход программе подается строка текста, содержащая целые числа. Напишите программу, использующую списочное выражение, которая выведет кубы указанных чисел также на одной строке.\n",
    "\n",
    "Примечание 1. Для вывода элементов списка используйте цикл for.  \n",
    "Примечание 2. Используйте метод split().  "
   ]
  },
  {
   "cell_type": "code",
   "execution_count": 72,
   "metadata": {},
   "outputs": [
    {
     "name": "stdout",
     "output_type": "stream",
     "text": [
      "2 4 3\n",
      "8 64 27\n"
     ]
    }
   ],
   "source": [
    "m = input().split()\n",
    "for i in range(len(m)):\n",
    "    m[i] = int(m[i])\n",
    "    \n",
    "s = [i ** 3 for i in m]\n",
    "print(*s)"
   ]
  },
  {
   "cell_type": "markdown",
   "metadata": {},
   "source": [
    "## 50\n",
    "На вход программе подается строка текста, содержащая слова. Напишите программу, которая выводит слова введенной строки в столбик. На вход программе подается строка текста, содержащая слова, разделенные символом пробела."
   ]
  },
  {
   "cell_type": "code",
   "execution_count": 75,
   "metadata": {},
   "outputs": [
    {
     "name": "stdout",
     "output_type": "stream",
     "text": [
      "Умей ценить того кто без тебя не может\n",
      "Умей\n",
      "ценить\n",
      "того\n",
      "кто\n",
      "без\n",
      "тебя\n",
      "не\n",
      "может\n"
     ]
    }
   ],
   "source": [
    "a = [i for i in input().split()]\n",
    "print(*a, sep='\\n')"
   ]
  },
  {
   "cell_type": "markdown",
   "metadata": {},
   "source": [
    "## 51\n",
    "На вход программе подается строка текста. Напишите программу, использующую списочное выражение, которая выводит все цифровые символы данной строки."
   ]
  },
  {
   "cell_type": "code",
   "execution_count": 77,
   "metadata": {},
   "outputs": [
    {
     "name": "stdout",
     "output_type": "stream",
     "text": [
      "Число Pi примерно равно 3.1415\n",
      "31415\n"
     ]
    }
   ],
   "source": [
    "s = [int(i) for i in input() if i.isdigit()]\n",
    "print(*s, sep='')"
   ]
  },
  {
   "cell_type": "markdown",
   "metadata": {},
   "source": [
    "## 52\n",
    "На вход программе подается строка текста, содержащая целые числа. Напишите программу, использующую списочное выражение, которая выведет квадраты четных чисел, которые не оканчиваются на цифру 4."
   ]
  },
  {
   "cell_type": "code",
   "execution_count": 78,
   "metadata": {},
   "outputs": [
    {
     "name": "stdout",
     "output_type": "stream",
     "text": [
      "1 2 3 4 5 6 7 8 9\n",
      "16 36\n"
     ]
    }
   ],
   "source": [
    "print(*[int(i) ** 2 for i in input().split() if int(i) % 2 == 0 and int(i) ** 2 % 10 != 4])"
   ]
  },
  {
   "cell_type": "markdown",
   "metadata": {},
   "source": [
    "## 53\n",
    "Следующий программный код реализует алгоритм пузырьковой сортировки:"
   ]
  },
  {
   "cell_type": "code",
   "execution_count": 79,
   "metadata": {},
   "outputs": [
    {
     "name": "stdout",
     "output_type": "stream",
     "text": [
      "Отсортированный список: [-67, -3, -2, 0, 1, 6, 7, 8, 9, 12, 34, 45, 99, 1000]\n"
     ]
    }
   ],
   "source": [
    "a = [1, 7, -3, 9, 0, -67, 34, 12, 45, 1000, 6,  8, -2, 99]\n",
    "n = len(a)\n",
    "\n",
    "for i in range(n - 1):\n",
    "    for j in range(n - i - 1):\n",
    "        if a[j] > a[j + 1]:                  # если порядок элементов пары неправильный\n",
    "            a[j], a[j + 1] = a[j + 1], a[j]  # меняем элементы пары местами \n",
    "\n",
    "print('Отсортированный список:', a)"
   ]
  },
  {
   "cell_type": "markdown",
   "metadata": {},
   "source": [
    "## 54\n",
    "Оптимизируйте приведенный код, реализующий алгоритм пузырьковой сортировки."
   ]
  },
  {
   "cell_type": "code",
   "execution_count": 80,
   "metadata": {},
   "outputs": [
    {
     "name": "stdout",
     "output_type": "stream",
     "text": [
      "[-97, -96, -95, -94, -91, -84, -84, -84, -83, -79, -78, -78, -78, -76, -76, -75, -74, -74, -73, -71, -71, -71, -68, -68, -66, -65, -62, -61, -58, -56, -55, -55, -51, -47, -41, -40, -37, -32, -29, -27, -26, -26, -24, -20, -19, -17, -17, -16, -16, -13, -11, -9, -8, -6, 0, 1, 7, 7, 11, 14, 16, 17, 17, 21, 21, 24, 25, 32, 36, 38, 38, 39, 44, 44, 47, 48, 50, 52, 56, 58, 63, 67, 69, 70, 75, 78, 79, 79, 88, 88, 88, 91, 92, 93, 93, 94, 96, 96, 97, 98]\n"
     ]
    }
   ],
   "source": [
    "a = [17, 24, 91, 96, 67, -27, 79, -71, -71, 58, 48, 88, 88, -16, -78, 96, -76, 56, 92, 1, 32, -17, 36, 88, -61, -97, -37, -84, 50, 47, 94, -6, 52, -76, 93, 14, -32, 98, -65, -16, -9, -68, -20, -40, -71, 93, -91, 44, 25, 79, 97, 0, -94, 7, -47, -96, -55, -58, -78, -78, -79, 75, 44, -56, -41, 38, 16, 70, 17, -17, -24, -83, -74, -73, 11, -26, 63, -75, -19, -13, -51, -74, 21, -8, 21, -68, -66, -84, -95, 78, 69, -29, 39, 38, -55, 7, -11, -26, -62, -84]\n",
    "\n",
    "n = len(a)\n",
    "\n",
    "for i in range(n - 1):\n",
    "    flag = True\n",
    "    for j in range(n - i - 1):\n",
    "        if a[j] > a[j + 1]:\n",
    "            a[j], a[j + 1] = a[j + 1], a[j]\n",
    "            flag = False\n",
    "    if flag:\n",
    "        break\n",
    "print(a)"
   ]
  },
  {
   "cell_type": "markdown",
   "metadata": {},
   "source": [
    "## 55\n",
    "Отсортируйте список по возрастанию, реализовав алгоритм сортировки выбором."
   ]
  },
  {
   "cell_type": "code",
   "execution_count": 81,
   "metadata": {},
   "outputs": [
    {
     "name": "stdout",
     "output_type": "stream",
     "text": [
      "[-97, -96, -94, -94, -79, -77, -72, -72, -71, -71, -67, -67, -64, -64, -63, -62, -62, -61, -60, -58, -56, -52, -48, -47, -42, -41, -39, -36, -32, -31, -30, -26, -24, -23, -22, -21, -19, -16, -16, -14, -10, -8, -5, -3, -1, 0, 2, 2, 3, 3, 5, 9, 9, 14, 20, 22, 27, 32, 32, 35, 35, 39, 39, 41, 41, 43, 48, 53, 57, 57, 58, 59, 59, 59, 60, 60, 61, 62, 63, 63, 64, 66, 71, 72, 76, 78, 78, 80, 82, 84, 87, 87, 89, 90, 92, 92, 93, 94, 96, 98]\n"
     ]
    }
   ],
   "source": [
    "a = [78, -32, 5, 39, 58, -5, -63, 57, 72, 9, 53, -1, 63, -97, -21, -94, -47, 57, -8, 60, -23, -72, -22, -79, 90, 96, -41, -71, -48, 84, 89, -96, 41, -16, 94, -60, -64, -39, 60, -14, -62, -19, -3, 32, 98, 14, 43, 3, -56, 71, -71, -67, 80, 27, 92, 92, -64, 0, -77, 2, -26, 41, 3, -31, 48, 39, 20, -30, 35, 32, -58, 2, 63, 64, 66, 62, 82, -62, 9, -52, 35, -61, 87, 78, 93, -42, 87, -72, -10, -36, 61, -16, 59, 59, 22, -24, -67, 76, -94, 59]\n",
    "\n",
    "n = len(a)\n",
    "\n",
    "# реализация алгоритма сортировки выбором\n",
    "for i in range(n):\n",
    "    lowest_value_index = i\n",
    "    \n",
    "    for j in range(i + 1, n):\n",
    "        if a[j] < a[lowest_value_index]:\n",
    "                lowest_value_index = j\n",
    "    a[i], a[lowest_value_index] = a[lowest_value_index], a[i]\n",
    "    \n",
    "print(a)"
   ]
  },
  {
   "cell_type": "markdown",
   "metadata": {},
   "source": [
    "## 56\n",
    "Пусть требуется отсортировать по возрастанию список чисел: a = [1, 7, -3, 9, 0, -67, 34, 12, 45, 1000, 6,  8, -2, 99].\n",
    "\n",
    "Следующий программный код реализует алгоритм сортировки простыми вставками:"
   ]
  },
  {
   "cell_type": "code",
   "execution_count": 82,
   "metadata": {},
   "outputs": [
    {
     "name": "stdout",
     "output_type": "stream",
     "text": [
      "Отсортированный список: [-67, -3, -2, 0, 1, 6, 7, 8, 9, 12, 34, 45, 99, 1000]\n"
     ]
    }
   ],
   "source": [
    "a = [1, 7, -3, 9, 0, -67, 34, 12, 45, 1000, 6,  8, -2, 99]\n",
    "n = len(a)\n",
    "\n",
    "for i in range(1, n): \n",
    "    elem = a[i]  # первый элемент из неотсортированной части списка\n",
    "    j = i\n",
    "    while j >= 1 and a[j - 1] > elem: \n",
    "        a[j] = a[j - 1]\n",
    "        j -= 1\n",
    "    a[j] = elem\n",
    "\n",
    "\n",
    "print('Отсортированный список:', a)"
   ]
  },
  {
   "cell_type": "markdown",
   "metadata": {},
   "source": [
    "## 57\n",
    "Что покажет приведенный ниже фрагмент кода?"
   ]
  },
  {
   "cell_type": "code",
   "execution_count": 83,
   "metadata": {},
   "outputs": [
    {
     "name": "stdout",
     "output_type": "stream",
     "text": [
      "[0, 1, 2]\n"
     ]
    }
   ],
   "source": [
    "numbers = list(range(3))\n",
    "print(numbers)"
   ]
  },
  {
   "cell_type": "markdown",
   "metadata": {},
   "source": [
    "## 58\n",
    "Что покажет приведенный ниже фрагмент кода?"
   ]
  },
  {
   "cell_type": "code",
   "execution_count": 84,
   "metadata": {},
   "outputs": [
    {
     "name": "stdout",
     "output_type": "stream",
     "text": [
      "[10, 10, 10, 10, 10]\n"
     ]
    }
   ],
   "source": [
    "numbers = [10] * 5\n",
    "print(numbers)"
   ]
  },
  {
   "cell_type": "markdown",
   "metadata": {},
   "source": [
    "## 59\n",
    "Что покажет приведенный ниже фрагмент кода?"
   ]
  },
  {
   "cell_type": "code",
   "execution_count": 85,
   "metadata": {},
   "outputs": [
    {
     "name": "stdout",
     "output_type": "stream",
     "text": [
      "1*3*5*7*9*"
     ]
    }
   ],
   "source": [
    "numbers = list(range(1, 10, 2))\n",
    "for i in numbers:\n",
    "    print(i, end='*')"
   ]
  },
  {
   "cell_type": "markdown",
   "metadata": {},
   "source": [
    "## 60\n",
    "Что покажет приведенный ниже фрагмент кода?"
   ]
  },
  {
   "cell_type": "code",
   "execution_count": 86,
   "metadata": {},
   "outputs": [
    {
     "name": "stdout",
     "output_type": "stream",
     "text": [
      "[1, 2, 3, 4]\n"
     ]
    }
   ],
   "source": [
    "numbers = [1, 2, 3, 4, 5]\n",
    "my_list = numbers[:-1]\n",
    "print(my_list)"
   ]
  },
  {
   "cell_type": "markdown",
   "metadata": {},
   "source": [
    "## 61\n",
    "На вход программе подается четное число n, n ≥ 2. Напишите программу, которая выводит список четных чисел\n",
    "[2, 4, 6, ..., n]."
   ]
  },
  {
   "cell_type": "code",
   "execution_count": 87,
   "metadata": {},
   "outputs": [
    {
     "name": "stdout",
     "output_type": "stream",
     "text": [
      "12\n",
      "[2, 4, 6, 8, 10, 12]\n"
     ]
    }
   ],
   "source": [
    "print([i for i in range(int(input()) + 1) if i >= 2 and i % 2 == 0])"
   ]
  },
  {
   "cell_type": "markdown",
   "metadata": {},
   "source": [
    "## 62\n",
    "На вход программе подаются две строки текста, содержащие целые числа. Из данных строк формируются списки чисел L и M.   \n",
    "Напишите программу, которая создает третий список, элементами которого являются суммы соответствующих элементов списков L и M.   \n",
    "Далее программа должна вывести каждый элемент полученного списка на одной строке через 1 символ пробел.\n",
    "\n",
    "Примечание. Количество чисел в обеих строках одинаковое."
   ]
  },
  {
   "cell_type": "code",
   "execution_count": 88,
   "metadata": {},
   "outputs": [
    {
     "name": "stdout",
     "output_type": "stream",
     "text": [
      "3 1 4\n",
      "1 5 9\n",
      "4 6 13\n"
     ]
    }
   ],
   "source": [
    "l = [int(i) for i in input().split()]\n",
    "m = [int(i) for i in input().split()]\n",
    "\n",
    "print(*[x + y for x, y in zip(l, m)])"
   ]
  },
  {
   "cell_type": "markdown",
   "metadata": {},
   "source": [
    "## 63\n",
    "На вход программе подается строка текста, содержащая натуральные числа. Напишите программу, которая вставляет между каждым числом знак +, а затем вычисляет сумму полученных чисел.\n",
    "\n",
    "На вход программе подается строка текста, содержащая натуральные числа, разделенные символом пробела.\n",
    "\n",
    "Примечание. Строковый метод join() работает только со списком строк."
   ]
  },
  {
   "cell_type": "code",
   "execution_count": 89,
   "metadata": {},
   "outputs": [
    {
     "name": "stdout",
     "output_type": "stream",
     "text": [
      "2 5 11 33 55\n",
      "2+5+11+33+55=106\n"
     ]
    }
   ],
   "source": [
    "a = [int(i) for i in input().split()]\n",
    "s = sum(a)\n",
    "print(*a, sep='+', end='=')\n",
    "print(s)"
   ]
  },
  {
   "cell_type": "code",
   "execution_count": 90,
   "metadata": {},
   "outputs": [
    {
     "name": "stdout",
     "output_type": "stream",
     "text": [
      "2 5 11 33 55\n",
      "2+5+11+33+55=106\n"
     ]
    }
   ],
   "source": [
    "n = input().split()\n",
    "print('+'.join(n), sum(map(int, n)), sep='=')"
   ]
  },
  {
   "cell_type": "markdown",
   "metadata": {},
   "source": [
    "## 64\n",
    "На вход программе подается строка текста. Напишите программу, которая определяет является ли введенная строка корректным телефонным номером. Строка текста является корректным телефонным номером если она имеет формат:\n",
    "\n",
    "abc-def-hijk или  \n",
    "7-abc-def-hijk  \n",
    "где a, b, c, d, e, f, h, i, j, k – цифры от 0 до 9.  \n",
    "\n",
    "Программа должна вывести «YES» если строка является корректным телефонным номером и «NO» в противном случае.\n",
    "\n",
    "Примечание. Телефонный номер должен содержать только цифры и символ -, а количество цифр в каждой группе должны быть правильным."
   ]
  },
  {
   "cell_type": "code",
   "execution_count": 91,
   "metadata": {},
   "outputs": [
    {
     "name": "stdout",
     "output_type": "stream",
     "text": [
      "7-301-447-5820\n",
      "YES\n"
     ]
    }
   ],
   "source": [
    "n = input().split(\"-\")\n",
    "c = [len(i) for i in n] \n",
    "if c == [3, 3, 4] and ''.join(n).isdigit(): \n",
    "    print(\"YES\")\n",
    "elif c == [1, 3, 3, 4] and ''.join(n).isdigit() and n[0] == '7': \n",
    "    print(\"YES\")\n",
    "else:\n",
    "    print(\"NO\")"
   ]
  },
  {
   "cell_type": "markdown",
   "metadata": {},
   "source": [
    "## 65\n",
    "На вход программе подается строка текста. Напишите программу, использующую списочное выражение, которая находит длину самого длинного слова."
   ]
  },
  {
   "cell_type": "code",
   "execution_count": 93,
   "metadata": {},
   "outputs": [
    {
     "name": "stdout",
     "output_type": "stream",
     "text": [
      "проспал почти всю ночь\n",
      "7\n"
     ]
    }
   ],
   "source": [
    "print(max([len(i) for i in input().split()]))"
   ]
  },
  {
   "cell_type": "markdown",
   "metadata": {},
   "source": [
    "## 66\n",
    "На вход программе подается строка текста. Напишите программу, использующую списочное выражение, которая преобразует каждое слово введенного текста в \"молодежный жаргон\" по следующему правилу: \n",
    "\n",
    "первая буква каждого слова удаляется и ставится в конец слова;  \n",
    "затем в конец слова добавляется слог \"ки\"."
   ]
  },
  {
   "cell_type": "code",
   "execution_count": 94,
   "metadata": {},
   "outputs": [
    {
     "name": "stdout",
     "output_type": "stream",
     "text": [
      "проспал почти всю ночь\n",
      "роспалпки очтипки сювки очьнки\n"
     ]
    }
   ],
   "source": [
    "print(*([i[1:] + i[0] + 'ки' for i in input().split()]))"
   ]
  },
  {
   "cell_type": "code",
   "execution_count": null,
   "metadata": {},
   "outputs": [],
   "source": []
  }
 ],
 "metadata": {
  "kernelspec": {
   "display_name": "Python 3",
   "language": "python",
   "name": "python3"
  },
  "language_info": {
   "codemirror_mode": {
    "name": "ipython",
    "version": 3
   },
   "file_extension": ".py",
   "mimetype": "text/x-python",
   "name": "python",
   "nbconvert_exporter": "python",
   "pygments_lexer": "ipython3",
   "version": "3.7.9"
  }
 },
 "nbformat": 4,
 "nbformat_minor": 4
}
