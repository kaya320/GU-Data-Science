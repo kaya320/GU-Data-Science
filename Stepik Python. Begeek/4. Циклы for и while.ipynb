{
 "cells": [
  {
   "cell_type": "markdown",
   "metadata": {},
   "source": [
    "## 1\n",
    "Напишите программу, которая выводит слова «Python is awesome!» (без кавычек) 10 раз."
   ]
  },
  {
   "cell_type": "code",
   "execution_count": 1,
   "metadata": {},
   "outputs": [],
   "source": [
    "for _ in range(10):\n",
    "    print('Python is awesome!')"
   ]
  },
  {
   "cell_type": "markdown",
   "metadata": {},
   "source": [
    "## 2\n",
    "Дано предложение и количество раз которое его надо повторить. Напишите программу, которая повторяет данное предложение нужное количество раз."
   ]
  },
  {
   "cell_type": "code",
   "execution_count": 2,
   "metadata": {},
   "outputs": [
    {
     "name": "stdout",
     "output_type": "stream",
     "text": [
      "привет\n",
      "3\n",
      "привет\n",
      "привет\n",
      "привет\n"
     ]
    }
   ],
   "source": [
    "a, b = input(), int(input())\n",
    "for _ in range(b):\n",
    "    print(a)"
   ]
  },
  {
   "cell_type": "markdown",
   "metadata": {},
   "source": [
    "## 3\n",
    "Напишите программу, которая использует ровно три цикла for для печати следующей последовательности символов:\n",
    "\n",
    "AAA\n",
    "AAA\n",
    "AAA\n",
    "AAA\n",
    "AAA\n",
    "AAA\n",
    "BBBB\n",
    "BBBB\n",
    "BBBB\n",
    "BBBB\n",
    "BBBB\n",
    "E\n",
    "TTTTT\n",
    "TTTTT\n",
    "TTTTT\n",
    "TTTTT\n",
    "TTTTT\n",
    "TTTTT\n",
    "TTTTT\n",
    "TTTTT\n",
    "TTTTT\n",
    "G"
   ]
  },
  {
   "cell_type": "code",
   "execution_count": 3,
   "metadata": {},
   "outputs": [
    {
     "name": "stdout",
     "output_type": "stream",
     "text": [
      "AAA\n",
      "AAA\n",
      "AAA\n",
      "AAA\n",
      "AAA\n",
      "AAA\n",
      "BBBB\n",
      "BBBB\n",
      "BBBB\n",
      "BBBB\n",
      "BBBB\n",
      "E\n",
      "TTTTT\n",
      "TTTTT\n",
      "TTTTT\n",
      "TTTTT\n",
      "TTTTT\n",
      "TTTTT\n",
      "TTTTT\n",
      "TTTTT\n",
      "TTTTT\n",
      "G\n"
     ]
    }
   ],
   "source": [
    "for _ in range(6):\n",
    "    print('AAA')\n",
    "for _ in range(5):\n",
    "    print('BBBB')\n",
    "print('E')\n",
    "for _ in range(9):\n",
    "    print('TTTTT')\n",
    "print('G')"
   ]
  },
  {
   "cell_type": "markdown",
   "metadata": {},
   "source": [
    "## 4\n",
    "На вход программе подается натуральное число n. Напишите программу, которая печатает звездный прямоугольник размерами n×19."
   ]
  },
  {
   "cell_type": "code",
   "execution_count": 4,
   "metadata": {},
   "outputs": [
    {
     "name": "stdout",
     "output_type": "stream",
     "text": [
      "3\n",
      "*******************\n",
      "*******************\n",
      "*******************\n"
     ]
    }
   ],
   "source": [
    "n = int(input())\n",
    "for i in range(n):\n",
    "    print('*' * 19)"
   ]
  },
  {
   "cell_type": "markdown",
   "metadata": {},
   "source": [
    "## 5\n",
    "Напишите программу, которая считывает одну строку текста и выводит 10 строк, пронумерованных от 0 до 9, каждая с указанной строкой текста."
   ]
  },
  {
   "cell_type": "code",
   "execution_count": 5,
   "metadata": {},
   "outputs": [
    {
     "name": "stdout",
     "output_type": "stream",
     "text": [
      "привет\n",
      "0 привет\n",
      "1 привет\n",
      "2 привет\n",
      "3 привет\n",
      "4 привет\n",
      "5 привет\n",
      "6 привет\n",
      "7 привет\n",
      "8 привет\n",
      "9 привет\n"
     ]
    }
   ],
   "source": [
    "a = input()\n",
    "for i in range(10):\n",
    "    print(i, a)"
   ]
  },
  {
   "cell_type": "markdown",
   "metadata": {},
   "source": [
    "## 6\n",
    "На вход программе подается натуральное число n. Напишите программу, которая для каждого из чисел от 0 до n (включительно) выводит фразу: «Квадрат числа [число] равен [число]» (без кавычек).\n",
    "\n",
    "На вход программе подается натуральное число n."
   ]
  },
  {
   "cell_type": "code",
   "execution_count": 6,
   "metadata": {},
   "outputs": [
    {
     "name": "stdout",
     "output_type": "stream",
     "text": [
      "3\n",
      "Квадрат числа 0 равен 0\n",
      "Квадрат числа 1 равен 1\n",
      "Квадрат числа 2 равен 4\n",
      "Квадрат числа 3 равен 9\n"
     ]
    }
   ],
   "source": [
    "n = int(input())\n",
    "for i in range(n + 1):\n",
    "    print('Квадрат числа', i, 'равен', i ** 2)"
   ]
  },
  {
   "cell_type": "markdown",
   "metadata": {},
   "source": [
    "## 7\n",
    "На вход программе подается натуральное число n, (n ≥ 2) – катет прямоугольного равнобедренного треугольника.\n",
    "\n",
    "Напишите программу, которая выводит звездный треугольник в соответствии с примером. "
   ]
  },
  {
   "cell_type": "code",
   "execution_count": 7,
   "metadata": {},
   "outputs": [
    {
     "name": "stdout",
     "output_type": "stream",
     "text": [
      "5\n",
      "*****\n",
      "****\n",
      "***\n",
      "**\n",
      "*\n",
      "\n"
     ]
    }
   ],
   "source": [
    "n = int(input())\n",
    "for i in range(n + 1):\n",
    "    print('*' *(n - i))"
   ]
  },
  {
   "cell_type": "markdown",
   "metadata": {},
   "source": [
    "## 8\n",
    "На вход программе подается три натуральных числа m, p, n:\n",
    "\n",
    "m: стартовое количество организмов;  \n",
    "p: среднесуточное увеличение в %;  \n",
    "n: количество дней для размножения.  \n",
    "\n",
    "Напишите программу, которая предсказывает размер популяции организмов. Программа должна выводить размер популяции в каждый день, начиная с 1 и заканчивая n-м днем.  "
   ]
  },
  {
   "cell_type": "code",
   "execution_count": 8,
   "metadata": {},
   "outputs": [
    {
     "name": "stdout",
     "output_type": "stream",
     "text": [
      "5\n",
      "20\n",
      "7\n",
      "1 5.0\n",
      "2 6.0\n",
      "3 7.199999999999999\n",
      "4 8.639999999999999\n",
      "5 10.367999999999999\n",
      "6 12.441599999999998\n",
      "7 14.929919999999996\n"
     ]
    }
   ],
   "source": [
    "m, p, n = (int(input()) for _ in range(3))\n",
    "for i in range(n):\n",
    "    a = m * (1 + p / 100) ** i \n",
    "    print(i + 1, a)"
   ]
  },
  {
   "cell_type": "markdown",
   "metadata": {},
   "source": [
    "## 9\n",
    "Даны два целых числа m и n (m ≤ n). Напишите программу, которая выводит все числа от m до n включительно."
   ]
  },
  {
   "cell_type": "code",
   "execution_count": 9,
   "metadata": {},
   "outputs": [
    {
     "name": "stdout",
     "output_type": "stream",
     "text": [
      "2\n",
      "6\n",
      "2\n",
      "3\n",
      "4\n",
      "5\n",
      "6\n"
     ]
    }
   ],
   "source": [
    "m, n = [int(input()) for _ in range(2)]\n",
    "for i in range(m, n + 1):\n",
    "    print(i)"
   ]
  },
  {
   "cell_type": "markdown",
   "metadata": {},
   "source": [
    "## 10\n",
    "Даны два целых числа m и n. Напишите программу, которая выводит все числа от m до n включительно в порядке возрастания, если m < n, или в порядке убывания в противном случае."
   ]
  },
  {
   "cell_type": "code",
   "execution_count": 11,
   "metadata": {},
   "outputs": [
    {
     "name": "stdout",
     "output_type": "stream",
     "text": [
      "8\n",
      "2\n",
      "8\n",
      "7\n",
      "6\n",
      "5\n",
      "4\n",
      "3\n",
      "2\n"
     ]
    }
   ],
   "source": [
    "m, n = (int(input()) for _ in range(2))\n",
    "if m < n:\n",
    "    for i in range(m, n + 1):\n",
    "        print(i)\n",
    "else:\n",
    "    for i in range(m, n - 1, -1):\n",
    "        print(i)"
   ]
  },
  {
   "cell_type": "markdown",
   "metadata": {},
   "source": [
    "## 11\n",
    "Даны два целых числа m и n (m > n). Напишите программу, которая выводит все нечетные числа от m до n включительно в порядке убывания."
   ]
  },
  {
   "cell_type": "code",
   "execution_count": 12,
   "metadata": {},
   "outputs": [
    {
     "name": "stdout",
     "output_type": "stream",
     "text": [
      "6\n",
      "2\n",
      "5\n",
      "3\n"
     ]
    }
   ],
   "source": [
    "m, n = [int(input()) for _ in range(2)]\n",
    "if m % 2 != 0:\n",
    "    for i in range(m, n, -2):\n",
    "        print(i)\n",
    "elif m % 2 == 0:\n",
    "    for i in range(m - 1, n - 1, -2):\n",
    "        print(i)\n",
    "else:\n",
    "    for i in range(m - 1, n, -2):\n",
    "        print(i)"
   ]
  },
  {
   "cell_type": "markdown",
   "metadata": {},
   "source": [
    "## 12\n",
    "Даны два натуральных числа m и n (m ≤ n). Напишите программу, которая выводит все числа от m до n включительно удовлетворяющие хотя бы одному из условий:\n",
    "\n",
    "число кратно 17;  \n",
    "число оканчивается на 9;  \n",
    "число кратно 3 и 5 одновременно."
   ]
  },
  {
   "cell_type": "code",
   "execution_count": 13,
   "metadata": {},
   "outputs": [
    {
     "name": "stdout",
     "output_type": "stream",
     "text": [
      "1\n",
      "20\n",
      "9\n",
      "15\n",
      "17\n",
      "19\n"
     ]
    }
   ],
   "source": [
    "m, n = [int(input()) for _ in range(2)]\n",
    "for i in range(m, n + 1):\n",
    "    if i % 10 == 9 or i % 17 == 0 or (i % 5 == 0 and i % 3 == 0):\n",
    "        print(i)"
   ]
  },
  {
   "cell_type": "markdown",
   "metadata": {},
   "source": [
    "## 13\n",
    "Дано натуральное число n. Напишите программу, которая выводит таблицу умножения на n."
   ]
  },
  {
   "cell_type": "code",
   "execution_count": 14,
   "metadata": {},
   "outputs": [
    {
     "name": "stdout",
     "output_type": "stream",
     "text": [
      "4\n",
      "4 x 1 = 4\n",
      "4 x 2 = 8\n",
      "4 x 3 = 12\n",
      "4 x 4 = 16\n",
      "4 x 5 = 20\n",
      "4 x 6 = 24\n",
      "4 x 7 = 28\n",
      "4 x 8 = 32\n",
      "4 x 9 = 36\n",
      "4 x 10 = 40\n"
     ]
    }
   ],
   "source": [
    "a = int(input())\n",
    "for i in range(10):\n",
    "    b = a * (i + 1)\n",
    "    print(a, 'x', i + 1, '=', b)"
   ]
  },
  {
   "cell_type": "markdown",
   "metadata": {},
   "source": [
    "## 14\n",
    "Что покажет приведенный ниже фрагмент кода?"
   ]
  },
  {
   "cell_type": "code",
   "execution_count": 15,
   "metadata": {},
   "outputs": [
    {
     "name": "stdout",
     "output_type": "stream",
     "text": [
      "100\n"
     ]
    }
   ],
   "source": [
    "num1 = 4\n",
    "num2 = 6\n",
    "num1 += num2\n",
    "num1 *= num1\n",
    "print(num1)"
   ]
  },
  {
   "cell_type": "markdown",
   "metadata": {},
   "source": [
    "## 15\n",
    "Что покажет приведенный ниже фрагмент кода?"
   ]
  },
  {
   "cell_type": "code",
   "execution_count": 16,
   "metadata": {},
   "outputs": [
    {
     "name": "stdout",
     "output_type": "stream",
     "text": [
      "15\n"
     ]
    }
   ],
   "source": [
    "total = 0\n",
    "for i in range(1, 6):\n",
    "    total += i\n",
    "print(total)"
   ]
  },
  {
   "cell_type": "markdown",
   "metadata": {},
   "source": [
    "## 16\n",
    "Что покажет приведенный ниже фрагмент кода?"
   ]
  },
  {
   "cell_type": "code",
   "execution_count": 17,
   "metadata": {},
   "outputs": [
    {
     "name": "stdout",
     "output_type": "stream",
     "text": [
      "1361015"
     ]
    }
   ],
   "source": [
    "total = 0\n",
    "for i in range(1, 6):\n",
    "    total += i\n",
    "    print(total, end='')"
   ]
  },
  {
   "cell_type": "markdown",
   "metadata": {},
   "source": [
    "## 17\n",
    "На вход программе подаются два целых числа a и b (a ≤ b). Напишите программу, которая подсчитывает количество чисел в диапазоне от a до b включительно, куб которых оканчивается на 4 или 9."
   ]
  },
  {
   "cell_type": "code",
   "execution_count": 18,
   "metadata": {},
   "outputs": [
    {
     "name": "stdout",
     "output_type": "stream",
     "text": [
      "1\n",
      "20\n",
      "4\n"
     ]
    }
   ],
   "source": [
    "a, b = [int(input()) for _ in range(2)]\n",
    "counter = 0\n",
    "for i in range(a, b + 1):\n",
    "    if i ** 3 % 10 == 4 or i ** 3 % 10 == 9:\n",
    "        counter += 1\n",
    "print(counter)"
   ]
  },
  {
   "cell_type": "markdown",
   "metadata": {},
   "source": [
    "## 18\n",
    "На вход программе подается натуральное число n, а затем n целых чисел, каждое на отдельной строке. Напишите программу, которая подсчитывает сумму введенных чисел. "
   ]
  },
  {
   "cell_type": "code",
   "execution_count": 19,
   "metadata": {},
   "outputs": [
    {
     "name": "stdout",
     "output_type": "stream",
     "text": [
      "5\n",
      "1\n",
      "6\n",
      "9\n",
      "4\n",
      "4\n",
      "24\n"
     ]
    }
   ],
   "source": [
    "n = int(input())\n",
    "total = 0\n",
    "for i in range(n):\n",
    "    a = int(input())\n",
    "    total += a\n",
    "print(total)"
   ]
  },
  {
   "cell_type": "markdown",
   "metadata": {},
   "source": [
    "## 19\n",
    "На вход программе подается натуральное число n. Напишите программу, которая подсчитывает сумму тех чисел от 1 до n (включительно) квадрат которых оканчивается на 2, 5 или 8.\n",
    "\n",
    "Примечание. Если таких чисел нет в указанном диапазоне, то следует вывести 0."
   ]
  },
  {
   "cell_type": "code",
   "execution_count": 20,
   "metadata": {},
   "outputs": [
    {
     "name": "stdout",
     "output_type": "stream",
     "text": [
      "10\n",
      "5\n"
     ]
    }
   ],
   "source": [
    "n = int(input())\n",
    "total = 0\n",
    "for i in range(1, n + 1):\n",
    "    if i ** 2 % 10 == 5:\n",
    "        total += i\n",
    "print(total)"
   ]
  },
  {
   "cell_type": "markdown",
   "metadata": {},
   "source": [
    "## 20\n",
    "На вход программе подается натуральное число n. Напишите программу, которая вычисляет n!.\n",
    "\n",
    "Примечание. Факториалом натурального числа n, называется произведение всех натуральных чисел от 1 до n"
   ]
  },
  {
   "cell_type": "code",
   "execution_count": 21,
   "metadata": {},
   "outputs": [
    {
     "name": "stdout",
     "output_type": "stream",
     "text": [
      "4\n",
      "24\n"
     ]
    }
   ],
   "source": [
    "n = int(input())\n",
    "total = 1\n",
    "for i in range(1, n + 1):\n",
    "    total = total * i\n",
    "print(total)"
   ]
  },
  {
   "cell_type": "markdown",
   "metadata": {},
   "source": [
    "## 21\n",
    "Напишите программу, которая считывает 10 чисел и выводит произведение отличных от нуля чисел."
   ]
  },
  {
   "cell_type": "code",
   "execution_count": 22,
   "metadata": {},
   "outputs": [
    {
     "name": "stdout",
     "output_type": "stream",
     "text": [
      "1\n",
      "2\n",
      "3\n",
      "4\n",
      "5\n",
      "0\n",
      "0\n",
      "-2\n",
      "-4\n",
      "-5\n",
      "120\n"
     ]
    }
   ],
   "source": [
    "total = 1\n",
    "for i in range(10): \n",
    "    a = int(input())\n",
    "    if a > 0:\n",
    "        total *= a\n",
    "print(total)"
   ]
  },
  {
   "cell_type": "markdown",
   "metadata": {},
   "source": [
    "## 22\n",
    "На вход программе подается натуральное число n. Напишите программу, которая вычисляет сумму всех его делителей."
   ]
  },
  {
   "cell_type": "code",
   "execution_count": 23,
   "metadata": {},
   "outputs": [
    {
     "name": "stdout",
     "output_type": "stream",
     "text": [
      "457\n",
      "458\n"
     ]
    }
   ],
   "source": [
    "n = int(input())\n",
    "total = 0\n",
    "for i in range(1, n + 1):\n",
    "    if n % i == 0:\n",
    "        total += i\n",
    "print(total)"
   ]
  },
  {
   "cell_type": "markdown",
   "metadata": {},
   "source": [
    "## 23\n",
    "На вход программе подается натуральное число n. Напишите программу вычисления знакочередующей суммы \n",
    "1−2+3−4+5−6+…+(−1) "
   ]
  },
  {
   "cell_type": "code",
   "execution_count": 25,
   "metadata": {},
   "outputs": [
    {
     "name": "stdout",
     "output_type": "stream",
     "text": [
      "5\n",
      "3\n"
     ]
    }
   ],
   "source": [
    "n = int(input())\n",
    "total = 0\n",
    "for i in range(1, n + 1):\n",
    "    a = ((-1) ** (i + 1)) * i\n",
    "    total += a\n",
    "print(total)"
   ]
  },
  {
   "cell_type": "markdown",
   "metadata": {},
   "source": [
    "## 24\n",
    "На вход программе подается натуральное число n, а затем n различных натуральных чисел, каждое на отдельной строке. Напишите программу, которая выводит наибольшее и второе наибольшее число последовательности.  \n",
    "На вход программе подаются натуральное число n ≥ 2, а затем n различных натуральных чисел, каждое на отдельной строке."
   ]
  },
  {
   "cell_type": "code",
   "execution_count": 26,
   "metadata": {},
   "outputs": [
    {
     "name": "stdout",
     "output_type": "stream",
     "text": [
      "4\n",
      "67\n",
      "90\n",
      "5\n",
      "3\n",
      "90\n",
      "67\n"
     ]
    }
   ],
   "source": [
    "n = int(input())\n",
    "a = [int(input()) for i in range(n)]\n",
    "\n",
    "print(max(a))\n",
    "a.sort()\n",
    "a.remove(max(a))\n",
    "new_a = list(a)\n",
    "print(max(new_a))"
   ]
  },
  {
   "cell_type": "markdown",
   "metadata": {},
   "source": [
    "## 25\n",
    "Напишите программу, которая считывает последовательность из 10 целых чисел и определяет является ли каждое из них четным или нет."
   ]
  },
  {
   "cell_type": "code",
   "execution_count": 27,
   "metadata": {},
   "outputs": [
    {
     "name": "stdout",
     "output_type": "stream",
     "text": [
      "10\n",
      "4\n",
      "6\n",
      "7\n",
      "9\n",
      "3\n",
      "13\n",
      "15\n",
      "17\n",
      "34\n",
      "NO\n"
     ]
    }
   ],
   "source": [
    "counter = 0\n",
    "for i in range(10):\n",
    "    a = int(input()) \n",
    "    if a % 2 == 0:\n",
    "        counter += 1\n",
    "if counter == 10:\n",
    "    print('YES') \n",
    "else:\n",
    "    print('NO')"
   ]
  },
  {
   "cell_type": "markdown",
   "metadata": {},
   "source": [
    "## 26\n",
    "Последовательность Фибоначчи \n",
    "\n",
    "На вход программе подается одно число n, n≤100 – количество членов последовательности. Программа должна вывести члены последовательности Фибоначчи, отделенные символом пробела.\n",
    "\n",
    "Примечание. Последовательность Фибоначчи – это последовательность натуральных чисел, где каждое последующее число является суммой двух предыдущих"
   ]
  },
  {
   "cell_type": "code",
   "execution_count": 28,
   "metadata": {},
   "outputs": [
    {
     "name": "stdout",
     "output_type": "stream",
     "text": [
      "20\n",
      "1 1 2 3 5 8 13 21 34 55 89 144 233 377 610 987 1597 2584 4181 6765 "
     ]
    }
   ],
   "source": [
    "a = b = 1\n",
    "n = int(input())\n",
    "if n < 2:\n",
    "    print(n)\n",
    "else:\n",
    "    print(a, end=' ')\n",
    "    print(b, end=' ')\n",
    "for i in range(2, n):\n",
    "    a, b = b, a + b\n",
    "    print(b, end=' ')"
   ]
  },
  {
   "cell_type": "code",
   "execution_count": 29,
   "metadata": {},
   "outputs": [
    {
     "name": "stdout",
     "output_type": "stream",
     "text": [
      "20\n",
      "1 1 2 3 5 8 13 21 34 55 89 144 233 377 610 987 1597 2584 4181 6765 "
     ]
    }
   ],
   "source": [
    "n = int(input())\n",
    "a, b = 1, 1\n",
    "\n",
    "for i in range(n):\n",
    "    print(a, end=' ')\n",
    "    a, b = b, a + b"
   ]
  },
  {
   "cell_type": "code",
   "execution_count": 32,
   "metadata": {},
   "outputs": [
    {
     "name": "stdout",
     "output_type": "stream",
     "text": [
      "20\n",
      "[1, 1, 2, 3, 5, 8, 13, 21, 34, 55, 89, 144, 233, 377, 610, 987, 1597, 2584, 4181, 6765]\n"
     ]
    }
   ],
   "source": [
    "n = int(input())\n",
    "a = [0]*n\n",
    "\n",
    "a[0]=1\n",
    "a[1]=1\n",
    "\n",
    "for i in range(2, n, 1):\n",
    "    a[i] = a[i-1] + a[i-2]\n",
    "print(a)"
   ]
  },
  {
   "cell_type": "markdown",
   "metadata": {},
   "source": [
    "## 27\n",
    "На вход программе подается последовательность слов, каждое слово на отдельной строке. Концом последовательности является слово «КОНЕЦ» (без кавычек). Напишите программу, которая выводит члены данной последовательности."
   ]
  },
  {
   "cell_type": "code",
   "execution_count": 33,
   "metadata": {},
   "outputs": [
    {
     "name": "stdout",
     "output_type": "stream",
     "text": [
      "привет\n",
      "привет\n",
      "как дела\n",
      "как дела\n",
      "КОНЕЦ\n"
     ]
    }
   ],
   "source": [
    "a = input()\n",
    "while a != 'КОНЕЦ':\n",
    "    print(a)\n",
    "    a = input()"
   ]
  },
  {
   "cell_type": "markdown",
   "metadata": {},
   "source": [
    "## 28\n",
    "На вход программе подается последовательность слов, каждое слово на отдельной строке. Концом последовательности является слово «КОНЕЦ» или «конец» (большими или маленькими буквами, без кавычек). Напишите программу, которая выводит члены данной последовательности."
   ]
  },
  {
   "cell_type": "code",
   "execution_count": 34,
   "metadata": {},
   "outputs": [
    {
     "name": "stdout",
     "output_type": "stream",
     "text": [
      "пока\n",
      "пока\n",
      "конец\n"
     ]
    }
   ],
   "source": [
    "a = input()\n",
    "while a != 'КОНЕЦ' and a != 'конец':\n",
    "    print(a)\n",
    "    a = input()"
   ]
  },
  {
   "cell_type": "markdown",
   "metadata": {},
   "source": [
    "## 29\n",
    "На вход программе подается последовательность слов, каждое слово на отдельной строке. Концом последовательности является одно из трех слов: «стоп», «хватит», «достаточно» (маленькими буквами, без кавычек). \n",
    "Напишите программу, которая выводит общее количество членов данной последовательности."
   ]
  },
  {
   "cell_type": "code",
   "execution_count": 36,
   "metadata": {},
   "outputs": [
    {
     "name": "stdout",
     "output_type": "stream",
     "text": [
      "раз\n",
      "два\n",
      "хватит\n",
      "2\n"
     ]
    }
   ],
   "source": [
    "a = input()\n",
    "counter = 0\n",
    "while a != 'стоп' and  a != 'хватит' and a != 'достаточно':\n",
    "    counter += 1\n",
    "    a = input()\n",
    "print(counter)"
   ]
  },
  {
   "cell_type": "markdown",
   "metadata": {},
   "source": [
    "## 30\n",
    "На вход программе подается последовательность целых чисел делящихся на 7, каждое число на отдельной строке. Концом последовательности является любое число не делящееся на 77. Напишите программу, которая выводит члены данной последовательности."
   ]
  },
  {
   "cell_type": "code",
   "execution_count": 37,
   "metadata": {},
   "outputs": [
    {
     "name": "stdout",
     "output_type": "stream",
     "text": [
      "14\n",
      "14\n",
      "21\n",
      "21\n",
      "23\n"
     ]
    }
   ],
   "source": [
    "a = int(input())\n",
    "while a % 7 == 0:\n",
    "    print(a)\n",
    "    a = int(input())"
   ]
  },
  {
   "cell_type": "markdown",
   "metadata": {},
   "source": [
    "## 31\n",
    "На вход программе подается последовательность целых чисел, каждое число на отдельной строке. Концом последовательности является любое отрицательное число. Напишите программу, которая выводит сумму всех членов данной последовательности."
   ]
  },
  {
   "cell_type": "code",
   "execution_count": 38,
   "metadata": {},
   "outputs": [
    {
     "name": "stdout",
     "output_type": "stream",
     "text": [
      "1\n",
      "3\n",
      "-1\n",
      "4\n"
     ]
    }
   ],
   "source": [
    "a = int(input())\n",
    "total = 0\n",
    "while a > 0:\n",
    "    total += a\n",
    "    a = int(input())\n",
    "print(total)"
   ]
  },
  {
   "cell_type": "markdown",
   "metadata": {},
   "source": [
    "## 32\n",
    "На вход программе подается последовательность целых чисел от 1 до 5, характеризующее оценку ученика, каждое число на отдельной строке. Концом последовательности является любое отрицательное число, либо число большее 5. Напишите программу, которая выводит количество пятерок."
   ]
  },
  {
   "cell_type": "code",
   "execution_count": 39,
   "metadata": {},
   "outputs": [
    {
     "name": "stdout",
     "output_type": "stream",
     "text": [
      "1\n",
      "2\n",
      "6\n",
      "0\n"
     ]
    }
   ],
   "source": [
    "counter = 0\n",
    "a = int(input())\n",
    "if a == 5:\n",
    "    counter += 1\n",
    "while 0 < a < 6:\n",
    "    a = int(input())\n",
    "    if a == 5:\n",
    "        counter += 1\n",
    "print(counter)"
   ]
  },
  {
   "cell_type": "markdown",
   "metadata": {},
   "source": [
    "## 33\n",
    "Всем известно, что ведьмак способен одолеть любых чудовищ, однако его услуги обойдутся недешево, к тому же ведьмак не принимает купюры, он принимает только чеканные монеты. В мире ведьмака существуют монеты с номиналами 1, 5, 10, 25.\n",
    "\n",
    "Напишите программу, которая определяет какое минимальное количество чеканных монет нужно заплатить ведьмаку."
   ]
  },
  {
   "cell_type": "code",
   "execution_count": 40,
   "metadata": {},
   "outputs": [
    {
     "name": "stdout",
     "output_type": "stream",
     "text": [
      "45\n",
      "3\n"
     ]
    }
   ],
   "source": [
    "sm = int(input())\n",
    "coins = [1, 5, 10, 25]\n",
    "ls = [0] * (sm + 1)\n",
    "for i in range(1, sm + 1):\n",
    "    ls[i] = float('inf')\n",
    "    for coin in coins:\n",
    "        if coin <= i:\n",
    "            ls[i] = min(ls[i], ls[i-coin] + 1)\n",
    "print(ls[-1])"
   ]
  },
  {
   "cell_type": "markdown",
   "metadata": {},
   "source": [
    "## 34\n",
    "Дано натуральное число. Напишите программу, которая выводит его цифры в столбик в обратном порядке."
   ]
  },
  {
   "cell_type": "code",
   "execution_count": 41,
   "metadata": {},
   "outputs": [
    {
     "name": "stdout",
     "output_type": "stream",
     "text": [
      "12345\n",
      "5\n",
      "4\n",
      "3\n",
      "2\n",
      "1\n"
     ]
    }
   ],
   "source": [
    "n = int(input())\n",
    "while n != 0:\n",
    "    last_digit = n % 10\n",
    "    print(last_digit)\n",
    "    n = n // 10 "
   ]
  },
  {
   "cell_type": "markdown",
   "metadata": {},
   "source": [
    "## 35\n",
    "Дано натуральное число. Напишите программу, которая меняет порядок цифр числа на обратный."
   ]
  },
  {
   "cell_type": "code",
   "execution_count": 42,
   "metadata": {},
   "outputs": [
    {
     "name": "stdout",
     "output_type": "stream",
     "text": [
      "1234\n",
      "4321\n"
     ]
    }
   ],
   "source": [
    "n = input()\n",
    "print(n[::-1])"
   ]
  },
  {
   "cell_type": "code",
   "execution_count": 43,
   "metadata": {},
   "outputs": [
    {
     "name": "stdout",
     "output_type": "stream",
     "text": [
      "1234\n",
      "4321"
     ]
    }
   ],
   "source": [
    "n = int(input())\n",
    "while n != 0:\n",
    "    print(n % 10, end = '')\n",
    "    n = n // 10"
   ]
  },
  {
   "cell_type": "markdown",
   "metadata": {},
   "source": [
    "## 36\n",
    "Дано натуральное число n, (n ≥ 10). Напишите программу, которая определяет его максимальную и минимальную цифры."
   ]
  },
  {
   "cell_type": "code",
   "execution_count": 44,
   "metadata": {},
   "outputs": [
    {
     "name": "stdout",
     "output_type": "stream",
     "text": [
      "193\n",
      "Максимальная цифра равна 9\n",
      "Минимальная цифра равна 1\n"
     ]
    }
   ],
   "source": [
    "n = input()\n",
    "m = max(i for i in n)\n",
    "a = min(i for i in n)\n",
    "print('Максимальная цифра равна', m)\n",
    "print('Минимальная цифра равна', a)"
   ]
  },
  {
   "cell_type": "markdown",
   "metadata": {},
   "source": [
    "## 37\n",
    "Дано натуральное число. Напишите программу, которая вычисляет:\n",
    "\n",
    "- сумму его цифр;\n",
    "- количество цифр в нем;\n",
    "- произведение его цифр;\n",
    "- среднее арифметическое его цифр;\n",
    "- его первую цифру;\n",
    "- сумму его первой и последней цифры."
   ]
  },
  {
   "cell_type": "code",
   "execution_count": 45,
   "metadata": {},
   "outputs": [
    {
     "name": "stdout",
     "output_type": "stream",
     "text": [
      "5432\n",
      "14\n",
      "4\n",
      "120\n",
      "3.5\n",
      "5\n",
      "7\n"
     ]
    }
   ],
   "source": [
    "n, sm, kol, pr = int(input()),0,0,1\n",
    "np = n % 10\n",
    "while n != 0:\n",
    "    sm += n % 10 \n",
    "    kol +=1\n",
    "    pr *= n % 10\n",
    "    n1 = n\n",
    "    n = n // 10\n",
    "print(sm, kol, pr, sm/kol, n1, n1+np, sep='\\n')"
   ]
  },
  {
   "cell_type": "markdown",
   "metadata": {},
   "source": [
    "## 38\n",
    "Дано натуральное число n, n>9. Напишите программу, которая определяет его вторую (с начала) цифру. На вход программе подается одно натуральное число, состоящее как минимум из двух цифр."
   ]
  },
  {
   "cell_type": "code",
   "execution_count": 46,
   "metadata": {},
   "outputs": [
    {
     "name": "stdout",
     "output_type": "stream",
     "text": [
      "234\n",
      "3\n"
     ]
    }
   ],
   "source": [
    "n = input()\n",
    "second = (n)[1]\n",
    "print(second)"
   ]
  },
  {
   "cell_type": "code",
   "execution_count": 47,
   "metadata": {},
   "outputs": [
    {
     "name": "stdout",
     "output_type": "stream",
     "text": [
      "234\n",
      "3\n"
     ]
    }
   ],
   "source": [
    "n = int(input())\n",
    "while n > 99:\n",
    "    n //= 10\n",
    "print(n % 10)"
   ]
  },
  {
   "cell_type": "markdown",
   "metadata": {},
   "source": [
    "## 39\n",
    "Дано натуральное число. Напишите программу, которая определяет, состоит ли указанное число из одинаковых цифр."
   ]
  },
  {
   "cell_type": "code",
   "execution_count": 48,
   "metadata": {},
   "outputs": [
    {
     "name": "stdout",
     "output_type": "stream",
     "text": [
      "111\n",
      "YES\n"
     ]
    }
   ],
   "source": [
    "n = int(input())\n",
    "same_digits = True\n",
    "a = n % 10\n",
    "n = n // 10 \n",
    "\n",
    "while n != 0:\n",
    "    b = n % 10\n",
    "    if b != a:\n",
    "        same_digits = False\n",
    "        break\n",
    "    n = n // 10 \n",
    "if same_digits == True:\n",
    "    print('YES')\n",
    "else:\n",
    "    print('NO')"
   ]
  },
  {
   "cell_type": "markdown",
   "metadata": {},
   "source": [
    "## 40\n",
    "Дано натуральное число. Напишите программу, которая определяет, является ли последовательность его цифр при просмотре справа налево упорядоченной по неубыванию."
   ]
  },
  {
   "cell_type": "code",
   "execution_count": 50,
   "metadata": {},
   "outputs": [
    {
     "name": "stdout",
     "output_type": "stream",
     "text": [
      "321\n",
      "YES\n"
     ]
    }
   ],
   "source": [
    "n, b = int(input()),'YES'\n",
    "while n // 10 != 0 :\n",
    "    a = n % 10  \n",
    "    n = n // 10\n",
    "    if a > n % 10:\n",
    "        b = 'NO'\n",
    "print(b)"
   ]
  },
  {
   "cell_type": "markdown",
   "metadata": {},
   "source": [
    "## 41\n",
    "На вход программе подается число n > 1. Напишите программу, которая выводит его наименьший отличный от 1 делитель."
   ]
  },
  {
   "cell_type": "code",
   "execution_count": 51,
   "metadata": {},
   "outputs": [
    {
     "name": "stdout",
     "output_type": "stream",
     "text": [
      "20\n",
      "2\n"
     ]
    }
   ],
   "source": [
    "n = int(input())\n",
    "for i in range(1, n + 1):\n",
    "    if n % i == 0 and i != 1:\n",
    "        break\n",
    "print(i)"
   ]
  },
  {
   "cell_type": "markdown",
   "metadata": {},
   "source": [
    "## 42\n",
    "На вход программе подается натуральное число n. Напишите программу, которая выводит числа от 1 до n включительно за исключением:\n",
    "\n",
    "чисел от 5 до 9 включительно;  \n",
    "чисел от 17 до 37 включительно;  \n",
    "чисел от 78 до 87 включительно.  "
   ]
  },
  {
   "cell_type": "code",
   "execution_count": 52,
   "metadata": {},
   "outputs": [
    {
     "name": "stdout",
     "output_type": "stream",
     "text": [
      "19\n",
      "1\n",
      "2\n",
      "3\n",
      "4\n",
      "10\n",
      "11\n",
      "12\n",
      "13\n",
      "14\n",
      "15\n",
      "16\n"
     ]
    }
   ],
   "source": [
    "n = int(input())\n",
    "for i in range(1, n + 1):\n",
    "    if 4 < i < 10 or 16 < i < 38 or 77 < i < 88:\n",
    "        continue\n",
    "    print(i)"
   ]
  },
  {
   "cell_type": "markdown",
   "metadata": {},
   "source": [
    "## 43\n",
    "Напишем, программу, которая определяет, содержит ли введенное пользователем число, цифру 7"
   ]
  },
  {
   "cell_type": "code",
   "execution_count": 53,
   "metadata": {},
   "outputs": [
    {
     "name": "stdout",
     "output_type": "stream",
     "text": [
      "173\n",
      "Число 17 содержит цифру 7\n"
     ]
    }
   ],
   "source": [
    "n = int(input())\n",
    "while n != 0:\n",
    "    last = n % 10\n",
    "    if last == 7:\n",
    "        print('Число', n, 'содержит цифру 7')\n",
    "        break\n",
    "    n //= 10\n",
    "else:\n",
    "    print('Число', n, 'не содержит цифру 7')"
   ]
  },
  {
   "cell_type": "markdown",
   "metadata": {},
   "source": [
    "## 44\n",
    "На обработку поступает последовательность из 10 целых чисел. Известно, что вводимые числа по абсолютной величине не превышают 10^6. Нужно написать программу, которая выводит на экран количество неотрицательных чисел последовательности и их произведение. Если неотрицательных чисел нет, требуется вывести на экран «NO». Программист торопился и написал программу неправильно."
   ]
  },
  {
   "cell_type": "code",
   "execution_count": 54,
   "metadata": {},
   "outputs": [
    {
     "name": "stdout",
     "output_type": "stream",
     "text": [
      "1\n",
      "2\n",
      "3\n",
      "4\n",
      "5\n",
      "-1\n",
      "-5\n",
      "-6\n",
      "9\n",
      "10\n",
      "7\n",
      "10800\n"
     ]
    }
   ],
   "source": [
    "count = 0\n",
    "p = 1\n",
    "for i in range(1, 11):\n",
    "    x = int(input())\n",
    "    if x >= 0:\n",
    "        p *= x\n",
    "        count += 1\n",
    "if count > 0:\n",
    "    print(count)\n",
    "    print(p)\n",
    "else:\n",
    "    print('NO')"
   ]
  },
  {
   "cell_type": "markdown",
   "metadata": {},
   "source": [
    "## 45\n",
    "На обработку поступает последовательность из 10 целых чисел. Известно, что вводимые числа по абсолютной величине не превышают 10^6. Нужно написать программу, которая выводит на экран сумму всех отрицательных чисел последовательности и максимальное отрицательное число в последовательности. Если отрицательных чисел нет, требуется вывести на экран «NO»."
   ]
  },
  {
   "cell_type": "code",
   "execution_count": 55,
   "metadata": {},
   "outputs": [
    {
     "name": "stdout",
     "output_type": "stream",
     "text": [
      "1\n",
      "3\n",
      "-10\n",
      "-21\n",
      "3\n",
      "5\n",
      "6\n",
      "8\n",
      "9\n",
      "6\n",
      "-31\n",
      "-10\n"
     ]
    }
   ],
   "source": [
    "mx = -10 ** 6 - 1\n",
    "s = 0\n",
    "for i in range(1, 11):\n",
    "    x = int(input())\n",
    "    if x < 0:\n",
    "        s += x\n",
    "    if x < 0 and x > mx:\n",
    "        mx = x\n",
    "if s < 0:\n",
    "    print(s)\n",
    "    print(mx)\n",
    "else:\n",
    "      print('NO')"
   ]
  },
  {
   "cell_type": "markdown",
   "metadata": {},
   "source": [
    "## 46\n",
    "На обработку поступает последовательность из 7 целых чисел. Известно, что вводимые числа по абсолютной величине не превышают 10^6. Нужно написать программу, которая подсчитывает и выводит сумму всех чётных чисел последовательности или 0, если чётных чисел в последовательности нет."
   ]
  },
  {
   "cell_type": "code",
   "execution_count": 56,
   "metadata": {},
   "outputs": [
    {
     "name": "stdout",
     "output_type": "stream",
     "text": [
      "2\n",
      "10\n",
      "22\n",
      "34\n",
      "5\n",
      "7\n",
      "8\n",
      "76\n"
     ]
    }
   ],
   "source": [
    "s = 0\n",
    "for i in range(1, 8):\n",
    "    n = int(input())\n",
    "    if n % 2 == 0:\n",
    "        s += n\n",
    "print(s)"
   ]
  },
  {
   "cell_type": "markdown",
   "metadata": {},
   "source": [
    "## 47\n",
    "На обработку поступает натуральное число. Нужно написать программу, которая выводит на экран максимальную цифру числа, кратную 3. Если в числе нет цифр, кратных 3, требуется на экран вывести «NO»."
   ]
  },
  {
   "cell_type": "code",
   "execution_count": 57,
   "metadata": {},
   "outputs": [
    {
     "name": "stdout",
     "output_type": "stream",
     "text": [
      "19834\n",
      "9\n"
     ]
    }
   ],
   "source": [
    "n = int(input())\n",
    "max_digit = -1\n",
    "while n > 0:\n",
    "    digit = n % 10\n",
    "    if digit % 3 == 0:\n",
    "        if digit > max_digit:\n",
    "            max_digit = digit\n",
    "    n = n // 10\n",
    "if max_digit == -1:\n",
    "    print('NO')\n",
    "else:\n",
    "    print(max_digit)"
   ]
  },
  {
   "cell_type": "markdown",
   "metadata": {},
   "source": [
    "## 48\n",
    "На обработку поступает натуральное число. Нужно написать программу, которая выводит на экран его первую (старшую) цифру."
   ]
  },
  {
   "cell_type": "code",
   "execution_count": 58,
   "metadata": {},
   "outputs": [
    {
     "name": "stdout",
     "output_type": "stream",
     "text": [
      "986\n",
      "9\n"
     ]
    }
   ],
   "source": [
    "n = int(input())\n",
    "while n > 9:  # цикл имеет смысл только в случае если данное натурально число дву- и  более -значное\n",
    "    n //= 10  # нам необходимо постепенно отбрасывать числа до первого\n",
    "print(n)"
   ]
  },
  {
   "cell_type": "markdown",
   "metadata": {},
   "source": [
    "## 49\n",
    "На обработку поступает натуральное число. Нужно написать программу, которая выводит на экран произведение цифр введенного числа."
   ]
  },
  {
   "cell_type": "code",
   "execution_count": 59,
   "metadata": {},
   "outputs": [
    {
     "name": "stdout",
     "output_type": "stream",
     "text": [
      "253\n",
      "30\n"
     ]
    }
   ],
   "source": [
    "n = int(input())\n",
    "product = 1\n",
    "while n > 0:\n",
    "    digit = n % 10\n",
    "    product *= digit\n",
    "    n //= 10\n",
    "print(product)"
   ]
  },
  {
   "cell_type": "markdown",
   "metadata": {},
   "source": [
    "## Вложенные циклы"
   ]
  },
  {
   "cell_type": "markdown",
   "metadata": {},
   "source": [
    "### Примеры"
   ]
  },
  {
   "cell_type": "code",
   "execution_count": 64,
   "metadata": {},
   "outputs": [
    {
     "name": "stdout",
     "output_type": "stream",
     "text": [
      "*\n",
      "**\n",
      "***\n",
      "****\n",
      "*****\n",
      "******\n",
      "*******\n",
      "********\n"
     ]
    }
   ],
   "source": [
    "for i in range(8):\n",
    "    for j in range(i + 1):\n",
    "        print('*', end='')\n",
    "    print()"
   ]
  },
  {
   "cell_type": "code",
   "execution_count": 65,
   "metadata": {},
   "outputs": [
    {
     "name": "stdout",
     "output_type": "stream",
     "text": [
      "******\n",
      "******\n",
      "******\n",
      "******\n",
      "******\n",
      "******\n",
      "******\n",
      "******\n"
     ]
    }
   ],
   "source": [
    "for i in range(8):\n",
    "    for j in range(6):\n",
    "        print('*', end='')\n",
    "    print()"
   ]
  },
  {
   "cell_type": "code",
   "execution_count": 66,
   "metadata": {},
   "outputs": [
    {
     "name": "stdout",
     "output_type": "stream",
     "text": [
      "1 3\n",
      "1 4\n",
      "1 5\n",
      "2 3\n",
      "2 4\n",
      "2 5\n",
      "3 3\n",
      "3 4\n",
      "3 5\n"
     ]
    }
   ],
   "source": [
    "for i in range(1, 4):\n",
    "    for j in range(3, 6):\n",
    "        print(i, j)"
   ]
  },
  {
   "cell_type": "markdown",
   "metadata": {},
   "source": [
    "## 50\n",
    "Дано натуральное число n, n≤ 9. Напишите программу, которая печатает таблицу размером n×3 состоящую из данного числа (числа отделены одним пробелом)."
   ]
  },
  {
   "cell_type": "code",
   "execution_count": 68,
   "metadata": {},
   "outputs": [
    {
     "name": "stdout",
     "output_type": "stream",
     "text": [
      "4\n",
      "4 4 4 \n",
      "4 4 4 \n",
      "4 4 4 \n",
      "4 4 4 \n"
     ]
    }
   ],
   "source": [
    "n = int(input())\n",
    "for i in range(n):\n",
    "    for j in range(3):\n",
    "        print(n, end=' ')\n",
    "    print()"
   ]
  },
  {
   "cell_type": "markdown",
   "metadata": {},
   "source": [
    "## 51\n",
    "Дано натуральное число n, n ≤ 9. Напишите программу, которая печатает таблицу размером n×5, где в i-ой строке указано число i (числа отделены одним пробелом)."
   ]
  },
  {
   "cell_type": "code",
   "execution_count": 69,
   "metadata": {},
   "outputs": [
    {
     "name": "stdout",
     "output_type": "stream",
     "text": [
      "4\n",
      "1 1 1 1 1 \n",
      "2 2 2 2 2 \n",
      "3 3 3 3 3 \n",
      "4 4 4 4 4 \n"
     ]
    }
   ],
   "source": [
    "n = int(input())\n",
    "for i in range(1, n + 1):\n",
    "    for _ in range(5):\n",
    "        print(i, end=' ')\n",
    "    print()"
   ]
  },
  {
   "cell_type": "markdown",
   "metadata": {},
   "source": [
    "## 52\n",
    "Дано натуральное число n, n ≤ 9. Напишите программу, которая печатает таблицу сложения для всех чисел от 1 до n в соответствии с примером."
   ]
  },
  {
   "cell_type": "code",
   "execution_count": 70,
   "metadata": {},
   "outputs": [
    {
     "name": "stdout",
     "output_type": "stream",
     "text": [
      "4\n",
      "1 + 1 = 2\n",
      "1 + 2 = 3\n",
      "1 + 3 = 4\n",
      "1 + 4 = 5\n",
      "1 + 5 = 6\n",
      "1 + 6 = 7\n",
      "1 + 7 = 8\n",
      "1 + 8 = 9\n",
      "1 + 9 = 10\n",
      "\n",
      "2 + 1 = 3\n",
      "2 + 2 = 4\n",
      "2 + 3 = 5\n",
      "2 + 4 = 6\n",
      "2 + 5 = 7\n",
      "2 + 6 = 8\n",
      "2 + 7 = 9\n",
      "2 + 8 = 10\n",
      "2 + 9 = 11\n",
      "\n",
      "3 + 1 = 4\n",
      "3 + 2 = 5\n",
      "3 + 3 = 6\n",
      "3 + 4 = 7\n",
      "3 + 5 = 8\n",
      "3 + 6 = 9\n",
      "3 + 7 = 10\n",
      "3 + 8 = 11\n",
      "3 + 9 = 12\n",
      "\n",
      "4 + 1 = 5\n",
      "4 + 2 = 6\n",
      "4 + 3 = 7\n",
      "4 + 4 = 8\n",
      "4 + 5 = 9\n",
      "4 + 6 = 10\n",
      "4 + 7 = 11\n",
      "4 + 8 = 12\n",
      "4 + 9 = 13\n",
      "\n"
     ]
    }
   ],
   "source": [
    "counter = 0\n",
    "n = int(input())\n",
    "for _ in range(1, n + 1):\n",
    "    counter += 1\n",
    "    for i in range(1, 10):\n",
    "        b = counter + i \n",
    "        print(counter, '+', i, '=', b, sep=' ')\n",
    "    print()"
   ]
  },
  {
   "cell_type": "markdown",
   "metadata": {},
   "source": [
    "## 53\n",
    "Дано нечетное натуральное число n. Напишите программу, которая печатает равнобедренный звездный треугольник с основанием, равным n"
   ]
  },
  {
   "cell_type": "code",
   "execution_count": 71,
   "metadata": {},
   "outputs": [
    {
     "name": "stdout",
     "output_type": "stream",
     "text": [
      "5\n",
      "*\n",
      "**\n",
      "***\n",
      "**\n",
      "*\n"
     ]
    }
   ],
   "source": [
    "n = int(input())\n",
    "for i in range(1, n // 2 + 2):\n",
    "    print('*' * i)\n",
    "for i in range(n // 2, 0, -1):\n",
    "    print('*' * i)"
   ]
  },
  {
   "cell_type": "code",
   "execution_count": 72,
   "metadata": {},
   "outputs": [
    {
     "name": "stdout",
     "output_type": "stream",
     "text": [
      "5\n",
      "*\n",
      "**\n",
      "***\n",
      "**\n",
      "*\n"
     ]
    }
   ],
   "source": [
    "n = int(input())\n",
    "count = 0\n",
    "step = 1\n",
    "for _ in range( n):\n",
    "    if count == n//2 + 1:\n",
    "        step = -1\n",
    "    count += step\n",
    "    print('*' * count)"
   ]
  },
  {
   "cell_type": "markdown",
   "metadata": {},
   "source": [
    "## 54\n",
    "Дано натуральное число n. Напишите программу, которая печатает численный треугольник"
   ]
  },
  {
   "cell_type": "code",
   "execution_count": 73,
   "metadata": {},
   "outputs": [
    {
     "name": "stdout",
     "output_type": "stream",
     "text": [
      "5\n",
      "1\n",
      "22\n",
      "333\n",
      "4444\n",
      "55555\n"
     ]
    }
   ],
   "source": [
    "n = int(input())\n",
    "for i in range(1, n + 1):\n",
    "    for j in range(i):\n",
    "        print(i, end='')\n",
    "    print()"
   ]
  },
  {
   "cell_type": "markdown",
   "metadata": {},
   "source": [
    "## 55\n",
    "Дано натуральное число n. Напишите программу, которая печатает численный треугольник с высотой равной n  "
   ]
  },
  {
   "cell_type": "code",
   "execution_count": 74,
   "metadata": {},
   "outputs": [
    {
     "name": "stdout",
     "output_type": "stream",
     "text": [
      "5\n",
      "1 \n",
      "2 3 \n",
      "4 5 6 \n",
      "7 8 9 10 \n",
      "11 12 13 14 15 \n"
     ]
    }
   ],
   "source": [
    "n = int(input())\n",
    "total = 0\n",
    "for i in range(1, n + 1):\n",
    "    for j in range(1, i + 1):\n",
    "        total += 1\n",
    "        print(total, end=' ')\n",
    "    print()"
   ]
  },
  {
   "cell_type": "markdown",
   "metadata": {},
   "source": [
    "## 56\n",
    "Дано натуральное число n. Напишите программу, которая печатает численный треугольник с высотой равной n"
   ]
  },
  {
   "cell_type": "code",
   "execution_count": 75,
   "metadata": {},
   "outputs": [
    {
     "name": "stdout",
     "output_type": "stream",
     "text": [
      "6\n",
      "1\n",
      "121\n",
      "12321\n",
      "1234321\n",
      "123454321\n",
      "12345654321\n"
     ]
    }
   ],
   "source": [
    "n = int(input())\n",
    "\n",
    "for i in range(1, n + 1):\n",
    "    for j in range(1, i + 1):\n",
    "        print(j, end='')\n",
    "    for j in range(i - 1, 0, -1):\n",
    "        print(j, end='')\n",
    "    print()"
   ]
  },
  {
   "cell_type": "markdown",
   "metadata": {},
   "source": [
    "## 57\n",
    "На вход программе подается два натуральных числа a и b (a < b). Напишите программу, которая находит натуральное число из отрезка [a; b] с максимальной суммой делителей.  \n",
    "Примечание. Если таких чисел несколько, то выведите наибольшее из них."
   ]
  },
  {
   "cell_type": "code",
   "execution_count": 76,
   "metadata": {},
   "outputs": [
    {
     "name": "stdout",
     "output_type": "stream",
     "text": [
      "1\n",
      "100\n",
      "96 252\n"
     ]
    }
   ],
   "source": [
    "a, b = (int(input()) for i in range(2))\n",
    "\n",
    "count = 0\n",
    "maximum = 0\n",
    "total = 0 \n",
    "\n",
    "for i in range(a, b + 1):\n",
    "    for j in range(1, i + 1):\n",
    "        if i % j == 0:\n",
    "            count += j\n",
    "        if count >= maximum:\n",
    "            maximum = count\n",
    "            total = i\n",
    "    count = 0\n",
    "print(total, maximum)"
   ]
  },
  {
   "cell_type": "code",
   "execution_count": 82,
   "metadata": {},
   "outputs": [
    {
     "name": "stdout",
     "output_type": "stream",
     "text": [
      "1\n",
      "100\n",
      "96 252\n"
     ]
    }
   ],
   "source": [
    "a, b = int(input()), int(input())\n",
    "\n",
    "num = 0  # число\n",
    "d_sum = 0  # сумма делителей\n",
    "in_sum = 0  # сумма в итерации\n",
    "\n",
    "for i in range(a, b + 1): \n",
    "    in_sum = 0  # обнуляем сумм делителей для нового числа\n",
    "    \n",
    "    for j in range(1, i + 1):  # считаем сумму делителей для числа\n",
    "        if i % j == 0:\n",
    "            in_sum += j\n",
    "    \n",
    "    if in_sum > d_sum:  # проверяем, если текущая сумма больше предыдущей - \n",
    "        num = i         # обновляем число\n",
    "        d_sum = in_sum  # обновялем сумму\n",
    "\n",
    "print(num, d_sum)"
   ]
  },
  {
   "cell_type": "markdown",
   "metadata": {},
   "source": [
    "## 58\n",
    "На вход программе подается натуральное число n. Напишите программу, выводящую графическое изображение делимости чисел от 1 до n включительно. В каждой строке надо напечатать очередное число и столько символов «+», сколько делителей у этого числа."
   ]
  },
  {
   "cell_type": "code",
   "execution_count": 77,
   "metadata": {},
   "outputs": [
    {
     "name": "stdout",
     "output_type": "stream",
     "text": [
      "5\n",
      "1 +\n",
      "2 ++\n",
      "3 ++\n",
      "4 +++\n",
      "5 ++\n"
     ]
    }
   ],
   "source": [
    "n = int(input())\n",
    "for i in range(1, n + 1):\n",
    "    count = 0\n",
    "    for j in range(1, i + 1):\n",
    "        if i % j == 0:\n",
    "            count += 1\n",
    "    print(i, '+' * count) "
   ]
  },
  {
   "cell_type": "markdown",
   "metadata": {},
   "source": [
    "## 59\n",
    "На вход программе подается натуральное число n. Напишите программу, которая находит цифровой корень данного числа. Цифровой корень числа n получается следующим образом: если сложить все цифры этого числа, затем все цифры найденной суммы и повторить этот процесс, то в результате будет получено однозначное число (цифра), которое и называется цифровым корнем данного числа.\n",
    "\n",
    "Примечание. Используйте вложенные циклы while."
   ]
  },
  {
   "cell_type": "code",
   "execution_count": 79,
   "metadata": {},
   "outputs": [
    {
     "name": "stdout",
     "output_type": "stream",
     "text": [
      "192\n",
      "3\n"
     ]
    }
   ],
   "source": [
    "n = int(input())\n",
    "\n",
    "while n > 9:\n",
    "    total = 0 \n",
    "    while n != 0:\n",
    "        total += n % 10\n",
    "        n //= 10\n",
    "    n = total\n",
    "\n",
    "print(n)"
   ]
  },
  {
   "cell_type": "markdown",
   "metadata": {},
   "source": [
    "## 60\n",
    "Дано натуральное число n. Напишите программу, которая выводит значение суммы 1!+2!+3!+n!."
   ]
  },
  {
   "cell_type": "code",
   "execution_count": 80,
   "metadata": {},
   "outputs": [
    {
     "name": "stdout",
     "output_type": "stream",
     "text": [
      "3\n",
      "9\n"
     ]
    }
   ],
   "source": [
    "n = int(input())\n",
    "sum = 0\n",
    "m = 1 \n",
    "for i in range(1, n + 1 ):\n",
    "    m *= i\n",
    "    sum += m \n",
    "print(sum)"
   ]
  },
  {
   "cell_type": "markdown",
   "metadata": {},
   "source": [
    "## 61\n",
    "На вход программе подается два натуральных числа a и b (a < b). Напишите программу, которая находит все простые числа от a до b включительно."
   ]
  },
  {
   "cell_type": "code",
   "execution_count": 81,
   "metadata": {},
   "outputs": [
    {
     "name": "stdout",
     "output_type": "stream",
     "text": [
      "2\n",
      "15\n",
      "2\n",
      "3\n",
      "5\n",
      "7\n",
      "11\n",
      "13\n"
     ]
    }
   ],
   "source": [
    "a, b, = (int(input()) for i in range(2))\n",
    "for i in range(a, b + 1):\n",
    "    if i == 1:\n",
    "        continue\n",
    "    for j in range(2, i):\n",
    "        if i % j == 0:\n",
    "            break\n",
    "    else:\n",
    "        print(i)"
   ]
  },
  {
   "cell_type": "markdown",
   "metadata": {},
   "source": [
    "## 62\n",
    "На обработку поступает натуральное число. Нужно написать программу, которая выводит на экран сумму чётных цифр этого числа или 0, если чётных цифр в записи нет."
   ]
  },
  {
   "cell_type": "code",
   "execution_count": 83,
   "metadata": {},
   "outputs": [
    {
     "name": "stdout",
     "output_type": "stream",
     "text": [
      "124789\n",
      "14\n"
     ]
    }
   ],
   "source": [
    "n = int(input())\n",
    "s = 0\n",
    "while n > 0:\n",
    "    if n % 2 == 0:\n",
    "        s = s + n % 10\n",
    "    n //= 10\n",
    "print(s)"
   ]
  },
  {
   "cell_type": "markdown",
   "metadata": {},
   "source": [
    "## 63\n",
    "На обработку поступает последовательность из 8 целых чисел. Известно, что вводимые числа по абсолютной величине не превышают 10^6. Нужно написать программу, которая выводит на экран количество делящихся нацело на 4 чисел в исходной последовательности и максимальное делящееся нацело на 4 число. Если делящихся нацело на 4 чисел нет, требуется на экран вывести «NO». "
   ]
  },
  {
   "cell_type": "code",
   "execution_count": 84,
   "metadata": {},
   "outputs": [
    {
     "name": "stdout",
     "output_type": "stream",
     "text": [
      "4\n",
      "13\n",
      "12\n",
      "15\n",
      "16\n",
      "20\n",
      "2\n",
      "3\n",
      "4\n",
      "20\n"
     ]
    }
   ],
   "source": [
    "n = 8\n",
    "count = 0\n",
    "maximum = -10 ** 6 - 1\n",
    "for i in range(1, n + 1):\n",
    "    x = int(input())\n",
    "    if x % 4 == 0:\n",
    "        count += 1\n",
    "        if x > maximum:\n",
    "            maximum = x\n",
    "if count > 0:\n",
    "    print(count)\n",
    "    print(maximum)\n",
    "else:\n",
    "    print('NO')"
   ]
  },
  {
   "cell_type": "markdown",
   "metadata": {},
   "source": [
    "## 64\n",
    "На обработку поступает последовательность из 4 целых чисел. Известно, что вводимые числа по абсолютной величине не превышают 10^6. Нужно написать программу, которая выводит на экран количество нечётных чисел в исходной последовательности и максимальное нечётное число. Если нечётных чисел нет, требуется на экран вывести «NO». "
   ]
  },
  {
   "cell_type": "code",
   "execution_count": 85,
   "metadata": {},
   "outputs": [
    {
     "name": "stdout",
     "output_type": "stream",
     "text": [
      "1\n",
      "3\n",
      "7\n",
      "4\n",
      "3\n",
      "7\n"
     ]
    }
   ],
   "source": [
    "n = 4\n",
    "count = 0\n",
    "maximum = -10 ** 6 - 1\n",
    "for i in range(1, n + 1):\n",
    "    x = int(input())\n",
    "    if x % 2 != 0:\n",
    "        count += 1\n",
    "        if x > maximum:\n",
    "            maximum = x\n",
    "if count > 0:\n",
    "    print(count)\n",
    "    print(maximum)\n",
    "else:\n",
    "    print('NO')"
   ]
  },
  {
   "cell_type": "markdown",
   "metadata": {},
   "source": [
    "## 65\n",
    "На вход программе подается натуральное число n. Напишите программу, которая печатает звездную рамку размерами n×19.\n",
    "На вход программе подаётся натуральное число n ∈ [3;19] — высота звездной рамки.\n",
    "\n",
    "Подсказка. Для печати зведной линии используйте умножение строки на число."
   ]
  },
  {
   "cell_type": "code",
   "execution_count": 86,
   "metadata": {},
   "outputs": [
    {
     "name": "stdout",
     "output_type": "stream",
     "text": [
      "4\n",
      "*******************\n",
      "*                 *\n",
      "*                 *\n",
      "*******************\n"
     ]
    }
   ],
   "source": [
    "n = int(input())\n",
    "print('*' * 19)\n",
    "for i in range(n - 2):\n",
    "    print(\"*\", \" \" * 15, \"*\")\n",
    "print('*' * 19)"
   ]
  },
  {
   "cell_type": "markdown",
   "metadata": {},
   "source": [
    "## 66\n",
    "Дано натуральное число n, (n > 99). Напишите программу, которая определяет его третью (с начала) цифру. На вход программе подается одно натуральное число, состоящее как минимум из трех цифр."
   ]
  },
  {
   "cell_type": "code",
   "execution_count": 88,
   "metadata": {},
   "outputs": [
    {
     "name": "stdout",
     "output_type": "stream",
     "text": [
      "12455\n",
      "4\n"
     ]
    }
   ],
   "source": [
    "n = input()\n",
    "print(n[2])"
   ]
  },
  {
   "cell_type": "markdown",
   "metadata": {},
   "source": [
    "## 67\n",
    "Дано натуральное число. Напишите программу, которая вычисляет:\n",
    "\n",
    "количество цифр 3 в нем;  \n",
    "сколько раз в нем встречается последняя цифра;  \n",
    "количество четных цифр;  \n",
    "сумму его цифр, больших пяти;  \n",
    "произведение цифр, больших семи (если цифр больших семи нет, то вывести 1, если такая цифра одна, то вывести ее);  \n",
    "сколько раз в нем встречается цифры 0 и 5 (всего суммарно).  "
   ]
  },
  {
   "cell_type": "code",
   "execution_count": 89,
   "metadata": {},
   "outputs": [
    {
     "name": "stdout",
     "output_type": "stream",
     "text": [
      "134570\n",
      "1\n",
      "1\n",
      "2\n",
      "7\n",
      "1\n",
      "2\n"
     ]
    }
   ],
   "source": [
    "n = input()\n",
    "\n",
    "digit_3 = n.count('3')\n",
    "\n",
    "last = (n)[-1]\n",
    "last_digit = n.count(last)\n",
    "\n",
    "chetn = 0\n",
    "m = int(n)\n",
    "\n",
    "while m > 0:\n",
    "    if m % 2 == 0:\n",
    "        chetn += 1\n",
    "    m //= 10\n",
    "    \n",
    "sum_more5 = 0\n",
    "\n",
    "for i in n:\n",
    "    if int(i) > 5:\n",
    "        sum_more5 = sum_more5 + int(i)\n",
    "\n",
    "proizv = 0\n",
    "for i in n:\n",
    "    if int(i) > 7:\n",
    "        proizv = proizv * int(i)\n",
    "        if proizv == 0:\n",
    "            proizv = int(i)\n",
    "    if proizv == 0:\n",
    "        proizv = 1        \n",
    "        \n",
    "digits_05 = n.count('0')+ n.count('5')\n",
    "\n",
    "print(digit_3, last_digit, chetn,sum_more5, proizv, digits_05, sep='\\n')"
   ]
  },
  {
   "cell_type": "code",
   "execution_count": null,
   "metadata": {},
   "outputs": [],
   "source": []
  }
 ],
 "metadata": {
  "kernelspec": {
   "display_name": "Python 3",
   "language": "python",
   "name": "python3"
  },
  "language_info": {
   "codemirror_mode": {
    "name": "ipython",
    "version": 3
   },
   "file_extension": ".py",
   "mimetype": "text/x-python",
   "name": "python",
   "nbconvert_exporter": "python",
   "pygments_lexer": "ipython3",
   "version": "3.7.9"
  }
 },
 "nbformat": 4,
 "nbformat_minor": 4
}
