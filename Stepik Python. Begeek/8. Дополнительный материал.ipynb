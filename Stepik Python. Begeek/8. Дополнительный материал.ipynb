{
 "cells": [
  {
   "cell_type": "code",
   "execution_count": 1,
   "metadata": {},
   "outputs": [],
   "source": [
    "import random"
   ]
  },
  {
   "cell_type": "markdown",
   "metadata": {},
   "source": [
    "### Функция Randint()\n",
    "Функция randint() принимает два обязательных аргумента a и b и возвращает случайное целое число из отрезка.  \n",
    "Важно: левая и правая граница a и b включаются в диапазон генерируемых случайных чисел. "
   ]
  },
  {
   "cell_type": "code",
   "execution_count": 2,
   "metadata": {},
   "outputs": [
    {
     "name": "stdout",
     "output_type": "stream",
     "text": [
      "17\n"
     ]
    }
   ],
   "source": [
    "num1 = random.randint(0, 17)\n",
    "print(num1)"
   ]
  },
  {
   "cell_type": "code",
   "execution_count": 3,
   "metadata": {},
   "outputs": [
    {
     "name": "stdout",
     "output_type": "stream",
     "text": [
      "74\n",
      "55\n",
      "80\n",
      "69\n",
      "53\n",
      "6\n",
      "45\n",
      "11\n",
      "30\n",
      "100\n"
     ]
    }
   ],
   "source": [
    "for _ in range(10):\n",
    "    print(random.randint(1, 100))"
   ]
  },
  {
   "cell_type": "markdown",
   "metadata": {},
   "source": [
    "### Функция Randrange()"
   ]
  },
  {
   "cell_type": "markdown",
   "metadata": {},
   "source": [
    "Функция randrange() принимает такие же аргументы, что и функция range().  \n",
    "Различие состоит в том, что функция randrange() не возвращает саму последовательность чисел. Вместо этого она возвращает случайно выбранное число из последовательности чисел."
   ]
  },
  {
   "cell_type": "code",
   "execution_count": 4,
   "metadata": {},
   "outputs": [
    {
     "name": "stdout",
     "output_type": "stream",
     "text": [
      "5\n"
     ]
    }
   ],
   "source": [
    "num = random.randrange(10)\n",
    "print(num)"
   ]
  },
  {
   "cell_type": "markdown",
   "metadata": {},
   "source": [
    "### Функция Random()"
   ]
  },
  {
   "cell_type": "markdown",
   "metadata": {},
   "source": [
    "Функция random() возвращает случайное число с плавающей точкой (вещественное число). В функцию random() никаких аргументов не передается. \n",
    "Функция random() возвращает случайное число с плавающей точкой в диапазоне от 0.0 до 1.0 (исключая 1.0)."
   ]
  },
  {
   "cell_type": "code",
   "execution_count": 5,
   "metadata": {},
   "outputs": [
    {
     "name": "stdout",
     "output_type": "stream",
     "text": [
      "0.013922304373920613\n"
     ]
    }
   ],
   "source": [
    "num = random.random()\n",
    "print(num)"
   ]
  },
  {
   "cell_type": "markdown",
   "metadata": {},
   "source": [
    "### Функция Uniform()"
   ]
  },
  {
   "cell_type": "markdown",
   "metadata": {},
   "source": [
    "Функция uniform() тоже возвращает случайное число с плавающей точкой, но при этом она позволяет задавать диапазон для отбора значений."
   ]
  },
  {
   "cell_type": "code",
   "execution_count": 6,
   "metadata": {},
   "outputs": [
    {
     "name": "stdout",
     "output_type": "stream",
     "text": [
      "3.586954714496002\n"
     ]
    }
   ],
   "source": [
    "num = random.uniform(1.5, 17.3)\n",
    "print(num)"
   ]
  },
  {
   "cell_type": "markdown",
   "metadata": {},
   "source": [
    "### Функция Seed()"
   ]
  },
  {
   "cell_type": "markdown",
   "metadata": {},
   "source": [
    "Вместе с тем, могут иметься некоторые программы, где требуется всегда генерировать одну и ту же последовательность случайных чисел. При необходимости для этого можно вызвать функцию seed(), задав начальное значение.  \n",
    "Если выполнить такой код еще раз, то мы получим ту же самую последовательность псевдослучайных чисел."
   ]
  },
  {
   "cell_type": "code",
   "execution_count": 7,
   "metadata": {},
   "outputs": [
    {
     "name": "stdout",
     "output_type": "stream",
     "text": [
      "67\n",
      "54\n",
      "39\n",
      "47\n",
      "38\n",
      "23\n",
      "99\n",
      "91\n",
      "91\n",
      "70\n"
     ]
    }
   ],
   "source": [
    "random.seed(17)   # явно устанавливаем начальное значение для генератора случайных чисел\n",
    "\n",
    "for _ in range(10):\n",
    "    print(random.randint(1, 100))"
   ]
  },
  {
   "cell_type": "markdown",
   "metadata": {},
   "source": [
    "### Функция Shuffle()"
   ]
  },
  {
   "cell_type": "markdown",
   "metadata": {},
   "source": [
    "Функция shuffle() принимает список в качестве обязательного аргумента и перемешивает его случайным образом."
   ]
  },
  {
   "cell_type": "code",
   "execution_count": 8,
   "metadata": {},
   "outputs": [
    {
     "name": "stdout",
     "output_type": "stream",
     "text": [
      "[6, 8, 3, 4, 2, 7, 1, 5]\n"
     ]
    }
   ],
   "source": [
    "numbers = [1, 2, 3, 4, 5, 6, 7, 8]\n",
    "random.shuffle(numbers)\n",
    "print(numbers)"
   ]
  },
  {
   "cell_type": "markdown",
   "metadata": {},
   "source": [
    "### Функция Choice()"
   ]
  },
  {
   "cell_type": "markdown",
   "metadata": {},
   "source": [
    "Функция choice() принимает список (строку) в качестве обязательного аргумента и возвращает один случайный элемент из переданного списка (строки).  \n",
    "Количество случайных элементов не должно превышать длину начального списка (строки)."
   ]
  },
  {
   "cell_type": "code",
   "execution_count": 9,
   "metadata": {},
   "outputs": [
    {
     "name": "stdout",
     "output_type": "stream",
     "text": [
      "E\n",
      "3\n",
      "d\n"
     ]
    }
   ],
   "source": [
    "print(random.choice('BEEGEEK'))\n",
    "print(random.choice([1, 2, 3, 4]))\n",
    "print(random.choice(['a', 'b', 'c', 'd']))"
   ]
  },
  {
   "cell_type": "markdown",
   "metadata": {},
   "source": [
    "### Функция Sample()"
   ]
  },
  {
   "cell_type": "code",
   "execution_count": 10,
   "metadata": {},
   "outputs": [
    {
     "name": "stdout",
     "output_type": "stream",
     "text": [
      "[5]\n",
      "[12, 2]\n",
      "[5, 12, 2]\n",
      "[12, 5, 9, 2, 8]\n"
     ]
    }
   ],
   "source": [
    "numbers = [2, 5, 8, 9, 12]\n",
    "\n",
    "print(random.sample(numbers, 1))\n",
    "print(random.sample(numbers, 2))\n",
    "print(random.sample(numbers, 3))\n",
    "print(random.sample(numbers, 5))"
   ]
  },
  {
   "cell_type": "markdown",
   "metadata": {},
   "source": [
    "### Функция Bin()"
   ]
  },
  {
   "cell_type": "markdown",
   "metadata": {},
   "source": [
    "Функция bin() возвращает строку с двоичным представлением указанного целого числа."
   ]
  },
  {
   "cell_type": "code",
   "execution_count": 11,
   "metadata": {},
   "outputs": [
    {
     "name": "stdout",
     "output_type": "stream",
     "text": [
      "0b1010\n",
      "0b10000000\n",
      "0b10010110\n"
     ]
    }
   ],
   "source": [
    "print(bin(10))\n",
    "print(bin(128))\n",
    "print(bin(150))"
   ]
  },
  {
   "cell_type": "markdown",
   "metadata": {},
   "source": [
    "### Функция Oct()"
   ]
  },
  {
   "cell_type": "markdown",
   "metadata": {},
   "source": [
    "Функция oct() возвращает строку с восьмеричным представлением указанного целого числа."
   ]
  },
  {
   "cell_type": "code",
   "execution_count": 12,
   "metadata": {},
   "outputs": [
    {
     "name": "stdout",
     "output_type": "stream",
     "text": [
      "0o12\n",
      "0o200\n",
      "0o226\n"
     ]
    }
   ],
   "source": [
    "print(oct(10))\n",
    "print(oct(128))\n",
    "print(oct(150))"
   ]
  },
  {
   "cell_type": "markdown",
   "metadata": {},
   "source": [
    "### Функция Hex()"
   ]
  },
  {
   "cell_type": "markdown",
   "metadata": {},
   "source": [
    "Функция hex() возвращает строку с шестнадцатеричным представлением указанного целого числа."
   ]
  },
  {
   "cell_type": "code",
   "execution_count": 13,
   "metadata": {},
   "outputs": [
    {
     "name": "stdout",
     "output_type": "stream",
     "text": [
      "0xa\n",
      "0x80\n",
      "0x96\n"
     ]
    }
   ],
   "source": [
    "print(hex(10))\n",
    "print(hex(128))\n",
    "print(hex(150))"
   ]
  },
  {
   "cell_type": "markdown",
   "metadata": {},
   "source": [
    "### Примечание"
   ]
  },
  {
   "cell_type": "markdown",
   "metadata": {},
   "source": [
    "Если нам требуется избавиться от приставок 0b, 0o, 0x, то мы можем воспользоваться строковым срезом:"
   ]
  },
  {
   "cell_type": "code",
   "execution_count": 14,
   "metadata": {},
   "outputs": [
    {
     "name": "stdout",
     "output_type": "stream",
     "text": [
      "1111111\n",
      "177\n",
      "7f\n"
     ]
    }
   ],
   "source": [
    "num = 127\n",
    "\n",
    "bin_num = bin(num)  # 0b1111111\n",
    "oct_num = oct(num)  # 0o177\n",
    "hex_num = hex(num)  # 0x7f\n",
    "\n",
    "print(bin_num[2:])  # 1111111\n",
    "print(oct_num[2:])  # 177\n",
    "print(hex_num[2:])  # 7f"
   ]
  },
  {
   "cell_type": "markdown",
   "metadata": {},
   "source": [
    "Функция hex() возвращает шестнадцатеричное число с маленькими символами a, b, c, d, e, f"
   ]
  },
  {
   "cell_type": "code",
   "execution_count": 15,
   "metadata": {},
   "outputs": [
    {
     "name": "stdout",
     "output_type": "stream",
     "text": [
      "1F1C8\n"
     ]
    }
   ],
   "source": [
    "num = 127432\n",
    "\n",
    "hex_num = hex(num)          # 0x1f1c8\n",
    "print(hex_num[2:].upper())  # 1F1C8"
   ]
  },
  {
   "cell_type": "markdown",
   "metadata": {},
   "source": [
    "### Строки"
   ]
  },
  {
   "cell_type": "code",
   "execution_count": 16,
   "metadata": {},
   "outputs": [
    {
     "name": "stdout",
     "output_type": "stream",
     "text": [
      "a b c d e f "
     ]
    }
   ],
   "source": [
    "s = 'abcdef'\n",
    "for c in s:\n",
    "    print(c, end=' ')"
   ]
  },
  {
   "cell_type": "code",
   "execution_count": 17,
   "metadata": {},
   "outputs": [
    {
     "name": "stdout",
     "output_type": "stream",
     "text": [
      "a b c d e f "
     ]
    }
   ],
   "source": [
    "s = 'abcdef'\n",
    "for i in range(len(s)):\n",
    "    print(s[i], end=' ')"
   ]
  },
  {
   "cell_type": "code",
   "execution_count": 18,
   "metadata": {},
   "outputs": [
    {
     "name": "stdout",
     "output_type": "stream",
     "text": [
      "0 a\n",
      "1 b\n",
      "2 c\n",
      "3 d\n",
      "4 e\n",
      "5 f\n"
     ]
    }
   ],
   "source": [
    "s = 'abcdef'\n",
    "for i in range(len(s)):\n",
    "    print(i, s[i])"
   ]
  },
  {
   "cell_type": "markdown",
   "metadata": {},
   "source": [
    "### Списки"
   ]
  },
  {
   "cell_type": "code",
   "execution_count": 19,
   "metadata": {},
   "outputs": [
    {
     "name": "stdout",
     "output_type": "stream",
     "text": [
      "50 1 2 3 4 5 6 7 8 9 10 "
     ]
    }
   ],
   "source": [
    "numbers = [50, 1, 2, 3, 4, 5, 6, 7, 8, 9, 10]\n",
    "for i in range(len(numbers)):\n",
    "    print((numbers[i]), end=' ')"
   ]
  },
  {
   "cell_type": "code",
   "execution_count": 20,
   "metadata": {},
   "outputs": [
    {
     "name": "stdout",
     "output_type": "stream",
     "text": [
      "(0, 50) (1, 1) (2, 2) (3, 3) (4, 4) (5, 5) (6, 6) (7, 7) (8, 8) (9, 9) (10, 10) "
     ]
    }
   ],
   "source": [
    "numbers = [50, 1, 2, 3, 4, 5, 6, 7, 8, 9, 10]\n",
    "for i in range(len(numbers)):\n",
    "    print((i, numbers[i]), end=' ')"
   ]
  },
  {
   "cell_type": "code",
   "execution_count": 21,
   "metadata": {},
   "outputs": [
    {
     "name": "stdout",
     "output_type": "stream",
     "text": [
      "50 1 2 3 4 5 6 7 8 9 10 "
     ]
    }
   ],
   "source": [
    "numbers = [50, 1, 2, 3, 4, 5, 6, 7, 8, 9, 10]\n",
    "for i in numbers:\n",
    "    print(i, end=' ')"
   ]
  },
  {
   "cell_type": "code",
   "execution_count": 22,
   "metadata": {},
   "outputs": [
    {
     "name": "stdout",
     "output_type": "stream",
     "text": [
      "(0, 10) (1, 20) (2, 30) (3, 40) "
     ]
    }
   ],
   "source": [
    "a = [10, 20, 30, 40]\n",
    "for i in enumerate(a):\n",
    "    print(i, end=' ')"
   ]
  },
  {
   "cell_type": "code",
   "execution_count": 23,
   "metadata": {},
   "outputs": [
    {
     "data": {
      "text/plain": [
       "[55, 6, 7, 8, 9, 10, 11, 12, 13, 14, 15]"
      ]
     },
     "execution_count": 23,
     "metadata": {},
     "output_type": "execute_result"
    }
   ],
   "source": [
    "numbers = [50, 1, 2, 3, 4, 5, 6, 7, 8, 9, 10]\n",
    "for id, item in enumerate(numbers):\n",
    "    numbers[id] = item + 5\n",
    "numbers    "
   ]
  },
  {
   "cell_type": "code",
   "execution_count": null,
   "metadata": {},
   "outputs": [],
   "source": []
  }
 ],
 "metadata": {
  "kernelspec": {
   "display_name": "Python 3",
   "language": "python",
   "name": "python3"
  },
  "language_info": {
   "codemirror_mode": {
    "name": "ipython",
    "version": 3
   },
   "file_extension": ".py",
   "mimetype": "text/x-python",
   "name": "python",
   "nbconvert_exporter": "python",
   "pygments_lexer": "ipython3",
   "version": "3.7.9"
  }
 },
 "nbformat": 4,
 "nbformat_minor": 4
}
