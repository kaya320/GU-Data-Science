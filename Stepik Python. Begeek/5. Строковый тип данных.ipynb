{
 "cells": [
  {
   "cell_type": "markdown",
   "metadata": {},
   "source": [
    "## 1 \n",
    "Что покажет приведенный ниже фрагмент кода?"
   ]
  },
  {
   "cell_type": "code",
   "execution_count": 1,
   "metadata": {},
   "outputs": [
    {
     "name": "stdout",
     "output_type": "stream",
     "text": [
      "aaagggdddd\n"
     ]
    }
   ],
   "source": [
    "s = 'abcdefg'\n",
    "print(s[0]*3 + s[-1]*3 + s[3]*2 + s[3]*2)"
   ]
  },
  {
   "cell_type": "markdown",
   "metadata": {},
   "source": [
    "## 2\n",
    "Что покажет приведенный ниже фрагмент кода?"
   ]
  },
  {
   "cell_type": "code",
   "execution_count": 2,
   "metadata": {},
   "outputs": [
    {
     "name": "stdout",
     "output_type": "stream",
     "text": [
      "051217"
     ]
    }
   ],
   "source": [
    "s = '01234567891011121314151617'\n",
    "for i in range(0, len(s), 5):\n",
    "    print(s[i], end='')"
   ]
  },
  {
   "cell_type": "markdown",
   "metadata": {},
   "source": [
    "## 3\n",
    "Дополните приведенный код, используя индексатор, так чтобы он вывел символ w."
   ]
  },
  {
   "cell_type": "code",
   "execution_count": 3,
   "metadata": {},
   "outputs": [
    {
     "name": "stdout",
     "output_type": "stream",
     "text": [
      "w\n"
     ]
    }
   ],
   "source": [
    "s = \"In 2010, someone paid 10k Bitcoin for two pizzas.\"\n",
    "print(s[-10])"
   ]
  },
  {
   "cell_type": "markdown",
   "metadata": {},
   "source": [
    "## 4\n",
    "На вход программе подается одна строка. Напишите программу, которая выводит элементы строки с индексами 0, 2, 4, ... в столбик."
   ]
  },
  {
   "cell_type": "code",
   "execution_count": 4,
   "metadata": {},
   "outputs": [
    {
     "name": "stdout",
     "output_type": "stream",
     "text": [
      "hello\n",
      "h\n",
      "l\n",
      "o\n"
     ]
    }
   ],
   "source": [
    "s = input()\n",
    "for i in range(0, len(s), 2):\n",
    "    print(s[i])"
   ]
  },
  {
   "cell_type": "markdown",
   "metadata": {},
   "source": [
    "## 5\n",
    "На вход программе подается одна строка. Напишите программу, которая выводит в столбик элементы строки в обратном порядке."
   ]
  },
  {
   "cell_type": "code",
   "execution_count": 5,
   "metadata": {},
   "outputs": [
    {
     "name": "stdout",
     "output_type": "stream",
     "text": [
      "hello\n",
      "o\n",
      "l\n",
      "l\n",
      "e\n",
      "h\n"
     ]
    }
   ],
   "source": [
    "s = input()\n",
    "for i in reversed(s):\n",
    "    print(i)"
   ]
  },
  {
   "cell_type": "markdown",
   "metadata": {},
   "source": [
    "## 6\n",
    "На вход программе подаются три строки: имя, фамилия и отчество. Напишите программу, которая выводит инициалы человека."
   ]
  },
  {
   "cell_type": "code",
   "execution_count": 6,
   "metadata": {},
   "outputs": [
    {
     "name": "stdout",
     "output_type": "stream",
     "text": [
      "hello\n",
      "study\n",
      "bye\n",
      "shb\n"
     ]
    }
   ],
   "source": [
    "a, b, c = [input() for _ in range(3)]\n",
    "print(b[0], a[0], c[0], sep='')"
   ]
  },
  {
   "cell_type": "markdown",
   "metadata": {},
   "source": [
    "## 7\n",
    "На вход программе подается одна строка состоящая из цифр. Напишите программу, которая считает сумму цифр данной строки."
   ]
  },
  {
   "cell_type": "code",
   "execution_count": 7,
   "metadata": {},
   "outputs": [
    {
     "name": "stdout",
     "output_type": "stream",
     "text": [
      "1234\n",
      "10\n"
     ]
    }
   ],
   "source": [
    "total = 0\n",
    "s = int(input())\n",
    "while s != 0:\n",
    "    total = total + s % 10\n",
    "    s = s // 10\n",
    "print(total)"
   ]
  },
  {
   "cell_type": "code",
   "execution_count": 8,
   "metadata": {},
   "outputs": [
    {
     "name": "stdout",
     "output_type": "stream",
     "text": [
      "1234\n",
      "10\n"
     ]
    }
   ],
   "source": [
    "print(sum(int(i) for i in input()))"
   ]
  },
  {
   "cell_type": "code",
   "execution_count": 9,
   "metadata": {},
   "outputs": [
    {
     "name": "stdout",
     "output_type": "stream",
     "text": [
      "1234\n",
      "10\n"
     ]
    }
   ],
   "source": [
    "print(sum(map(int, input())))"
   ]
  },
  {
   "cell_type": "code",
   "execution_count": 10,
   "metadata": {},
   "outputs": [
    {
     "name": "stdout",
     "output_type": "stream",
     "text": [
      "1234\n",
      "10\n"
     ]
    }
   ],
   "source": [
    "a = input()\n",
    "s = 0\n",
    "for i in a:\n",
    "    s += int(i)\n",
    "print(s)"
   ]
  },
  {
   "cell_type": "markdown",
   "metadata": {},
   "source": [
    "## 8\n",
    "На вход программе подается одна строка. Напишите программу, которая выводит сообщение «Цифра» (без кавычек), если строка содержит цифру. В противном случае вывести сообщение «Цифр нет» (без кавычек)."
   ]
  },
  {
   "cell_type": "code",
   "execution_count": 11,
   "metadata": {},
   "outputs": [
    {
     "name": "stdout",
     "output_type": "stream",
     "text": [
      "pri4vet5\n",
      "Цифра\n"
     ]
    }
   ],
   "source": [
    "s = input()\n",
    "flag = False\n",
    "for i in s:\n",
    "    if i in '0123456789':\n",
    "        flag = True\n",
    "\n",
    "if flag is True:\n",
    "    print('Цифра')\n",
    "else:\n",
    "    print('Цифр нет')"
   ]
  },
  {
   "cell_type": "code",
   "execution_count": 12,
   "metadata": {},
   "outputs": [
    {
     "name": "stdout",
     "output_type": "stream",
     "text": [
      "privet5\n",
      "Цифра\n"
     ]
    }
   ],
   "source": [
    "for i in input():\n",
    "    if i in '01234567890':\n",
    "        print(\"Цифра\")\n",
    "        break\n",
    "else:\n",
    "    print(\"Цифр нет\")"
   ]
  },
  {
   "cell_type": "code",
   "execution_count": 13,
   "metadata": {},
   "outputs": [
    {
     "name": "stdout",
     "output_type": "stream",
     "text": [
      "privet\n",
      "Цифр нет\n"
     ]
    }
   ],
   "source": [
    "a = input()\n",
    "for i in a:\n",
    "    if ('0' <= i <= '9'):\n",
    "        print('Цифра')\n",
    "        break\n",
    "else:\n",
    "    print('Цифр нет')"
   ]
  },
  {
   "cell_type": "markdown",
   "metadata": {},
   "source": [
    "## 9\n",
    "На вход программе подается одна строка. Напишите программу, которая определяет сколько раз в строке встречаются символы + и *."
   ]
  },
  {
   "cell_type": "code",
   "execution_count": 14,
   "metadata": {},
   "outputs": [
    {
     "name": "stdout",
     "output_type": "stream",
     "text": [
      "679879+*77+\n",
      "Символ + встречается 2 раз\n",
      "Символ * встречается 1 раз\n"
     ]
    }
   ],
   "source": [
    "s = input()\n",
    "print('Символ + встречается', s.count('+'), 'раз')\n",
    "print('Символ * встречается', s.count('*'), 'раз')"
   ]
  },
  {
   "cell_type": "markdown",
   "metadata": {},
   "source": [
    "## 10\n",
    "На вход программе подается одна строка. Напишите программу, которая определяет сколько в ней одинаковых соседних символов."
   ]
  },
  {
   "cell_type": "code",
   "execution_count": 15,
   "metadata": {},
   "outputs": [
    {
     "name": "stdout",
     "output_type": "stream",
     "text": [
      "tttulluo\n",
      "3\n"
     ]
    }
   ],
   "source": [
    "a = input()\n",
    "total = 0\n",
    "for i in range(len(a) - 1):\n",
    "    if a[i] == a[i + 1]:\n",
    "        total += 1\n",
    "print(total)"
   ]
  },
  {
   "cell_type": "code",
   "execution_count": 16,
   "metadata": {},
   "outputs": [
    {
     "name": "stdout",
     "output_type": "stream",
     "text": [
      "yyfffk\n",
      "3\n"
     ]
    }
   ],
   "source": [
    "s, count = input(), 0\n",
    "for i in range(1, len(s)):\n",
    "    count += s[i] == s[i-1]\n",
    "print(count)"
   ]
  },
  {
   "cell_type": "markdown",
   "metadata": {},
   "source": [
    "## 11\n",
    "На вход программе подается одна строка с буквами русского языка. Напишите программу, которая определяет количество гласных и согласных букв. Программа должна вывести количество гласных и согласных букв.\n",
    "\n",
    "Примечание. В русском языке 10 гласных букв (а, у, о, ы, и, э, я, ю, ё, е) и 21 согласная буква (б, в, г, д, ж, з, й, к, л, м, н, п, р, с, т, ф, х, ц, ч, ш, щ)."
   ]
  },
  {
   "cell_type": "code",
   "execution_count": 19,
   "metadata": {},
   "outputs": [
    {
     "name": "stdout",
     "output_type": "stream",
     "text": [
      "Вдохновение – это умение приводить себя в рабочее состояние!\n",
      "Количество гласных букв равно 25\n",
      "Количество согласных букв равно 24\n"
     ]
    }
   ],
   "source": [
    "s = input()\n",
    "vowel, consonant = 0, 0\n",
    "for c in s:\n",
    "    vowel += c in 'аАуУоОыЫиИэЭяЯюЮёЁеЕ'\n",
    "    consonant += c in 'бБвВгГдДжЖзЗйЙкКлЛмМнНпПрРсСтТфФхХцЦчЧшШщЩ'\n",
    "print('Количество гласных букв равно', vowel)\n",
    "print('Количество согласных букв равно', consonant)"
   ]
  },
  {
   "cell_type": "markdown",
   "metadata": {},
   "source": [
    "## 12\n",
    "На вход программе подается натуральное число, записанное в десятичной системе счисления. Напишите программу, которая переводит данное число в двоичную систему счисления.\n",
    "\n",
    "На вход программе подается одно натуральное число. Программа должна вывести число записанное в двоичной системе счисления."
   ]
  },
  {
   "cell_type": "code",
   "execution_count": 20,
   "metadata": {},
   "outputs": [
    {
     "name": "stdout",
     "output_type": "stream",
     "text": [
      "5\n",
      "101\n"
     ]
    }
   ],
   "source": [
    "n = int(input())\n",
    "b = ''\n",
    "while n != 0:\n",
    "    b += str(n % 2)\n",
    "    n = n // 2\n",
    "print(b)    "
   ]
  },
  {
   "cell_type": "markdown",
   "metadata": {},
   "source": [
    "## 13\n",
    "Дополните приведенный код, используя срезы, так чтобы он вывел последние 9 символов строки s."
   ]
  },
  {
   "cell_type": "code",
   "execution_count": 21,
   "metadata": {},
   "outputs": [
    {
     "name": "stdout",
     "output_type": "stream",
     "text": [
      "o pizzas.\n"
     ]
    }
   ],
   "source": [
    "s = \"In 2010, someone paid 10k Bitcoin for two pizzas.\"\n",
    "print(s[-9:])"
   ]
  },
  {
   "cell_type": "markdown",
   "metadata": {},
   "source": [
    "## 14\n",
    "Дополните приведенный код, используя срезы, так чтобы он вывел каждый 7 символ строки s начиная от начала строки."
   ]
  },
  {
   "cell_type": "code",
   "execution_count": 22,
   "metadata": {},
   "outputs": [
    {
     "name": "stdout",
     "output_type": "stream",
     "text": [
      "I,n top\n"
     ]
    }
   ],
   "source": [
    "s = \"In 2010, someone paid 10k Bitcoin for two pizzas.\"\n",
    "print(s[::7])"
   ]
  },
  {
   "cell_type": "markdown",
   "metadata": {},
   "source": [
    "## 15\n",
    "Дополните приведенный код, используя срезы, так чтобы он вывел строку s в обратном порядке."
   ]
  },
  {
   "cell_type": "code",
   "execution_count": 23,
   "metadata": {},
   "outputs": [
    {
     "name": "stdout",
     "output_type": "stream",
     "text": [
      ".sazzip owt rof nioctiB k01 diap enoemos ,0102 nI\n"
     ]
    }
   ],
   "source": [
    "s = \"In 2010, someone paid 10k Bitcoin for two pizzas.\"\n",
    "print(s[::-1])"
   ]
  },
  {
   "cell_type": "markdown",
   "metadata": {},
   "source": [
    "## 16\n",
    "### Палиндром\n",
    "На вход программе подается одно слово, записанное в нижнем регистре. Напишите программу, которая определяет является ли оно палиндромом. Программа должна вывести «YES», если слово является палиндромом и «NO» в противном случае."
   ]
  },
  {
   "cell_type": "code",
   "execution_count": 24,
   "metadata": {},
   "outputs": [
    {
     "name": "stdout",
     "output_type": "stream",
     "text": [
      "потоп\n",
      "YES\n"
     ]
    }
   ],
   "source": [
    "s = input()\n",
    "if s == s[::-1]:\n",
    "    print('YES')\n",
    "else:\n",
    "    print('NO')"
   ]
  },
  {
   "cell_type": "code",
   "execution_count": 25,
   "metadata": {},
   "outputs": [
    {
     "name": "stdout",
     "output_type": "stream",
     "text": [
      "потоп\n",
      "YES\n"
     ]
    }
   ],
   "source": [
    "s = input()\n",
    "\n",
    "if s[:len(s) // 2] == s[:-len(s) // 2:-1]:\n",
    "    print('YES')\n",
    "else:\n",
    "    print('NO')"
   ]
  },
  {
   "cell_type": "code",
   "execution_count": 26,
   "metadata": {},
   "outputs": [
    {
     "name": "stdout",
     "output_type": "stream",
     "text": [
      "потоп\n",
      "YES\n"
     ]
    }
   ],
   "source": [
    "s = input()\n",
    "i = 0\n",
    "j = len(s) - 1\n",
    "is_palindrom = True\n",
    "while i < j:\n",
    "    if s[i] != s[j]:\n",
    "        is_palindrom = False\n",
    "    i += 1\n",
    "    j -= 1\n",
    "if is_palindrom:\n",
    "    print('YES')\n",
    "else:\n",
    "    print('NO')"
   ]
  },
  {
   "cell_type": "markdown",
   "metadata": {},
   "source": [
    "## 17\n",
    "На вход программе подается одна строка. Напишите программу, которая выводит:\n",
    "\n",
    "общее количество символов в строке;  \n",
    "исходную строку повторенную 3 раза;  \n",
    "первый символ строки;  \n",
    "первые три символа строки;  \n",
    "последние три символа строки;  \n",
    "строку в обратном порядке;  \n",
    "строку с удаленным первым и последним символом."
   ]
  },
  {
   "cell_type": "code",
   "execution_count": 27,
   "metadata": {},
   "outputs": [
    {
     "name": "stdout",
     "output_type": "stream",
     "text": [
      "abcdefghijklmnopqrstuvwxyz\n",
      "26\n",
      "abcdefghijklmnopqrstuvwxyzabcdefghijklmnopqrstuvwxyzabcdefghijklmnopqrstuvwxyz\n",
      "a\n",
      "abc\n",
      "xyz\n",
      "zyxwvutsrqponmlkjihgfedcba\n",
      "bcdefghijklmnopqrstuvwxy\n"
     ]
    }
   ],
   "source": [
    "s = input()\n",
    "print(len(s))\n",
    "print(s*3)\n",
    "print(s[0])\n",
    "print(s[:3])\n",
    "print(s[-3:])\n",
    "print(s[::-1])\n",
    "print(s[1:-1])"
   ]
  },
  {
   "cell_type": "code",
   "execution_count": 28,
   "metadata": {},
   "outputs": [
    {
     "name": "stdout",
     "output_type": "stream",
     "text": [
      "abcdefghijklmnopqrstuvwxyz\n",
      "26\n",
      "abcdefghijklmnopqrstuvwxyzabcdefghijklmnopqrstuvwxyzabcdefghijklmnopqrstuvwxyz\n",
      "a\n",
      "abc\n",
      "xyz\n",
      "zyxwvutsrqponmlkjihgfedcba\n",
      "bcdefghijklmnopqrstuvwxy\n"
     ]
    }
   ],
   "source": [
    "s = input()\n",
    "print(len(s), s * 3, s[0], s[0:3], s[-3:], s[::-1], s[1:-1], sep='\\n')"
   ]
  },
  {
   "cell_type": "markdown",
   "metadata": {},
   "source": [
    "## 18\n",
    "На вход программе подается одна строка, длина которой больше 5 символов. Напишите программу, которая выводит:\n",
    "\n",
    "третий символ этой строки;  \n",
    "предпоследний символ этой строки;  \n",
    "первые пять символов этой строки;  \n",
    "всю строку, кроме последних двух символов;  \n",
    "все символы с четными индексами;  \n",
    "все символы с нечетными индексами;  \n",
    "все символы в обратном порядке;  \n",
    "все символы строки через один в обратном порядке, начиная с последнего."
   ]
  },
  {
   "cell_type": "code",
   "execution_count": 29,
   "metadata": {},
   "outputs": [
    {
     "name": "stdout",
     "output_type": "stream",
     "text": [
      "abcdefghijklmnopqrstuvwxyz\n",
      "c\n",
      "y\n",
      "abcde\n",
      "abcdefghijklmnopqrstuvwx\n",
      "acegikmoqsuwy\n",
      "bdfhjlnprtvxz\n",
      "zyxwvutsrqponmlkjihgfedcba\n",
      "zxvtrpnljhfdb\n"
     ]
    }
   ],
   "source": [
    "s = input()\n",
    "print(s[2],s[-2], s[:5], s[:-2], s[::2], s[1::2], s[::-1], s[::-2], sep='\\n')"
   ]
  },
  {
   "cell_type": "markdown",
   "metadata": {},
   "source": [
    "## 19\n",
    "На вход программе подается строка текста. Напишите программу, которая разрежет ее на две равные части, переставит их местами и выведет на экран.\n",
    "\n",
    "Примечание. Если длина строки нечетная, то длина первой части должна быть на один символ больше."
   ]
  },
  {
   "cell_type": "code",
   "execution_count": 30,
   "metadata": {},
   "outputs": [
    {
     "name": "stdout",
     "output_type": "stream",
     "text": [
      "abcdef\n",
      "defabc\n"
     ]
    }
   ],
   "source": [
    "s = input()\n",
    "print(s[-(len(s)//-2):] + s[:-(len(s)//-2)])"
   ]
  },
  {
   "cell_type": "markdown",
   "metadata": {},
   "source": [
    "## 20\n",
    "Что покажет приведенный ниже фрагмент кода?"
   ]
  },
  {
   "cell_type": "code",
   "execution_count": 31,
   "metadata": {},
   "outputs": [
    {
     "name": "stdout",
     "output_type": "stream",
     "text": [
      "I learn python language\n"
     ]
    }
   ],
   "source": [
    "s = 'i Learn Python language'\n",
    "print(s.capitalize())"
   ]
  },
  {
   "cell_type": "markdown",
   "metadata": {},
   "source": [
    "## 21\n",
    "Что покажет приведенный ниже фрагмент кода?"
   ]
  },
  {
   "cell_type": "code",
   "execution_count": 32,
   "metadata": {},
   "outputs": [
    {
     "name": "stdout",
     "output_type": "stream",
     "text": [
      "i learn python language\n"
     ]
    }
   ],
   "source": [
    "s = 'i LEARN Python LAnguaGE'\n",
    "print(s.lower())"
   ]
  },
  {
   "cell_type": "markdown",
   "metadata": {},
   "source": [
    "## 22\n",
    "Что покажет приведенный ниже фрагмент кода?"
   ]
  },
  {
   "cell_type": "code",
   "execution_count": 33,
   "metadata": {},
   "outputs": [
    {
     "name": "stdout",
     "output_type": "stream",
     "text": [
      "$12344%^$#@!\n"
     ]
    }
   ],
   "source": [
    "s = '$12344%^$#@!'\n",
    "print(s.lower())"
   ]
  },
  {
   "cell_type": "markdown",
   "metadata": {},
   "source": [
    "## 23 \n",
    "Что покажет приведенный ниже фрагмент кода?"
   ]
  },
  {
   "cell_type": "code",
   "execution_count": 34,
   "metadata": {},
   "outputs": [
    {
     "name": "stdout",
     "output_type": "stream",
     "text": [
      "a A\n"
     ]
    }
   ],
   "source": [
    "s1 = 'a'\n",
    "s2 = s1.upper()\n",
    "print(s1, s2)"
   ]
  },
  {
   "cell_type": "markdown",
   "metadata": {},
   "source": [
    "## 24\n",
    "Что покажет приведенный ниже фрагмент кода?"
   ]
  },
  {
   "cell_type": "code",
   "execution_count": 35,
   "metadata": {},
   "outputs": [
    {
     "name": "stdout",
     "output_type": "stream",
     "text": [
      "I LEARN PYTHON LANGUAGE\n"
     ]
    }
   ],
   "source": [
    "s = 'i LEARN Python LAnguaGE'\n",
    "print(s.upper())"
   ]
  },
  {
   "cell_type": "markdown",
   "metadata": {},
   "source": [
    "## 25\n",
    "Что покажет приведенный ниже фрагмент кода?"
   ]
  },
  {
   "cell_type": "code",
   "execution_count": 36,
   "metadata": {},
   "outputs": [
    {
     "name": "stdout",
     "output_type": "stream",
     "text": [
      "I learn pYTHON laNGUAge\n"
     ]
    }
   ],
   "source": [
    "s = 'i LEARN Python LAnguaGE'\n",
    "print(s.swapcase())"
   ]
  },
  {
   "cell_type": "markdown",
   "metadata": {},
   "source": [
    "## 26\n",
    "На вход программе подается строка состоящая из имени и фамилии человека, разделенных одним пробелом. Напишите программу, которая проверяет, что имя и фамилия начинаются с заглавной буквы.\n",
    "\n",
    "Программа должна вывести «YES» если имя и фамилия начинаются с заглавной буквы и «NO» в противном случае."
   ]
  },
  {
   "cell_type": "code",
   "execution_count": 37,
   "metadata": {},
   "outputs": [
    {
     "name": "stdout",
     "output_type": "stream",
     "text": [
      "chris alan\n",
      "NO\n"
     ]
    }
   ],
   "source": [
    "s = input()\n",
    "a = s.title()\n",
    "if a == s:\n",
    "    print('YES')\n",
    "else:\n",
    "    print('NO')"
   ]
  },
  {
   "cell_type": "markdown",
   "metadata": {},
   "source": [
    "## 27 \n",
    "На вход программе подается строка. Напишите программу, которая меняет регистр символов, другими словами замените все строчные символы заглавными и наоборот."
   ]
  },
  {
   "cell_type": "code",
   "execution_count": 38,
   "metadata": {},
   "outputs": [
    {
     "name": "stdout",
     "output_type": "stream",
     "text": [
      "Www.sTepik.com\n",
      "wWW.StEPIK.COM\n"
     ]
    }
   ],
   "source": [
    "s = input()\n",
    "print(s.swapcase())"
   ]
  },
  {
   "cell_type": "markdown",
   "metadata": {},
   "source": [
    "## 28\n",
    "На вход программе подается строка текста. Напишите программу, которая определяет является ли оттенок текста хорошим или нет. Текст имеет хороший оттенок, если содержит подстроку «хорош» во всевозможных регистрах.\n",
    "\n",
    "Программа должна вывести «YES» если текст имеет хороший оттенок и «NO» в противном случае.\n",
    "\n",
    "Примечание. Текст содержащий хорош, ХОРОШ, Хорош, хОРОШ и т.д. имеет хороший оттенок."
   ]
  },
  {
   "cell_type": "code",
   "execution_count": 39,
   "metadata": {},
   "outputs": [
    {
     "name": "stdout",
     "output_type": "stream",
     "text": [
      "я очень хороший текст =)\n",
      "YES\n"
     ]
    }
   ],
   "source": [
    "s = input().lower()\n",
    "if 'хорош' in s:\n",
    "    print('YES')\n",
    "else:\n",
    "    print('NO')"
   ]
  },
  {
   "cell_type": "code",
   "execution_count": 40,
   "metadata": {},
   "outputs": [
    {
     "name": "stdout",
     "output_type": "stream",
     "text": [
      "я очень хороший текст =)\n",
      "YES\n"
     ]
    }
   ],
   "source": [
    "print('YES' if 'хорош' in input().lower() else 'NO')"
   ]
  },
  {
   "cell_type": "markdown",
   "metadata": {},
   "source": [
    "## 29\n",
    "На вход программе подается строка. Напишите программу, которая подсчитывает количество буквенных символов в нижнем регистре."
   ]
  },
  {
   "cell_type": "code",
   "execution_count": 41,
   "metadata": {},
   "outputs": [
    {
     "name": "stdout",
     "output_type": "stream",
     "text": [
      "gggggggg1212321ABDCEFCE\n",
      "8\n"
     ]
    }
   ],
   "source": [
    "s, counter = input(), 0\n",
    "for i in s:\n",
    "    if i != i.upper():  \n",
    "        counter += 1\n",
    "print(counter)"
   ]
  },
  {
   "cell_type": "markdown",
   "metadata": {},
   "source": [
    "## 30 \n",
    "Что покажет приведенный ниже фрагмент кода?"
   ]
  },
  {
   "cell_type": "code",
   "execution_count": 42,
   "metadata": {},
   "outputs": [
    {
     "name": "stdout",
     "output_type": "stream",
     "text": [
      "123cd123123a\n"
     ]
    }
   ],
   "source": [
    "s = 'abcdababa'\n",
    "print(s.replace('ab', '123'))"
   ]
  },
  {
   "cell_type": "markdown",
   "metadata": {},
   "source": [
    "## 31\n",
    "На вход программе подается строка текста, состоящая из слов, разделенных ровно одним пробелом. Напишите программу, которая подсчитывает количество слов в ней.\n",
    "\n",
    "Примечание 1. Строка текста не содержит пробелов в начале и конце.  \n",
    "Примечание 2. Используйте для решения задачи метод count."
   ]
  },
  {
   "cell_type": "code",
   "execution_count": 44,
   "metadata": {},
   "outputs": [
    {
     "name": "stdout",
     "output_type": "stream",
     "text": [
      "In 2010, someone paid 10k Bitcoin for two pizzas.\n",
      "9\n"
     ]
    }
   ],
   "source": [
    "s = input()\n",
    "print(s.count(' ') + 1)"
   ]
  },
  {
   "cell_type": "code",
   "execution_count": 45,
   "metadata": {},
   "outputs": [
    {
     "name": "stdout",
     "output_type": "stream",
     "text": [
      "In 2010, someone paid 10k Bitcoin for two pizzas.\n",
      "9\n"
     ]
    }
   ],
   "source": [
    "print(input().count(' ') + 1)"
   ]
  },
  {
   "cell_type": "markdown",
   "metadata": {},
   "source": [
    "## 32\n",
    "На вход программе подается строка генетического кода, состоящая из букв А (аденин), Г (гуанин), Ц (цитозин), Т (тимин). Напишите программу, которая подсчитывает сколько аденина, гуанина, цитозина и тимина входит в данную строку генетического кода.\n",
    "\n",
    "На вход программе подается строка генетического кода, состоящая из символов А, Г, Ц, Т, а, г, ц, т. Программа должна вывести сколько гуанина, тимина, цитозина, аденина входит в данную строку генетического кода.\n",
    "Примечание. Строка не содержит символов, кроме как А, Г, Ц, Т, а, г, ц, т."
   ]
  },
  {
   "cell_type": "code",
   "execution_count": 46,
   "metadata": {},
   "outputs": [
    {
     "name": "stdout",
     "output_type": "stream",
     "text": [
      "ааггццттААГГЦЦТТ\n",
      "Аденин: 4\n",
      "Гуанин: 4\n",
      "Цитозин: 4\n",
      "Тимин: 4\n"
     ]
    }
   ],
   "source": [
    "s = input().lower()\n",
    "print('Аденин:', s.count('а'))\n",
    "print('Гуанин:', s.count('г'))\n",
    "print('Цитозин:', s.count('ц'))\n",
    "print('Тимин:', s.count('т'))"
   ]
  },
  {
   "cell_type": "code",
   "execution_count": 47,
   "metadata": {},
   "outputs": [
    {
     "name": "stdout",
     "output_type": "stream",
     "text": [
      "ааггццттААГГЦЦТТ\n",
      "Аденин: 4\n",
      "Гуанин: 4\n",
      "Цитозин: 4\n",
      "Тимин: 4\n"
     ]
    }
   ],
   "source": [
    "s = input()\n",
    "a, g, c, t = 0, 0, 0, 0\n",
    "for i in s:\n",
    "    if i in 'аА':\n",
    "        a += 1\n",
    "    if i in 'гГ':\n",
    "        g += 1 \n",
    "    if i in 'цЦ':\n",
    "        c += 1\n",
    "    if i in 'тТ':\n",
    "        t += 1\n",
    "print('Аденин:',a)\n",
    "print('Гуанин:',g)\n",
    "print('Цитозин:',c)\n",
    "print('Тимин:', t,) "
   ]
  },
  {
   "cell_type": "markdown",
   "metadata": {},
   "source": [
    "## 33\n",
    "Джим Хоппер с помощью радиоприемника пытается получить сообщение Оди. На приемник ему поступает nn различных последовательностей кода Морзе. Декодировав их, он получает последовательности из цифр и строчного латинского алфавита, при этом во всех сообщениях Оди содержится число 11, причем минимум 3 раза. Помогите определить Джиму количество сообщений от Оди.\n",
    "\n",
    "В первой строке подаётся число n – количество сообщений, в последующих nn строках вводятся строки, содержащие латинские строчные буквы и цифры. Программа должна вывести количество строк в которых содержится число 11 минимум 3 раза.\n",
    "\n",
    "Примечание: Числа 11 необязательно должны быть разделены другими символами, нужно подсчитать вхождение последовательности символов \"11\", т.е. например в строке \"111\" содержится одна такая последовательность, в то время как в \"1111\" их уже две."
   ]
  },
  {
   "cell_type": "code",
   "execution_count": 48,
   "metadata": {},
   "outputs": [
    {
     "name": "stdout",
     "output_type": "stream",
     "text": [
      "3\n",
      "11helpme11jim11\n",
      "avengers141414atta11ck\n",
      "k1lg0re11111l\n",
      "1\n"
     ]
    }
   ],
   "source": [
    "lines = [input() for _ in range(int(input()))]\n",
    "counter = 0\n",
    "\n",
    "for i in lines:\n",
    "    if i.count('11') >= 3:\n",
    "        counter += 1\n",
    "print(counter)"
   ]
  },
  {
   "cell_type": "code",
   "execution_count": 49,
   "metadata": {},
   "outputs": [
    {
     "name": "stdout",
     "output_type": "stream",
     "text": [
      "2\n",
      "11helpme11jim11\n",
      "k1lg0re11111l\n",
      "1\n"
     ]
    }
   ],
   "source": [
    "n = int(input())\n",
    "counter = 0\n",
    "\n",
    "for i in range(n):\n",
    "    a = input()\n",
    "    if a.count('11') >= 3:\n",
    "        counter += 1\n",
    "print(counter)"
   ]
  },
  {
   "cell_type": "markdown",
   "metadata": {},
   "source": [
    "## 34\n",
    "На вход программе подается строка текста. Напишите программу, которая подсчитывает количество цифр в данной строке."
   ]
  },
  {
   "cell_type": "code",
   "execution_count": 50,
   "metadata": {},
   "outputs": [
    {
     "name": "stdout",
     "output_type": "stream",
     "text": [
      "nezabud dl-6\n",
      "1\n"
     ]
    }
   ],
   "source": [
    "s = input()\n",
    "total = 0\n",
    "for i in range(len(s)):\n",
    "    if s[i] in '0123456789':\n",
    "        total += 1\n",
    "print(total)"
   ]
  },
  {
   "cell_type": "code",
   "execution_count": 51,
   "metadata": {},
   "outputs": [
    {
     "name": "stdout",
     "output_type": "stream",
     "text": [
      "nezabud dl-6\n",
      "1\n"
     ]
    }
   ],
   "source": [
    "s = input()\n",
    "k = 0\n",
    "for c in '1234567890':\n",
    "    k += s.count(c)\n",
    "print(k)"
   ]
  },
  {
   "cell_type": "code",
   "execution_count": 52,
   "metadata": {},
   "outputs": [
    {
     "name": "stdout",
     "output_type": "stream",
     "text": [
      "nezabud dl-6\n",
      "1\n"
     ]
    }
   ],
   "source": [
    "print(sum(i.isdigit() for i in input()))"
   ]
  },
  {
   "cell_type": "markdown",
   "metadata": {},
   "source": [
    "## 35\n",
    "На вход программе подается строка текста. Напишите программу, которая проверяет, что строка заканчивается подстрокой .com или .ru.\n",
    "\n",
    "Программа должна вывести «YES» если введенная строка заканчивается подстрокой .com или .ru и «NO» в противном случае."
   ]
  },
  {
   "cell_type": "code",
   "execution_count": 54,
   "metadata": {},
   "outputs": [
    {
     "name": "stdout",
     "output_type": "stream",
     "text": [
      "www.google.com\n",
      "YES\n"
     ]
    }
   ],
   "source": [
    "s = input()\n",
    "if s.endswith('.com') or s.endswith('.ru'):\n",
    "    print('YES')\n",
    "else:\n",
    "    print('NO')"
   ]
  },
  {
   "cell_type": "markdown",
   "metadata": {},
   "source": [
    "## 36\n",
    "На вход программе подается строка текста. Напишите программу, которая выводит на экран символ, который появляется наиболее часто. Текст может содержать строчные и заглавные буквы английского и русского алфавита, а также цифры. Программа должна вывести символ, который появляется наиболее часто.  \n",
    "\n",
    "Примечание 1. Если таких символов несколько, следует вывести последний по порядку символ.  \n",
    "Примечание 2. Следует различать заглавные и строчные буквы, а также буквы русского и английского алфавита."
   ]
  },
  {
   "cell_type": "code",
   "execution_count": 55,
   "metadata": {},
   "outputs": [
    {
     "name": "stdout",
     "output_type": "stream",
     "text": [
      "abaabbcccc\n",
      "c\n"
     ]
    }
   ],
   "source": [
    "s = input()\n",
    "max_counter = 0\n",
    "max_char = None \n",
    "for i in s:\n",
    "    if s.count(i) >= max_counter:\n",
    "        max_counter = s.count(i)\n",
    "        max_char = i\n",
    "print(max_char)"
   ]
  },
  {
   "cell_type": "markdown",
   "metadata": {},
   "source": [
    "## 37\n",
    "На вход программе подается строка текста. Если в этой строке буква «f» встречается только один раз, выведите её индекс. Если она встречается два и более раз, выведите индекс её первого и последнего вхождения на одной строке, разделенных символом пробела. Если буква «f» в данной строке не встречается, следует вывести «NO»."
   ]
  },
  {
   "cell_type": "code",
   "execution_count": 56,
   "metadata": {},
   "outputs": [
    {
     "name": "stdout",
     "output_type": "stream",
     "text": [
      "abcdefgfhfabc\n",
      "5 9\n"
     ]
    }
   ],
   "source": [
    "s = input()\n",
    "if s.count('f') == 1:\n",
    "    print(s.find('f'))\n",
    "elif s.count('f') >= 2:\n",
    "    print(s.find('f'), s.rfind('f'))\n",
    "else:\n",
    "    print('NO')"
   ]
  },
  {
   "cell_type": "markdown",
   "metadata": {},
   "source": [
    "## 38\n",
    "На вход программе подается строка текста, в которой буква «h» встречается минимум два раза. Напишите программу, которая удаляет из этой строки первое и последнее вхождение буквы «h», а также все символы, находящиеся между ними."
   ]
  },
  {
   "cell_type": "code",
   "execution_count": 57,
   "metadata": {},
   "outputs": [
    {
     "name": "stdout",
     "output_type": "stream",
     "text": [
      "ahahahahaha\n",
      "aa\n"
     ]
    }
   ],
   "source": [
    "s = input()\n",
    "a = s[:s.find('h')]\n",
    "b = s[s.rfind('h') + 1:]   \n",
    "print(a + b)"
   ]
  },
  {
   "cell_type": "code",
   "execution_count": 58,
   "metadata": {},
   "outputs": [
    {
     "name": "stdout",
     "output_type": "stream",
     "text": [
      "ahahahahaha\n",
      "aa\n"
     ]
    }
   ],
   "source": [
    "s = input()\n",
    "print(s[:s.find('h')] + s[s.rfind('h') + 1:])"
   ]
  },
  {
   "cell_type": "markdown",
   "metadata": {},
   "source": [
    "### Форматирование"
   ]
  },
  {
   "cell_type": "code",
   "execution_count": 59,
   "metadata": {},
   "outputs": [
    {
     "name": "stdout",
     "output_type": "stream",
     "text": [
      "My name is Timur, I am 27, I work as a math teacher\n"
     ]
    }
   ],
   "source": [
    "age = 27\n",
    "name = 'Timur'\n",
    "profession = 'math teacher'\n",
    "txt = 'My name is {}, I am {}, I work as a {}'.format(name, age, profession)\n",
    "print(txt)"
   ]
  },
  {
   "cell_type": "code",
   "execution_count": 60,
   "metadata": {},
   "outputs": [
    {
     "name": "stdout",
     "output_type": "stream",
     "text": [
      "My name is Timur, I am 27, I work as a math teacher\n"
     ]
    }
   ],
   "source": [
    "age = 27\n",
    "name = 'Timur'\n",
    "profession = 'math teacher'\n",
    "txt = 'My name is {0}, I am {1}, I work as a {2}'.format(name, age, profession)\n",
    "print(txt)"
   ]
  },
  {
   "cell_type": "code",
   "execution_count": 61,
   "metadata": {},
   "outputs": [
    {
     "name": "stdout",
     "output_type": "stream",
     "text": [
      "Hello, Timur. You are 27. You are a math teacher. You were a member of BeeGeek\n"
     ]
    }
   ],
   "source": [
    "first_name = 'Timur'\n",
    "age = 27\n",
    "profession = 'math teacher'\n",
    "affiliation = 'BeeGeek'\n",
    "print(f'Hello, {first_name}. You are {age}. You are a {profession}. You were a member of {affiliation}')"
   ]
  },
  {
   "cell_type": "markdown",
   "metadata": {},
   "source": [
    "## 39\n",
    "Дополните приведенный код, используя форматирование строк с помощью метода format, так чтобы он вывел текст:\n",
    "\n",
    "«In 2010, someone paid 10k Bitcoin for two pizzas.» (без кавычек)."
   ]
  },
  {
   "cell_type": "code",
   "execution_count": 62,
   "metadata": {},
   "outputs": [
    {
     "name": "stdout",
     "output_type": "stream",
     "text": [
      "In 2010, someone paid 10k Bitcoin for two pizzas.\n"
     ]
    }
   ],
   "source": [
    "date = 2010\n",
    "count = '10k'     \n",
    "money = 'Bitcoin' \n",
    "s = 'In {0}, someone paid {1} {2} for two pizzas.'.format(date, count, money)  \n",
    "print(s)"
   ]
  },
  {
   "cell_type": "markdown",
   "metadata": {},
   "source": [
    "## 40\n",
    "Дополните приведенный код, используя форматирование строк с помощью f-строк, так чтобы он вывел текст: \n",
    "\n",
    "«In 2010, someone paid 10K Bitcoin for two pizzas.» (без кавычек)."
   ]
  },
  {
   "cell_type": "code",
   "execution_count": 63,
   "metadata": {},
   "outputs": [
    {
     "name": "stdout",
     "output_type": "stream",
     "text": [
      "In 2010, someone paid 10K Bitcoin for two pizzas.\n"
     ]
    }
   ],
   "source": [
    "year = 2010\n",
    "amount = '10K'\n",
    "currency = 'Bitcoin'\n",
    "\n",
    "print(f'In {year}, someone paid {amount} {currency} for two pizzas.')"
   ]
  },
  {
   "cell_type": "markdown",
   "metadata": {},
   "source": [
    "### Кодировки"
   ]
  },
  {
   "cell_type": "code",
   "execution_count": 64,
   "metadata": {},
   "outputs": [
    {
     "name": "stdout",
     "output_type": "stream",
     "text": [
      "A B C D E F G H I J K L M N O P Q R S T U V W X Y Z "
     ]
    }
   ],
   "source": [
    "for i in range(26):\n",
    "    print(chr(ord('A') + i), end=' ')"
   ]
  },
  {
   "cell_type": "markdown",
   "metadata": {},
   "source": [
    "## 41\n",
    "На вход программе подаются два числа a и b. Напишите программу, которая для каждого кодового значения в диапазоне от a до b (включительно), выводит соответствующий ему символ из таблицы символов Unicode."
   ]
  },
  {
   "cell_type": "code",
   "execution_count": 65,
   "metadata": {},
   "outputs": [
    {
     "name": "stdout",
     "output_type": "stream",
     "text": [
      "65\n",
      "70\n",
      "A B C D E F "
     ]
    }
   ],
   "source": [
    "a, b = (int(input()) for _ in range(2))\n",
    "for i in range(a, b + 1):\n",
    "    print(chr(i), end=' ')"
   ]
  },
  {
   "cell_type": "markdown",
   "metadata": {},
   "source": [
    "## 42\n",
    "На вход программе подается строка текста. Напишите программу, которая переводит каждый ее символ в соответствующий ему код из таблицы символов Unicode."
   ]
  },
  {
   "cell_type": "code",
   "execution_count": 66,
   "metadata": {},
   "outputs": [
    {
     "name": "stdout",
     "output_type": "stream",
     "text": [
      "Hello world!\n",
      "72 101 108 108 111 32 119 111 114 108 100 33 "
     ]
    }
   ],
   "source": [
    "s = input()\n",
    "for c in s:\n",
    "    print(ord(c), end=' ')"
   ]
  },
  {
   "cell_type": "markdown",
   "metadata": {},
   "source": [
    "## 43\n",
    "Легион Цезаря, созданный в 23 веке на основе Римской Империи не изменяет древним традициям и использует шифр Цезаря. Это их и подвело, ведь данный шифр очень простой. Однако в постапокалипсисе люди плохо знают все тонкости довоенного мира, поэтому ученые из НКР не могут понять как именно нужно декодировать данные сообщения. Напишите программу для декодирования этого шифра.\n",
    "\n",
    "В первой строке дается число n, (1≤ n≤ 25) – сдвиг, во второй строке даётся закодированное сообщение в виде строки со строчными латинскими буквами.\n",
    "Программа должна вывести одну строку – декодированное сообщение. Обратите внимание, что нужно декодировать сообщение, а не закодировать."
   ]
  },
  {
   "cell_type": "code",
   "execution_count": 67,
   "metadata": {},
   "outputs": [
    {
     "name": "stdout",
     "output_type": "stream",
     "text": [
      "14\n",
      "fsfftsfufksttskskt\n",
      "rerrfergrweffewewf"
     ]
    }
   ],
   "source": [
    "n = int(input())\n",
    "for i in input():\n",
    "    print(chr(((ord(i) - ord(\"a\") - n) % 26) + ord(\"a\")), end=\"\")"
   ]
  },
  {
   "cell_type": "code",
   "execution_count": 68,
   "metadata": {},
   "outputs": [
    {
     "name": "stdout",
     "output_type": "stream",
     "text": [
      "14\n",
      "fsfftsfufksttskskt\n",
      "rerrfergrweffewewf"
     ]
    }
   ],
   "source": [
    "n = int(input())\n",
    "a = input()\n",
    "\n",
    "for i in a:\n",
    "    k = ord(i)-n\n",
    "    if k < 97:\n",
    "        k = k + 26\n",
    "    print(chr(k), end = '')"
   ]
  },
  {
   "cell_type": "markdown",
   "metadata": {},
   "source": [
    "## 44\n",
    "Вставьте пропущенный фрагмент кода, так чтобы в результате выполнения программы были выведены символы строки s со 2 по 5 включительно."
   ]
  },
  {
   "cell_type": "code",
   "execution_count": 69,
   "metadata": {},
   "outputs": [
    {
     "name": "stdout",
     "output_type": "stream",
     "text": [
      "ytho\n"
     ]
    }
   ],
   "source": [
    "s = 'Python rocks!'\n",
    "print(s[1:5])"
   ]
  },
  {
   "cell_type": "markdown",
   "metadata": {},
   "source": [
    "## 45\n",
    "Вставьте пропущенный фрагмент кода, так чтобы в результате выполнения программы была выведена строка s без ведущих и замыкающих пробельных символов."
   ]
  },
  {
   "cell_type": "code",
   "execution_count": 70,
   "metadata": {},
   "outputs": [
    {
     "name": "stdout",
     "output_type": "stream",
     "text": [
      "Python rocks!\n"
     ]
    }
   ],
   "source": [
    "s = '    Python rocks!     '\n",
    "print(s.strip())"
   ]
  },
  {
   "cell_type": "markdown",
   "metadata": {},
   "source": [
    "## 46\n",
    "Вставьте пропущенный фрагмент кода, так чтобы в результате выполнения программы была выведена строка s в которой символ «o» заменен на символ «@»."
   ]
  },
  {
   "cell_type": "code",
   "execution_count": 71,
   "metadata": {},
   "outputs": [
    {
     "name": "stdout",
     "output_type": "stream",
     "text": [
      "Pyth@n r@cks!\n"
     ]
    }
   ],
   "source": [
    "s = 'Python rocks!'\n",
    "print(s.replace('o', '@'))"
   ]
  },
  {
   "cell_type": "markdown",
   "metadata": {},
   "source": [
    "## 47\n",
    "На вход программе подается строка текста. Напишите программу, которая удаляет из нее все символы с индексами кратными 3, то есть символы с индексами 0, 3, 6, ...."
   ]
  },
  {
   "cell_type": "code",
   "execution_count": 72,
   "metadata": {},
   "outputs": [
    {
     "name": "stdout",
     "output_type": "stream",
     "text": [
      "Python\n",
      "yton"
     ]
    }
   ],
   "source": [
    "s = input()\n",
    "a = ''\n",
    "for i in range(len(s)):\n",
    "    if i % 3 != 0:\n",
    "        a = s[i]\n",
    "        print(a, end='')"
   ]
  },
  {
   "cell_type": "markdown",
   "metadata": {},
   "source": [
    "## 48\n",
    "На вход программе подается строка текста. Напишите программу, которая удаляет все вхождения символа «@»."
   ]
  },
  {
   "cell_type": "code",
   "execution_count": 73,
   "metadata": {},
   "outputs": [
    {
     "name": "stdout",
     "output_type": "stream",
     "text": [
      "1231\n",
      "1231\n"
     ]
    }
   ],
   "source": [
    "s = input()\n",
    "print(s.replace('@', ''))"
   ]
  },
  {
   "cell_type": "markdown",
   "metadata": {},
   "source": [
    "## 49\n",
    "На вход программе подается строка текста. Напишите программу, которая выводит индекс второго вхождения буквы «f». Если буква «f» встречается только один раз, выведите число -1, а если не встречается ни разу, выведите число -2."
   ]
  },
  {
   "cell_type": "code",
   "execution_count": 74,
   "metadata": {},
   "outputs": [
    {
     "name": "stdout",
     "output_type": "stream",
     "text": [
      "affective\n",
      "2\n"
     ]
    }
   ],
   "source": [
    "s = input()\n",
    "if s.count('f') == 0:\n",
    "    print('-2')\n",
    "elif s.count('f') == 1:\n",
    "    print('-1')\n",
    "else:\n",
    "    print(s.find('f', s.find('f') + 1))"
   ]
  },
  {
   "cell_type": "markdown",
   "metadata": {},
   "source": [
    "## 50\n",
    "На вход программе подается строка текста в которой буква «h» встречается как минимум два раза. Напишите программу, которая возвращает исходную строку и переворачивает последовательность символов, заключенную между первым и последним вхождением буквы «h»."
   ]
  },
  {
   "cell_type": "code",
   "execution_count": 76,
   "metadata": {},
   "outputs": [
    {
     "name": "stdout",
     "output_type": "stream",
     "text": [
      "abch12345h\n",
      "abch54321h\n"
     ]
    }
   ],
   "source": [
    "s = input()\n",
    "a = s.find('h')\n",
    "b = s.rfind('h')\n",
    "print(s[:a] + s[b:a:-1] + s[b:])"
   ]
  },
  {
   "cell_type": "code",
   "execution_count": null,
   "metadata": {},
   "outputs": [],
   "source": []
  }
 ],
 "metadata": {
  "kernelspec": {
   "display_name": "Python 3",
   "language": "python",
   "name": "python3"
  },
  "language_info": {
   "codemirror_mode": {
    "name": "ipython",
    "version": 3
   },
   "file_extension": ".py",
   "mimetype": "text/x-python",
   "name": "python",
   "nbconvert_exporter": "python",
   "pygments_lexer": "ipython3",
   "version": "3.7.9"
  }
 },
 "nbformat": 4,
 "nbformat_minor": 4
}
