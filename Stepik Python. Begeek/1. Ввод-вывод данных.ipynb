{
 "cells": [
  {
   "cell_type": "markdown",
   "metadata": {},
   "source": [
    "## 1\n",
    "Что будет выведено на экран в результате выполнения следующего кода?"
   ]
  },
  {
   "cell_type": "code",
   "execution_count": 1,
   "metadata": {},
   "outputs": [
    {
     "name": "stdout",
     "output_type": "stream",
     "text": [
      "31-12-2019\n"
     ]
    }
   ],
   "source": [
    "print('31', '12', '2019', sep='-')"
   ]
  },
  {
   "cell_type": "markdown",
   "metadata": {},
   "source": [
    "## 2\n",
    "Что будет выведено на экран в результате выполнения следующего кода?"
   ]
  },
  {
   "cell_type": "code",
   "execution_count": 2,
   "metadata": {},
   "outputs": [
    {
     "name": "stdout",
     "output_type": "stream",
     "text": [
      "Mercury*Venus!Mars**Jupiter?"
     ]
    }
   ],
   "source": [
    "print('Mercury', 'Venus', sep='*', end='!')\n",
    "print('Mars', 'Jupiter', sep='**', end='?')"
   ]
  },
  {
   "cell_type": "markdown",
   "metadata": {},
   "source": [
    "## 3 \n",
    "Напишите программу, которая считывает строку-разделитель и три строки, а затем выводит указанные строки через разделитель.  \n",
    "\n",
    "На вход программе подаётся строка-разделитель и три строки, каждая на отдельной строке. Программа должна вывести введённые три строки через разделитель."
   ]
  },
  {
   "cell_type": "code",
   "execution_count": 3,
   "metadata": {},
   "outputs": [
    {
     "name": "stdout",
     "output_type": "stream",
     "text": [
      "new\n",
      "1\n",
      "2\n",
      "3\n",
      "1new2new3\n"
     ]
    }
   ],
   "source": [
    "a = input()\n",
    "b = input()\n",
    "c = input()\n",
    "d = input()\n",
    "print (b, c, d, sep=a)"
   ]
  },
  {
   "cell_type": "markdown",
   "metadata": {},
   "source": [
    "## 4\n",
    "Напишите программу вывода на экран трех последовательно идущих чисел, каждое на отдельной строке. Первое число вводит пользователь, остальные числа вычисляются в программе.\n",
    "\n",
    "На вход программе подается одно целое число. Программа должна вывести три последовательно идущих числа в соответствии с условием задачи."
   ]
  },
  {
   "cell_type": "code",
   "execution_count": 5,
   "metadata": {},
   "outputs": [
    {
     "name": "stdout",
     "output_type": "stream",
     "text": [
      "5\n",
      "5\n",
      "6\n",
      "7\n"
     ]
    }
   ],
   "source": [
    "n = int(input())\n",
    "print(n)\n",
    "print(n + 1)\n",
    "print(n + 2)"
   ]
  },
  {
   "cell_type": "markdown",
   "metadata": {},
   "source": [
    "## 5\n",
    "Напишите программу, вычисляющую объём куба и площадь его полной поверхности, по введённому значению длины ребра.  \n",
    "\n",
    "На вход программе подается одно целое число – длина ребра.  \n",
    "Примечание. Объём куба и площадь полной поверхности можно вычислить по формулам V = a^3, S = 6a^2"
   ]
  },
  {
   "cell_type": "code",
   "execution_count": 6,
   "metadata": {},
   "outputs": [
    {
     "name": "stdout",
     "output_type": "stream",
     "text": [
      "5\n",
      "Объем = 125\n",
      "Площадь полной поверхности = 150\n"
     ]
    }
   ],
   "source": [
    "a = int(input())\n",
    "print('Объем =', a ** 3)\n",
    "print('Площадь полной поверхности =', 6 * a ** 2)"
   ]
  },
  {
   "cell_type": "markdown",
   "metadata": {},
   "source": [
    "## 6\n",
    "Напишите программу вычисления значения функции f(a, b) = 3(a + b)^3 + 275b^2 - 127a - 41  \n",
    "\n",
    "На вход программе подаётся два целых числа, каждое на отдельной строке. В первой строке — значение a, во второй строке — значение b. Программа должна вывести значение функции по введённым числам a и  b"
   ]
  },
  {
   "cell_type": "code",
   "execution_count": 7,
   "metadata": {},
   "outputs": [
    {
     "name": "stdout",
     "output_type": "stream",
     "text": [
      "7\n",
      "0\n",
      "99\n"
     ]
    }
   ],
   "source": [
    "a = int(input())\n",
    "b = int(input())\n",
    "print(3 * (a + b) ** 3 + 275 * b ** 2 - 127 * a - 41)"
   ]
  },
  {
   "cell_type": "markdown",
   "metadata": {},
   "source": [
    "## 7\n",
    "Напишите программу, которая считывает целое число, после чего на экран выводится следующее и предыдущее целое число с пояснительным текстом."
   ]
  },
  {
   "cell_type": "code",
   "execution_count": 8,
   "metadata": {},
   "outputs": [
    {
     "name": "stdout",
     "output_type": "stream",
     "text": [
      "5\n",
      "Следующее за числом 5 число: 6\n",
      "Для числа 5 предыдущее число: 4\n"
     ]
    }
   ],
   "source": [
    "n = int(input())\n",
    "print('Следующее за числом', n, 'число:', n + 1)\n",
    "print('Для числа', n, 'предыдущее число:', n - 1)"
   ]
  },
  {
   "cell_type": "markdown",
   "metadata": {},
   "source": [
    "## 8\n",
    "Напишите программу, которая считает стоимость трех компьютеров, состоящих из монитора, системного блока, клавиатуры и мыши.\n",
    "\n",
    "На вход программе подаётся четыре целых числа, каждое на отдельной строке. В первой строке — стоимость монитора, во второй строке — стоимость системного блока, в третье строке — стоимость клавиатуры и в четвертой строке — стоимость мыши. Программа должна вывести одно число – стоимость покупки (трех компьютеров)."
   ]
  },
  {
   "cell_type": "code",
   "execution_count": 9,
   "metadata": {},
   "outputs": [
    {
     "name": "stdout",
     "output_type": "stream",
     "text": [
      "7\n",
      "3\n",
      "40\n",
      "5\n",
      "165\n"
     ]
    }
   ],
   "source": [
    "a = int(input())\n",
    "b = int(input())\n",
    "c = int(input())\n",
    "d = int(input())\n",
    "\n",
    "print((a + b + c + d) * 3)"
   ]
  },
  {
   "cell_type": "markdown",
   "metadata": {},
   "source": [
    "## 9\n",
    "Напишите программу, в которой вычисляется сумма, разность и произведение двух целых чисел, введенных с клавиатуры.  \n",
    "На вход программе подаётся два целых числа, каждое на отдельной строке.Программа должна вывести сумму, разность и произведение введённых чисел, каждое на отдельной строке."
   ]
  },
  {
   "cell_type": "code",
   "execution_count": 10,
   "metadata": {},
   "outputs": [
    {
     "name": "stdout",
     "output_type": "stream",
     "text": [
      "7\n",
      "9\n",
      "7 + 9 = 16\n",
      "7 - 9 = -2\n",
      "7 * 9 = 63\n"
     ]
    }
   ],
   "source": [
    "a = int(input())\n",
    "b = int(input())\n",
    "print(a, '+', b, '=', a + b)\n",
    "print(a, '-', b, '=', a - b)\n",
    "print(a, '*', b, '=', a * b)"
   ]
  },
  {
   "cell_type": "markdown",
   "metadata": {},
   "source": [
    "## 10\n",
    "Арифметической прогрессией называется последовательность чисел a, , каждое из которых, начиная с , получается из предыдущего прибавлением к нему одного и того же постоянного числа d (разность прогрессии), то есть: **a_n = a_{n − 1} + d**\n",
    "\n",
    "На вход программе подаётся три целых числа: a_1, d и n, каждое на отдельной строке. Программа должна вывести n-ый член арифметической прогрессии."
   ]
  },
  {
   "cell_type": "code",
   "execution_count": 11,
   "metadata": {},
   "outputs": [
    {
     "name": "stdout",
     "output_type": "stream",
     "text": [
      "6\n",
      "9\n",
      "8\n",
      "69\n"
     ]
    }
   ],
   "source": [
    "a1, d, n = int(input()), int(input()), int(input())\n",
    "print(a1 + d * (n - 1))"
   ]
  },
  {
   "cell_type": "markdown",
   "metadata": {},
   "source": [
    "## 11\n",
    "Напишите программу, которая считывает целое положительное число x и выводит на экран последовательность чисел x, 2x, 3x ,4x, 5x, разделённых тремя черточками."
   ]
  },
  {
   "cell_type": "code",
   "execution_count": 12,
   "metadata": {},
   "outputs": [
    {
     "name": "stdout",
     "output_type": "stream",
     "text": [
      "2\n",
      "2---4---6---8---10\n"
     ]
    }
   ],
   "source": [
    "a = int(input())\n",
    "print(a, a * 2, a * 3, a * 4, a * 5, sep='---')"
   ]
  },
  {
   "cell_type": "markdown",
   "metadata": {},
   "source": [
    "## 12\n",
    "Геометрической прогрессией называется последовательность чисел b_1, b_2, b_n, получается из предыдущего умножением на одно и то же постоянное число q (знаменатель прогрессии), то есть **b_n = b_{n−1} * q**  \n",
    "\n",
    "Если известен первый член прогрессии и её знаменатель, то n-ый член геометрической прогрессии находится по формуле\n",
    "**b_n = b_1 * q ^ {n-1}**\n",
    "\n",
    "На вход программе подаётся три целых числа: b_1, q и n, каждое на отдельной строке.Программа должна вывести  n-ый член геометрической прогрессии."
   ]
  },
  {
   "cell_type": "code",
   "execution_count": 13,
   "metadata": {},
   "outputs": [
    {
     "name": "stdout",
     "output_type": "stream",
     "text": [
      "5\n",
      "1\n",
      "2\n",
      "5\n"
     ]
    }
   ],
   "source": [
    "b1 = int(input())\n",
    "q = int(input())\n",
    "n = int(input())\n",
    "\n",
    "print(b1 * q ** (n - 1))"
   ]
  },
  {
   "cell_type": "markdown",
   "metadata": {},
   "source": [
    "## 13\n",
    "n школьников делят k мандаринов поровну, неделящийся остаток остается в корзине. Сколько целых мандаринов достанется каждому школьнику? Сколько целых мандаринов останется в корзине?\n",
    "\n",
    "На вход программе подаётся два целых числа: количество школьников и количество мандаринов, каждое на отдельной строке. Программа должна вывести два числа: количество мандаринов, которое достанется каждому школьнику, и количество мандаринов, которое останется в корзине, каждое на отдельной строке."
   ]
  },
  {
   "cell_type": "code",
   "execution_count": 14,
   "metadata": {},
   "outputs": [
    {
     "name": "stdout",
     "output_type": "stream",
     "text": [
      "4\n",
      "5\n",
      "1\n",
      "1\n"
     ]
    }
   ],
   "source": [
    "n = int(input())\n",
    "m = int(input())\n",
    "c = m // n\n",
    "d = m % n\n",
    "print(c)\n",
    "print(d)"
   ]
  },
  {
   "cell_type": "markdown",
   "metadata": {},
   "source": [
    "## 14\n",
    "Безумный титан Танос собрал все 6 камней бесконечности и намеревается уничтожить половину населения Вселенной по щелчку пальцев. При этом если население Вселенной является нечетным числом, то титан проявит милосердие и округлит количество выживших в большую сторону. Помогите Мстителям подсчитать количество выживших.\n",
    "\n",
    "На вход дается число целое n – население Вселенной. Программа должна вывести одно число – количество выживших."
   ]
  },
  {
   "cell_type": "code",
   "execution_count": 15,
   "metadata": {},
   "outputs": [
    {
     "name": "stdout",
     "output_type": "stream",
     "text": [
      "79999\n",
      "40000\n"
     ]
    }
   ],
   "source": [
    "a = int(input())\n",
    "b = a // 2\n",
    "c = a % 2\n",
    "print(b + c)"
   ]
  },
  {
   "cell_type": "markdown",
   "metadata": {},
   "source": [
    "## 15\n",
    "В купейном вагоне имеется 9 купе с четырьмя местами для пассажиров в каждом. Напишите программу, которая определяет номер купе, в котором находится место с заданным номером (нумерация мест сквозная, начинается с 1)."
   ]
  },
  {
   "cell_type": "code",
   "execution_count": 16,
   "metadata": {},
   "outputs": [
    {
     "name": "stdout",
     "output_type": "stream",
     "text": [
      "7\n",
      "2\n"
     ]
    }
   ],
   "source": [
    "a = int(input())\n",
    "print((a - 1) // 4 + 1)"
   ]
  },
  {
   "cell_type": "markdown",
   "metadata": {},
   "source": [
    "## 16 \n",
    "Напишите программу для пересчёта величины временного интервала, заданного в минутах, в величину, выраженную в часах и минутах.\n",
    "На вход программе подаётся целое число – количество минут."
   ]
  },
  {
   "cell_type": "code",
   "execution_count": 17,
   "metadata": {},
   "outputs": [
    {
     "name": "stdout",
     "output_type": "stream",
     "text": [
      "73\n",
      "73 мин - это 1 час 13 минут.\n"
     ]
    }
   ],
   "source": [
    "a = int(input())\n",
    "print(a, 'мин - это', a // 60, 'час', a % 60, 'минут.')"
   ]
  },
  {
   "cell_type": "markdown",
   "metadata": {},
   "source": [
    "## 17\n",
    "Рассмотрим программу получения цифр двузначного числа:"
   ]
  },
  {
   "cell_type": "code",
   "execution_count": 18,
   "metadata": {},
   "outputs": [
    {
     "name": "stdout",
     "output_type": "stream",
     "text": [
      "7\n",
      "1\n"
     ]
    }
   ],
   "source": [
    "num = 17\n",
    "a = num % 10\n",
    "b = num // 10\n",
    "print(a)\n",
    "print(b)"
   ]
  },
  {
   "cell_type": "markdown",
   "metadata": {},
   "source": [
    "## 18\n",
    "Рассмотрим программу получения цифр трёхзначного числа:"
   ]
  },
  {
   "cell_type": "code",
   "execution_count": 19,
   "metadata": {},
   "outputs": [
    {
     "name": "stdout",
     "output_type": "stream",
     "text": [
      "4\n",
      "5\n",
      "7\n"
     ]
    }
   ],
   "source": [
    "num = 754\n",
    "a = num % 10\n",
    "b = (num % 100) // 10\n",
    "c = num // 100\n",
    "print(a)\n",
    "print(b)\n",
    "print(c)"
   ]
  },
  {
   "cell_type": "markdown",
   "metadata": {},
   "source": [
    "## 19\n",
    "Число единиц – это последняя цифра числа, число десятков – первая цифра. Чтобы получить последнюю цифру любого числа, нужно найти остаток от деления числа на 10. Чтобы найти первую цифру двузначного числа, нужно поделить число нацело на 10. Программа, решающая поставленную задачу, может иметь следующий вид:"
   ]
  },
  {
   "cell_type": "code",
   "execution_count": 20,
   "metadata": {},
   "outputs": [
    {
     "name": "stdout",
     "output_type": "stream",
     "text": [
      "57\n",
      "Число десятков = 5\n",
      "Число единиц = 7\n"
     ]
    }
   ],
   "source": [
    "num = int(input())\n",
    "last_digit = num % 10\n",
    "first_digit = num // 10\n",
    "print('Число десятков =', first_digit)\n",
    "print('Число единиц =', last_digit)"
   ]
  },
  {
   "cell_type": "markdown",
   "metadata": {},
   "source": [
    "## 20\n",
    "Напишите программу, в которой рассчитывается сумма цифр двузначного числа.\n",
    "Решение. Программа, решающая поставленную задачу, может иметь следующий вид:"
   ]
  },
  {
   "cell_type": "code",
   "execution_count": 21,
   "metadata": {},
   "outputs": [
    {
     "name": "stdout",
     "output_type": "stream",
     "text": [
      "87\n",
      "Сумма цифр = 15\n"
     ]
    }
   ],
   "source": [
    "num = int(input())\n",
    "last_digit = num % 10\n",
    "first_digit = num // 10\n",
    "print('Сумма цифр =', last_digit + first_digit)"
   ]
  },
  {
   "cell_type": "markdown",
   "metadata": {},
   "source": [
    "## 21\n",
    "Напишите программу, которая печатает число, образованное при перестановке цифр двузначного числа.\n",
    "Решение. Программа, решающая поставленную задачу, может иметь следующий вид:"
   ]
  },
  {
   "cell_type": "code",
   "execution_count": 22,
   "metadata": {},
   "outputs": [
    {
     "name": "stdout",
     "output_type": "stream",
     "text": [
      "87\n",
      "Искомое число = 78\n"
     ]
    }
   ],
   "source": [
    "num = int(input())\n",
    "last_digit = num % 10\n",
    "first_digit = num // 10\n",
    "print('Искомое число =', last_digit * 10 + first_digit)"
   ]
  },
  {
   "cell_type": "markdown",
   "metadata": {},
   "source": [
    "## 22\n",
    "Напишите программу, в которую вводится трёхзначное число и которая выводит на экран его цифры (через запятую).\n",
    "Решение. Программа, решающая поставленную задачу, может иметь следующий вид:"
   ]
  },
  {
   "cell_type": "code",
   "execution_count": 23,
   "metadata": {},
   "outputs": [
    {
     "name": "stdout",
     "output_type": "stream",
     "text": [
      "123\n",
      "1,2,3\n"
     ]
    }
   ],
   "source": [
    "num = int(input())\n",
    "digit3 = num % 10\n",
    "digit2 = (num // 10) % 10\n",
    "digit1 = num // 100\n",
    "print(digit1, digit2, digit3, sep=',')"
   ]
  },
  {
   "cell_type": "markdown",
   "metadata": {},
   "source": [
    "## 23\n",
    "Напишите программу, в которой рассчитывается сумма и произведение цифр положительного трёхзначного числа.\n",
    "На вход программе подаётся положительное трёхзначное число. Программа должна вывести два числа с поясняющим текстом: сумма цифр и произведение цифр."
   ]
  },
  {
   "cell_type": "code",
   "execution_count": 25,
   "metadata": {},
   "outputs": [
    {
     "name": "stdout",
     "output_type": "stream",
     "text": [
      "876\n",
      "Сумма цифр = 21\n",
      "Произведение цифр = 336\n"
     ]
    }
   ],
   "source": [
    "a = int(input())\n",
    "first = a // 100\n",
    "second = (a % 100) // 10\n",
    "third = a % 10\n",
    "sum = first + second + third\n",
    "pr = first * second * third\n",
    "print('Сумма цифр =', sum, end='\\n')\n",
    "print('Произведение цифр =', pr)"
   ]
  },
  {
   "cell_type": "markdown",
   "metadata": {},
   "source": [
    "## 24\n",
    "Дано трехзначное число abc, в котором все цифры различны. Напишите программу, которая выводит шесть чисел, образованных при перестановке цифр заданного числа.\n",
    "\n",
    "На вход программе подаётся положительное трёхзначное целое число, все цифры которого различны. Программа должна вывести шесть чисел, образованных при перестановке цифр заданного числа в следующем порядке: abc, acb, bac, bca, cab, cba."
   ]
  },
  {
   "cell_type": "code",
   "execution_count": 28,
   "metadata": {},
   "outputs": [
    {
     "name": "stdout",
     "output_type": "stream",
     "text": [
      "568\n",
      "568\n",
      "586\n",
      "658\n",
      "685\n",
      "856\n",
      "865\n"
     ]
    }
   ],
   "source": [
    "n = int(input())\n",
    "a = n // 100\n",
    "b = (n // 10) % 10\n",
    "c = n % 10\n",
    "\n",
    "print(a, b, c, sep='', end='\\n')\n",
    "print(a, c, b, sep='', end='\\n')\n",
    "print(b, a, c, sep='', end='\\n')\n",
    "print(b, c, a, sep='', end='\\n')\n",
    "print(c, a, b, sep='', end='\\n')\n",
    "print(c, b, a, sep='', end='\\n')"
   ]
  },
  {
   "cell_type": "markdown",
   "metadata": {},
   "source": [
    "## 25\n",
    "Напишите программу для нахождения цифр четырёхзначного числа.\n",
    "На вход программе подаётся положительное четырёхзначное целое число. Программа должна вывести текст в соответствии с условием задачи."
   ]
  },
  {
   "cell_type": "code",
   "execution_count": 31,
   "metadata": {},
   "outputs": [
    {
     "name": "stdout",
     "output_type": "stream",
     "text": [
      "8765\n",
      "Цифра в позиции тысяч равна 8\n",
      "Цифра в позиции сотен равна 7\n",
      "Цифра в позиции десятков равна 6\n",
      "Цифра в позиции единиц равна 5\n"
     ]
    }
   ],
   "source": [
    "n = int(input())\n",
    "a = n // 1000\n",
    "b = (n % 1000) // 100\n",
    "c = (n % 100) // 10\n",
    "d = (n % 100) % 10\n",
    "print('Цифра в позиции тысяч равна', a)\n",
    "print('Цифра в позиции сотен равна', b)\n",
    "print('Цифра в позиции десятков равна', c)\n",
    "print('Цифра в позиции единиц равна', d)"
   ]
  },
  {
   "cell_type": "markdown",
   "metadata": {},
   "source": [
    "## 26\n",
    "Напишите программу, которая выводит прямоугольник, по периметру состоящий из звездочек (*).\n",
    "Примечание. Высота и ширина прямоугольника равны 4 и 17 звёздочкам соответственно."
   ]
  },
  {
   "cell_type": "code",
   "execution_count": 32,
   "metadata": {},
   "outputs": [
    {
     "name": "stdout",
     "output_type": "stream",
     "text": [
      "*****************\n",
      "*               *\n",
      "*               *\n",
      "*****************\n"
     ]
    }
   ],
   "source": [
    "print('*' * 17)\n",
    "print('*               *')\n",
    "print('*               *')\n",
    "print('*' * 17)"
   ]
  },
  {
   "cell_type": "markdown",
   "metadata": {},
   "source": [
    "## 27\n",
    "Напишите программу, которая считывает два целых числа a и b и выводит на экран квадрат суммы (a+b)^2 и сумму квадратов a^2+b^2\n",
    "На вход программе подаётся два целых числа, каждое на отдельной строке."
   ]
  },
  {
   "cell_type": "code",
   "execution_count": 33,
   "metadata": {},
   "outputs": [
    {
     "name": "stdout",
     "output_type": "stream",
     "text": [
      "7\n",
      "8\n",
      "Квадрат суммы 7 и 8 равен 225\n",
      "Сумма квадратов 7 и 8 равна 113\n"
     ]
    }
   ],
   "source": [
    "a = int(input())\n",
    "b = int(input())\n",
    "print('Квадрат суммы', a, 'и', b, 'равен', (a + b) ** 2)\n",
    "print('Сумма квадратов', a, 'и', b, 'равна', a ** 2 + b ** 2)"
   ]
  },
  {
   "cell_type": "markdown",
   "metadata": {},
   "source": [
    "## 28\n",
    "Как известно, целые числа в языке Python не имеют ограничений, которые встречаются в других языках программирования. Напишите программу, которая считывает четыре целых положительных числа a, b, c и d и выводит на экран значение выражения a^b + c^d\n",
    "\n",
    "На вход программе подаётся четыре целых положительных числа, каждое на отдельной строке в указанном порядке. Программа должна вывести значение: a^b + c^d"
   ]
  },
  {
   "cell_type": "code",
   "execution_count": 34,
   "metadata": {},
   "outputs": [
    {
     "name": "stdout",
     "output_type": "stream",
     "text": [
      "7\n",
      "8\n",
      "9\n",
      "0\n",
      "5764802\n"
     ]
    }
   ],
   "source": [
    "a = int(input())\n",
    "b = int(input())\n",
    "c = int(input())\n",
    "d = int(input())\n",
    "print(a ** b + c ** d)"
   ]
  },
  {
   "cell_type": "markdown",
   "metadata": {},
   "source": [
    "## 29  \n",
    "Напишите программу, которая считывает целое положительное число  n∈ [1;9] и выводит значение числа n + nn + nnn\n",
    "\n",
    "Примечание. Для первого теста \n",
    "1 + 11 + 111 = 123"
   ]
  },
  {
   "cell_type": "code",
   "execution_count": 35,
   "metadata": {},
   "outputs": [
    {
     "name": "stdout",
     "output_type": "stream",
     "text": [
      "7\n",
      "861\n"
     ]
    }
   ],
   "source": [
    "n = input()\n",
    "print(int(n) + int(n * 2) + int(n * 3))"
   ]
  },
  {
   "cell_type": "code",
   "execution_count": 36,
   "metadata": {},
   "outputs": [
    {
     "name": "stdout",
     "output_type": "stream",
     "text": [
      "7\n",
      "861\n"
     ]
    }
   ],
   "source": [
    "n = int(input())\n",
    "print(n * 123)"
   ]
  },
  {
   "cell_type": "code",
   "execution_count": null,
   "metadata": {},
   "outputs": [],
   "source": []
  }
 ],
 "metadata": {
  "kernelspec": {
   "display_name": "Python 3",
   "language": "python",
   "name": "python3"
  },
  "language_info": {
   "codemirror_mode": {
    "name": "ipython",
    "version": 3
   },
   "file_extension": ".py",
   "mimetype": "text/x-python",
   "name": "python",
   "nbconvert_exporter": "python",
   "pygments_lexer": "ipython3",
   "version": "3.7.9"
  }
 },
 "nbformat": 4,
 "nbformat_minor": 4
}
