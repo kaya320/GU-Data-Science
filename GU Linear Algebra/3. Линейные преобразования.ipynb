{
 "cells": [
  {
   "cell_type": "markdown",
   "metadata": {
    "id": "TT43R9y4GuXY"
   },
   "source": [
    "# Линейные преобразования"
   ]
  },
  {
   "cell_type": "markdown",
   "metadata": {
    "id": "g5j682eQGuXe"
   },
   "source": [
    "# Домашнее задание"
   ]
  },
  {
   "cell_type": "markdown",
   "metadata": {
    "id": "vpkrM5dVGuXe"
   },
   "source": [
    "__1.__ Найти собственные векторы и собственные значения для линейного оператора, заданного матрицей\n",
    "\n",
    "$$A=\\begin{pmatrix}\n",
    "-1 & -6\\\\ \n",
    "2 & 6\n",
    "\\end{pmatrix}.$$"
   ]
  },
  {
   "cell_type": "markdown",
   "metadata": {
    "id": "iFtBe4tSGuXf"
   },
   "source": [
    "__Решение__"
   ]
  },
  {
   "cell_type": "markdown",
   "metadata": {
    "id": "lK2h-d0cGuXf"
   },
   "source": [
    "Найдем собственные значения:"
   ]
  },
  {
   "cell_type": "markdown",
   "metadata": {
    "id": "2yc8_iitGuXf"
   },
   "source": [
    " $$\\begin{vmatrix}\n",
    "-1-\\lambda & -6\\\\ \n",
    "2 & 6-\\lambda\n",
    "\\end{vmatrix} = 0,$$\n",
    "\n",
    " $$(-1-\\lambda)(6-\\lambda)-2\\cdot(-6)=0,$$\n",
    "\n",
    " $$\\lambda^{2}-5\\cdot\\lambda+6=0,$$\n",
    "\n",
    " $$D=25-24=1,$$\n",
    "\n",
    " $$\\lambda_{1}=2, \\lambda_{2}=3.$$"
   ]
  },
  {
   "cell_type": "markdown",
   "metadata": {
    "id": "sx4CH60zGuXg"
   },
   "source": [
    "Найдем собственный ветор для $\\lambda_{1}$:"
   ]
  },
  {
   "cell_type": "markdown",
   "metadata": {
    "id": "vEhZH3l6GuXg"
   },
   "source": [
    " $$\\begin{pmatrix}\n",
    "-1 & -6\\\\ \n",
    "2 & 6\n",
    "\\end{pmatrix}\n",
    "\\begin{pmatrix}\n",
    "x_{1}\\\\ \n",
    "x_{2}\n",
    "\\end{pmatrix}=\n",
    "2\n",
    "\\begin{pmatrix}\n",
    "x_{1}\\\\ \n",
    "x_{2}\n",
    "\\end{pmatrix},\n",
    "$$"
   ]
  },
  {
   "cell_type": "markdown",
   "metadata": {
    "id": "S_ioWuTaGuXh"
   },
   "source": [
    " $$\\begin{cases}\n",
    "-x_{1}-6\\cdot x_{2}=2\\cdot x_{1}, \\\\\n",
    "2\\cdot x_{1}+6\\cdot x_{2}=2\\cdot x_{2},\n",
    "\\end{cases}$$ "
   ]
  },
  {
   "cell_type": "markdown",
   "metadata": {
    "id": "7KBIb5SNGuXh"
   },
   "source": [
    " $$\\begin{cases}\n",
    "-3\\cdot x_{1}= 6\\cdot x_{2}, \\\\\n",
    "2\\cdot x_{1} = -4\\cdot x_{2},\n",
    "\\end{cases}$$ "
   ]
  },
  {
   "cell_type": "markdown",
   "metadata": {
    "id": "q2Ej-jxqGuXh"
   },
   "source": [
    "__Ответ__"
   ]
  },
  {
   "cell_type": "markdown",
   "metadata": {
    "id": "TVtkA_mhGuXh"
   },
   "source": [
    "  $$x_{1}= -2\\cdot x_{2},$$\n",
    "\n",
    "Если $x_{2}=1$, то $x_{1}=-2$. Получаем вектор $(-2,1)$"
   ]
  },
  {
   "cell_type": "markdown",
   "metadata": {
    "id": "Xy-N9CEuGuXi"
   },
   "source": [
    "Найдем собственный ветор для $\\lambda_{2}$:"
   ]
  },
  {
   "cell_type": "markdown",
   "metadata": {
    "id": "-FyQsVOKGuXi"
   },
   "source": [
    " $$\\begin{pmatrix}\n",
    "-1 & -6\\\\ \n",
    "2 & 6\n",
    "\\end{pmatrix}\n",
    "\\begin{pmatrix}\n",
    "x_{1}\\\\ \n",
    "x_{2}\n",
    "\\end{pmatrix}=\n",
    "3\n",
    "\\begin{pmatrix}\n",
    "x_{1}\\\\ \n",
    "x_{2}\n",
    "\\end{pmatrix},\n",
    "$$"
   ]
  },
  {
   "cell_type": "markdown",
   "metadata": {
    "id": "tyaXFG_dGuXi"
   },
   "source": [
    " $$\\begin{cases}\n",
    "-x_{1}-6\\cdot x_{2}=3\\cdot x_{1}, \\\\\n",
    "2\\cdot x_{1}+6\\cdot x_{2}=3\\cdot x_{2},\n",
    "\\end{cases}$$ "
   ]
  },
  {
   "cell_type": "markdown",
   "metadata": {
    "id": "50Fi0E2bGuXi"
   },
   "source": [
    " $$\\begin{cases}\n",
    "-4\\cdot x_{1}= 6\\cdot x_{2}, \\\\\n",
    "2\\cdot x_{1} = -3\\cdot x_{2},\n",
    "\\end{cases}$$ "
   ]
  },
  {
   "cell_type": "markdown",
   "metadata": {
    "id": "Ez-PKGgJGuXi"
   },
   "source": [
    "__Ответ__"
   ]
  },
  {
   "cell_type": "markdown",
   "metadata": {
    "id": "n6ChxRl1GuXj"
   },
   "source": [
    " $$2x_{1}= -3\\cdot x_{2},$$\n",
    "\n",
    "Если $x_{2}=2$, то $x_{1}=-3$. Получаем вектор $(-3,2)$"
   ]
  },
  {
   "cell_type": "markdown",
   "metadata": {
    "id": "IbqBOWtnGuXj"
   },
   "source": [
    "__2.__ Дан оператор поворота на 180 градусов, задаваемый матрицей \n",
    "\n",
    " $$A=\\begin{pmatrix}\n",
    "-1 & 0\\\\ \n",
    "0 & -1\n",
    "\\end{pmatrix}.$$\n",
    "\n",
    "Показать, что __любой__ вектор является для него собственным."
   ]
  },
  {
   "cell_type": "markdown",
   "metadata": {
    "id": "hg-wjAugGuXj"
   },
   "source": [
    "__Решение__"
   ]
  },
  {
   "cell_type": "markdown",
   "metadata": {
    "id": "pyH_A0OfGuXj"
   },
   "source": [
    "Найдем собственные значения:\n",
    "\n",
    " $$\\begin{vmatrix}\n",
    "-1-\\lambda & 0\\\\ \n",
    "0 & -1-\\lambda\n",
    "\\end{vmatrix} = 0,$$\n",
    "\n",
    " $$(-1-\\lambda)(-1-\\lambda)=0,$$\n",
    "\n",
    " $$(-1-\\lambda)^{2}=0,$$\n",
    "\n",
    " $$\\lambda_{1}=\\lambda_{2}=-1$$"
   ]
  },
  {
   "cell_type": "markdown",
   "metadata": {
    "id": "mSYmlTAgGuXk"
   },
   "source": [
    "Предположим, что любой вектор $x$ является собственным вектором заданного линейного оператора, тогда должно существовать некоторое вещественное число $\\lambda$, при котором \n",
    "\n",
    " $$\\begin{pmatrix}\n",
    "-1 & 0\\\\ \n",
    "0 & -1\n",
    "\\end{pmatrix}\n",
    "\\begin{pmatrix}\n",
    "x_{1}\\\\ \n",
    "x_{2} \n",
    "\\end{pmatrix}=\n",
    "\\lambda\n",
    "\\begin{pmatrix}\n",
    "x_{1}\\\\ \n",
    "x_{2}\n",
    "\\end{pmatrix},\n",
    "$$"
   ]
  },
  {
   "cell_type": "markdown",
   "metadata": {
    "id": "8KWHtxhmGuXk"
   },
   "source": [
    "Из этого будет следовать, что \n",
    "\n",
    " $$\\begin{cases}\n",
    "-x_{1}=\\lambda \\cdot x_{1}\\\\ \n",
    "-x_{2}=\\lambda \\cdot x_{2}\n",
    "\\end{cases}\n",
    ".$$"
   ]
  },
  {
   "cell_type": "markdown",
   "metadata": {
    "id": "OO5lwy38GuXk"
   },
   "source": [
    "При $\\lambda = -1$ получаем:\n",
    "\n",
    " $$\\begin{cases}\n",
    "-x_{1}=-x_{1}\\\\ \n",
    "-x_{2}=-x_{2}\n",
    "\\end{cases}$$\n",
    "\n",
    "или \n",
    "\n",
    " $$\\begin{cases}\n",
    "0\\cdot x_{1}=0\\\\ \n",
    "0\\cdot x_{2}=0\n",
    "\\end{cases}$$\n",
    "\n",
    "То есть $x_1$ и $x_2$ любые"
   ]
  },
  {
   "cell_type": "markdown",
   "metadata": {
    "id": "DOcE5FJbGuXk"
   },
   "source": [
    "__3.__ Пусть линейный оператор задан матрицей\n",
    "\n",
    " $$A=\\begin{pmatrix}\n",
    "1 & 1\\\\ \n",
    "-1 & 3\n",
    "\\end{pmatrix}.$$\n",
    "\n",
    "Установить, является ли вектор $x=(1,1)$ собственным вектором этого линейного оператора."
   ]
  },
  {
   "cell_type": "markdown",
   "metadata": {
    "id": "BxdrYNw5GuXk"
   },
   "source": [
    "__Решение__"
   ]
  },
  {
   "cell_type": "markdown",
   "metadata": {
    "id": "duZeNoBtGuXl"
   },
   "source": [
    "Предположим, что вектор $x$ является собственным вектором заданного линейного оператора, тогда должно существовать некоторое вещественное число $\\lambda$, при котором \n",
    "\n",
    " $$\\begin{pmatrix}\n",
    "1 & 1\\\\ \n",
    "-1 & 3\n",
    "\\end{pmatrix}\n",
    "\\begin{pmatrix}\n",
    "1\\\\ \n",
    "1 \n",
    "\\end{pmatrix}=\n",
    "\\lambda\n",
    "\\begin{pmatrix}\n",
    "1\\\\ \n",
    "1\n",
    "\\end{pmatrix}.\n",
    "$$"
   ]
  },
  {
   "cell_type": "markdown",
   "metadata": {
    "id": "BFHW8rfbGuXl"
   },
   "source": [
    "Из этого будет следовать, что \n",
    "\n",
    " $$\\begin{cases}\n",
    "1+1=1\\cdot\\lambda \\\\ \n",
    "-1+3 = 1\\cdot \\lambda\n",
    "\\end{cases}\n",
    "\\Rightarrow\n",
    "\\begin{cases}\n",
    "\\lambda=2\\\\ \n",
    "\\lambda=2\n",
    "\\end{cases}.$$"
   ]
  },
  {
   "cell_type": "markdown",
   "metadata": {
    "id": "rHt40V8zGuXl"
   },
   "source": [
    "Таким образом, вектор $x=(1,1)$ является собственным вектором линейного оператора, заданного матрицей $A$, и его собственное значение составляет $\\lambda=2.$"
   ]
  },
  {
   "cell_type": "markdown",
   "metadata": {
    "id": "EqYehYnEGuXm"
   },
   "source": [
    "__4.__ Пусть линейный оператор задан матрицей\n",
    "\n",
    " $$A=\\begin{pmatrix}\n",
    "0 & 3 & 0\\\\ \n",
    "3 & 0 & 0\\\\\n",
    "0 & 0 & 3\n",
    "\\end{pmatrix}.$$\n",
    "\n",
    "Установить, является ли вектор $x=(3, -3, -4)$ собственным вектором этого линейного оператора."
   ]
  },
  {
   "cell_type": "markdown",
   "metadata": {
    "id": "HiXSsNYwGuXm"
   },
   "source": [
    "__Решение__"
   ]
  },
  {
   "cell_type": "markdown",
   "metadata": {
    "id": "eTt6Ab1FGuXm"
   },
   "source": [
    "Предположим, что вектор $x$ является собственным вектором заданного линейного оператора, тогда должно существовать некоторое вещественное число $\\lambda$, при котором \n",
    "\n",
    " $$\\begin{pmatrix}\n",
    "0 & 3 & 0\\\\ \n",
    "3 & 0 & 0\\\\\n",
    "0 & 0 &3\n",
    "\\end{pmatrix}\n",
    "\\begin{pmatrix}\n",
    "3\\\\ \n",
    "-3\\\\\n",
    "-4\n",
    "\\end{pmatrix}=\n",
    "\\lambda\n",
    "\\begin{pmatrix}\n",
    "3\\\\ \n",
    "-3\\\\\n",
    "-4\n",
    "\\end{pmatrix}.\n",
    "$$"
   ]
  },
  {
   "cell_type": "markdown",
   "metadata": {
    "id": "v1f-qomqGuXm"
   },
   "source": [
    "Из этого будет следовать, что \n",
    "\n",
    " $$\\begin{cases}\n",
    "-9=3\\cdot\\lambda \\\\ \n",
    "9 = -3\\cdot \\lambda \\\\\n",
    "-12=-4\\cdot\\lambda\n",
    "\\end{cases}\n",
    "\\Rightarrow\n",
    "\\begin{cases}\n",
    "\\lambda=-3\\\\ \n",
    "\\lambda=-3 \\\\\n",
    "\\lambda=3\n",
    "\\end{cases}.$$"
   ]
  },
  {
   "cell_type": "markdown",
   "metadata": {
    "id": "Mo6sQ1oGGuXn"
   },
   "source": [
    "Такая система не имеет смысла, следовательно, вектор $x=(3, -3, -4)$ не является собственным вектором линейного оператора, заданного матрицей $A$."
   ]
  }
 ],
 "metadata": {
  "colab": {
   "name": "разбор ДЗ 5.ipynb",
   "provenance": []
  },
  "kernelspec": {
   "display_name": "Python 3",
   "language": "python",
   "name": "python3"
  },
  "language_info": {
   "codemirror_mode": {
    "name": "ipython",
    "version": 3
   },
   "file_extension": ".py",
   "mimetype": "text/x-python",
   "name": "python",
   "nbconvert_exporter": "python",
   "pygments_lexer": "ipython3",
   "version": "3.7.9"
  }
 },
 "nbformat": 4,
 "nbformat_minor": 1
}
