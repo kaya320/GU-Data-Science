{
 "cells": [
  {
   "cell_type": "markdown",
   "metadata": {},
   "source": [
    "##  №1.\n",
    "Напишите программу, которая считывает из файла строку, соответствующую тексту, сжатому с помощью кодирования повторов, и производит обратную операцию, получая исходный текст.\n",
    "\n",
    "Запишите полученный текст в файл и прикрепите его, как ответ на это задание.\n",
    "\n",
    "В исходном тексте не встречаются цифры, так что код однозначно интерпретируем.\n",
    "\n",
    "Примечание. Это первое задание типа Dataset Quiz. В таких заданиях после нажатия \"Start Quiz\" у вас появляется ссылка \"download your dataset\". Используйте эту ссылку для того, чтобы загрузить файл со входными данными к себе на компьютер. Запустите вашу программу, используя этот файл в качестве входных данных. Выходной файл, который при этом у вас получится, надо отправить в качестве ответа на эту задачу."
   ]
  },
  {
   "cell_type": "code",
   "execution_count": 1,
   "metadata": {},
   "outputs": [
    {
     "name": "stdout",
     "output_type": "stream",
     "text": [
      "JJJJJJJOOOOOOOOOoooooooonnnnnnnnnnnnyyyyyyssssssssHHHHHHHHHHHHHHHZZZZZZZZZqqqqqqqqqqqqqVVVVVVVssssssssssssssssssAAApppppppppvvvvvMMMMMMMMMMMMMMMMxxxxxxxxxxiiiirrrrrrrrrrrrrrrrrrraaaaaaaaaaaaassssssssstttttttttttrrrrrrrrrrrQQQQQQQQQQQQQQQQQQQQDDDDDDDDDDDDDDDDDDNNNNNNNNNNNNNOOOOOOOOOOOBBBBBEKKKKKKKKKKKKKKXXXXXXXXXXXXXXXXXXXXUUUUUPPPPPPPPPPPPP"
     ]
    }
   ],
   "source": [
    "with open('dataset_3363_2.txt') as f:\n",
    "    s = f.readline().strip()\n",
    "i = 0\n",
    "while i < len(s):\n",
    "    j = i + 1\n",
    "    while j < len(s) and s[j].isdigit():\n",
    "        j += 1\n",
    "    print(s[i] * int(s[i+1:j]), end='')\n",
    "    i = j"
   ]
  },
  {
   "cell_type": "markdown",
   "metadata": {},
   "source": [
    "##  №2.\n",
    "Недавно мы считали для каждого слова количество его вхождений в строку. Но на все слова может быть не так интересно смотреть, как, например, на наиболее часто используемые.\n",
    "\n",
    "Напишите программу, которая считывает текст из файла (в файле может быть больше одной строки) и выводит самое частое слово в этом тексте и через пробел то, сколько раз оно встретилось. Если таких слов несколько, вывести лексикографически первое (можно использовать оператор < для строк).\n",
    "\n",
    "В качестве ответа укажите вывод программы, а не саму программу.\n",
    "\n",
    "Слова, написанные в разных регистрах, считаются одинаковыми."
   ]
  },
  {
   "cell_type": "code",
   "execution_count": 2,
   "metadata": {},
   "outputs": [
    {
     "name": "stdout",
     "output_type": "stream",
     "text": [
      "u 9\n"
     ]
    }
   ],
   "source": [
    "with open('dataset_3363_3.txt') as f:\n",
    "    text = f.read().lower().split()\n",
    "    \n",
    "a = max(set(text), key=text.count)\n",
    "print(a, text.count(a))"
   ]
  },
  {
   "cell_type": "code",
   "execution_count": 3,
   "metadata": {},
   "outputs": [
    {
     "name": "stdout",
     "output_type": "stream",
     "text": [
      "u 9\n"
     ]
    }
   ],
   "source": [
    "with open(\"dataset_3363_3.txt\") as f:\n",
    "    \n",
    "    s = list(map(lambda i: i.strip(), f.read().lower().split()))\n",
    "    m = max(sorted(s), key = lambda j: s.count(j))\n",
    "    print(\"%s %d\" % (m, s.count(m)))"
   ]
  },
  {
   "cell_type": "markdown",
   "metadata": {},
   "source": [
    "##  №3.\n",
    "Имеется файл с данными по успеваемости абитуриентов. Он представляет из себя набор строк, где в каждой строке записана следующая информация:\n",
    "\n",
    "Фамилия;Оценка_по_математике;Оценка_по_физике;Оценка_по_русскому_языку\n",
    "\n",
    "Поля внутри строки разделены точкой с запятой, оценки — целые числа.\n",
    "\n",
    "Напишите программу, которая считывает исходный файл с подобной структурой и для каждого абитуриента записывает его среднюю оценку по трём предметам на отдельной строке, соответствующей этому абитуриенту, в файл с ответом.\n",
    "\n",
    "Также вычислите средние баллы по математике, физике и русскому языку по всем абитуриентам и добавьте полученные значения, разделённые пробелом, последней строкой в файл с ответом.\n",
    "\n",
    "В качестве ответа на задание прикрепите полученный файл со средними оценками по каждому ученику и одной строкой со средними оценками по трём предметам.\n",
    "\n",
    "Примечание. Для разбиения строки на части по символу ';' можно использовать метод split следующим образом:"
   ]
  },
  {
   "cell_type": "code",
   "execution_count": 4,
   "metadata": {},
   "outputs": [],
   "source": [
    "import numpy as np\n",
    "\n",
    "with open('dataset_3363_4.txt') as f:\n",
    "    for line in f:\n",
    "        students = line.strip().split(';')\n",
    "        students = students[1:]        \n",
    "        students = [int(i) for i in students]\n",
    "#        print(students)\n",
    "\n",
    "        mean_of_list = np.mean(students)\n",
    "#        print(mean_of_list) "
   ]
  },
  {
   "cell_type": "code",
   "execution_count": 5,
   "metadata": {},
   "outputs": [],
   "source": [
    "import pandas as pd\n",
    "\n",
    "df = pd.read_csv('dataset_3363_4.txt', sep=';', names=['Фамилия', 'Математика', 'Физика', 'Русский язык'])\n",
    "\n",
    "maths = df['Математика'].mean()\n",
    "phisics = df['Физика'].mean()\n",
    "russian = df['Русский язык'].mean()\n",
    "\n",
    "df['Среднее ученика'] = (df['Математика'] + df['Физика'] + df['Русский язык']) / 3\n",
    "\n",
    "mean_student = df['Среднее ученика']\n",
    "\n",
    "with open('output_dataset_3363_4.txt', 'w') as file:\n",
    "    for i in mean_student:\n",
    "        file.write(str(i) + '\\n')\n",
    "    file.write(str(maths) + ' ' + str(phisics)+ ' ' + str(russian))"
   ]
  },
  {
   "cell_type": "markdown",
   "metadata": {},
   "source": [
    "## №4.\n",
    "Напишите программу, которая подключает модуль math и, используя значение числа \\piπ из этого модуля, находит для переданного ей на стандартный ввод радиуса круга периметр этого круга и выводит его на стандартный вывод."
   ]
  },
  {
   "cell_type": "code",
   "execution_count": 6,
   "metadata": {},
   "outputs": [
    {
     "name": "stdout",
     "output_type": "stream",
     "text": [
      "8.1\n",
      "50.893800988154645\n"
     ]
    }
   ],
   "source": [
    "import math\n",
    "\n",
    "r = float(input())\n",
    "p = math.pi * r * 2\n",
    "print(p)"
   ]
  },
  {
   "cell_type": "markdown",
   "metadata": {},
   "source": [
    "## №5.\n",
    "Напишите программу, которая запускается из консоли и печатает значения всех переданных аргументов на экран (имя скрипта выводить не нужно). Не изменяйте порядок аргументов при выводе.\n",
    "\n",
    "Для доступа к аргументам командной строки программы подключите модуль sys и используйте переменную argv из этого модуля.\n",
    "\n",
    "Пример работы программы:"
   ]
  },
  {
   "cell_type": "raw",
   "metadata": {},
   "source": [
    "> python3 my_solution.py arg1 arg2\n",
    "arg1 arg2"
   ]
  },
  {
   "cell_type": "code",
   "execution_count": 7,
   "metadata": {},
   "outputs": [
    {
     "name": "stdout",
     "output_type": "stream",
     "text": [
      "-f /Users/Kristina/Library/Jupyter/runtime/kernel-b673021c-f363-4008-bb50-249e216311e5.json\n"
     ]
    }
   ],
   "source": [
    "import sys\n",
    "print(*sys.argv[1:])"
   ]
  },
  {
   "cell_type": "markdown",
   "metadata": {},
   "source": [
    "## №6.\n",
    "Скачайте файл. В нём указан адрес другого файла, который нужно скачать с использованием модуля requests и посчитать число строк в нём.\n",
    "\n",
    "Используйте функцию get для получения файла (имеет смысл вызвать метод strip к передаваемому параметру, чтобы убрать пробельные символы по краям).\n",
    "\n",
    "После получения файла вы можете проверить результат, обратившись к полю text. Если результат работы скрипта не принимается, проверьте поле url на правильность. Для подсчёта количества строк разбейте текст с помощью метода splitlines.\n",
    "\n",
    "В поле ответа введите одно число или отправьте файл, содержащий одно число."
   ]
  },
  {
   "cell_type": "code",
   "execution_count": 8,
   "metadata": {},
   "outputs": [
    {
     "name": "stdout",
     "output_type": "stream",
     "text": [
      "246\n"
     ]
    }
   ],
   "source": [
    "import requests\n",
    "\n",
    "with open('dataset_3378_2.txt') as f:\n",
    "    url = f.read().strip()\n",
    "\n",
    "req = requests.get(url)\n",
    "counter = 0\n",
    "\n",
    "for _ in req.text.splitlines():\n",
    "    counter += 1\n",
    "\n",
    "print(len(req.text.splitlines()))\n",
    "\n",
    "with open('output_dataset_3378_2.txt', 'w') as f:\n",
    "    f.write(str(counter))"
   ]
  },
  {
   "cell_type": "code",
   "execution_count": 9,
   "metadata": {},
   "outputs": [
    {
     "name": "stdout",
     "output_type": "stream",
     "text": [
      "246\n"
     ]
    }
   ],
   "source": [
    "import requests\n",
    "\n",
    "with open('dataset_3378_2.txt') as f:\n",
    "    req = requests.get(f.readline().strip())\n",
    "    print(len(req.text.splitlines()))"
   ]
  },
  {
   "cell_type": "code",
   "execution_count": 10,
   "metadata": {},
   "outputs": [
    {
     "name": "stdout",
     "output_type": "stream",
     "text": [
      "246\n"
     ]
    }
   ],
   "source": [
    "from requests import get\n",
    "\n",
    "with open('dataset_3378_2.txt') as f:\n",
    "    url = f.readline().strip()\n",
    "    \n",
    "text = get(url).text.splitlines()\n",
    "print(len(text))"
   ]
  },
  {
   "cell_type": "markdown",
   "metadata": {},
   "source": [
    "## №7.\n",
    "Имеется набор файлов, каждый из которых, кроме последнего, содержит имя следующего файла.\n",
    "Первое слово в тексте последнего файла: \"We\".\n",
    "\n",
    "Скачайте предложенный файл. В нём содержится ссылка на первый файл из этого набора.\n",
    "\n",
    "Все файлы располагаются в каталоге по адресу:\n",
    "https://stepic.org/media/attachments/course67/3.6.3/\n",
    "\n",
    "Загрузите содержимое ﻿последнего файла из набора, как ответ на это задание."
   ]
  },
  {
   "cell_type": "code",
   "execution_count": 11,
   "metadata": {},
   "outputs": [
    {
     "name": "stdout",
     "output_type": "stream",
     "text": [
      "We are the champions, my friends,\n",
      "And we'll keep on fighting 'til the end.\n",
      "We are the champions.\n",
      "We are the champions.\n",
      "No time for losers\n",
      "'Cause we are the champions of the world.\n"
     ]
    }
   ],
   "source": [
    "import requests\n",
    "\n",
    "link = 'https://stepic.org/media/attachments/course67/3.6.3/'\n",
    "with open('dataset_3378_3.txt') as f:\n",
    "    line = f.readline().strip()\n",
    "\n",
    "req = requests.get(line)\n",
    "req = link + req.text\n",
    "\n",
    "flag = True\n",
    "while(flag):\n",
    "    req = requests.get(req)\n",
    "    if (req.text.count('.txt')):\n",
    "#        print(req.text) # Что бы было видно что консоль не просто висит\n",
    "        req = link + req.text\n",
    "    else:\n",
    "        flag = False\n",
    "        print(req.text)"
   ]
  },
  {
   "cell_type": "markdown",
   "metadata": {},
   "source": [
    "## №8.\n",
    "Напишите программу, которая принимает на стандартный вход список игр футбольных команд с результатом матча и выводит на стандартный вывод сводную таблицу результатов всех матчей.\n",
    "\n",
    "За победу команде начисляется 3 очка, за поражение — 0, за ничью — 1.\n",
    "\n",
    "Формат ввода следующий:\n",
    "В первой строке указано целое число n — количество завершенных игр.  \n",
    "После этого идет n строк, в которых записаны результаты игры в следующем формате:  \n",
    "Первая_команда;Забито_первой_командой;Вторая_команда;Забито_второй_командой  \n",
    "\n",
    "Вывод программы необходимо оформить следующим образом:\n",
    "Команда:Всего_игр Побед Ничьих Поражений Всего_очков\n",
    "\n",
    "Конкретный пример ввода-вывода приведён ниже.\n",
    "\n",
    "Порядок вывода команд произвольный."
   ]
  },
  {
   "cell_type": "code",
   "execution_count": 13,
   "metadata": {},
   "outputs": [
    {
     "name": "stdout",
     "output_type": "stream",
     "text": [
      "3\n",
      "Спартак;9;Зенит;10\n",
      "Спартак;8;Локомотив;15\n",
      "Локомотив;12;Зенит;3\n",
      "Спартак:2 0 0 2 0\n",
      "Зенит:2 1 0 1 3\n",
      "Локомотив:2 2 0 0 6\n"
     ]
    }
   ],
   "source": [
    "def points_counter(team, goals1, goals2):\n",
    "    if team not in teams:\n",
    "        teams[team] = [0] * 5\n",
    "    teams[team][0] += 1\n",
    "    teams[team][1] += int(goals1 > goals2)\n",
    "    teams[team][2] += int(goals1 == goals2)\n",
    "    teams[team][3] += int(goals1 < goals2)\n",
    "    teams[team][4] += int(goals1 > goals2) * 3 + int(goals1 == goals2)\n",
    "\n",
    "\n",
    "teams = dict()\n",
    "\n",
    "for _ in range(int(input())):\n",
    "    k = input().split(';')\n",
    "    points_counter(k[0], int(k[1]), int(k[3]))\n",
    "    points_counter(k[2], int(k[3]), int(k[1]))\n",
    "\n",
    "for el in teams:\n",
    "    print('{}:{} {} {} {} {}'.format(el, *teams[el]))"
   ]
  },
  {
   "cell_type": "markdown",
   "metadata": {},
   "source": [
    "## № 9.\n",
    "В какой-то момент в Институте биоинформатики биологи перестали понимать, что говорят информатики: они говорили каким-то странным набором звуков.\n",
    "\n",
    "В какой-то момент один из биологов раскрыл секрет информатиков: они использовали при общении подстановочный шифр, т.е. заменяли каждый символ исходного сообщения на соответствующий ему другой символ. Биологи раздобыли ключ к шифру и теперь нуждаются в помощи:\n",
    "\n",
    "Напишите программу, которая умеет шифровать и расшифровывать шифр подстановки. Программа принимает на вход две строки одинаковой длины, на первой строке записаны символы исходного алфавита, на второй строке — символы конечного алфавита, после чего идёт строка, которую нужно зашифровать переданным ключом, и ещё одна строка, которую нужно расшифровать.\n",
    "\n",
    "Пусть, например, на вход программе передано:  \n",
    "abcd  \n",
    "*d%#  \n",
    "abacabadaba  \n",
    "*%*d*%  \n",
    "\n",
    "Это значит, что символ a исходного сообщения заменяется на символ * в шифре, b заменяется на d, c — на % и d — на #.\n",
    "Нужно зашифровать строку abacabadaba и расшифровать строку #*%*d*% с помощью этого шифра. Получаем следующие строки, которые и передаём на вывод программы:  \n",
    "*d*%*d*#*d*  \n",
    "dacabac  "
   ]
  },
  {
   "cell_type": "code",
   "execution_count": 14,
   "metadata": {},
   "outputs": [
    {
     "name": "stdout",
     "output_type": "stream",
     "text": [
      "abcd\n",
      "*d%#\n",
      "abacabadaba\n",
      "#*%*d*%\n",
      "*d*%*d*#*d*\n",
      "dacabac\n"
     ]
    }
   ],
   "source": [
    "alf = input()\n",
    "res_alf = input()\n",
    "\n",
    "encode = input()\n",
    "decode = input()\n",
    "\n",
    "code = {}\n",
    "decrypt = {}\n",
    "for i in range(len(alf)):\n",
    "    code.update([(alf[i], res_alf[i])])\n",
    "    decrypt.update([(res_alf[i], alf[i])])\n",
    "\n",
    "\n",
    "res_encode = []\n",
    "for letter in encode:\n",
    "    res_encode.append(code[letter])\n",
    "\n",
    "print(''.join(res_encode))\n",
    "\n",
    "res_decode = [decrypt[let] for let in decode]\n",
    "print(''.join(res_decode))"
   ]
  },
  {
   "cell_type": "markdown",
   "metadata": {},
   "source": [
    "## №10.\n",
    "Простейшая система проверки орфографии может быть основана на использовании списка известных слов.\n",
    "Если введённое слово не найдено в этом списке, оно помечается как \"ошибка\".\n",
    "\n",
    "Попробуем написать подобную систему.\n",
    "\n",
    "На вход программе первой строкой передаётся количество d известных нам слов, после чего на d строках указываются эти слова. Затем передаётся количество l строк текста для проверки, после чего l строк текста.\n",
    "\n",
    "Выведите уникальные \"ошибки\" в произвольном порядке. Работу производите без учёта регистра."
   ]
  },
  {
   "cell_type": "code",
   "execution_count": 15,
   "metadata": {},
   "outputs": [
    {
     "name": "stdout",
     "output_type": "stream",
     "text": [
      "4\n",
      "champions\n",
      "Stepik\n",
      "are\n",
      "we\n",
      "2\n",
      "We are the champignons\n",
      "Stepic\n",
      "stepic\n"
     ]
    }
   ],
   "source": [
    "dic = {input().lower() for i in range(int(input()))}\n",
    "\n",
    "wrd = set()\n",
    "for w in range(int(input())):\n",
    "    wrd = {i.lower() for i in input().split()}\n",
    "\n",
    "print(*wrd.difference(dic), sep=\"\\n\")"
   ]
  },
  {
   "cell_type": "markdown",
   "metadata": {},
   "source": [
    "## №11.\n",
    "Группа биологов в институте биоинформатики завела себе черепашку.\n",
    "\n",
    "После дрессировки черепашка научилась понимать и запоминать указания биологов следующего вида:\n",
    "север 10\n",
    "запад 20\n",
    "юг 30\n",
    "восток 40\n",
    "где первое слово — это направление, в котором должна двигаться черепашка, а число после слова — это положительное расстояние в сантиметрах, которое должна пройти черепашка.\n",
    "\n",
    "Но команды даются быстро, а черепашка ползёт медленно, и программисты догадались, что можно написать программу, которая определит, куда в итоге биологи приведут черепашку. Для этого программисты просят вас написать программу, которая выведет точку, в которой окажется черепашка после всех команд. Для простоты они решили считать, что движение начинается в точке (0, 0), и движение на восток увеличивает первую координату, а на север — вторую.\n",
    "\n",
    "Программе подаётся на вход число команд nn, которые нужно выполнить черепашке, после чего nn строк с самими командами. Вывести нужно два числа в одну строку: первую и вторую координату конечной точки черепашки. Все координаты целочисленные."
   ]
  },
  {
   "cell_type": "code",
   "execution_count": 16,
   "metadata": {},
   "outputs": [
    {
     "name": "stdout",
     "output_type": "stream",
     "text": [
      "1\n",
      "север 10\n",
      "0 10\n"
     ]
    }
   ],
   "source": [
    "dict = {'север': 0, 'юг': 0, 'запад': 0, 'восток': 0}\n",
    "\n",
    "for _ in range(int(input())):\n",
    "    key, value = input().split()\n",
    "    dict[key] += int(value)\n",
    "\n",
    "print(dict['восток'] - dict['запад'], dict['север'] - dict['юг'])"
   ]
  },
  {
   "cell_type": "markdown",
   "metadata": {},
   "source": [
    "## №12.\n",
    "\n",
    "Дан файл с таблицей в формате TSV с информацией о росте школьников разных классов.\n",
    "\n",
    "Напишите программу, которая прочитает этот файл и подсчитает для каждого класса средний рост учащегося.\n",
    "\n",
    "Файл состоит из набора строк, каждая из которых представляет собой три поля:\n",
    "Класс Фамилия Рост\n",
    "\n",
    "Класс обозначается только числом. Буквенные модификаторы не используются. Номер класса может быть от 1 до 11 включительно. В фамилии нет пробелов, а в качестве роста используется натуральное число, но при подсчёте среднего требуется вычислить значение в виде вещественного числа.\n",
    "\n",
    "Выводить информацию о среднем росте следует в порядке возрастания номера класса (для классов с первого по одиннадцатый). Если про какой-то класс нет информации, необходимо вывести напротив него прочерк.\n",
    "\n",
    "В качестве ответа прикрепите файл с полученными данными о среднем росте."
   ]
  },
  {
   "cell_type": "code",
   "execution_count": 17,
   "metadata": {},
   "outputs": [
    {
     "name": "stdout",
     "output_type": "stream",
     "text": [
      "             2\n",
      "0             \n",
      "1   125.733333\n",
      "2   128.400000\n",
      "3   135.000000\n",
      "4   141.000000\n",
      "5   144.428571\n",
      "6   154.666667\n",
      "7   160.125000\n",
      "8   164.375000\n",
      "9   169.625000\n",
      "10  167.900000\n",
      "11  173.909091\n"
     ]
    },
    {
     "name": "stderr",
     "output_type": "stream",
     "text": [
      "/Users/Kristina/opt/anaconda3/lib/python3.7/site-packages/pandas/io/parsers.py:767: ParserWarning: Falling back to the 'python' engine because the 'c' engine does not support regex separators (separators > 1 char and different from '\\s+' are interpreted as regex); you can avoid this warning by specifying engine='python'.\n",
      "  return read_csv(**locals())\n"
     ]
    }
   ],
   "source": [
    "import pandas as pd\n",
    "\n",
    "df = pd.read_table('dataset_3380_5.txt', header=None, sep=r'\\s{1,}')\n",
    "print(df.groupby(0).mean())"
   ]
  },
  {
   "cell_type": "code",
   "execution_count": null,
   "metadata": {},
   "outputs": [],
   "source": []
  }
 ],
 "metadata": {
  "kernelspec": {
   "display_name": "Python 3",
   "language": "python",
   "name": "python3"
  },
  "language_info": {
   "codemirror_mode": {
    "name": "ipython",
    "version": 3
   },
   "file_extension": ".py",
   "mimetype": "text/x-python",
   "name": "python",
   "nbconvert_exporter": "python",
   "pygments_lexer": "ipython3",
   "version": "3.7.9"
  }
 },
 "nbformat": 4,
 "nbformat_minor": 4
}
