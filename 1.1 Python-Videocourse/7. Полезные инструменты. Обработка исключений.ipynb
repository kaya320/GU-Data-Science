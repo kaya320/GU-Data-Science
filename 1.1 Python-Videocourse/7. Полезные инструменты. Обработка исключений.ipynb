{
 "cells": [
  {
   "cell_type": "markdown",
   "metadata": {},
   "source": [
    "## №1.\n",
    "Даны два списка фруктов. Получить список фруктов, присутствующих в обоих исходных списках. Списки фруктов создайте вручную в начале файла."
   ]
  },
  {
   "cell_type": "code",
   "execution_count": 1,
   "metadata": {},
   "outputs": [
    {
     "name": "stdout",
     "output_type": "stream",
     "text": [
      "['банан', 'виноград']\n"
     ]
    }
   ],
   "source": [
    "fruits1 = ['банан', 'яблоко', 'виноград', 'апельсин']\n",
    "fruits2 = ['банан', 'виноград', 'арбуз', 'киви', 'мандарин', ]\n",
    "\n",
    "result = []\n",
    "\n",
    "for fruit in fruits1:\n",
    "    if fruit in fruits2:\n",
    "        result.append(fruit)\n",
    "\n",
    "print(result)"
   ]
  },
  {
   "cell_type": "code",
   "execution_count": 2,
   "metadata": {},
   "outputs": [
    {
     "name": "stdout",
     "output_type": "stream",
     "text": [
      "['банан', 'виноград']\n"
     ]
    }
   ],
   "source": [
    "result = [fruit for fruit in fruits1 if fruit in fruits2]\n",
    "print(result)"
   ]
  },
  {
   "cell_type": "code",
   "execution_count": 3,
   "metadata": {},
   "outputs": [],
   "source": [
    "# пересечение множеств "
   ]
  },
  {
   "cell_type": "code",
   "execution_count": 4,
   "metadata": {},
   "outputs": [
    {
     "name": "stdout",
     "output_type": "stream",
     "text": [
      "['банан', 'виноград']\n"
     ]
    }
   ],
   "source": [
    "new_result = list(set(fruits1) & set(fruits2))\n",
    "print(new_result)"
   ]
  },
  {
   "cell_type": "code",
   "execution_count": 5,
   "metadata": {},
   "outputs": [
    {
     "name": "stdout",
     "output_type": "stream",
     "text": [
      "{'банан', 'виноград'}\n"
     ]
    }
   ],
   "source": [
    "print(set(fruits1).intersection(set(fruits2)))"
   ]
  },
  {
   "cell_type": "markdown",
   "metadata": {},
   "source": [
    "## №2.\n",
    "Дан список, заполненный произвольными числами. Получить список из элементов исходного, удовлетворяющих следующим условиям: Элемент кратен 3, элемент положительный, элемент не кратен 4."
   ]
  },
  {
   "cell_type": "code",
   "execution_count": 6,
   "metadata": {},
   "outputs": [
    {
     "name": "stdout",
     "output_type": "stream",
     "text": [
      "[27, 45]\n"
     ]
    }
   ],
   "source": [
    "numbers = [1, 5, -9, 10, 27, 8, 17, 45, 100, 11, -7, 12, -27]\n",
    "\n",
    "result = [number for number in numbers if number > 0 and number % 3 == 0 and number % 4 != 0]\n",
    "print(result)"
   ]
  },
  {
   "cell_type": "markdown",
   "metadata": {},
   "source": [
    "## №3.\n",
    "Напишите функцию которая принимает на вход список.  \n",
    "Функция создает из этого списка новый список из квадратных корней чисел (если число положительное) и самих чисел (если число отрицательное) и возвращает результат(желательно применить генератор и тернарный оператор при необходимости).  \n",
    "В результате работы функции исходный список не должен измениться."
   ]
  },
  {
   "cell_type": "code",
   "execution_count": 7,
   "metadata": {},
   "outputs": [
    {
     "name": "stdout",
     "output_type": "stream",
     "text": [
      "[1.0, -5, 2.0, -2, 4.0, 2.23606797749979, 5.0, 9.0, 3.0]\n",
      "[1, -5, 4, -2, 16, 5, 25, 81, 9]\n"
     ]
    }
   ],
   "source": [
    "import math\n",
    "\n",
    "old_list = [1, -5, 4, -2, 16, 5, 25, 81, 9]\n",
    "\n",
    "\n",
    "def new_sqrt_list(input_list):   \n",
    "    input_list = old_list.copy()    \n",
    "    \n",
    "    for i in range(len(input_list)):\n",
    "        number = input_list[i]\n",
    "        if number > 0:\n",
    "            input_list[i] = math.sqrt(number)\n",
    "            \n",
    "    return input_list\n",
    "\n",
    "\n",
    "print(new_sqrt_list(old_list))\n",
    "print(old_list)"
   ]
  },
  {
   "cell_type": "code",
   "execution_count": 8,
   "metadata": {},
   "outputs": [
    {
     "name": "stdout",
     "output_type": "stream",
     "text": [
      "[1.0, -5, 2.0, -2, 4.0, 2.23606797749979, 5.0, 9.0, 3.0]\n",
      "[1, -5, 4, -2, 16, 5, 25, 81, 9]\n"
     ]
    }
   ],
   "source": [
    "def new_sqrt_list(input_list):\n",
    "    result = [math.sqrt(number) if number > 0 else number for number in input_list]\n",
    "    return result\n",
    "\n",
    "result = new_sqrt_list(old_list)\n",
    "print(result)\n",
    "print(old_list)"
   ]
  },
  {
   "cell_type": "markdown",
   "metadata": {},
   "source": [
    "## №4.\n",
    "Написать функцию которая принимает на вход число от 1 до 100. Если число равно 13,  функция поднимает исключительную ситуации ValueError иначе возвращает введенное число, возведенное в квадрат.  \n",
    "Далее написать основной код программы. Пользователь вводит число.   \n",
    "Введенное число передаем параметром в написанную функцию и печатаем результат, который вернула функция. Обработать возможность возникновения исключительной ситуации, которая поднимается внутри функции."
   ]
  },
  {
   "cell_type": "code",
   "execution_count": 9,
   "metadata": {},
   "outputs": [
    {
     "name": "stdout",
     "output_type": "stream",
     "text": [
      "Введите число: 12\n",
      "144\n"
     ]
    }
   ],
   "source": [
    "def unlucky_number(number):\n",
    "    if number == 13:\n",
    "        raise ValueError('Несчастливое число')\n",
    "    else:\n",
    "        return number ** 2\n",
    "\n",
    "    \n",
    "number = int(input('Введите число: '))\n",
    "\n",
    "try:\n",
    "    result = unlucky_number(number)\n",
    "except ValueError:\n",
    "    print('У нас несчастливое число')\n",
    "else:\n",
    "    print(result)"
   ]
  },
  {
   "cell_type": "code",
   "execution_count": null,
   "metadata": {},
   "outputs": [],
   "source": []
  }
 ],
 "metadata": {
  "kernelspec": {
   "display_name": "Python 3",
   "language": "python",
   "name": "python3"
  },
  "language_info": {
   "codemirror_mode": {
    "name": "ipython",
    "version": 3
   },
   "file_extension": ".py",
   "mimetype": "text/x-python",
   "name": "python",
   "nbconvert_exporter": "python",
   "pygments_lexer": "ipython3",
   "version": "3.7.9"
  }
 },
 "nbformat": 4,
 "nbformat_minor": 4
}
