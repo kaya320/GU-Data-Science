{
 "cells": [
  {
   "cell_type": "markdown",
   "metadata": {},
   "source": [
    "## №1.\n",
    "Создайте функцию, принимающую на вход имя, возраст и город проживания человека.\n",
    "Функция должна возвращать строку вида «Василий, 21 год(а), проживает в городе Москва»"
   ]
  },
  {
   "cell_type": "code",
   "execution_count": 1,
   "metadata": {},
   "outputs": [],
   "source": [
    "def person_info(name, age, city):\n",
    "    result = f'{name}, {age} год(а) проживает в городе {city}'\n",
    "    return result\n",
    "\n",
    "print(person_info('Василий', 29, 'Москва'))"
   ]
  },
  {
   "cell_type": "markdown",
   "metadata": {},
   "source": [
    "## №2. \n",
    "Создайте функцию, принимающую на вход 3 числа и возвращающую наибольшее из них."
   ]
  },
  {
   "cell_type": "code",
   "execution_count": 2,
   "metadata": {},
   "outputs": [],
   "source": [
    "def get_max(a, b, c):\n",
    "    result = max([a, b, c])\n",
    "    return result\n",
    "\n",
    "result = get_max(1, 99, 66)\n",
    "print(result)"
   ]
  },
  {
   "cell_type": "markdown",
   "metadata": {},
   "source": [
    "## №3.\n",
    "Давайте опишем пару сущностей player и enemy через словарь, который будет иметь ключи и значения:  \n",
    "**name** - строка полученная от пользователя,  \n",
    "**health** = 100,  \n",
    "**damage** = 50.  \n",
    "\n",
    "Поэкспериментируйте с значениями урона и жизней по желанию.\n",
    "Теперь надо создать функцию **attack(person1, person2)**    \n",
    "Примечание: имена аргументов можете указать свои.  \n",
    "Функция в качестве аргумента будет принимать атакующего и атакуемого. В теле функция должна получить параметр damage атакующего и отнять это количество от health атакуемого.  \n",
    "Функция должна сама работать со словарями и изменять их значения."
   ]
  },
  {
   "cell_type": "code",
   "execution_count": 4,
   "metadata": {},
   "outputs": [
    {
     "name": "stdout",
     "output_type": "stream",
     "text": [
      "Введите имя игрока: Кристина\n",
      "Введите имя врага: Враг\n",
      "{'name': 'Враг', 'health': 0, 'damage': 30}\n",
      "{'name': 'Кристина', 'health': 70, 'damage': 50}\n"
     ]
    }
   ],
   "source": [
    "player_name = input('Введите имя игрока: ')\n",
    "player = {\n",
    "    'name': player_name,\n",
    "    'health': 100,\n",
    "    'damage': 50\n",
    "}\n",
    "\n",
    "enemy_name = input('Введите имя врага: ')\n",
    "enemy = {\n",
    "    'name': enemy_name,\n",
    "    'health': 50,\n",
    "    'damage': 30\n",
    "}\n",
    "\n",
    "\n",
    "def attack(unit, target):\n",
    "    target['health'] -= unit['damage']\n",
    "\n",
    "    \n",
    "attack(player, enemy)\n",
    "print(enemy)\n",
    "\n",
    "\n",
    "attack(enemy, player)\n",
    "print(player)"
   ]
  },
  {
   "cell_type": "markdown",
   "metadata": {},
   "source": [
    "## №4.\n",
    "Давайте усложним предыдущее задание. Измените сущности, добавив новый параметр - **armor** = 1.2 (величина брони персонажа). Теперь надо добавить новую функцию, которая будет вычислять и возвращать полученный урон по формуле **damage / armor**"
   ]
  },
  {
   "cell_type": "code",
   "execution_count": 5,
   "metadata": {},
   "outputs": [
    {
     "name": "stdout",
     "output_type": "stream",
     "text": [
      "Введите имя игрокаКристина\n",
      "Введите имя врагаВраг\n",
      "{'name': 'Враг', 'health': 0.0, 'damage': 30, 'armor': 1}\n",
      "{'name': 'Кристина', 'health': 75.0, 'damage': 50, 'armor': 1.2}\n"
     ]
    }
   ],
   "source": [
    "player_name = input('Введите имя игрока')\n",
    "player = {\n",
    "    'name': player_name,\n",
    "    'health': 100,\n",
    "    'damage': 50,\n",
    "    'armor': 1.2\n",
    "}\n",
    "\n",
    "enemy_name = input('Введите имя врага')\n",
    "enemy = {\n",
    "    'name': enemy_name,\n",
    "    'health': 50,\n",
    "    'damage': 30,\n",
    "    'armor': 1\n",
    "}\n",
    "\n",
    "\n",
    "def get_damage(damage, armor):\n",
    "    return damage / armor\n",
    "\n",
    "\n",
    "def attack(unit, target):\n",
    "    damage = get_damage(unit['damage'], target['armor'])\n",
    "    target['health'] -= damage\n",
    "\n",
    "    \n",
    "attack(player, enemy)\n",
    "print(enemy)\n",
    "\n",
    "\n",
    "attack(enemy, player)\n",
    "print(player)"
   ]
  },
  {
   "cell_type": "code",
   "execution_count": null,
   "metadata": {},
   "outputs": [],
   "source": []
  }
 ],
 "metadata": {
  "kernelspec": {
   "display_name": "Python 3",
   "language": "python",
   "name": "python3"
  },
  "language_info": {
   "codemirror_mode": {
    "name": "ipython",
    "version": 3
   },
   "file_extension": ".py",
   "mimetype": "text/x-python",
   "name": "python",
   "nbconvert_exporter": "python",
   "pygments_lexer": "ipython3",
   "version": "3.7.9"
  }
 },
 "nbformat": 4,
 "nbformat_minor": 4
}
